{
  "nbformat": 4,
  "nbformat_minor": 0,
  "metadata": {
    "accelerator": "GPU",
    "colab": {
      "name": "yeniproje.ipynb",
      "provenance": [],
      "include_colab_link": true
    },
    "kernelspec": {
      "display_name": "Python 3",
      "name": "python3"
    },
    "language_info": {
      "name": "python"
    },
    "widgets": {
      "application/vnd.jupyter.widget-state+json": {
        "f4c6830c5e134335be1f29673d86d012": {
          "model_module": "@jupyter-widgets/controls",
          "model_name": "HBoxModel",
          "model_module_version": "1.5.0",
          "state": {
            "_view_name": "HBoxView",
            "_dom_classes": [],
            "_model_name": "HBoxModel",
            "_view_module": "@jupyter-widgets/controls",
            "_model_module_version": "1.5.0",
            "_view_count": null,
            "_view_module_version": "1.5.0",
            "box_style": "",
            "layout": "IPY_MODEL_27f13d5a31054c65a2de8203078b226a",
            "_model_module": "@jupyter-widgets/controls",
            "children": [
              "IPY_MODEL_9023e99ad35c40a7b0eabfffcf82174f",
              "IPY_MODEL_50d0d7b3b24c447bbc81844123aa2a7b",
              "IPY_MODEL_4eb33b833db646deaa45de4827e2ba74"
            ]
          }
        },
        "27f13d5a31054c65a2de8203078b226a": {
          "model_module": "@jupyter-widgets/base",
          "model_name": "LayoutModel",
          "model_module_version": "1.2.0",
          "state": {
            "_view_name": "LayoutView",
            "grid_template_rows": null,
            "right": null,
            "justify_content": null,
            "_view_module": "@jupyter-widgets/base",
            "overflow": null,
            "_model_module_version": "1.2.0",
            "_view_count": null,
            "flex_flow": null,
            "width": null,
            "min_width": null,
            "border": null,
            "align_items": null,
            "bottom": null,
            "_model_module": "@jupyter-widgets/base",
            "top": null,
            "grid_column": null,
            "overflow_y": null,
            "overflow_x": null,
            "grid_auto_flow": null,
            "grid_area": null,
            "grid_template_columns": null,
            "flex": null,
            "_model_name": "LayoutModel",
            "justify_items": null,
            "grid_row": null,
            "max_height": null,
            "align_content": null,
            "visibility": null,
            "align_self": null,
            "height": null,
            "min_height": null,
            "padding": null,
            "grid_auto_rows": null,
            "grid_gap": null,
            "max_width": null,
            "order": null,
            "_view_module_version": "1.2.0",
            "grid_template_areas": null,
            "object_position": null,
            "object_fit": null,
            "grid_auto_columns": null,
            "margin": null,
            "display": null,
            "left": null
          }
        },
        "9023e99ad35c40a7b0eabfffcf82174f": {
          "model_module": "@jupyter-widgets/controls",
          "model_name": "HTMLModel",
          "model_module_version": "1.5.0",
          "state": {
            "_view_name": "HTMLView",
            "style": "IPY_MODEL_c80b82e8d28a4b34b90f8593aebdfd77",
            "_dom_classes": [],
            "description": "",
            "_model_name": "HTMLModel",
            "placeholder": "​",
            "_view_module": "@jupyter-widgets/controls",
            "_model_module_version": "1.5.0",
            "value": "Downloading: 100%",
            "_view_count": null,
            "_view_module_version": "1.5.0",
            "description_tooltip": null,
            "_model_module": "@jupyter-widgets/controls",
            "layout": "IPY_MODEL_47d479235b1e44f191c1830daadc95e4"
          }
        },
        "50d0d7b3b24c447bbc81844123aa2a7b": {
          "model_module": "@jupyter-widgets/controls",
          "model_name": "FloatProgressModel",
          "model_module_version": "1.5.0",
          "state": {
            "_view_name": "ProgressView",
            "style": "IPY_MODEL_20f7862c6fd349d1bff9b05a10ba8088",
            "_dom_classes": [],
            "description": "",
            "_model_name": "FloatProgressModel",
            "bar_style": "success",
            "max": 570,
            "_view_module": "@jupyter-widgets/controls",
            "_model_module_version": "1.5.0",
            "value": 570,
            "_view_count": null,
            "_view_module_version": "1.5.0",
            "orientation": "horizontal",
            "min": 0,
            "description_tooltip": null,
            "_model_module": "@jupyter-widgets/controls",
            "layout": "IPY_MODEL_46dfa74acb79407893cfdd7c06d1201c"
          }
        },
        "4eb33b833db646deaa45de4827e2ba74": {
          "model_module": "@jupyter-widgets/controls",
          "model_name": "HTMLModel",
          "model_module_version": "1.5.0",
          "state": {
            "_view_name": "HTMLView",
            "style": "IPY_MODEL_ad1dc4104cd44ef2874f5635beaf34e9",
            "_dom_classes": [],
            "description": "",
            "_model_name": "HTMLModel",
            "placeholder": "​",
            "_view_module": "@jupyter-widgets/controls",
            "_model_module_version": "1.5.0",
            "value": " 570/570 [00:00&lt;00:00, 9.47kB/s]",
            "_view_count": null,
            "_view_module_version": "1.5.0",
            "description_tooltip": null,
            "_model_module": "@jupyter-widgets/controls",
            "layout": "IPY_MODEL_dc2709463ab44ff4aa0049c8c67ee054"
          }
        },
        "c80b82e8d28a4b34b90f8593aebdfd77": {
          "model_module": "@jupyter-widgets/controls",
          "model_name": "DescriptionStyleModel",
          "model_module_version": "1.5.0",
          "state": {
            "_view_name": "StyleView",
            "_model_name": "DescriptionStyleModel",
            "description_width": "",
            "_view_module": "@jupyter-widgets/base",
            "_model_module_version": "1.5.0",
            "_view_count": null,
            "_view_module_version": "1.2.0",
            "_model_module": "@jupyter-widgets/controls"
          }
        },
        "47d479235b1e44f191c1830daadc95e4": {
          "model_module": "@jupyter-widgets/base",
          "model_name": "LayoutModel",
          "model_module_version": "1.2.0",
          "state": {
            "_view_name": "LayoutView",
            "grid_template_rows": null,
            "right": null,
            "justify_content": null,
            "_view_module": "@jupyter-widgets/base",
            "overflow": null,
            "_model_module_version": "1.2.0",
            "_view_count": null,
            "flex_flow": null,
            "width": null,
            "min_width": null,
            "border": null,
            "align_items": null,
            "bottom": null,
            "_model_module": "@jupyter-widgets/base",
            "top": null,
            "grid_column": null,
            "overflow_y": null,
            "overflow_x": null,
            "grid_auto_flow": null,
            "grid_area": null,
            "grid_template_columns": null,
            "flex": null,
            "_model_name": "LayoutModel",
            "justify_items": null,
            "grid_row": null,
            "max_height": null,
            "align_content": null,
            "visibility": null,
            "align_self": null,
            "height": null,
            "min_height": null,
            "padding": null,
            "grid_auto_rows": null,
            "grid_gap": null,
            "max_width": null,
            "order": null,
            "_view_module_version": "1.2.0",
            "grid_template_areas": null,
            "object_position": null,
            "object_fit": null,
            "grid_auto_columns": null,
            "margin": null,
            "display": null,
            "left": null
          }
        },
        "20f7862c6fd349d1bff9b05a10ba8088": {
          "model_module": "@jupyter-widgets/controls",
          "model_name": "ProgressStyleModel",
          "model_module_version": "1.5.0",
          "state": {
            "_view_name": "StyleView",
            "_model_name": "ProgressStyleModel",
            "description_width": "",
            "_view_module": "@jupyter-widgets/base",
            "_model_module_version": "1.5.0",
            "_view_count": null,
            "_view_module_version": "1.2.0",
            "bar_color": null,
            "_model_module": "@jupyter-widgets/controls"
          }
        },
        "46dfa74acb79407893cfdd7c06d1201c": {
          "model_module": "@jupyter-widgets/base",
          "model_name": "LayoutModel",
          "model_module_version": "1.2.0",
          "state": {
            "_view_name": "LayoutView",
            "grid_template_rows": null,
            "right": null,
            "justify_content": null,
            "_view_module": "@jupyter-widgets/base",
            "overflow": null,
            "_model_module_version": "1.2.0",
            "_view_count": null,
            "flex_flow": null,
            "width": null,
            "min_width": null,
            "border": null,
            "align_items": null,
            "bottom": null,
            "_model_module": "@jupyter-widgets/base",
            "top": null,
            "grid_column": null,
            "overflow_y": null,
            "overflow_x": null,
            "grid_auto_flow": null,
            "grid_area": null,
            "grid_template_columns": null,
            "flex": null,
            "_model_name": "LayoutModel",
            "justify_items": null,
            "grid_row": null,
            "max_height": null,
            "align_content": null,
            "visibility": null,
            "align_self": null,
            "height": null,
            "min_height": null,
            "padding": null,
            "grid_auto_rows": null,
            "grid_gap": null,
            "max_width": null,
            "order": null,
            "_view_module_version": "1.2.0",
            "grid_template_areas": null,
            "object_position": null,
            "object_fit": null,
            "grid_auto_columns": null,
            "margin": null,
            "display": null,
            "left": null
          }
        },
        "ad1dc4104cd44ef2874f5635beaf34e9": {
          "model_module": "@jupyter-widgets/controls",
          "model_name": "DescriptionStyleModel",
          "model_module_version": "1.5.0",
          "state": {
            "_view_name": "StyleView",
            "_model_name": "DescriptionStyleModel",
            "description_width": "",
            "_view_module": "@jupyter-widgets/base",
            "_model_module_version": "1.5.0",
            "_view_count": null,
            "_view_module_version": "1.2.0",
            "_model_module": "@jupyter-widgets/controls"
          }
        },
        "dc2709463ab44ff4aa0049c8c67ee054": {
          "model_module": "@jupyter-widgets/base",
          "model_name": "LayoutModel",
          "model_module_version": "1.2.0",
          "state": {
            "_view_name": "LayoutView",
            "grid_template_rows": null,
            "right": null,
            "justify_content": null,
            "_view_module": "@jupyter-widgets/base",
            "overflow": null,
            "_model_module_version": "1.2.0",
            "_view_count": null,
            "flex_flow": null,
            "width": null,
            "min_width": null,
            "border": null,
            "align_items": null,
            "bottom": null,
            "_model_module": "@jupyter-widgets/base",
            "top": null,
            "grid_column": null,
            "overflow_y": null,
            "overflow_x": null,
            "grid_auto_flow": null,
            "grid_area": null,
            "grid_template_columns": null,
            "flex": null,
            "_model_name": "LayoutModel",
            "justify_items": null,
            "grid_row": null,
            "max_height": null,
            "align_content": null,
            "visibility": null,
            "align_self": null,
            "height": null,
            "min_height": null,
            "padding": null,
            "grid_auto_rows": null,
            "grid_gap": null,
            "max_width": null,
            "order": null,
            "_view_module_version": "1.2.0",
            "grid_template_areas": null,
            "object_position": null,
            "object_fit": null,
            "grid_auto_columns": null,
            "margin": null,
            "display": null,
            "left": null
          }
        },
        "11235299a3c04b1782ccf07755fbfc54": {
          "model_module": "@jupyter-widgets/controls",
          "model_name": "HBoxModel",
          "model_module_version": "1.5.0",
          "state": {
            "_view_name": "HBoxView",
            "_dom_classes": [],
            "_model_name": "HBoxModel",
            "_view_module": "@jupyter-widgets/controls",
            "_model_module_version": "1.5.0",
            "_view_count": null,
            "_view_module_version": "1.5.0",
            "box_style": "",
            "layout": "IPY_MODEL_312020baef604d05994baea85c85c327",
            "_model_module": "@jupyter-widgets/controls",
            "children": [
              "IPY_MODEL_b24fa824a09f49b4bcb6bd81a499fbb5",
              "IPY_MODEL_694a13c2748148fdb8d36213c56c3f4c",
              "IPY_MODEL_0574ee14d9074c028e42bcc287f9e305"
            ]
          }
        },
        "312020baef604d05994baea85c85c327": {
          "model_module": "@jupyter-widgets/base",
          "model_name": "LayoutModel",
          "model_module_version": "1.2.0",
          "state": {
            "_view_name": "LayoutView",
            "grid_template_rows": null,
            "right": null,
            "justify_content": null,
            "_view_module": "@jupyter-widgets/base",
            "overflow": null,
            "_model_module_version": "1.2.0",
            "_view_count": null,
            "flex_flow": null,
            "width": null,
            "min_width": null,
            "border": null,
            "align_items": null,
            "bottom": null,
            "_model_module": "@jupyter-widgets/base",
            "top": null,
            "grid_column": null,
            "overflow_y": null,
            "overflow_x": null,
            "grid_auto_flow": null,
            "grid_area": null,
            "grid_template_columns": null,
            "flex": null,
            "_model_name": "LayoutModel",
            "justify_items": null,
            "grid_row": null,
            "max_height": null,
            "align_content": null,
            "visibility": null,
            "align_self": null,
            "height": null,
            "min_height": null,
            "padding": null,
            "grid_auto_rows": null,
            "grid_gap": null,
            "max_width": null,
            "order": null,
            "_view_module_version": "1.2.0",
            "grid_template_areas": null,
            "object_position": null,
            "object_fit": null,
            "grid_auto_columns": null,
            "margin": null,
            "display": null,
            "left": null
          }
        },
        "b24fa824a09f49b4bcb6bd81a499fbb5": {
          "model_module": "@jupyter-widgets/controls",
          "model_name": "HTMLModel",
          "model_module_version": "1.5.0",
          "state": {
            "_view_name": "HTMLView",
            "style": "IPY_MODEL_bd8f729e9c4746ffb3b660ea7703ac7c",
            "_dom_classes": [],
            "description": "",
            "_model_name": "HTMLModel",
            "placeholder": "​",
            "_view_module": "@jupyter-widgets/controls",
            "_model_module_version": "1.5.0",
            "value": "Downloading: 100%",
            "_view_count": null,
            "_view_module_version": "1.5.0",
            "description_tooltip": null,
            "_model_module": "@jupyter-widgets/controls",
            "layout": "IPY_MODEL_6b9cd9be8c6243119af41acde3c3a2bd"
          }
        },
        "694a13c2748148fdb8d36213c56c3f4c": {
          "model_module": "@jupyter-widgets/controls",
          "model_name": "FloatProgressModel",
          "model_module_version": "1.5.0",
          "state": {
            "_view_name": "ProgressView",
            "style": "IPY_MODEL_6fb8b985df11466b9f329797b1c2c0f5",
            "_dom_classes": [],
            "description": "",
            "_model_name": "FloatProgressModel",
            "bar_style": "success",
            "max": 435779157,
            "_view_module": "@jupyter-widgets/controls",
            "_model_module_version": "1.5.0",
            "value": 435779157,
            "_view_count": null,
            "_view_module_version": "1.5.0",
            "orientation": "horizontal",
            "min": 0,
            "description_tooltip": null,
            "_model_module": "@jupyter-widgets/controls",
            "layout": "IPY_MODEL_58425ea1265c4a22a975c12f1f387a0d"
          }
        },
        "0574ee14d9074c028e42bcc287f9e305": {
          "model_module": "@jupyter-widgets/controls",
          "model_name": "HTMLModel",
          "model_module_version": "1.5.0",
          "state": {
            "_view_name": "HTMLView",
            "style": "IPY_MODEL_7dee6277d2244e5b8e935b74992135e8",
            "_dom_classes": [],
            "description": "",
            "_model_name": "HTMLModel",
            "placeholder": "​",
            "_view_module": "@jupyter-widgets/controls",
            "_model_module_version": "1.5.0",
            "value": " 436M/436M [00:08&lt;00:00, 50.3MB/s]",
            "_view_count": null,
            "_view_module_version": "1.5.0",
            "description_tooltip": null,
            "_model_module": "@jupyter-widgets/controls",
            "layout": "IPY_MODEL_bcd0775833964dd4bb98493e5a70245e"
          }
        },
        "bd8f729e9c4746ffb3b660ea7703ac7c": {
          "model_module": "@jupyter-widgets/controls",
          "model_name": "DescriptionStyleModel",
          "model_module_version": "1.5.0",
          "state": {
            "_view_name": "StyleView",
            "_model_name": "DescriptionStyleModel",
            "description_width": "",
            "_view_module": "@jupyter-widgets/base",
            "_model_module_version": "1.5.0",
            "_view_count": null,
            "_view_module_version": "1.2.0",
            "_model_module": "@jupyter-widgets/controls"
          }
        },
        "6b9cd9be8c6243119af41acde3c3a2bd": {
          "model_module": "@jupyter-widgets/base",
          "model_name": "LayoutModel",
          "model_module_version": "1.2.0",
          "state": {
            "_view_name": "LayoutView",
            "grid_template_rows": null,
            "right": null,
            "justify_content": null,
            "_view_module": "@jupyter-widgets/base",
            "overflow": null,
            "_model_module_version": "1.2.0",
            "_view_count": null,
            "flex_flow": null,
            "width": null,
            "min_width": null,
            "border": null,
            "align_items": null,
            "bottom": null,
            "_model_module": "@jupyter-widgets/base",
            "top": null,
            "grid_column": null,
            "overflow_y": null,
            "overflow_x": null,
            "grid_auto_flow": null,
            "grid_area": null,
            "grid_template_columns": null,
            "flex": null,
            "_model_name": "LayoutModel",
            "justify_items": null,
            "grid_row": null,
            "max_height": null,
            "align_content": null,
            "visibility": null,
            "align_self": null,
            "height": null,
            "min_height": null,
            "padding": null,
            "grid_auto_rows": null,
            "grid_gap": null,
            "max_width": null,
            "order": null,
            "_view_module_version": "1.2.0",
            "grid_template_areas": null,
            "object_position": null,
            "object_fit": null,
            "grid_auto_columns": null,
            "margin": null,
            "display": null,
            "left": null
          }
        },
        "6fb8b985df11466b9f329797b1c2c0f5": {
          "model_module": "@jupyter-widgets/controls",
          "model_name": "ProgressStyleModel",
          "model_module_version": "1.5.0",
          "state": {
            "_view_name": "StyleView",
            "_model_name": "ProgressStyleModel",
            "description_width": "",
            "_view_module": "@jupyter-widgets/base",
            "_model_module_version": "1.5.0",
            "_view_count": null,
            "_view_module_version": "1.2.0",
            "bar_color": null,
            "_model_module": "@jupyter-widgets/controls"
          }
        },
        "58425ea1265c4a22a975c12f1f387a0d": {
          "model_module": "@jupyter-widgets/base",
          "model_name": "LayoutModel",
          "model_module_version": "1.2.0",
          "state": {
            "_view_name": "LayoutView",
            "grid_template_rows": null,
            "right": null,
            "justify_content": null,
            "_view_module": "@jupyter-widgets/base",
            "overflow": null,
            "_model_module_version": "1.2.0",
            "_view_count": null,
            "flex_flow": null,
            "width": null,
            "min_width": null,
            "border": null,
            "align_items": null,
            "bottom": null,
            "_model_module": "@jupyter-widgets/base",
            "top": null,
            "grid_column": null,
            "overflow_y": null,
            "overflow_x": null,
            "grid_auto_flow": null,
            "grid_area": null,
            "grid_template_columns": null,
            "flex": null,
            "_model_name": "LayoutModel",
            "justify_items": null,
            "grid_row": null,
            "max_height": null,
            "align_content": null,
            "visibility": null,
            "align_self": null,
            "height": null,
            "min_height": null,
            "padding": null,
            "grid_auto_rows": null,
            "grid_gap": null,
            "max_width": null,
            "order": null,
            "_view_module_version": "1.2.0",
            "grid_template_areas": null,
            "object_position": null,
            "object_fit": null,
            "grid_auto_columns": null,
            "margin": null,
            "display": null,
            "left": null
          }
        },
        "7dee6277d2244e5b8e935b74992135e8": {
          "model_module": "@jupyter-widgets/controls",
          "model_name": "DescriptionStyleModel",
          "model_module_version": "1.5.0",
          "state": {
            "_view_name": "StyleView",
            "_model_name": "DescriptionStyleModel",
            "description_width": "",
            "_view_module": "@jupyter-widgets/base",
            "_model_module_version": "1.5.0",
            "_view_count": null,
            "_view_module_version": "1.2.0",
            "_model_module": "@jupyter-widgets/controls"
          }
        },
        "bcd0775833964dd4bb98493e5a70245e": {
          "model_module": "@jupyter-widgets/base",
          "model_name": "LayoutModel",
          "model_module_version": "1.2.0",
          "state": {
            "_view_name": "LayoutView",
            "grid_template_rows": null,
            "right": null,
            "justify_content": null,
            "_view_module": "@jupyter-widgets/base",
            "overflow": null,
            "_model_module_version": "1.2.0",
            "_view_count": null,
            "flex_flow": null,
            "width": null,
            "min_width": null,
            "border": null,
            "align_items": null,
            "bottom": null,
            "_model_module": "@jupyter-widgets/base",
            "top": null,
            "grid_column": null,
            "overflow_y": null,
            "overflow_x": null,
            "grid_auto_flow": null,
            "grid_area": null,
            "grid_template_columns": null,
            "flex": null,
            "_model_name": "LayoutModel",
            "justify_items": null,
            "grid_row": null,
            "max_height": null,
            "align_content": null,
            "visibility": null,
            "align_self": null,
            "height": null,
            "min_height": null,
            "padding": null,
            "grid_auto_rows": null,
            "grid_gap": null,
            "max_width": null,
            "order": null,
            "_view_module_version": "1.2.0",
            "grid_template_areas": null,
            "object_position": null,
            "object_fit": null,
            "grid_auto_columns": null,
            "margin": null,
            "display": null,
            "left": null
          }
        },
        "5e4dab9b85ce4ef08cfb52892b4d298a": {
          "model_module": "@jupyter-widgets/controls",
          "model_name": "HBoxModel",
          "model_module_version": "1.5.0",
          "state": {
            "_view_name": "HBoxView",
            "_dom_classes": [],
            "_model_name": "HBoxModel",
            "_view_module": "@jupyter-widgets/controls",
            "_model_module_version": "1.5.0",
            "_view_count": null,
            "_view_module_version": "1.5.0",
            "box_style": "",
            "layout": "IPY_MODEL_4477420d60504f1eacd7b64453ca49b3",
            "_model_module": "@jupyter-widgets/controls",
            "children": [
              "IPY_MODEL_aa90efd248cf47569dd8a00d423f801c",
              "IPY_MODEL_184e8908f02749e89a116c2bf64c23dd",
              "IPY_MODEL_552ae4c991f245adafb67b79c4744433"
            ]
          }
        },
        "4477420d60504f1eacd7b64453ca49b3": {
          "model_module": "@jupyter-widgets/base",
          "model_name": "LayoutModel",
          "model_module_version": "1.2.0",
          "state": {
            "_view_name": "LayoutView",
            "grid_template_rows": null,
            "right": null,
            "justify_content": null,
            "_view_module": "@jupyter-widgets/base",
            "overflow": null,
            "_model_module_version": "1.2.0",
            "_view_count": null,
            "flex_flow": null,
            "width": null,
            "min_width": null,
            "border": null,
            "align_items": null,
            "bottom": null,
            "_model_module": "@jupyter-widgets/base",
            "top": null,
            "grid_column": null,
            "overflow_y": null,
            "overflow_x": null,
            "grid_auto_flow": null,
            "grid_area": null,
            "grid_template_columns": null,
            "flex": null,
            "_model_name": "LayoutModel",
            "justify_items": null,
            "grid_row": null,
            "max_height": null,
            "align_content": null,
            "visibility": null,
            "align_self": null,
            "height": null,
            "min_height": null,
            "padding": null,
            "grid_auto_rows": null,
            "grid_gap": null,
            "max_width": null,
            "order": null,
            "_view_module_version": "1.2.0",
            "grid_template_areas": null,
            "object_position": null,
            "object_fit": null,
            "grid_auto_columns": null,
            "margin": null,
            "display": null,
            "left": null
          }
        },
        "aa90efd248cf47569dd8a00d423f801c": {
          "model_module": "@jupyter-widgets/controls",
          "model_name": "HTMLModel",
          "model_module_version": "1.5.0",
          "state": {
            "_view_name": "HTMLView",
            "style": "IPY_MODEL_42295282a96046669733506ff1217a70",
            "_dom_classes": [],
            "description": "",
            "_model_name": "HTMLModel",
            "placeholder": "​",
            "_view_module": "@jupyter-widgets/controls",
            "_model_module_version": "1.5.0",
            "value": "Downloading: 100%",
            "_view_count": null,
            "_view_module_version": "1.5.0",
            "description_tooltip": null,
            "_model_module": "@jupyter-widgets/controls",
            "layout": "IPY_MODEL_2281f28a56fb4bdab20f400e18a26e1d"
          }
        },
        "184e8908f02749e89a116c2bf64c23dd": {
          "model_module": "@jupyter-widgets/controls",
          "model_name": "FloatProgressModel",
          "model_module_version": "1.5.0",
          "state": {
            "_view_name": "ProgressView",
            "style": "IPY_MODEL_0a0432b3b9824a479ac8b7423c2a0269",
            "_dom_classes": [],
            "description": "",
            "_model_name": "FloatProgressModel",
            "bar_style": "success",
            "max": 213450,
            "_view_module": "@jupyter-widgets/controls",
            "_model_module_version": "1.5.0",
            "value": 213450,
            "_view_count": null,
            "_view_module_version": "1.5.0",
            "orientation": "horizontal",
            "min": 0,
            "description_tooltip": null,
            "_model_module": "@jupyter-widgets/controls",
            "layout": "IPY_MODEL_51243eeb4ba744a18701de1f041d7d92"
          }
        },
        "552ae4c991f245adafb67b79c4744433": {
          "model_module": "@jupyter-widgets/controls",
          "model_name": "HTMLModel",
          "model_module_version": "1.5.0",
          "state": {
            "_view_name": "HTMLView",
            "style": "IPY_MODEL_2cd6b78951fb43c1baa2552020dd4864",
            "_dom_classes": [],
            "description": "",
            "_model_name": "HTMLModel",
            "placeholder": "​",
            "_view_module": "@jupyter-widgets/controls",
            "_model_module_version": "1.5.0",
            "value": " 213k/213k [00:00&lt;00:00, 579kB/s]",
            "_view_count": null,
            "_view_module_version": "1.5.0",
            "description_tooltip": null,
            "_model_module": "@jupyter-widgets/controls",
            "layout": "IPY_MODEL_58a408bdc67d4a25acd779e65d1d4403"
          }
        },
        "42295282a96046669733506ff1217a70": {
          "model_module": "@jupyter-widgets/controls",
          "model_name": "DescriptionStyleModel",
          "model_module_version": "1.5.0",
          "state": {
            "_view_name": "StyleView",
            "_model_name": "DescriptionStyleModel",
            "description_width": "",
            "_view_module": "@jupyter-widgets/base",
            "_model_module_version": "1.5.0",
            "_view_count": null,
            "_view_module_version": "1.2.0",
            "_model_module": "@jupyter-widgets/controls"
          }
        },
        "2281f28a56fb4bdab20f400e18a26e1d": {
          "model_module": "@jupyter-widgets/base",
          "model_name": "LayoutModel",
          "model_module_version": "1.2.0",
          "state": {
            "_view_name": "LayoutView",
            "grid_template_rows": null,
            "right": null,
            "justify_content": null,
            "_view_module": "@jupyter-widgets/base",
            "overflow": null,
            "_model_module_version": "1.2.0",
            "_view_count": null,
            "flex_flow": null,
            "width": null,
            "min_width": null,
            "border": null,
            "align_items": null,
            "bottom": null,
            "_model_module": "@jupyter-widgets/base",
            "top": null,
            "grid_column": null,
            "overflow_y": null,
            "overflow_x": null,
            "grid_auto_flow": null,
            "grid_area": null,
            "grid_template_columns": null,
            "flex": null,
            "_model_name": "LayoutModel",
            "justify_items": null,
            "grid_row": null,
            "max_height": null,
            "align_content": null,
            "visibility": null,
            "align_self": null,
            "height": null,
            "min_height": null,
            "padding": null,
            "grid_auto_rows": null,
            "grid_gap": null,
            "max_width": null,
            "order": null,
            "_view_module_version": "1.2.0",
            "grid_template_areas": null,
            "object_position": null,
            "object_fit": null,
            "grid_auto_columns": null,
            "margin": null,
            "display": null,
            "left": null
          }
        },
        "0a0432b3b9824a479ac8b7423c2a0269": {
          "model_module": "@jupyter-widgets/controls",
          "model_name": "ProgressStyleModel",
          "model_module_version": "1.5.0",
          "state": {
            "_view_name": "StyleView",
            "_model_name": "ProgressStyleModel",
            "description_width": "",
            "_view_module": "@jupyter-widgets/base",
            "_model_module_version": "1.5.0",
            "_view_count": null,
            "_view_module_version": "1.2.0",
            "bar_color": null,
            "_model_module": "@jupyter-widgets/controls"
          }
        },
        "51243eeb4ba744a18701de1f041d7d92": {
          "model_module": "@jupyter-widgets/base",
          "model_name": "LayoutModel",
          "model_module_version": "1.2.0",
          "state": {
            "_view_name": "LayoutView",
            "grid_template_rows": null,
            "right": null,
            "justify_content": null,
            "_view_module": "@jupyter-widgets/base",
            "overflow": null,
            "_model_module_version": "1.2.0",
            "_view_count": null,
            "flex_flow": null,
            "width": null,
            "min_width": null,
            "border": null,
            "align_items": null,
            "bottom": null,
            "_model_module": "@jupyter-widgets/base",
            "top": null,
            "grid_column": null,
            "overflow_y": null,
            "overflow_x": null,
            "grid_auto_flow": null,
            "grid_area": null,
            "grid_template_columns": null,
            "flex": null,
            "_model_name": "LayoutModel",
            "justify_items": null,
            "grid_row": null,
            "max_height": null,
            "align_content": null,
            "visibility": null,
            "align_self": null,
            "height": null,
            "min_height": null,
            "padding": null,
            "grid_auto_rows": null,
            "grid_gap": null,
            "max_width": null,
            "order": null,
            "_view_module_version": "1.2.0",
            "grid_template_areas": null,
            "object_position": null,
            "object_fit": null,
            "grid_auto_columns": null,
            "margin": null,
            "display": null,
            "left": null
          }
        },
        "2cd6b78951fb43c1baa2552020dd4864": {
          "model_module": "@jupyter-widgets/controls",
          "model_name": "DescriptionStyleModel",
          "model_module_version": "1.5.0",
          "state": {
            "_view_name": "StyleView",
            "_model_name": "DescriptionStyleModel",
            "description_width": "",
            "_view_module": "@jupyter-widgets/base",
            "_model_module_version": "1.5.0",
            "_view_count": null,
            "_view_module_version": "1.2.0",
            "_model_module": "@jupyter-widgets/controls"
          }
        },
        "58a408bdc67d4a25acd779e65d1d4403": {
          "model_module": "@jupyter-widgets/base",
          "model_name": "LayoutModel",
          "model_module_version": "1.2.0",
          "state": {
            "_view_name": "LayoutView",
            "grid_template_rows": null,
            "right": null,
            "justify_content": null,
            "_view_module": "@jupyter-widgets/base",
            "overflow": null,
            "_model_module_version": "1.2.0",
            "_view_count": null,
            "flex_flow": null,
            "width": null,
            "min_width": null,
            "border": null,
            "align_items": null,
            "bottom": null,
            "_model_module": "@jupyter-widgets/base",
            "top": null,
            "grid_column": null,
            "overflow_y": null,
            "overflow_x": null,
            "grid_auto_flow": null,
            "grid_area": null,
            "grid_template_columns": null,
            "flex": null,
            "_model_name": "LayoutModel",
            "justify_items": null,
            "grid_row": null,
            "max_height": null,
            "align_content": null,
            "visibility": null,
            "align_self": null,
            "height": null,
            "min_height": null,
            "padding": null,
            "grid_auto_rows": null,
            "grid_gap": null,
            "max_width": null,
            "order": null,
            "_view_module_version": "1.2.0",
            "grid_template_areas": null,
            "object_position": null,
            "object_fit": null,
            "grid_auto_columns": null,
            "margin": null,
            "display": null,
            "left": null
          }
        },
        "61410a9864764e41a3edf48a49f993d2": {
          "model_module": "@jupyter-widgets/controls",
          "model_name": "HBoxModel",
          "model_module_version": "1.5.0",
          "state": {
            "_view_name": "HBoxView",
            "_dom_classes": [],
            "_model_name": "HBoxModel",
            "_view_module": "@jupyter-widgets/controls",
            "_model_module_version": "1.5.0",
            "_view_count": null,
            "_view_module_version": "1.5.0",
            "box_style": "",
            "layout": "IPY_MODEL_58b2523833c34bcd90abb38d1031e45f",
            "_model_module": "@jupyter-widgets/controls",
            "children": [
              "IPY_MODEL_ae477977a17849c3aed8e0ff526d76f6",
              "IPY_MODEL_a4bfb6d83cf749028b7e5b0b7f4fcfeb",
              "IPY_MODEL_5dfb9ee46187444b8073a1b9a7e5bd6d"
            ]
          }
        },
        "58b2523833c34bcd90abb38d1031e45f": {
          "model_module": "@jupyter-widgets/base",
          "model_name": "LayoutModel",
          "model_module_version": "1.2.0",
          "state": {
            "_view_name": "LayoutView",
            "grid_template_rows": null,
            "right": null,
            "justify_content": null,
            "_view_module": "@jupyter-widgets/base",
            "overflow": null,
            "_model_module_version": "1.2.0",
            "_view_count": null,
            "flex_flow": null,
            "width": null,
            "min_width": null,
            "border": null,
            "align_items": null,
            "bottom": null,
            "_model_module": "@jupyter-widgets/base",
            "top": null,
            "grid_column": null,
            "overflow_y": null,
            "overflow_x": null,
            "grid_auto_flow": null,
            "grid_area": null,
            "grid_template_columns": null,
            "flex": null,
            "_model_name": "LayoutModel",
            "justify_items": null,
            "grid_row": null,
            "max_height": null,
            "align_content": null,
            "visibility": null,
            "align_self": null,
            "height": null,
            "min_height": null,
            "padding": null,
            "grid_auto_rows": null,
            "grid_gap": null,
            "max_width": null,
            "order": null,
            "_view_module_version": "1.2.0",
            "grid_template_areas": null,
            "object_position": null,
            "object_fit": null,
            "grid_auto_columns": null,
            "margin": null,
            "display": null,
            "left": null
          }
        },
        "ae477977a17849c3aed8e0ff526d76f6": {
          "model_module": "@jupyter-widgets/controls",
          "model_name": "HTMLModel",
          "model_module_version": "1.5.0",
          "state": {
            "_view_name": "HTMLView",
            "style": "IPY_MODEL_40ea77c63dff4987a79de39b83926fab",
            "_dom_classes": [],
            "description": "",
            "_model_name": "HTMLModel",
            "placeholder": "​",
            "_view_module": "@jupyter-widgets/controls",
            "_model_module_version": "1.5.0",
            "value": "Downloading: 100%",
            "_view_count": null,
            "_view_module_version": "1.5.0",
            "description_tooltip": null,
            "_model_module": "@jupyter-widgets/controls",
            "layout": "IPY_MODEL_a829d95d2af34444b00f5ea0f830cfaf"
          }
        },
        "a4bfb6d83cf749028b7e5b0b7f4fcfeb": {
          "model_module": "@jupyter-widgets/controls",
          "model_name": "FloatProgressModel",
          "model_module_version": "1.5.0",
          "state": {
            "_view_name": "ProgressView",
            "style": "IPY_MODEL_64ea1338b62f4977879d6ac891bd8221",
            "_dom_classes": [],
            "description": "",
            "_model_name": "FloatProgressModel",
            "bar_style": "success",
            "max": 29,
            "_view_module": "@jupyter-widgets/controls",
            "_model_module_version": "1.5.0",
            "value": 29,
            "_view_count": null,
            "_view_module_version": "1.5.0",
            "orientation": "horizontal",
            "min": 0,
            "description_tooltip": null,
            "_model_module": "@jupyter-widgets/controls",
            "layout": "IPY_MODEL_e2df610874d74cd6a31e5d776bc7a79c"
          }
        },
        "5dfb9ee46187444b8073a1b9a7e5bd6d": {
          "model_module": "@jupyter-widgets/controls",
          "model_name": "HTMLModel",
          "model_module_version": "1.5.0",
          "state": {
            "_view_name": "HTMLView",
            "style": "IPY_MODEL_e7cbfa8c059040158f5eb4b4c16ffdc2",
            "_dom_classes": [],
            "description": "",
            "_model_name": "HTMLModel",
            "placeholder": "​",
            "_view_module": "@jupyter-widgets/controls",
            "_model_module_version": "1.5.0",
            "value": " 29.0/29.0 [00:00&lt;00:00, 935B/s]",
            "_view_count": null,
            "_view_module_version": "1.5.0",
            "description_tooltip": null,
            "_model_module": "@jupyter-widgets/controls",
            "layout": "IPY_MODEL_939a0ac06b1543d68987d5fb0bb0e22c"
          }
        },
        "40ea77c63dff4987a79de39b83926fab": {
          "model_module": "@jupyter-widgets/controls",
          "model_name": "DescriptionStyleModel",
          "model_module_version": "1.5.0",
          "state": {
            "_view_name": "StyleView",
            "_model_name": "DescriptionStyleModel",
            "description_width": "",
            "_view_module": "@jupyter-widgets/base",
            "_model_module_version": "1.5.0",
            "_view_count": null,
            "_view_module_version": "1.2.0",
            "_model_module": "@jupyter-widgets/controls"
          }
        },
        "a829d95d2af34444b00f5ea0f830cfaf": {
          "model_module": "@jupyter-widgets/base",
          "model_name": "LayoutModel",
          "model_module_version": "1.2.0",
          "state": {
            "_view_name": "LayoutView",
            "grid_template_rows": null,
            "right": null,
            "justify_content": null,
            "_view_module": "@jupyter-widgets/base",
            "overflow": null,
            "_model_module_version": "1.2.0",
            "_view_count": null,
            "flex_flow": null,
            "width": null,
            "min_width": null,
            "border": null,
            "align_items": null,
            "bottom": null,
            "_model_module": "@jupyter-widgets/base",
            "top": null,
            "grid_column": null,
            "overflow_y": null,
            "overflow_x": null,
            "grid_auto_flow": null,
            "grid_area": null,
            "grid_template_columns": null,
            "flex": null,
            "_model_name": "LayoutModel",
            "justify_items": null,
            "grid_row": null,
            "max_height": null,
            "align_content": null,
            "visibility": null,
            "align_self": null,
            "height": null,
            "min_height": null,
            "padding": null,
            "grid_auto_rows": null,
            "grid_gap": null,
            "max_width": null,
            "order": null,
            "_view_module_version": "1.2.0",
            "grid_template_areas": null,
            "object_position": null,
            "object_fit": null,
            "grid_auto_columns": null,
            "margin": null,
            "display": null,
            "left": null
          }
        },
        "64ea1338b62f4977879d6ac891bd8221": {
          "model_module": "@jupyter-widgets/controls",
          "model_name": "ProgressStyleModel",
          "model_module_version": "1.5.0",
          "state": {
            "_view_name": "StyleView",
            "_model_name": "ProgressStyleModel",
            "description_width": "",
            "_view_module": "@jupyter-widgets/base",
            "_model_module_version": "1.5.0",
            "_view_count": null,
            "_view_module_version": "1.2.0",
            "bar_color": null,
            "_model_module": "@jupyter-widgets/controls"
          }
        },
        "e2df610874d74cd6a31e5d776bc7a79c": {
          "model_module": "@jupyter-widgets/base",
          "model_name": "LayoutModel",
          "model_module_version": "1.2.0",
          "state": {
            "_view_name": "LayoutView",
            "grid_template_rows": null,
            "right": null,
            "justify_content": null,
            "_view_module": "@jupyter-widgets/base",
            "overflow": null,
            "_model_module_version": "1.2.0",
            "_view_count": null,
            "flex_flow": null,
            "width": null,
            "min_width": null,
            "border": null,
            "align_items": null,
            "bottom": null,
            "_model_module": "@jupyter-widgets/base",
            "top": null,
            "grid_column": null,
            "overflow_y": null,
            "overflow_x": null,
            "grid_auto_flow": null,
            "grid_area": null,
            "grid_template_columns": null,
            "flex": null,
            "_model_name": "LayoutModel",
            "justify_items": null,
            "grid_row": null,
            "max_height": null,
            "align_content": null,
            "visibility": null,
            "align_self": null,
            "height": null,
            "min_height": null,
            "padding": null,
            "grid_auto_rows": null,
            "grid_gap": null,
            "max_width": null,
            "order": null,
            "_view_module_version": "1.2.0",
            "grid_template_areas": null,
            "object_position": null,
            "object_fit": null,
            "grid_auto_columns": null,
            "margin": null,
            "display": null,
            "left": null
          }
        },
        "e7cbfa8c059040158f5eb4b4c16ffdc2": {
          "model_module": "@jupyter-widgets/controls",
          "model_name": "DescriptionStyleModel",
          "model_module_version": "1.5.0",
          "state": {
            "_view_name": "StyleView",
            "_model_name": "DescriptionStyleModel",
            "description_width": "",
            "_view_module": "@jupyter-widgets/base",
            "_model_module_version": "1.5.0",
            "_view_count": null,
            "_view_module_version": "1.2.0",
            "_model_module": "@jupyter-widgets/controls"
          }
        },
        "939a0ac06b1543d68987d5fb0bb0e22c": {
          "model_module": "@jupyter-widgets/base",
          "model_name": "LayoutModel",
          "model_module_version": "1.2.0",
          "state": {
            "_view_name": "LayoutView",
            "grid_template_rows": null,
            "right": null,
            "justify_content": null,
            "_view_module": "@jupyter-widgets/base",
            "overflow": null,
            "_model_module_version": "1.2.0",
            "_view_count": null,
            "flex_flow": null,
            "width": null,
            "min_width": null,
            "border": null,
            "align_items": null,
            "bottom": null,
            "_model_module": "@jupyter-widgets/base",
            "top": null,
            "grid_column": null,
            "overflow_y": null,
            "overflow_x": null,
            "grid_auto_flow": null,
            "grid_area": null,
            "grid_template_columns": null,
            "flex": null,
            "_model_name": "LayoutModel",
            "justify_items": null,
            "grid_row": null,
            "max_height": null,
            "align_content": null,
            "visibility": null,
            "align_self": null,
            "height": null,
            "min_height": null,
            "padding": null,
            "grid_auto_rows": null,
            "grid_gap": null,
            "max_width": null,
            "order": null,
            "_view_module_version": "1.2.0",
            "grid_template_areas": null,
            "object_position": null,
            "object_fit": null,
            "grid_auto_columns": null,
            "margin": null,
            "display": null,
            "left": null
          }
        },
        "a5bd95591d5c488c82d33c7c584f28e9": {
          "model_module": "@jupyter-widgets/controls",
          "model_name": "HBoxModel",
          "model_module_version": "1.5.0",
          "state": {
            "_view_name": "HBoxView",
            "_dom_classes": [],
            "_model_name": "HBoxModel",
            "_view_module": "@jupyter-widgets/controls",
            "_model_module_version": "1.5.0",
            "_view_count": null,
            "_view_module_version": "1.5.0",
            "box_style": "",
            "layout": "IPY_MODEL_d1b719d03bbb43de90e81f238a789a07",
            "_model_module": "@jupyter-widgets/controls",
            "children": [
              "IPY_MODEL_a55a095858b1434f9c344cb4dfa1444c",
              "IPY_MODEL_00884f945f8e42eab644964d43cc755f",
              "IPY_MODEL_1dbc613e97d6446e8519662049bfb1a8"
            ]
          }
        },
        "d1b719d03bbb43de90e81f238a789a07": {
          "model_module": "@jupyter-widgets/base",
          "model_name": "LayoutModel",
          "model_module_version": "1.2.0",
          "state": {
            "_view_name": "LayoutView",
            "grid_template_rows": null,
            "right": null,
            "justify_content": null,
            "_view_module": "@jupyter-widgets/base",
            "overflow": null,
            "_model_module_version": "1.2.0",
            "_view_count": null,
            "flex_flow": null,
            "width": null,
            "min_width": null,
            "border": null,
            "align_items": null,
            "bottom": null,
            "_model_module": "@jupyter-widgets/base",
            "top": null,
            "grid_column": null,
            "overflow_y": null,
            "overflow_x": null,
            "grid_auto_flow": null,
            "grid_area": null,
            "grid_template_columns": null,
            "flex": null,
            "_model_name": "LayoutModel",
            "justify_items": null,
            "grid_row": null,
            "max_height": null,
            "align_content": null,
            "visibility": null,
            "align_self": null,
            "height": null,
            "min_height": null,
            "padding": null,
            "grid_auto_rows": null,
            "grid_gap": null,
            "max_width": null,
            "order": null,
            "_view_module_version": "1.2.0",
            "grid_template_areas": null,
            "object_position": null,
            "object_fit": null,
            "grid_auto_columns": null,
            "margin": null,
            "display": null,
            "left": null
          }
        },
        "a55a095858b1434f9c344cb4dfa1444c": {
          "model_module": "@jupyter-widgets/controls",
          "model_name": "HTMLModel",
          "model_module_version": "1.5.0",
          "state": {
            "_view_name": "HTMLView",
            "style": "IPY_MODEL_1b16693a9b9e4dac9c0e12b76dd1883a",
            "_dom_classes": [],
            "description": "",
            "_model_name": "HTMLModel",
            "placeholder": "​",
            "_view_module": "@jupyter-widgets/controls",
            "_model_module_version": "1.5.0",
            "value": "Downloading: 100%",
            "_view_count": null,
            "_view_module_version": "1.5.0",
            "description_tooltip": null,
            "_model_module": "@jupyter-widgets/controls",
            "layout": "IPY_MODEL_4aa7d183ea9f4474b37ee0b9f67f73d4"
          }
        },
        "00884f945f8e42eab644964d43cc755f": {
          "model_module": "@jupyter-widgets/controls",
          "model_name": "FloatProgressModel",
          "model_module_version": "1.5.0",
          "state": {
            "_view_name": "ProgressView",
            "style": "IPY_MODEL_c305c122b6984cbdbce5708e11bee8ad",
            "_dom_classes": [],
            "description": "",
            "_model_name": "FloatProgressModel",
            "bar_style": "success",
            "max": 435797,
            "_view_module": "@jupyter-widgets/controls",
            "_model_module_version": "1.5.0",
            "value": 435797,
            "_view_count": null,
            "_view_module_version": "1.5.0",
            "orientation": "horizontal",
            "min": 0,
            "description_tooltip": null,
            "_model_module": "@jupyter-widgets/controls",
            "layout": "IPY_MODEL_0fc1133f99da43caac23cfc6b505ba0e"
          }
        },
        "1dbc613e97d6446e8519662049bfb1a8": {
          "model_module": "@jupyter-widgets/controls",
          "model_name": "HTMLModel",
          "model_module_version": "1.5.0",
          "state": {
            "_view_name": "HTMLView",
            "style": "IPY_MODEL_2e20c1287dda4c2e89fee1859ddcbbe1",
            "_dom_classes": [],
            "description": "",
            "_model_name": "HTMLModel",
            "placeholder": "​",
            "_view_module": "@jupyter-widgets/controls",
            "_model_module_version": "1.5.0",
            "value": " 436k/436k [00:00&lt;00:00, 655kB/s]",
            "_view_count": null,
            "_view_module_version": "1.5.0",
            "description_tooltip": null,
            "_model_module": "@jupyter-widgets/controls",
            "layout": "IPY_MODEL_96c73771b4734fdc9d3691ad2644eb3c"
          }
        },
        "1b16693a9b9e4dac9c0e12b76dd1883a": {
          "model_module": "@jupyter-widgets/controls",
          "model_name": "DescriptionStyleModel",
          "model_module_version": "1.5.0",
          "state": {
            "_view_name": "StyleView",
            "_model_name": "DescriptionStyleModel",
            "description_width": "",
            "_view_module": "@jupyter-widgets/base",
            "_model_module_version": "1.5.0",
            "_view_count": null,
            "_view_module_version": "1.2.0",
            "_model_module": "@jupyter-widgets/controls"
          }
        },
        "4aa7d183ea9f4474b37ee0b9f67f73d4": {
          "model_module": "@jupyter-widgets/base",
          "model_name": "LayoutModel",
          "model_module_version": "1.2.0",
          "state": {
            "_view_name": "LayoutView",
            "grid_template_rows": null,
            "right": null,
            "justify_content": null,
            "_view_module": "@jupyter-widgets/base",
            "overflow": null,
            "_model_module_version": "1.2.0",
            "_view_count": null,
            "flex_flow": null,
            "width": null,
            "min_width": null,
            "border": null,
            "align_items": null,
            "bottom": null,
            "_model_module": "@jupyter-widgets/base",
            "top": null,
            "grid_column": null,
            "overflow_y": null,
            "overflow_x": null,
            "grid_auto_flow": null,
            "grid_area": null,
            "grid_template_columns": null,
            "flex": null,
            "_model_name": "LayoutModel",
            "justify_items": null,
            "grid_row": null,
            "max_height": null,
            "align_content": null,
            "visibility": null,
            "align_self": null,
            "height": null,
            "min_height": null,
            "padding": null,
            "grid_auto_rows": null,
            "grid_gap": null,
            "max_width": null,
            "order": null,
            "_view_module_version": "1.2.0",
            "grid_template_areas": null,
            "object_position": null,
            "object_fit": null,
            "grid_auto_columns": null,
            "margin": null,
            "display": null,
            "left": null
          }
        },
        "c305c122b6984cbdbce5708e11bee8ad": {
          "model_module": "@jupyter-widgets/controls",
          "model_name": "ProgressStyleModel",
          "model_module_version": "1.5.0",
          "state": {
            "_view_name": "StyleView",
            "_model_name": "ProgressStyleModel",
            "description_width": "",
            "_view_module": "@jupyter-widgets/base",
            "_model_module_version": "1.5.0",
            "_view_count": null,
            "_view_module_version": "1.2.0",
            "bar_color": null,
            "_model_module": "@jupyter-widgets/controls"
          }
        },
        "0fc1133f99da43caac23cfc6b505ba0e": {
          "model_module": "@jupyter-widgets/base",
          "model_name": "LayoutModel",
          "model_module_version": "1.2.0",
          "state": {
            "_view_name": "LayoutView",
            "grid_template_rows": null,
            "right": null,
            "justify_content": null,
            "_view_module": "@jupyter-widgets/base",
            "overflow": null,
            "_model_module_version": "1.2.0",
            "_view_count": null,
            "flex_flow": null,
            "width": null,
            "min_width": null,
            "border": null,
            "align_items": null,
            "bottom": null,
            "_model_module": "@jupyter-widgets/base",
            "top": null,
            "grid_column": null,
            "overflow_y": null,
            "overflow_x": null,
            "grid_auto_flow": null,
            "grid_area": null,
            "grid_template_columns": null,
            "flex": null,
            "_model_name": "LayoutModel",
            "justify_items": null,
            "grid_row": null,
            "max_height": null,
            "align_content": null,
            "visibility": null,
            "align_self": null,
            "height": null,
            "min_height": null,
            "padding": null,
            "grid_auto_rows": null,
            "grid_gap": null,
            "max_width": null,
            "order": null,
            "_view_module_version": "1.2.0",
            "grid_template_areas": null,
            "object_position": null,
            "object_fit": null,
            "grid_auto_columns": null,
            "margin": null,
            "display": null,
            "left": null
          }
        },
        "2e20c1287dda4c2e89fee1859ddcbbe1": {
          "model_module": "@jupyter-widgets/controls",
          "model_name": "DescriptionStyleModel",
          "model_module_version": "1.5.0",
          "state": {
            "_view_name": "StyleView",
            "_model_name": "DescriptionStyleModel",
            "description_width": "",
            "_view_module": "@jupyter-widgets/base",
            "_model_module_version": "1.5.0",
            "_view_count": null,
            "_view_module_version": "1.2.0",
            "_model_module": "@jupyter-widgets/controls"
          }
        },
        "96c73771b4734fdc9d3691ad2644eb3c": {
          "model_module": "@jupyter-widgets/base",
          "model_name": "LayoutModel",
          "model_module_version": "1.2.0",
          "state": {
            "_view_name": "LayoutView",
            "grid_template_rows": null,
            "right": null,
            "justify_content": null,
            "_view_module": "@jupyter-widgets/base",
            "overflow": null,
            "_model_module_version": "1.2.0",
            "_view_count": null,
            "flex_flow": null,
            "width": null,
            "min_width": null,
            "border": null,
            "align_items": null,
            "bottom": null,
            "_model_module": "@jupyter-widgets/base",
            "top": null,
            "grid_column": null,
            "overflow_y": null,
            "overflow_x": null,
            "grid_auto_flow": null,
            "grid_area": null,
            "grid_template_columns": null,
            "flex": null,
            "_model_name": "LayoutModel",
            "justify_items": null,
            "grid_row": null,
            "max_height": null,
            "align_content": null,
            "visibility": null,
            "align_self": null,
            "height": null,
            "min_height": null,
            "padding": null,
            "grid_auto_rows": null,
            "grid_gap": null,
            "max_width": null,
            "order": null,
            "_view_module_version": "1.2.0",
            "grid_template_areas": null,
            "object_position": null,
            "object_fit": null,
            "grid_auto_columns": null,
            "margin": null,
            "display": null,
            "left": null
          }
        },
        "9e5cba8b71ce4002bafce0a296719233": {
          "model_module": "@jupyter-widgets/controls",
          "model_name": "HBoxModel",
          "model_module_version": "1.5.0",
          "state": {
            "_view_name": "HBoxView",
            "_dom_classes": [],
            "_model_name": "HBoxModel",
            "_view_module": "@jupyter-widgets/controls",
            "_model_module_version": "1.5.0",
            "_view_count": null,
            "_view_module_version": "1.5.0",
            "box_style": "",
            "layout": "IPY_MODEL_cfdb532029c548929304f27a4e8b7164",
            "_model_module": "@jupyter-widgets/controls",
            "children": [
              "IPY_MODEL_b8459df511ae437aac7be9fa6fec5ca4",
              "IPY_MODEL_97998d99b08d498caf192f215d801cc3",
              "IPY_MODEL_a25eb4f9ae4a425eb490551541c243ee"
            ]
          }
        },
        "cfdb532029c548929304f27a4e8b7164": {
          "model_module": "@jupyter-widgets/base",
          "model_name": "LayoutModel",
          "model_module_version": "1.2.0",
          "state": {
            "_view_name": "LayoutView",
            "grid_template_rows": null,
            "right": null,
            "justify_content": null,
            "_view_module": "@jupyter-widgets/base",
            "overflow": null,
            "_model_module_version": "1.2.0",
            "_view_count": null,
            "flex_flow": null,
            "width": null,
            "min_width": null,
            "border": null,
            "align_items": null,
            "bottom": null,
            "_model_module": "@jupyter-widgets/base",
            "top": null,
            "grid_column": null,
            "overflow_y": null,
            "overflow_x": null,
            "grid_auto_flow": null,
            "grid_area": null,
            "grid_template_columns": null,
            "flex": null,
            "_model_name": "LayoutModel",
            "justify_items": null,
            "grid_row": null,
            "max_height": null,
            "align_content": null,
            "visibility": null,
            "align_self": null,
            "height": null,
            "min_height": null,
            "padding": null,
            "grid_auto_rows": null,
            "grid_gap": null,
            "max_width": null,
            "order": null,
            "_view_module_version": "1.2.0",
            "grid_template_areas": null,
            "object_position": null,
            "object_fit": null,
            "grid_auto_columns": null,
            "margin": null,
            "display": null,
            "left": null
          }
        },
        "b8459df511ae437aac7be9fa6fec5ca4": {
          "model_module": "@jupyter-widgets/controls",
          "model_name": "HTMLModel",
          "model_module_version": "1.5.0",
          "state": {
            "_view_name": "HTMLView",
            "style": "IPY_MODEL_316e5bd57e7043eca0c75d6d76d08f66",
            "_dom_classes": [],
            "description": "",
            "_model_name": "HTMLModel",
            "placeholder": "​",
            "_view_module": "@jupyter-widgets/controls",
            "_model_module_version": "1.5.0",
            "value": "100%",
            "_view_count": null,
            "_view_module_version": "1.5.0",
            "description_tooltip": null,
            "_model_module": "@jupyter-widgets/controls",
            "layout": "IPY_MODEL_6063011704e44cdfab2c8821c89a4ef2"
          }
        },
        "97998d99b08d498caf192f215d801cc3": {
          "model_module": "@jupyter-widgets/controls",
          "model_name": "FloatProgressModel",
          "model_module_version": "1.5.0",
          "state": {
            "_view_name": "ProgressView",
            "style": "IPY_MODEL_82d2dced124142f79bc6993197636879",
            "_dom_classes": [],
            "description": "",
            "_model_name": "FloatProgressModel",
            "bar_style": "success",
            "max": 3,
            "_view_module": "@jupyter-widgets/controls",
            "_model_module_version": "1.5.0",
            "value": 3,
            "_view_count": null,
            "_view_module_version": "1.5.0",
            "orientation": "horizontal",
            "min": 0,
            "description_tooltip": null,
            "_model_module": "@jupyter-widgets/controls",
            "layout": "IPY_MODEL_0d6216453557485facb805c1a79b7b17"
          }
        },
        "a25eb4f9ae4a425eb490551541c243ee": {
          "model_module": "@jupyter-widgets/controls",
          "model_name": "HTMLModel",
          "model_module_version": "1.5.0",
          "state": {
            "_view_name": "HTMLView",
            "style": "IPY_MODEL_5bf067fd3fef4ae2a7ae02b532c42247",
            "_dom_classes": [],
            "description": "",
            "_model_name": "HTMLModel",
            "placeholder": "​",
            "_view_module": "@jupyter-widgets/controls",
            "_model_module_version": "1.5.0",
            "value": " 3/3 [00:45&lt;00:00, 45.55s/it]",
            "_view_count": null,
            "_view_module_version": "1.5.0",
            "description_tooltip": null,
            "_model_module": "@jupyter-widgets/controls",
            "layout": "IPY_MODEL_673f8cd9132c496b83a1e31cb4751564"
          }
        },
        "316e5bd57e7043eca0c75d6d76d08f66": {
          "model_module": "@jupyter-widgets/controls",
          "model_name": "DescriptionStyleModel",
          "model_module_version": "1.5.0",
          "state": {
            "_view_name": "StyleView",
            "_model_name": "DescriptionStyleModel",
            "description_width": "",
            "_view_module": "@jupyter-widgets/base",
            "_model_module_version": "1.5.0",
            "_view_count": null,
            "_view_module_version": "1.2.0",
            "_model_module": "@jupyter-widgets/controls"
          }
        },
        "6063011704e44cdfab2c8821c89a4ef2": {
          "model_module": "@jupyter-widgets/base",
          "model_name": "LayoutModel",
          "model_module_version": "1.2.0",
          "state": {
            "_view_name": "LayoutView",
            "grid_template_rows": null,
            "right": null,
            "justify_content": null,
            "_view_module": "@jupyter-widgets/base",
            "overflow": null,
            "_model_module_version": "1.2.0",
            "_view_count": null,
            "flex_flow": null,
            "width": null,
            "min_width": null,
            "border": null,
            "align_items": null,
            "bottom": null,
            "_model_module": "@jupyter-widgets/base",
            "top": null,
            "grid_column": null,
            "overflow_y": null,
            "overflow_x": null,
            "grid_auto_flow": null,
            "grid_area": null,
            "grid_template_columns": null,
            "flex": null,
            "_model_name": "LayoutModel",
            "justify_items": null,
            "grid_row": null,
            "max_height": null,
            "align_content": null,
            "visibility": null,
            "align_self": null,
            "height": null,
            "min_height": null,
            "padding": null,
            "grid_auto_rows": null,
            "grid_gap": null,
            "max_width": null,
            "order": null,
            "_view_module_version": "1.2.0",
            "grid_template_areas": null,
            "object_position": null,
            "object_fit": null,
            "grid_auto_columns": null,
            "margin": null,
            "display": null,
            "left": null
          }
        },
        "82d2dced124142f79bc6993197636879": {
          "model_module": "@jupyter-widgets/controls",
          "model_name": "ProgressStyleModel",
          "model_module_version": "1.5.0",
          "state": {
            "_view_name": "StyleView",
            "_model_name": "ProgressStyleModel",
            "description_width": "",
            "_view_module": "@jupyter-widgets/base",
            "_model_module_version": "1.5.0",
            "_view_count": null,
            "_view_module_version": "1.2.0",
            "bar_color": null,
            "_model_module": "@jupyter-widgets/controls"
          }
        },
        "0d6216453557485facb805c1a79b7b17": {
          "model_module": "@jupyter-widgets/base",
          "model_name": "LayoutModel",
          "model_module_version": "1.2.0",
          "state": {
            "_view_name": "LayoutView",
            "grid_template_rows": null,
            "right": null,
            "justify_content": null,
            "_view_module": "@jupyter-widgets/base",
            "overflow": null,
            "_model_module_version": "1.2.0",
            "_view_count": null,
            "flex_flow": null,
            "width": null,
            "min_width": null,
            "border": null,
            "align_items": null,
            "bottom": null,
            "_model_module": "@jupyter-widgets/base",
            "top": null,
            "grid_column": null,
            "overflow_y": null,
            "overflow_x": null,
            "grid_auto_flow": null,
            "grid_area": null,
            "grid_template_columns": null,
            "flex": null,
            "_model_name": "LayoutModel",
            "justify_items": null,
            "grid_row": null,
            "max_height": null,
            "align_content": null,
            "visibility": null,
            "align_self": null,
            "height": null,
            "min_height": null,
            "padding": null,
            "grid_auto_rows": null,
            "grid_gap": null,
            "max_width": null,
            "order": null,
            "_view_module_version": "1.2.0",
            "grid_template_areas": null,
            "object_position": null,
            "object_fit": null,
            "grid_auto_columns": null,
            "margin": null,
            "display": null,
            "left": null
          }
        },
        "5bf067fd3fef4ae2a7ae02b532c42247": {
          "model_module": "@jupyter-widgets/controls",
          "model_name": "DescriptionStyleModel",
          "model_module_version": "1.5.0",
          "state": {
            "_view_name": "StyleView",
            "_model_name": "DescriptionStyleModel",
            "description_width": "",
            "_view_module": "@jupyter-widgets/base",
            "_model_module_version": "1.5.0",
            "_view_count": null,
            "_view_module_version": "1.2.0",
            "_model_module": "@jupyter-widgets/controls"
          }
        },
        "673f8cd9132c496b83a1e31cb4751564": {
          "model_module": "@jupyter-widgets/base",
          "model_name": "LayoutModel",
          "model_module_version": "1.2.0",
          "state": {
            "_view_name": "LayoutView",
            "grid_template_rows": null,
            "right": null,
            "justify_content": null,
            "_view_module": "@jupyter-widgets/base",
            "overflow": null,
            "_model_module_version": "1.2.0",
            "_view_count": null,
            "flex_flow": null,
            "width": null,
            "min_width": null,
            "border": null,
            "align_items": null,
            "bottom": null,
            "_model_module": "@jupyter-widgets/base",
            "top": null,
            "grid_column": null,
            "overflow_y": null,
            "overflow_x": null,
            "grid_auto_flow": null,
            "grid_area": null,
            "grid_template_columns": null,
            "flex": null,
            "_model_name": "LayoutModel",
            "justify_items": null,
            "grid_row": null,
            "max_height": null,
            "align_content": null,
            "visibility": null,
            "align_self": null,
            "height": null,
            "min_height": null,
            "padding": null,
            "grid_auto_rows": null,
            "grid_gap": null,
            "max_width": null,
            "order": null,
            "_view_module_version": "1.2.0",
            "grid_template_areas": null,
            "object_position": null,
            "object_fit": null,
            "grid_auto_columns": null,
            "margin": null,
            "display": null,
            "left": null
          }
        },
        "5df698dba7a347f296d338a4b0c12ce9": {
          "model_module": "@jupyter-widgets/controls",
          "model_name": "HBoxModel",
          "model_module_version": "1.5.0",
          "state": {
            "_view_name": "HBoxView",
            "_dom_classes": [],
            "_model_name": "HBoxModel",
            "_view_module": "@jupyter-widgets/controls",
            "_model_module_version": "1.5.0",
            "_view_count": null,
            "_view_module_version": "1.5.0",
            "box_style": "",
            "layout": "IPY_MODEL_58e9e6a4162b43b78d318d3bca6f9bf7",
            "_model_module": "@jupyter-widgets/controls",
            "children": [
              "IPY_MODEL_ef1e1bccd2774d9fb7caa54bbb12604c",
              "IPY_MODEL_4475780800f240b5a29131e98a2d4694",
              "IPY_MODEL_855c80c280034c2fbbb6c5a78be3a129"
            ]
          }
        },
        "58e9e6a4162b43b78d318d3bca6f9bf7": {
          "model_module": "@jupyter-widgets/base",
          "model_name": "LayoutModel",
          "model_module_version": "1.2.0",
          "state": {
            "_view_name": "LayoutView",
            "grid_template_rows": null,
            "right": null,
            "justify_content": null,
            "_view_module": "@jupyter-widgets/base",
            "overflow": null,
            "_model_module_version": "1.2.0",
            "_view_count": null,
            "flex_flow": null,
            "width": null,
            "min_width": null,
            "border": null,
            "align_items": null,
            "bottom": null,
            "_model_module": "@jupyter-widgets/base",
            "top": null,
            "grid_column": null,
            "overflow_y": null,
            "overflow_x": null,
            "grid_auto_flow": null,
            "grid_area": null,
            "grid_template_columns": null,
            "flex": null,
            "_model_name": "LayoutModel",
            "justify_items": null,
            "grid_row": null,
            "max_height": null,
            "align_content": null,
            "visibility": null,
            "align_self": null,
            "height": null,
            "min_height": null,
            "padding": null,
            "grid_auto_rows": null,
            "grid_gap": null,
            "max_width": null,
            "order": null,
            "_view_module_version": "1.2.0",
            "grid_template_areas": null,
            "object_position": null,
            "object_fit": null,
            "grid_auto_columns": null,
            "margin": null,
            "display": null,
            "left": null
          }
        },
        "ef1e1bccd2774d9fb7caa54bbb12604c": {
          "model_module": "@jupyter-widgets/controls",
          "model_name": "HTMLModel",
          "model_module_version": "1.5.0",
          "state": {
            "_view_name": "HTMLView",
            "style": "IPY_MODEL_58a3422ed3df4ae2a6d175b990bc9c2b",
            "_dom_classes": [],
            "description": "",
            "_model_name": "HTMLModel",
            "placeholder": "​",
            "_view_module": "@jupyter-widgets/controls",
            "_model_module_version": "1.5.0",
            "value": "Epoch 2 of 2: 100%",
            "_view_count": null,
            "_view_module_version": "1.5.0",
            "description_tooltip": null,
            "_model_module": "@jupyter-widgets/controls",
            "layout": "IPY_MODEL_b6aa4782052e425ead1cce53ee9b541c"
          }
        },
        "4475780800f240b5a29131e98a2d4694": {
          "model_module": "@jupyter-widgets/controls",
          "model_name": "FloatProgressModel",
          "model_module_version": "1.5.0",
          "state": {
            "_view_name": "ProgressView",
            "style": "IPY_MODEL_7438ad2f244f41f08c89735ffa0db6b5",
            "_dom_classes": [],
            "description": "",
            "_model_name": "FloatProgressModel",
            "bar_style": "success",
            "max": 2,
            "_view_module": "@jupyter-widgets/controls",
            "_model_module_version": "1.5.0",
            "value": 2,
            "_view_count": null,
            "_view_module_version": "1.5.0",
            "orientation": "horizontal",
            "min": 0,
            "description_tooltip": null,
            "_model_module": "@jupyter-widgets/controls",
            "layout": "IPY_MODEL_af99b82eb0af413bbcd3aef195a81a88"
          }
        },
        "855c80c280034c2fbbb6c5a78be3a129": {
          "model_module": "@jupyter-widgets/controls",
          "model_name": "HTMLModel",
          "model_module_version": "1.5.0",
          "state": {
            "_view_name": "HTMLView",
            "style": "IPY_MODEL_47e80782749441cea9a9bab270a5f0e8",
            "_dom_classes": [],
            "description": "",
            "_model_name": "HTMLModel",
            "placeholder": "​",
            "_view_module": "@jupyter-widgets/controls",
            "_model_module_version": "1.5.0",
            "value": " 2/2 [11:45&lt;00:00, 353.14s/it]",
            "_view_count": null,
            "_view_module_version": "1.5.0",
            "description_tooltip": null,
            "_model_module": "@jupyter-widgets/controls",
            "layout": "IPY_MODEL_c52b825b8324449f87bd2b98fc65570c"
          }
        },
        "58a3422ed3df4ae2a6d175b990bc9c2b": {
          "model_module": "@jupyter-widgets/controls",
          "model_name": "DescriptionStyleModel",
          "model_module_version": "1.5.0",
          "state": {
            "_view_name": "StyleView",
            "_model_name": "DescriptionStyleModel",
            "description_width": "",
            "_view_module": "@jupyter-widgets/base",
            "_model_module_version": "1.5.0",
            "_view_count": null,
            "_view_module_version": "1.2.0",
            "_model_module": "@jupyter-widgets/controls"
          }
        },
        "b6aa4782052e425ead1cce53ee9b541c": {
          "model_module": "@jupyter-widgets/base",
          "model_name": "LayoutModel",
          "model_module_version": "1.2.0",
          "state": {
            "_view_name": "LayoutView",
            "grid_template_rows": null,
            "right": null,
            "justify_content": null,
            "_view_module": "@jupyter-widgets/base",
            "overflow": null,
            "_model_module_version": "1.2.0",
            "_view_count": null,
            "flex_flow": null,
            "width": null,
            "min_width": null,
            "border": null,
            "align_items": null,
            "bottom": null,
            "_model_module": "@jupyter-widgets/base",
            "top": null,
            "grid_column": null,
            "overflow_y": null,
            "overflow_x": null,
            "grid_auto_flow": null,
            "grid_area": null,
            "grid_template_columns": null,
            "flex": null,
            "_model_name": "LayoutModel",
            "justify_items": null,
            "grid_row": null,
            "max_height": null,
            "align_content": null,
            "visibility": null,
            "align_self": null,
            "height": null,
            "min_height": null,
            "padding": null,
            "grid_auto_rows": null,
            "grid_gap": null,
            "max_width": null,
            "order": null,
            "_view_module_version": "1.2.0",
            "grid_template_areas": null,
            "object_position": null,
            "object_fit": null,
            "grid_auto_columns": null,
            "margin": null,
            "display": null,
            "left": null
          }
        },
        "7438ad2f244f41f08c89735ffa0db6b5": {
          "model_module": "@jupyter-widgets/controls",
          "model_name": "ProgressStyleModel",
          "model_module_version": "1.5.0",
          "state": {
            "_view_name": "StyleView",
            "_model_name": "ProgressStyleModel",
            "description_width": "",
            "_view_module": "@jupyter-widgets/base",
            "_model_module_version": "1.5.0",
            "_view_count": null,
            "_view_module_version": "1.2.0",
            "bar_color": null,
            "_model_module": "@jupyter-widgets/controls"
          }
        },
        "af99b82eb0af413bbcd3aef195a81a88": {
          "model_module": "@jupyter-widgets/base",
          "model_name": "LayoutModel",
          "model_module_version": "1.2.0",
          "state": {
            "_view_name": "LayoutView",
            "grid_template_rows": null,
            "right": null,
            "justify_content": null,
            "_view_module": "@jupyter-widgets/base",
            "overflow": null,
            "_model_module_version": "1.2.0",
            "_view_count": null,
            "flex_flow": null,
            "width": null,
            "min_width": null,
            "border": null,
            "align_items": null,
            "bottom": null,
            "_model_module": "@jupyter-widgets/base",
            "top": null,
            "grid_column": null,
            "overflow_y": null,
            "overflow_x": null,
            "grid_auto_flow": null,
            "grid_area": null,
            "grid_template_columns": null,
            "flex": null,
            "_model_name": "LayoutModel",
            "justify_items": null,
            "grid_row": null,
            "max_height": null,
            "align_content": null,
            "visibility": null,
            "align_self": null,
            "height": null,
            "min_height": null,
            "padding": null,
            "grid_auto_rows": null,
            "grid_gap": null,
            "max_width": null,
            "order": null,
            "_view_module_version": "1.2.0",
            "grid_template_areas": null,
            "object_position": null,
            "object_fit": null,
            "grid_auto_columns": null,
            "margin": null,
            "display": null,
            "left": null
          }
        },
        "47e80782749441cea9a9bab270a5f0e8": {
          "model_module": "@jupyter-widgets/controls",
          "model_name": "DescriptionStyleModel",
          "model_module_version": "1.5.0",
          "state": {
            "_view_name": "StyleView",
            "_model_name": "DescriptionStyleModel",
            "description_width": "",
            "_view_module": "@jupyter-widgets/base",
            "_model_module_version": "1.5.0",
            "_view_count": null,
            "_view_module_version": "1.2.0",
            "_model_module": "@jupyter-widgets/controls"
          }
        },
        "c52b825b8324449f87bd2b98fc65570c": {
          "model_module": "@jupyter-widgets/base",
          "model_name": "LayoutModel",
          "model_module_version": "1.2.0",
          "state": {
            "_view_name": "LayoutView",
            "grid_template_rows": null,
            "right": null,
            "justify_content": null,
            "_view_module": "@jupyter-widgets/base",
            "overflow": null,
            "_model_module_version": "1.2.0",
            "_view_count": null,
            "flex_flow": null,
            "width": null,
            "min_width": null,
            "border": null,
            "align_items": null,
            "bottom": null,
            "_model_module": "@jupyter-widgets/base",
            "top": null,
            "grid_column": null,
            "overflow_y": null,
            "overflow_x": null,
            "grid_auto_flow": null,
            "grid_area": null,
            "grid_template_columns": null,
            "flex": null,
            "_model_name": "LayoutModel",
            "justify_items": null,
            "grid_row": null,
            "max_height": null,
            "align_content": null,
            "visibility": null,
            "align_self": null,
            "height": null,
            "min_height": null,
            "padding": null,
            "grid_auto_rows": null,
            "grid_gap": null,
            "max_width": null,
            "order": null,
            "_view_module_version": "1.2.0",
            "grid_template_areas": null,
            "object_position": null,
            "object_fit": null,
            "grid_auto_columns": null,
            "margin": null,
            "display": null,
            "left": null
          }
        },
        "cc85f69ede0447cb9739a0da65209feb": {
          "model_module": "@jupyter-widgets/controls",
          "model_name": "HBoxModel",
          "model_module_version": "1.5.0",
          "state": {
            "_view_name": "HBoxView",
            "_dom_classes": [],
            "_model_name": "HBoxModel",
            "_view_module": "@jupyter-widgets/controls",
            "_model_module_version": "1.5.0",
            "_view_count": null,
            "_view_module_version": "1.5.0",
            "box_style": "",
            "layout": "IPY_MODEL_8e2237902c9d4bc58f8d3b292a5cdf83",
            "_model_module": "@jupyter-widgets/controls",
            "children": [
              "IPY_MODEL_acd806de0b834afb8fdc9a774b97b914",
              "IPY_MODEL_8de6bf83ece941ac8d544a65d886a579",
              "IPY_MODEL_0ed8fe5bce6a4c178d947e8f8bdbeaac"
            ]
          }
        },
        "8e2237902c9d4bc58f8d3b292a5cdf83": {
          "model_module": "@jupyter-widgets/base",
          "model_name": "LayoutModel",
          "model_module_version": "1.2.0",
          "state": {
            "_view_name": "LayoutView",
            "grid_template_rows": null,
            "right": null,
            "justify_content": null,
            "_view_module": "@jupyter-widgets/base",
            "overflow": null,
            "_model_module_version": "1.2.0",
            "_view_count": null,
            "flex_flow": null,
            "width": null,
            "min_width": null,
            "border": null,
            "align_items": null,
            "bottom": null,
            "_model_module": "@jupyter-widgets/base",
            "top": null,
            "grid_column": null,
            "overflow_y": null,
            "overflow_x": null,
            "grid_auto_flow": null,
            "grid_area": null,
            "grid_template_columns": null,
            "flex": null,
            "_model_name": "LayoutModel",
            "justify_items": null,
            "grid_row": null,
            "max_height": null,
            "align_content": null,
            "visibility": null,
            "align_self": null,
            "height": null,
            "min_height": null,
            "padding": null,
            "grid_auto_rows": null,
            "grid_gap": null,
            "max_width": null,
            "order": null,
            "_view_module_version": "1.2.0",
            "grid_template_areas": null,
            "object_position": null,
            "object_fit": null,
            "grid_auto_columns": null,
            "margin": null,
            "display": null,
            "left": null
          }
        },
        "acd806de0b834afb8fdc9a774b97b914": {
          "model_module": "@jupyter-widgets/controls",
          "model_name": "HTMLModel",
          "model_module_version": "1.5.0",
          "state": {
            "_view_name": "HTMLView",
            "style": "IPY_MODEL_6db140d2366e4a159fdf9090745db1f0",
            "_dom_classes": [],
            "description": "",
            "_model_name": "HTMLModel",
            "placeholder": "​",
            "_view_module": "@jupyter-widgets/controls",
            "_model_module_version": "1.5.0",
            "value": "Epochs 0/2. Running Loss:    0.2295: 100%",
            "_view_count": null,
            "_view_module_version": "1.5.0",
            "description_tooltip": null,
            "_model_module": "@jupyter-widgets/controls",
            "layout": "IPY_MODEL_8b744d024d8544d39550cb4104f0afc0"
          }
        },
        "8de6bf83ece941ac8d544a65d886a579": {
          "model_module": "@jupyter-widgets/controls",
          "model_name": "FloatProgressModel",
          "model_module_version": "1.5.0",
          "state": {
            "_view_name": "ProgressView",
            "style": "IPY_MODEL_97f4c107b3454cd2baecae7b4080f861",
            "_dom_classes": [],
            "description": "",
            "_model_name": "FloatProgressModel",
            "bar_style": "success",
            "max": 750,
            "_view_module": "@jupyter-widgets/controls",
            "_model_module_version": "1.5.0",
            "value": 750,
            "_view_count": null,
            "_view_module_version": "1.5.0",
            "orientation": "horizontal",
            "min": 0,
            "description_tooltip": null,
            "_model_module": "@jupyter-widgets/controls",
            "layout": "IPY_MODEL_80f23a6c6470471d9c5bdb2ec6c3c121"
          }
        },
        "0ed8fe5bce6a4c178d947e8f8bdbeaac": {
          "model_module": "@jupyter-widgets/controls",
          "model_name": "HTMLModel",
          "model_module_version": "1.5.0",
          "state": {
            "_view_name": "HTMLView",
            "style": "IPY_MODEL_94d54acaab0a424bb820d2904a96e2e5",
            "_dom_classes": [],
            "description": "",
            "_model_name": "HTMLModel",
            "placeholder": "​",
            "_view_module": "@jupyter-widgets/controls",
            "_model_module_version": "1.5.0",
            "value": " 750/750 [05:46&lt;00:00,  2.58it/s]",
            "_view_count": null,
            "_view_module_version": "1.5.0",
            "description_tooltip": null,
            "_model_module": "@jupyter-widgets/controls",
            "layout": "IPY_MODEL_af3df54d222e4e63a60aa2b607893d12"
          }
        },
        "6db140d2366e4a159fdf9090745db1f0": {
          "model_module": "@jupyter-widgets/controls",
          "model_name": "DescriptionStyleModel",
          "model_module_version": "1.5.0",
          "state": {
            "_view_name": "StyleView",
            "_model_name": "DescriptionStyleModel",
            "description_width": "",
            "_view_module": "@jupyter-widgets/base",
            "_model_module_version": "1.5.0",
            "_view_count": null,
            "_view_module_version": "1.2.0",
            "_model_module": "@jupyter-widgets/controls"
          }
        },
        "8b744d024d8544d39550cb4104f0afc0": {
          "model_module": "@jupyter-widgets/base",
          "model_name": "LayoutModel",
          "model_module_version": "1.2.0",
          "state": {
            "_view_name": "LayoutView",
            "grid_template_rows": null,
            "right": null,
            "justify_content": null,
            "_view_module": "@jupyter-widgets/base",
            "overflow": null,
            "_model_module_version": "1.2.0",
            "_view_count": null,
            "flex_flow": null,
            "width": null,
            "min_width": null,
            "border": null,
            "align_items": null,
            "bottom": null,
            "_model_module": "@jupyter-widgets/base",
            "top": null,
            "grid_column": null,
            "overflow_y": null,
            "overflow_x": null,
            "grid_auto_flow": null,
            "grid_area": null,
            "grid_template_columns": null,
            "flex": null,
            "_model_name": "LayoutModel",
            "justify_items": null,
            "grid_row": null,
            "max_height": null,
            "align_content": null,
            "visibility": null,
            "align_self": null,
            "height": null,
            "min_height": null,
            "padding": null,
            "grid_auto_rows": null,
            "grid_gap": null,
            "max_width": null,
            "order": null,
            "_view_module_version": "1.2.0",
            "grid_template_areas": null,
            "object_position": null,
            "object_fit": null,
            "grid_auto_columns": null,
            "margin": null,
            "display": null,
            "left": null
          }
        },
        "97f4c107b3454cd2baecae7b4080f861": {
          "model_module": "@jupyter-widgets/controls",
          "model_name": "ProgressStyleModel",
          "model_module_version": "1.5.0",
          "state": {
            "_view_name": "StyleView",
            "_model_name": "ProgressStyleModel",
            "description_width": "",
            "_view_module": "@jupyter-widgets/base",
            "_model_module_version": "1.5.0",
            "_view_count": null,
            "_view_module_version": "1.2.0",
            "bar_color": null,
            "_model_module": "@jupyter-widgets/controls"
          }
        },
        "80f23a6c6470471d9c5bdb2ec6c3c121": {
          "model_module": "@jupyter-widgets/base",
          "model_name": "LayoutModel",
          "model_module_version": "1.2.0",
          "state": {
            "_view_name": "LayoutView",
            "grid_template_rows": null,
            "right": null,
            "justify_content": null,
            "_view_module": "@jupyter-widgets/base",
            "overflow": null,
            "_model_module_version": "1.2.0",
            "_view_count": null,
            "flex_flow": null,
            "width": null,
            "min_width": null,
            "border": null,
            "align_items": null,
            "bottom": null,
            "_model_module": "@jupyter-widgets/base",
            "top": null,
            "grid_column": null,
            "overflow_y": null,
            "overflow_x": null,
            "grid_auto_flow": null,
            "grid_area": null,
            "grid_template_columns": null,
            "flex": null,
            "_model_name": "LayoutModel",
            "justify_items": null,
            "grid_row": null,
            "max_height": null,
            "align_content": null,
            "visibility": null,
            "align_self": null,
            "height": null,
            "min_height": null,
            "padding": null,
            "grid_auto_rows": null,
            "grid_gap": null,
            "max_width": null,
            "order": null,
            "_view_module_version": "1.2.0",
            "grid_template_areas": null,
            "object_position": null,
            "object_fit": null,
            "grid_auto_columns": null,
            "margin": null,
            "display": null,
            "left": null
          }
        },
        "94d54acaab0a424bb820d2904a96e2e5": {
          "model_module": "@jupyter-widgets/controls",
          "model_name": "DescriptionStyleModel",
          "model_module_version": "1.5.0",
          "state": {
            "_view_name": "StyleView",
            "_model_name": "DescriptionStyleModel",
            "description_width": "",
            "_view_module": "@jupyter-widgets/base",
            "_model_module_version": "1.5.0",
            "_view_count": null,
            "_view_module_version": "1.2.0",
            "_model_module": "@jupyter-widgets/controls"
          }
        },
        "af3df54d222e4e63a60aa2b607893d12": {
          "model_module": "@jupyter-widgets/base",
          "model_name": "LayoutModel",
          "model_module_version": "1.2.0",
          "state": {
            "_view_name": "LayoutView",
            "grid_template_rows": null,
            "right": null,
            "justify_content": null,
            "_view_module": "@jupyter-widgets/base",
            "overflow": null,
            "_model_module_version": "1.2.0",
            "_view_count": null,
            "flex_flow": null,
            "width": null,
            "min_width": null,
            "border": null,
            "align_items": null,
            "bottom": null,
            "_model_module": "@jupyter-widgets/base",
            "top": null,
            "grid_column": null,
            "overflow_y": null,
            "overflow_x": null,
            "grid_auto_flow": null,
            "grid_area": null,
            "grid_template_columns": null,
            "flex": null,
            "_model_name": "LayoutModel",
            "justify_items": null,
            "grid_row": null,
            "max_height": null,
            "align_content": null,
            "visibility": null,
            "align_self": null,
            "height": null,
            "min_height": null,
            "padding": null,
            "grid_auto_rows": null,
            "grid_gap": null,
            "max_width": null,
            "order": null,
            "_view_module_version": "1.2.0",
            "grid_template_areas": null,
            "object_position": null,
            "object_fit": null,
            "grid_auto_columns": null,
            "margin": null,
            "display": null,
            "left": null
          }
        },
        "048c10729dcf4933a5d181de830075d8": {
          "model_module": "@jupyter-widgets/controls",
          "model_name": "HBoxModel",
          "model_module_version": "1.5.0",
          "state": {
            "_view_name": "HBoxView",
            "_dom_classes": [],
            "_model_name": "HBoxModel",
            "_view_module": "@jupyter-widgets/controls",
            "_model_module_version": "1.5.0",
            "_view_count": null,
            "_view_module_version": "1.5.0",
            "box_style": "",
            "layout": "IPY_MODEL_8033474a543a49e1ae09a8e921e1de07",
            "_model_module": "@jupyter-widgets/controls",
            "children": [
              "IPY_MODEL_db95c3e7c84a4944a9e6504075c7528f",
              "IPY_MODEL_26518be6ccb54c1891851ced5be6216e",
              "IPY_MODEL_bcf6ed4a8aac43d0822db9b41516e840"
            ]
          }
        },
        "8033474a543a49e1ae09a8e921e1de07": {
          "model_module": "@jupyter-widgets/base",
          "model_name": "LayoutModel",
          "model_module_version": "1.2.0",
          "state": {
            "_view_name": "LayoutView",
            "grid_template_rows": null,
            "right": null,
            "justify_content": null,
            "_view_module": "@jupyter-widgets/base",
            "overflow": null,
            "_model_module_version": "1.2.0",
            "_view_count": null,
            "flex_flow": null,
            "width": null,
            "min_width": null,
            "border": null,
            "align_items": null,
            "bottom": null,
            "_model_module": "@jupyter-widgets/base",
            "top": null,
            "grid_column": null,
            "overflow_y": null,
            "overflow_x": null,
            "grid_auto_flow": null,
            "grid_area": null,
            "grid_template_columns": null,
            "flex": null,
            "_model_name": "LayoutModel",
            "justify_items": null,
            "grid_row": null,
            "max_height": null,
            "align_content": null,
            "visibility": null,
            "align_self": null,
            "height": null,
            "min_height": null,
            "padding": null,
            "grid_auto_rows": null,
            "grid_gap": null,
            "max_width": null,
            "order": null,
            "_view_module_version": "1.2.0",
            "grid_template_areas": null,
            "object_position": null,
            "object_fit": null,
            "grid_auto_columns": null,
            "margin": null,
            "display": null,
            "left": null
          }
        },
        "db95c3e7c84a4944a9e6504075c7528f": {
          "model_module": "@jupyter-widgets/controls",
          "model_name": "HTMLModel",
          "model_module_version": "1.5.0",
          "state": {
            "_view_name": "HTMLView",
            "style": "IPY_MODEL_cff10783bbcc4dbeac20ca0453ba4f71",
            "_dom_classes": [],
            "description": "",
            "_model_name": "HTMLModel",
            "placeholder": "​",
            "_view_module": "@jupyter-widgets/controls",
            "_model_module_version": "1.5.0",
            "value": "Epochs 1/2. Running Loss:    0.1434: 100%",
            "_view_count": null,
            "_view_module_version": "1.5.0",
            "description_tooltip": null,
            "_model_module": "@jupyter-widgets/controls",
            "layout": "IPY_MODEL_8bf9685377f94df7ab68f682de8ea1c8"
          }
        },
        "26518be6ccb54c1891851ced5be6216e": {
          "model_module": "@jupyter-widgets/controls",
          "model_name": "FloatProgressModel",
          "model_module_version": "1.5.0",
          "state": {
            "_view_name": "ProgressView",
            "style": "IPY_MODEL_66ae73d279dc43489f7ea5ef50f5ba96",
            "_dom_classes": [],
            "description": "",
            "_model_name": "FloatProgressModel",
            "bar_style": "success",
            "max": 750,
            "_view_module": "@jupyter-widgets/controls",
            "_model_module_version": "1.5.0",
            "value": 750,
            "_view_count": null,
            "_view_module_version": "1.5.0",
            "orientation": "horizontal",
            "min": 0,
            "description_tooltip": null,
            "_model_module": "@jupyter-widgets/controls",
            "layout": "IPY_MODEL_8e0839d5aef54c39811035d5692cb418"
          }
        },
        "bcf6ed4a8aac43d0822db9b41516e840": {
          "model_module": "@jupyter-widgets/controls",
          "model_name": "HTMLModel",
          "model_module_version": "1.5.0",
          "state": {
            "_view_name": "HTMLView",
            "style": "IPY_MODEL_1172aa63ffb442709af3d3ea50790af0",
            "_dom_classes": [],
            "description": "",
            "_model_name": "HTMLModel",
            "placeholder": "​",
            "_view_module": "@jupyter-widgets/controls",
            "_model_module_version": "1.5.0",
            "value": " 750/750 [05:50&lt;00:00,  2.57it/s]",
            "_view_count": null,
            "_view_module_version": "1.5.0",
            "description_tooltip": null,
            "_model_module": "@jupyter-widgets/controls",
            "layout": "IPY_MODEL_a83a31036bf8409990d6c7f061c01a7b"
          }
        },
        "cff10783bbcc4dbeac20ca0453ba4f71": {
          "model_module": "@jupyter-widgets/controls",
          "model_name": "DescriptionStyleModel",
          "model_module_version": "1.5.0",
          "state": {
            "_view_name": "StyleView",
            "_model_name": "DescriptionStyleModel",
            "description_width": "",
            "_view_module": "@jupyter-widgets/base",
            "_model_module_version": "1.5.0",
            "_view_count": null,
            "_view_module_version": "1.2.0",
            "_model_module": "@jupyter-widgets/controls"
          }
        },
        "8bf9685377f94df7ab68f682de8ea1c8": {
          "model_module": "@jupyter-widgets/base",
          "model_name": "LayoutModel",
          "model_module_version": "1.2.0",
          "state": {
            "_view_name": "LayoutView",
            "grid_template_rows": null,
            "right": null,
            "justify_content": null,
            "_view_module": "@jupyter-widgets/base",
            "overflow": null,
            "_model_module_version": "1.2.0",
            "_view_count": null,
            "flex_flow": null,
            "width": null,
            "min_width": null,
            "border": null,
            "align_items": null,
            "bottom": null,
            "_model_module": "@jupyter-widgets/base",
            "top": null,
            "grid_column": null,
            "overflow_y": null,
            "overflow_x": null,
            "grid_auto_flow": null,
            "grid_area": null,
            "grid_template_columns": null,
            "flex": null,
            "_model_name": "LayoutModel",
            "justify_items": null,
            "grid_row": null,
            "max_height": null,
            "align_content": null,
            "visibility": null,
            "align_self": null,
            "height": null,
            "min_height": null,
            "padding": null,
            "grid_auto_rows": null,
            "grid_gap": null,
            "max_width": null,
            "order": null,
            "_view_module_version": "1.2.0",
            "grid_template_areas": null,
            "object_position": null,
            "object_fit": null,
            "grid_auto_columns": null,
            "margin": null,
            "display": null,
            "left": null
          }
        },
        "66ae73d279dc43489f7ea5ef50f5ba96": {
          "model_module": "@jupyter-widgets/controls",
          "model_name": "ProgressStyleModel",
          "model_module_version": "1.5.0",
          "state": {
            "_view_name": "StyleView",
            "_model_name": "ProgressStyleModel",
            "description_width": "",
            "_view_module": "@jupyter-widgets/base",
            "_model_module_version": "1.5.0",
            "_view_count": null,
            "_view_module_version": "1.2.0",
            "bar_color": null,
            "_model_module": "@jupyter-widgets/controls"
          }
        },
        "8e0839d5aef54c39811035d5692cb418": {
          "model_module": "@jupyter-widgets/base",
          "model_name": "LayoutModel",
          "model_module_version": "1.2.0",
          "state": {
            "_view_name": "LayoutView",
            "grid_template_rows": null,
            "right": null,
            "justify_content": null,
            "_view_module": "@jupyter-widgets/base",
            "overflow": null,
            "_model_module_version": "1.2.0",
            "_view_count": null,
            "flex_flow": null,
            "width": null,
            "min_width": null,
            "border": null,
            "align_items": null,
            "bottom": null,
            "_model_module": "@jupyter-widgets/base",
            "top": null,
            "grid_column": null,
            "overflow_y": null,
            "overflow_x": null,
            "grid_auto_flow": null,
            "grid_area": null,
            "grid_template_columns": null,
            "flex": null,
            "_model_name": "LayoutModel",
            "justify_items": null,
            "grid_row": null,
            "max_height": null,
            "align_content": null,
            "visibility": null,
            "align_self": null,
            "height": null,
            "min_height": null,
            "padding": null,
            "grid_auto_rows": null,
            "grid_gap": null,
            "max_width": null,
            "order": null,
            "_view_module_version": "1.2.0",
            "grid_template_areas": null,
            "object_position": null,
            "object_fit": null,
            "grid_auto_columns": null,
            "margin": null,
            "display": null,
            "left": null
          }
        },
        "1172aa63ffb442709af3d3ea50790af0": {
          "model_module": "@jupyter-widgets/controls",
          "model_name": "DescriptionStyleModel",
          "model_module_version": "1.5.0",
          "state": {
            "_view_name": "StyleView",
            "_model_name": "DescriptionStyleModel",
            "description_width": "",
            "_view_module": "@jupyter-widgets/base",
            "_model_module_version": "1.5.0",
            "_view_count": null,
            "_view_module_version": "1.2.0",
            "_model_module": "@jupyter-widgets/controls"
          }
        },
        "a83a31036bf8409990d6c7f061c01a7b": {
          "model_module": "@jupyter-widgets/base",
          "model_name": "LayoutModel",
          "model_module_version": "1.2.0",
          "state": {
            "_view_name": "LayoutView",
            "grid_template_rows": null,
            "right": null,
            "justify_content": null,
            "_view_module": "@jupyter-widgets/base",
            "overflow": null,
            "_model_module_version": "1.2.0",
            "_view_count": null,
            "flex_flow": null,
            "width": null,
            "min_width": null,
            "border": null,
            "align_items": null,
            "bottom": null,
            "_model_module": "@jupyter-widgets/base",
            "top": null,
            "grid_column": null,
            "overflow_y": null,
            "overflow_x": null,
            "grid_auto_flow": null,
            "grid_area": null,
            "grid_template_columns": null,
            "flex": null,
            "_model_name": "LayoutModel",
            "justify_items": null,
            "grid_row": null,
            "max_height": null,
            "align_content": null,
            "visibility": null,
            "align_self": null,
            "height": null,
            "min_height": null,
            "padding": null,
            "grid_auto_rows": null,
            "grid_gap": null,
            "max_width": null,
            "order": null,
            "_view_module_version": "1.2.0",
            "grid_template_areas": null,
            "object_position": null,
            "object_fit": null,
            "grid_auto_columns": null,
            "margin": null,
            "display": null,
            "left": null
          }
        },
        "e0712b1d8a634061a2ad6dee139eaeda": {
          "model_module": "@jupyter-widgets/controls",
          "model_name": "HBoxModel",
          "model_module_version": "1.5.0",
          "state": {
            "_view_name": "HBoxView",
            "_dom_classes": [],
            "_model_name": "HBoxModel",
            "_view_module": "@jupyter-widgets/controls",
            "_model_module_version": "1.5.0",
            "_view_count": null,
            "_view_module_version": "1.5.0",
            "box_style": "",
            "layout": "IPY_MODEL_d62acbc4a1644cab8e99fbd5b38d7380",
            "_model_module": "@jupyter-widgets/controls",
            "children": [
              "IPY_MODEL_469fd3a41a5e46529d360127e52471d7",
              "IPY_MODEL_c40a2d34c801472fbb771033e6c2ed65",
              "IPY_MODEL_0c2bef71b5114bb1af6b3784df33f473"
            ]
          }
        },
        "d62acbc4a1644cab8e99fbd5b38d7380": {
          "model_module": "@jupyter-widgets/base",
          "model_name": "LayoutModel",
          "model_module_version": "1.2.0",
          "state": {
            "_view_name": "LayoutView",
            "grid_template_rows": null,
            "right": null,
            "justify_content": null,
            "_view_module": "@jupyter-widgets/base",
            "overflow": null,
            "_model_module_version": "1.2.0",
            "_view_count": null,
            "flex_flow": null,
            "width": null,
            "min_width": null,
            "border": null,
            "align_items": null,
            "bottom": null,
            "_model_module": "@jupyter-widgets/base",
            "top": null,
            "grid_column": null,
            "overflow_y": null,
            "overflow_x": null,
            "grid_auto_flow": null,
            "grid_area": null,
            "grid_template_columns": null,
            "flex": null,
            "_model_name": "LayoutModel",
            "justify_items": null,
            "grid_row": null,
            "max_height": null,
            "align_content": null,
            "visibility": null,
            "align_self": null,
            "height": null,
            "min_height": null,
            "padding": null,
            "grid_auto_rows": null,
            "grid_gap": null,
            "max_width": null,
            "order": null,
            "_view_module_version": "1.2.0",
            "grid_template_areas": null,
            "object_position": null,
            "object_fit": null,
            "grid_auto_columns": null,
            "margin": null,
            "display": null,
            "left": null
          }
        },
        "469fd3a41a5e46529d360127e52471d7": {
          "model_module": "@jupyter-widgets/controls",
          "model_name": "HTMLModel",
          "model_module_version": "1.5.0",
          "state": {
            "_view_name": "HTMLView",
            "style": "IPY_MODEL_19b73ec4e90c43f99a985a1c659355e8",
            "_dom_classes": [],
            "description": "",
            "_model_name": "HTMLModel",
            "placeholder": "​",
            "_view_module": "@jupyter-widgets/controls",
            "_model_module_version": "1.5.0",
            "value": "100%",
            "_view_count": null,
            "_view_module_version": "1.5.0",
            "description_tooltip": null,
            "_model_module": "@jupyter-widgets/controls",
            "layout": "IPY_MODEL_63d341da598b4e6db910fb7978349226"
          }
        },
        "c40a2d34c801472fbb771033e6c2ed65": {
          "model_module": "@jupyter-widgets/controls",
          "model_name": "FloatProgressModel",
          "model_module_version": "1.5.0",
          "state": {
            "_view_name": "ProgressView",
            "style": "IPY_MODEL_9f71734a2b904c2c8349e6bb92b73474",
            "_dom_classes": [],
            "description": "",
            "_model_name": "FloatProgressModel",
            "bar_style": "success",
            "max": 2,
            "_view_module": "@jupyter-widgets/controls",
            "_model_module_version": "1.5.0",
            "value": 2,
            "_view_count": null,
            "_view_module_version": "1.5.0",
            "orientation": "horizontal",
            "min": 0,
            "description_tooltip": null,
            "_model_module": "@jupyter-widgets/controls",
            "layout": "IPY_MODEL_e818a7f978eb49f0a3644a46e743854f"
          }
        },
        "0c2bef71b5114bb1af6b3784df33f473": {
          "model_module": "@jupyter-widgets/controls",
          "model_name": "HTMLModel",
          "model_module_version": "1.5.0",
          "state": {
            "_view_name": "HTMLView",
            "style": "IPY_MODEL_ddcb492a10fa482caa09bd9e0f2f7f3a",
            "_dom_classes": [],
            "description": "",
            "_model_name": "HTMLModel",
            "placeholder": "​",
            "_view_module": "@jupyter-widgets/controls",
            "_model_module_version": "1.5.0",
            "value": " 2/2 [00:14&lt;00:00, 14.40s/it]",
            "_view_count": null,
            "_view_module_version": "1.5.0",
            "description_tooltip": null,
            "_model_module": "@jupyter-widgets/controls",
            "layout": "IPY_MODEL_5f95b8b71e8c4359a01b1fb56c63ed6a"
          }
        },
        "19b73ec4e90c43f99a985a1c659355e8": {
          "model_module": "@jupyter-widgets/controls",
          "model_name": "DescriptionStyleModel",
          "model_module_version": "1.5.0",
          "state": {
            "_view_name": "StyleView",
            "_model_name": "DescriptionStyleModel",
            "description_width": "",
            "_view_module": "@jupyter-widgets/base",
            "_model_module_version": "1.5.0",
            "_view_count": null,
            "_view_module_version": "1.2.0",
            "_model_module": "@jupyter-widgets/controls"
          }
        },
        "63d341da598b4e6db910fb7978349226": {
          "model_module": "@jupyter-widgets/base",
          "model_name": "LayoutModel",
          "model_module_version": "1.2.0",
          "state": {
            "_view_name": "LayoutView",
            "grid_template_rows": null,
            "right": null,
            "justify_content": null,
            "_view_module": "@jupyter-widgets/base",
            "overflow": null,
            "_model_module_version": "1.2.0",
            "_view_count": null,
            "flex_flow": null,
            "width": null,
            "min_width": null,
            "border": null,
            "align_items": null,
            "bottom": null,
            "_model_module": "@jupyter-widgets/base",
            "top": null,
            "grid_column": null,
            "overflow_y": null,
            "overflow_x": null,
            "grid_auto_flow": null,
            "grid_area": null,
            "grid_template_columns": null,
            "flex": null,
            "_model_name": "LayoutModel",
            "justify_items": null,
            "grid_row": null,
            "max_height": null,
            "align_content": null,
            "visibility": null,
            "align_self": null,
            "height": null,
            "min_height": null,
            "padding": null,
            "grid_auto_rows": null,
            "grid_gap": null,
            "max_width": null,
            "order": null,
            "_view_module_version": "1.2.0",
            "grid_template_areas": null,
            "object_position": null,
            "object_fit": null,
            "grid_auto_columns": null,
            "margin": null,
            "display": null,
            "left": null
          }
        },
        "9f71734a2b904c2c8349e6bb92b73474": {
          "model_module": "@jupyter-widgets/controls",
          "model_name": "ProgressStyleModel",
          "model_module_version": "1.5.0",
          "state": {
            "_view_name": "StyleView",
            "_model_name": "ProgressStyleModel",
            "description_width": "",
            "_view_module": "@jupyter-widgets/base",
            "_model_module_version": "1.5.0",
            "_view_count": null,
            "_view_module_version": "1.2.0",
            "bar_color": null,
            "_model_module": "@jupyter-widgets/controls"
          }
        },
        "e818a7f978eb49f0a3644a46e743854f": {
          "model_module": "@jupyter-widgets/base",
          "model_name": "LayoutModel",
          "model_module_version": "1.2.0",
          "state": {
            "_view_name": "LayoutView",
            "grid_template_rows": null,
            "right": null,
            "justify_content": null,
            "_view_module": "@jupyter-widgets/base",
            "overflow": null,
            "_model_module_version": "1.2.0",
            "_view_count": null,
            "flex_flow": null,
            "width": null,
            "min_width": null,
            "border": null,
            "align_items": null,
            "bottom": null,
            "_model_module": "@jupyter-widgets/base",
            "top": null,
            "grid_column": null,
            "overflow_y": null,
            "overflow_x": null,
            "grid_auto_flow": null,
            "grid_area": null,
            "grid_template_columns": null,
            "flex": null,
            "_model_name": "LayoutModel",
            "justify_items": null,
            "grid_row": null,
            "max_height": null,
            "align_content": null,
            "visibility": null,
            "align_self": null,
            "height": null,
            "min_height": null,
            "padding": null,
            "grid_auto_rows": null,
            "grid_gap": null,
            "max_width": null,
            "order": null,
            "_view_module_version": "1.2.0",
            "grid_template_areas": null,
            "object_position": null,
            "object_fit": null,
            "grid_auto_columns": null,
            "margin": null,
            "display": null,
            "left": null
          }
        },
        "ddcb492a10fa482caa09bd9e0f2f7f3a": {
          "model_module": "@jupyter-widgets/controls",
          "model_name": "DescriptionStyleModel",
          "model_module_version": "1.5.0",
          "state": {
            "_view_name": "StyleView",
            "_model_name": "DescriptionStyleModel",
            "description_width": "",
            "_view_module": "@jupyter-widgets/base",
            "_model_module_version": "1.5.0",
            "_view_count": null,
            "_view_module_version": "1.2.0",
            "_model_module": "@jupyter-widgets/controls"
          }
        },
        "5f95b8b71e8c4359a01b1fb56c63ed6a": {
          "model_module": "@jupyter-widgets/base",
          "model_name": "LayoutModel",
          "model_module_version": "1.2.0",
          "state": {
            "_view_name": "LayoutView",
            "grid_template_rows": null,
            "right": null,
            "justify_content": null,
            "_view_module": "@jupyter-widgets/base",
            "overflow": null,
            "_model_module_version": "1.2.0",
            "_view_count": null,
            "flex_flow": null,
            "width": null,
            "min_width": null,
            "border": null,
            "align_items": null,
            "bottom": null,
            "_model_module": "@jupyter-widgets/base",
            "top": null,
            "grid_column": null,
            "overflow_y": null,
            "overflow_x": null,
            "grid_auto_flow": null,
            "grid_area": null,
            "grid_template_columns": null,
            "flex": null,
            "_model_name": "LayoutModel",
            "justify_items": null,
            "grid_row": null,
            "max_height": null,
            "align_content": null,
            "visibility": null,
            "align_self": null,
            "height": null,
            "min_height": null,
            "padding": null,
            "grid_auto_rows": null,
            "grid_gap": null,
            "max_width": null,
            "order": null,
            "_view_module_version": "1.2.0",
            "grid_template_areas": null,
            "object_position": null,
            "object_fit": null,
            "grid_auto_columns": null,
            "margin": null,
            "display": null,
            "left": null
          }
        },
        "abc6b3561f3146aaa017c23d93b5f6ec": {
          "model_module": "@jupyter-widgets/controls",
          "model_name": "HBoxModel",
          "model_module_version": "1.5.0",
          "state": {
            "_view_name": "HBoxView",
            "_dom_classes": [],
            "_model_name": "HBoxModel",
            "_view_module": "@jupyter-widgets/controls",
            "_model_module_version": "1.5.0",
            "_view_count": null,
            "_view_module_version": "1.5.0",
            "box_style": "",
            "layout": "IPY_MODEL_7e7fddc4d7e445eb9e9d8d328e0b2779",
            "_model_module": "@jupyter-widgets/controls",
            "children": [
              "IPY_MODEL_acd8633564b14805851389fd4fc2a3c9",
              "IPY_MODEL_82f735e2e296407686d4880d992383bd",
              "IPY_MODEL_9efa83a140d8485da6f7345962055cc8"
            ]
          }
        },
        "7e7fddc4d7e445eb9e9d8d328e0b2779": {
          "model_module": "@jupyter-widgets/base",
          "model_name": "LayoutModel",
          "model_module_version": "1.2.0",
          "state": {
            "_view_name": "LayoutView",
            "grid_template_rows": null,
            "right": null,
            "justify_content": null,
            "_view_module": "@jupyter-widgets/base",
            "overflow": null,
            "_model_module_version": "1.2.0",
            "_view_count": null,
            "flex_flow": null,
            "width": null,
            "min_width": null,
            "border": null,
            "align_items": null,
            "bottom": null,
            "_model_module": "@jupyter-widgets/base",
            "top": null,
            "grid_column": null,
            "overflow_y": null,
            "overflow_x": null,
            "grid_auto_flow": null,
            "grid_area": null,
            "grid_template_columns": null,
            "flex": null,
            "_model_name": "LayoutModel",
            "justify_items": null,
            "grid_row": null,
            "max_height": null,
            "align_content": null,
            "visibility": null,
            "align_self": null,
            "height": null,
            "min_height": null,
            "padding": null,
            "grid_auto_rows": null,
            "grid_gap": null,
            "max_width": null,
            "order": null,
            "_view_module_version": "1.2.0",
            "grid_template_areas": null,
            "object_position": null,
            "object_fit": null,
            "grid_auto_columns": null,
            "margin": null,
            "display": null,
            "left": null
          }
        },
        "acd8633564b14805851389fd4fc2a3c9": {
          "model_module": "@jupyter-widgets/controls",
          "model_name": "HTMLModel",
          "model_module_version": "1.5.0",
          "state": {
            "_view_name": "HTMLView",
            "style": "IPY_MODEL_baf88cc9d2734561b8cd42bc31f3a01f",
            "_dom_classes": [],
            "description": "",
            "_model_name": "HTMLModel",
            "placeholder": "​",
            "_view_module": "@jupyter-widgets/controls",
            "_model_module_version": "1.5.0",
            "value": "Running Evaluation: 100%",
            "_view_count": null,
            "_view_module_version": "1.5.0",
            "description_tooltip": null,
            "_model_module": "@jupyter-widgets/controls",
            "layout": "IPY_MODEL_df976a847fd947488d8bf5bd733537c0"
          }
        },
        "82f735e2e296407686d4880d992383bd": {
          "model_module": "@jupyter-widgets/controls",
          "model_name": "FloatProgressModel",
          "model_module_version": "1.5.0",
          "state": {
            "_view_name": "ProgressView",
            "style": "IPY_MODEL_48b989fa8cff42abab6ddf6bf7f2cc9c",
            "_dom_classes": [],
            "description": "",
            "_model_name": "FloatProgressModel",
            "bar_style": "success",
            "max": 730,
            "_view_module": "@jupyter-widgets/controls",
            "_model_module_version": "1.5.0",
            "value": 730,
            "_view_count": null,
            "_view_module_version": "1.5.0",
            "orientation": "horizontal",
            "min": 0,
            "description_tooltip": null,
            "_model_module": "@jupyter-widgets/controls",
            "layout": "IPY_MODEL_084c7ac44f8d467ca8b9a090a93ed5b9"
          }
        },
        "9efa83a140d8485da6f7345962055cc8": {
          "model_module": "@jupyter-widgets/controls",
          "model_name": "HTMLModel",
          "model_module_version": "1.5.0",
          "state": {
            "_view_name": "HTMLView",
            "style": "IPY_MODEL_c80eae69c77944e38bcdc034c8f23cc6",
            "_dom_classes": [],
            "description": "",
            "_model_name": "HTMLModel",
            "placeholder": "​",
            "_view_module": "@jupyter-widgets/controls",
            "_model_module_version": "1.5.0",
            "value": " 730/730 [02:37&lt;00:00,  4.11it/s]",
            "_view_count": null,
            "_view_module_version": "1.5.0",
            "description_tooltip": null,
            "_model_module": "@jupyter-widgets/controls",
            "layout": "IPY_MODEL_12abf7dd94c94328bd02645e8bfacdcf"
          }
        },
        "baf88cc9d2734561b8cd42bc31f3a01f": {
          "model_module": "@jupyter-widgets/controls",
          "model_name": "DescriptionStyleModel",
          "model_module_version": "1.5.0",
          "state": {
            "_view_name": "StyleView",
            "_model_name": "DescriptionStyleModel",
            "description_width": "",
            "_view_module": "@jupyter-widgets/base",
            "_model_module_version": "1.5.0",
            "_view_count": null,
            "_view_module_version": "1.2.0",
            "_model_module": "@jupyter-widgets/controls"
          }
        },
        "df976a847fd947488d8bf5bd733537c0": {
          "model_module": "@jupyter-widgets/base",
          "model_name": "LayoutModel",
          "model_module_version": "1.2.0",
          "state": {
            "_view_name": "LayoutView",
            "grid_template_rows": null,
            "right": null,
            "justify_content": null,
            "_view_module": "@jupyter-widgets/base",
            "overflow": null,
            "_model_module_version": "1.2.0",
            "_view_count": null,
            "flex_flow": null,
            "width": null,
            "min_width": null,
            "border": null,
            "align_items": null,
            "bottom": null,
            "_model_module": "@jupyter-widgets/base",
            "top": null,
            "grid_column": null,
            "overflow_y": null,
            "overflow_x": null,
            "grid_auto_flow": null,
            "grid_area": null,
            "grid_template_columns": null,
            "flex": null,
            "_model_name": "LayoutModel",
            "justify_items": null,
            "grid_row": null,
            "max_height": null,
            "align_content": null,
            "visibility": null,
            "align_self": null,
            "height": null,
            "min_height": null,
            "padding": null,
            "grid_auto_rows": null,
            "grid_gap": null,
            "max_width": null,
            "order": null,
            "_view_module_version": "1.2.0",
            "grid_template_areas": null,
            "object_position": null,
            "object_fit": null,
            "grid_auto_columns": null,
            "margin": null,
            "display": null,
            "left": null
          }
        },
        "48b989fa8cff42abab6ddf6bf7f2cc9c": {
          "model_module": "@jupyter-widgets/controls",
          "model_name": "ProgressStyleModel",
          "model_module_version": "1.5.0",
          "state": {
            "_view_name": "StyleView",
            "_model_name": "ProgressStyleModel",
            "description_width": "",
            "_view_module": "@jupyter-widgets/base",
            "_model_module_version": "1.5.0",
            "_view_count": null,
            "_view_module_version": "1.2.0",
            "bar_color": null,
            "_model_module": "@jupyter-widgets/controls"
          }
        },
        "084c7ac44f8d467ca8b9a090a93ed5b9": {
          "model_module": "@jupyter-widgets/base",
          "model_name": "LayoutModel",
          "model_module_version": "1.2.0",
          "state": {
            "_view_name": "LayoutView",
            "grid_template_rows": null,
            "right": null,
            "justify_content": null,
            "_view_module": "@jupyter-widgets/base",
            "overflow": null,
            "_model_module_version": "1.2.0",
            "_view_count": null,
            "flex_flow": null,
            "width": null,
            "min_width": null,
            "border": null,
            "align_items": null,
            "bottom": null,
            "_model_module": "@jupyter-widgets/base",
            "top": null,
            "grid_column": null,
            "overflow_y": null,
            "overflow_x": null,
            "grid_auto_flow": null,
            "grid_area": null,
            "grid_template_columns": null,
            "flex": null,
            "_model_name": "LayoutModel",
            "justify_items": null,
            "grid_row": null,
            "max_height": null,
            "align_content": null,
            "visibility": null,
            "align_self": null,
            "height": null,
            "min_height": null,
            "padding": null,
            "grid_auto_rows": null,
            "grid_gap": null,
            "max_width": null,
            "order": null,
            "_view_module_version": "1.2.0",
            "grid_template_areas": null,
            "object_position": null,
            "object_fit": null,
            "grid_auto_columns": null,
            "margin": null,
            "display": null,
            "left": null
          }
        },
        "c80eae69c77944e38bcdc034c8f23cc6": {
          "model_module": "@jupyter-widgets/controls",
          "model_name": "DescriptionStyleModel",
          "model_module_version": "1.5.0",
          "state": {
            "_view_name": "StyleView",
            "_model_name": "DescriptionStyleModel",
            "description_width": "",
            "_view_module": "@jupyter-widgets/base",
            "_model_module_version": "1.5.0",
            "_view_count": null,
            "_view_module_version": "1.2.0",
            "_model_module": "@jupyter-widgets/controls"
          }
        },
        "12abf7dd94c94328bd02645e8bfacdcf": {
          "model_module": "@jupyter-widgets/base",
          "model_name": "LayoutModel",
          "model_module_version": "1.2.0",
          "state": {
            "_view_name": "LayoutView",
            "grid_template_rows": null,
            "right": null,
            "justify_content": null,
            "_view_module": "@jupyter-widgets/base",
            "overflow": null,
            "_model_module_version": "1.2.0",
            "_view_count": null,
            "flex_flow": null,
            "width": null,
            "min_width": null,
            "border": null,
            "align_items": null,
            "bottom": null,
            "_model_module": "@jupyter-widgets/base",
            "top": null,
            "grid_column": null,
            "overflow_y": null,
            "overflow_x": null,
            "grid_auto_flow": null,
            "grid_area": null,
            "grid_template_columns": null,
            "flex": null,
            "_model_name": "LayoutModel",
            "justify_items": null,
            "grid_row": null,
            "max_height": null,
            "align_content": null,
            "visibility": null,
            "align_self": null,
            "height": null,
            "min_height": null,
            "padding": null,
            "grid_auto_rows": null,
            "grid_gap": null,
            "max_width": null,
            "order": null,
            "_view_module_version": "1.2.0",
            "grid_template_areas": null,
            "object_position": null,
            "object_fit": null,
            "grid_auto_columns": null,
            "margin": null,
            "display": null,
            "left": null
          }
        },
        "43330053013d4a3990b533620848a876": {
          "model_module": "@jupyter-widgets/controls",
          "model_name": "HBoxModel",
          "model_module_version": "1.5.0",
          "state": {
            "_view_name": "HBoxView",
            "_dom_classes": [],
            "_model_name": "HBoxModel",
            "_view_module": "@jupyter-widgets/controls",
            "_model_module_version": "1.5.0",
            "_view_count": null,
            "_view_module_version": "1.5.0",
            "box_style": "",
            "layout": "IPY_MODEL_363ce3841fe8493f849ee468f02de97f",
            "_model_module": "@jupyter-widgets/controls",
            "children": [
              "IPY_MODEL_4799388e0912402185075626abe2fb7d",
              "IPY_MODEL_4032f77ffb8a48688e5c2761e53a5690",
              "IPY_MODEL_ac38e778e3584ccda97b00f4ac20fd7f"
            ]
          }
        },
        "363ce3841fe8493f849ee468f02de97f": {
          "model_module": "@jupyter-widgets/base",
          "model_name": "LayoutModel",
          "model_module_version": "1.2.0",
          "state": {
            "_view_name": "LayoutView",
            "grid_template_rows": null,
            "right": null,
            "justify_content": null,
            "_view_module": "@jupyter-widgets/base",
            "overflow": null,
            "_model_module_version": "1.2.0",
            "_view_count": null,
            "flex_flow": null,
            "width": null,
            "min_width": null,
            "border": null,
            "align_items": null,
            "bottom": null,
            "_model_module": "@jupyter-widgets/base",
            "top": null,
            "grid_column": null,
            "overflow_y": null,
            "overflow_x": null,
            "grid_auto_flow": null,
            "grid_area": null,
            "grid_template_columns": null,
            "flex": null,
            "_model_name": "LayoutModel",
            "justify_items": null,
            "grid_row": null,
            "max_height": null,
            "align_content": null,
            "visibility": null,
            "align_self": null,
            "height": null,
            "min_height": null,
            "padding": null,
            "grid_auto_rows": null,
            "grid_gap": null,
            "max_width": null,
            "order": null,
            "_view_module_version": "1.2.0",
            "grid_template_areas": null,
            "object_position": null,
            "object_fit": null,
            "grid_auto_columns": null,
            "margin": null,
            "display": null,
            "left": null
          }
        },
        "4799388e0912402185075626abe2fb7d": {
          "model_module": "@jupyter-widgets/controls",
          "model_name": "HTMLModel",
          "model_module_version": "1.5.0",
          "state": {
            "_view_name": "HTMLView",
            "style": "IPY_MODEL_a5b1dc22502d485bb6c8381ffda82cbd",
            "_dom_classes": [],
            "description": "",
            "_model_name": "HTMLModel",
            "placeholder": "​",
            "_view_module": "@jupyter-widgets/controls",
            "_model_module_version": "1.5.0",
            "value": "100%",
            "_view_count": null,
            "_view_module_version": "1.5.0",
            "description_tooltip": null,
            "_model_module": "@jupyter-widgets/controls",
            "layout": "IPY_MODEL_b7688b2ad8744cbd99d23d35feec9742"
          }
        },
        "4032f77ffb8a48688e5c2761e53a5690": {
          "model_module": "@jupyter-widgets/controls",
          "model_name": "FloatProgressModel",
          "model_module_version": "1.5.0",
          "state": {
            "_view_name": "ProgressView",
            "style": "IPY_MODEL_96e8fe86137f406c996a4fd280aef304",
            "_dom_classes": [],
            "description": "",
            "_model_name": "FloatProgressModel",
            "bar_style": "success",
            "max": 3,
            "_view_module": "@jupyter-widgets/controls",
            "_model_module_version": "1.5.0",
            "value": 3,
            "_view_count": null,
            "_view_module_version": "1.5.0",
            "orientation": "horizontal",
            "min": 0,
            "description_tooltip": null,
            "_model_module": "@jupyter-widgets/controls",
            "layout": "IPY_MODEL_8f74d25001ba4c549330581b32f3c4b2"
          }
        },
        "ac38e778e3584ccda97b00f4ac20fd7f": {
          "model_module": "@jupyter-widgets/controls",
          "model_name": "HTMLModel",
          "model_module_version": "1.5.0",
          "state": {
            "_view_name": "HTMLView",
            "style": "IPY_MODEL_532ae7f261d548efa0f2c8a9dd9b4613",
            "_dom_classes": [],
            "description": "",
            "_model_name": "HTMLModel",
            "placeholder": "​",
            "_view_module": "@jupyter-widgets/controls",
            "_model_module_version": "1.5.0",
            "value": " 3/3 [00:23&lt;00:00, 23.49s/it]",
            "_view_count": null,
            "_view_module_version": "1.5.0",
            "description_tooltip": null,
            "_model_module": "@jupyter-widgets/controls",
            "layout": "IPY_MODEL_9bc0cc8330d54ca8ad523e6705cc4d06"
          }
        },
        "a5b1dc22502d485bb6c8381ffda82cbd": {
          "model_module": "@jupyter-widgets/controls",
          "model_name": "DescriptionStyleModel",
          "model_module_version": "1.5.0",
          "state": {
            "_view_name": "StyleView",
            "_model_name": "DescriptionStyleModel",
            "description_width": "",
            "_view_module": "@jupyter-widgets/base",
            "_model_module_version": "1.5.0",
            "_view_count": null,
            "_view_module_version": "1.2.0",
            "_model_module": "@jupyter-widgets/controls"
          }
        },
        "b7688b2ad8744cbd99d23d35feec9742": {
          "model_module": "@jupyter-widgets/base",
          "model_name": "LayoutModel",
          "model_module_version": "1.2.0",
          "state": {
            "_view_name": "LayoutView",
            "grid_template_rows": null,
            "right": null,
            "justify_content": null,
            "_view_module": "@jupyter-widgets/base",
            "overflow": null,
            "_model_module_version": "1.2.0",
            "_view_count": null,
            "flex_flow": null,
            "width": null,
            "min_width": null,
            "border": null,
            "align_items": null,
            "bottom": null,
            "_model_module": "@jupyter-widgets/base",
            "top": null,
            "grid_column": null,
            "overflow_y": null,
            "overflow_x": null,
            "grid_auto_flow": null,
            "grid_area": null,
            "grid_template_columns": null,
            "flex": null,
            "_model_name": "LayoutModel",
            "justify_items": null,
            "grid_row": null,
            "max_height": null,
            "align_content": null,
            "visibility": null,
            "align_self": null,
            "height": null,
            "min_height": null,
            "padding": null,
            "grid_auto_rows": null,
            "grid_gap": null,
            "max_width": null,
            "order": null,
            "_view_module_version": "1.2.0",
            "grid_template_areas": null,
            "object_position": null,
            "object_fit": null,
            "grid_auto_columns": null,
            "margin": null,
            "display": null,
            "left": null
          }
        },
        "96e8fe86137f406c996a4fd280aef304": {
          "model_module": "@jupyter-widgets/controls",
          "model_name": "ProgressStyleModel",
          "model_module_version": "1.5.0",
          "state": {
            "_view_name": "StyleView",
            "_model_name": "ProgressStyleModel",
            "description_width": "",
            "_view_module": "@jupyter-widgets/base",
            "_model_module_version": "1.5.0",
            "_view_count": null,
            "_view_module_version": "1.2.0",
            "bar_color": null,
            "_model_module": "@jupyter-widgets/controls"
          }
        },
        "8f74d25001ba4c549330581b32f3c4b2": {
          "model_module": "@jupyter-widgets/base",
          "model_name": "LayoutModel",
          "model_module_version": "1.2.0",
          "state": {
            "_view_name": "LayoutView",
            "grid_template_rows": null,
            "right": null,
            "justify_content": null,
            "_view_module": "@jupyter-widgets/base",
            "overflow": null,
            "_model_module_version": "1.2.0",
            "_view_count": null,
            "flex_flow": null,
            "width": null,
            "min_width": null,
            "border": null,
            "align_items": null,
            "bottom": null,
            "_model_module": "@jupyter-widgets/base",
            "top": null,
            "grid_column": null,
            "overflow_y": null,
            "overflow_x": null,
            "grid_auto_flow": null,
            "grid_area": null,
            "grid_template_columns": null,
            "flex": null,
            "_model_name": "LayoutModel",
            "justify_items": null,
            "grid_row": null,
            "max_height": null,
            "align_content": null,
            "visibility": null,
            "align_self": null,
            "height": null,
            "min_height": null,
            "padding": null,
            "grid_auto_rows": null,
            "grid_gap": null,
            "max_width": null,
            "order": null,
            "_view_module_version": "1.2.0",
            "grid_template_areas": null,
            "object_position": null,
            "object_fit": null,
            "grid_auto_columns": null,
            "margin": null,
            "display": null,
            "left": null
          }
        },
        "532ae7f261d548efa0f2c8a9dd9b4613": {
          "model_module": "@jupyter-widgets/controls",
          "model_name": "DescriptionStyleModel",
          "model_module_version": "1.5.0",
          "state": {
            "_view_name": "StyleView",
            "_model_name": "DescriptionStyleModel",
            "description_width": "",
            "_view_module": "@jupyter-widgets/base",
            "_model_module_version": "1.5.0",
            "_view_count": null,
            "_view_module_version": "1.2.0",
            "_model_module": "@jupyter-widgets/controls"
          }
        },
        "9bc0cc8330d54ca8ad523e6705cc4d06": {
          "model_module": "@jupyter-widgets/base",
          "model_name": "LayoutModel",
          "model_module_version": "1.2.0",
          "state": {
            "_view_name": "LayoutView",
            "grid_template_rows": null,
            "right": null,
            "justify_content": null,
            "_view_module": "@jupyter-widgets/base",
            "overflow": null,
            "_model_module_version": "1.2.0",
            "_view_count": null,
            "flex_flow": null,
            "width": null,
            "min_width": null,
            "border": null,
            "align_items": null,
            "bottom": null,
            "_model_module": "@jupyter-widgets/base",
            "top": null,
            "grid_column": null,
            "overflow_y": null,
            "overflow_x": null,
            "grid_auto_flow": null,
            "grid_area": null,
            "grid_template_columns": null,
            "flex": null,
            "_model_name": "LayoutModel",
            "justify_items": null,
            "grid_row": null,
            "max_height": null,
            "align_content": null,
            "visibility": null,
            "align_self": null,
            "height": null,
            "min_height": null,
            "padding": null,
            "grid_auto_rows": null,
            "grid_gap": null,
            "max_width": null,
            "order": null,
            "_view_module_version": "1.2.0",
            "grid_template_areas": null,
            "object_position": null,
            "object_fit": null,
            "grid_auto_columns": null,
            "margin": null,
            "display": null,
            "left": null
          }
        },
        "ec3d0c05f1a94c53ad81ecf4b64875a3": {
          "model_module": "@jupyter-widgets/controls",
          "model_name": "HBoxModel",
          "model_module_version": "1.5.0",
          "state": {
            "_view_name": "HBoxView",
            "_dom_classes": [],
            "_model_name": "HBoxModel",
            "_view_module": "@jupyter-widgets/controls",
            "_model_module_version": "1.5.0",
            "_view_count": null,
            "_view_module_version": "1.5.0",
            "box_style": "",
            "layout": "IPY_MODEL_2079b3efed184ce587f748a70e706ba9",
            "_model_module": "@jupyter-widgets/controls",
            "children": [
              "IPY_MODEL_39e0696ecc064c71ad7853b4842856e8",
              "IPY_MODEL_314778f83959493f9a98a917381b58c0",
              "IPY_MODEL_c47ee1522ff44d3fb62f237365f8c035"
            ]
          }
        },
        "2079b3efed184ce587f748a70e706ba9": {
          "model_module": "@jupyter-widgets/base",
          "model_name": "LayoutModel",
          "model_module_version": "1.2.0",
          "state": {
            "_view_name": "LayoutView",
            "grid_template_rows": null,
            "right": null,
            "justify_content": null,
            "_view_module": "@jupyter-widgets/base",
            "overflow": null,
            "_model_module_version": "1.2.0",
            "_view_count": null,
            "flex_flow": null,
            "width": null,
            "min_width": null,
            "border": null,
            "align_items": null,
            "bottom": null,
            "_model_module": "@jupyter-widgets/base",
            "top": null,
            "grid_column": null,
            "overflow_y": null,
            "overflow_x": null,
            "grid_auto_flow": null,
            "grid_area": null,
            "grid_template_columns": null,
            "flex": null,
            "_model_name": "LayoutModel",
            "justify_items": null,
            "grid_row": null,
            "max_height": null,
            "align_content": null,
            "visibility": null,
            "align_self": null,
            "height": null,
            "min_height": null,
            "padding": null,
            "grid_auto_rows": null,
            "grid_gap": null,
            "max_width": null,
            "order": null,
            "_view_module_version": "1.2.0",
            "grid_template_areas": null,
            "object_position": null,
            "object_fit": null,
            "grid_auto_columns": null,
            "margin": null,
            "display": null,
            "left": null
          }
        },
        "39e0696ecc064c71ad7853b4842856e8": {
          "model_module": "@jupyter-widgets/controls",
          "model_name": "HTMLModel",
          "model_module_version": "1.5.0",
          "state": {
            "_view_name": "HTMLView",
            "style": "IPY_MODEL_a13c5d74c5144879883b5e67b159ae59",
            "_dom_classes": [],
            "description": "",
            "_model_name": "HTMLModel",
            "placeholder": "​",
            "_view_module": "@jupyter-widgets/controls",
            "_model_module_version": "1.5.0",
            "value": "Running Prediction: 100%",
            "_view_count": null,
            "_view_module_version": "1.5.0",
            "description_tooltip": null,
            "_model_module": "@jupyter-widgets/controls",
            "layout": "IPY_MODEL_b8171618fc14482c8853de4b6ebc0e59"
          }
        },
        "314778f83959493f9a98a917381b58c0": {
          "model_module": "@jupyter-widgets/controls",
          "model_name": "FloatProgressModel",
          "model_module_version": "1.5.0",
          "state": {
            "_view_name": "ProgressView",
            "style": "IPY_MODEL_63c0cf9919be4dc089444b2ab692bf87",
            "_dom_classes": [],
            "description": "",
            "_model_name": "FloatProgressModel",
            "bar_style": "success",
            "max": 437,
            "_view_module": "@jupyter-widgets/controls",
            "_model_module_version": "1.5.0",
            "value": 437,
            "_view_count": null,
            "_view_module_version": "1.5.0",
            "orientation": "horizontal",
            "min": 0,
            "description_tooltip": null,
            "_model_module": "@jupyter-widgets/controls",
            "layout": "IPY_MODEL_f9ea5e40f93a4510a50c5e7cb94537d1"
          }
        },
        "c47ee1522ff44d3fb62f237365f8c035": {
          "model_module": "@jupyter-widgets/controls",
          "model_name": "HTMLModel",
          "model_module_version": "1.5.0",
          "state": {
            "_view_name": "HTMLView",
            "style": "IPY_MODEL_18de7076300f40b397ffe94fa98da5eb",
            "_dom_classes": [],
            "description": "",
            "_model_name": "HTMLModel",
            "placeholder": "​",
            "_view_module": "@jupyter-widgets/controls",
            "_model_module_version": "1.5.0",
            "value": " 437/437 [01:26&lt;00:00,  4.48it/s]",
            "_view_count": null,
            "_view_module_version": "1.5.0",
            "description_tooltip": null,
            "_model_module": "@jupyter-widgets/controls",
            "layout": "IPY_MODEL_dccc5ddc37494a11a3e27b59bd1b7735"
          }
        },
        "a13c5d74c5144879883b5e67b159ae59": {
          "model_module": "@jupyter-widgets/controls",
          "model_name": "DescriptionStyleModel",
          "model_module_version": "1.5.0",
          "state": {
            "_view_name": "StyleView",
            "_model_name": "DescriptionStyleModel",
            "description_width": "",
            "_view_module": "@jupyter-widgets/base",
            "_model_module_version": "1.5.0",
            "_view_count": null,
            "_view_module_version": "1.2.0",
            "_model_module": "@jupyter-widgets/controls"
          }
        },
        "b8171618fc14482c8853de4b6ebc0e59": {
          "model_module": "@jupyter-widgets/base",
          "model_name": "LayoutModel",
          "model_module_version": "1.2.0",
          "state": {
            "_view_name": "LayoutView",
            "grid_template_rows": null,
            "right": null,
            "justify_content": null,
            "_view_module": "@jupyter-widgets/base",
            "overflow": null,
            "_model_module_version": "1.2.0",
            "_view_count": null,
            "flex_flow": null,
            "width": null,
            "min_width": null,
            "border": null,
            "align_items": null,
            "bottom": null,
            "_model_module": "@jupyter-widgets/base",
            "top": null,
            "grid_column": null,
            "overflow_y": null,
            "overflow_x": null,
            "grid_auto_flow": null,
            "grid_area": null,
            "grid_template_columns": null,
            "flex": null,
            "_model_name": "LayoutModel",
            "justify_items": null,
            "grid_row": null,
            "max_height": null,
            "align_content": null,
            "visibility": null,
            "align_self": null,
            "height": null,
            "min_height": null,
            "padding": null,
            "grid_auto_rows": null,
            "grid_gap": null,
            "max_width": null,
            "order": null,
            "_view_module_version": "1.2.0",
            "grid_template_areas": null,
            "object_position": null,
            "object_fit": null,
            "grid_auto_columns": null,
            "margin": null,
            "display": null,
            "left": null
          }
        },
        "63c0cf9919be4dc089444b2ab692bf87": {
          "model_module": "@jupyter-widgets/controls",
          "model_name": "ProgressStyleModel",
          "model_module_version": "1.5.0",
          "state": {
            "_view_name": "StyleView",
            "_model_name": "ProgressStyleModel",
            "description_width": "",
            "_view_module": "@jupyter-widgets/base",
            "_model_module_version": "1.5.0",
            "_view_count": null,
            "_view_module_version": "1.2.0",
            "bar_color": null,
            "_model_module": "@jupyter-widgets/controls"
          }
        },
        "f9ea5e40f93a4510a50c5e7cb94537d1": {
          "model_module": "@jupyter-widgets/base",
          "model_name": "LayoutModel",
          "model_module_version": "1.2.0",
          "state": {
            "_view_name": "LayoutView",
            "grid_template_rows": null,
            "right": null,
            "justify_content": null,
            "_view_module": "@jupyter-widgets/base",
            "overflow": null,
            "_model_module_version": "1.2.0",
            "_view_count": null,
            "flex_flow": null,
            "width": null,
            "min_width": null,
            "border": null,
            "align_items": null,
            "bottom": null,
            "_model_module": "@jupyter-widgets/base",
            "top": null,
            "grid_column": null,
            "overflow_y": null,
            "overflow_x": null,
            "grid_auto_flow": null,
            "grid_area": null,
            "grid_template_columns": null,
            "flex": null,
            "_model_name": "LayoutModel",
            "justify_items": null,
            "grid_row": null,
            "max_height": null,
            "align_content": null,
            "visibility": null,
            "align_self": null,
            "height": null,
            "min_height": null,
            "padding": null,
            "grid_auto_rows": null,
            "grid_gap": null,
            "max_width": null,
            "order": null,
            "_view_module_version": "1.2.0",
            "grid_template_areas": null,
            "object_position": null,
            "object_fit": null,
            "grid_auto_columns": null,
            "margin": null,
            "display": null,
            "left": null
          }
        },
        "18de7076300f40b397ffe94fa98da5eb": {
          "model_module": "@jupyter-widgets/controls",
          "model_name": "DescriptionStyleModel",
          "model_module_version": "1.5.0",
          "state": {
            "_view_name": "StyleView",
            "_model_name": "DescriptionStyleModel",
            "description_width": "",
            "_view_module": "@jupyter-widgets/base",
            "_model_module_version": "1.5.0",
            "_view_count": null,
            "_view_module_version": "1.2.0",
            "_model_module": "@jupyter-widgets/controls"
          }
        },
        "dccc5ddc37494a11a3e27b59bd1b7735": {
          "model_module": "@jupyter-widgets/base",
          "model_name": "LayoutModel",
          "model_module_version": "1.2.0",
          "state": {
            "_view_name": "LayoutView",
            "grid_template_rows": null,
            "right": null,
            "justify_content": null,
            "_view_module": "@jupyter-widgets/base",
            "overflow": null,
            "_model_module_version": "1.2.0",
            "_view_count": null,
            "flex_flow": null,
            "width": null,
            "min_width": null,
            "border": null,
            "align_items": null,
            "bottom": null,
            "_model_module": "@jupyter-widgets/base",
            "top": null,
            "grid_column": null,
            "overflow_y": null,
            "overflow_x": null,
            "grid_auto_flow": null,
            "grid_area": null,
            "grid_template_columns": null,
            "flex": null,
            "_model_name": "LayoutModel",
            "justify_items": null,
            "grid_row": null,
            "max_height": null,
            "align_content": null,
            "visibility": null,
            "align_self": null,
            "height": null,
            "min_height": null,
            "padding": null,
            "grid_auto_rows": null,
            "grid_gap": null,
            "max_width": null,
            "order": null,
            "_view_module_version": "1.2.0",
            "grid_template_areas": null,
            "object_position": null,
            "object_fit": null,
            "grid_auto_columns": null,
            "margin": null,
            "display": null,
            "left": null
          }
        },
        "3c19b66e31144442bfad8ff6be0597a2": {
          "model_module": "@jupyter-widgets/controls",
          "model_name": "HBoxModel",
          "model_module_version": "1.5.0",
          "state": {
            "_view_name": "HBoxView",
            "_dom_classes": [],
            "_model_name": "HBoxModel",
            "_view_module": "@jupyter-widgets/controls",
            "_model_module_version": "1.5.0",
            "_view_count": null,
            "_view_module_version": "1.5.0",
            "box_style": "",
            "layout": "IPY_MODEL_bb5119854c414a5c92a622548151afc5",
            "_model_module": "@jupyter-widgets/controls",
            "children": [
              "IPY_MODEL_1a00349fecdf404998d6658bb2e999cb",
              "IPY_MODEL_37bd4a5eb3d449afb2f7e2f4b8ff68c2",
              "IPY_MODEL_b2565253441e4741b2b2ac77eb76af82"
            ]
          }
        },
        "bb5119854c414a5c92a622548151afc5": {
          "model_module": "@jupyter-widgets/base",
          "model_name": "LayoutModel",
          "model_module_version": "1.2.0",
          "state": {
            "_view_name": "LayoutView",
            "grid_template_rows": null,
            "right": null,
            "justify_content": null,
            "_view_module": "@jupyter-widgets/base",
            "overflow": null,
            "_model_module_version": "1.2.0",
            "_view_count": null,
            "flex_flow": null,
            "width": null,
            "min_width": null,
            "border": null,
            "align_items": null,
            "bottom": null,
            "_model_module": "@jupyter-widgets/base",
            "top": null,
            "grid_column": null,
            "overflow_y": null,
            "overflow_x": null,
            "grid_auto_flow": null,
            "grid_area": null,
            "grid_template_columns": null,
            "flex": null,
            "_model_name": "LayoutModel",
            "justify_items": null,
            "grid_row": null,
            "max_height": null,
            "align_content": null,
            "visibility": null,
            "align_self": null,
            "height": null,
            "min_height": null,
            "padding": null,
            "grid_auto_rows": null,
            "grid_gap": null,
            "max_width": null,
            "order": null,
            "_view_module_version": "1.2.0",
            "grid_template_areas": null,
            "object_position": null,
            "object_fit": null,
            "grid_auto_columns": null,
            "margin": null,
            "display": null,
            "left": null
          }
        },
        "1a00349fecdf404998d6658bb2e999cb": {
          "model_module": "@jupyter-widgets/controls",
          "model_name": "HTMLModel",
          "model_module_version": "1.5.0",
          "state": {
            "_view_name": "HTMLView",
            "style": "IPY_MODEL_825400058b564d81a6fe70788ec39a31",
            "_dom_classes": [],
            "description": "",
            "_model_name": "HTMLModel",
            "placeholder": "​",
            "_view_module": "@jupyter-widgets/controls",
            "_model_module_version": "1.5.0",
            "value": "100%",
            "_view_count": null,
            "_view_module_version": "1.5.0",
            "description_tooltip": null,
            "_model_module": "@jupyter-widgets/controls",
            "layout": "IPY_MODEL_c890cf75fb1d4e588d5281af462d9e8a"
          }
        },
        "37bd4a5eb3d449afb2f7e2f4b8ff68c2": {
          "model_module": "@jupyter-widgets/controls",
          "model_name": "FloatProgressModel",
          "model_module_version": "1.5.0",
          "state": {
            "_view_name": "ProgressView",
            "style": "IPY_MODEL_7fabe97b40d749588fa47500d73979fe",
            "_dom_classes": [],
            "description": "",
            "_model_name": "FloatProgressModel",
            "bar_style": "success",
            "max": 1,
            "_view_module": "@jupyter-widgets/controls",
            "_model_module_version": "1.5.0",
            "value": 1,
            "_view_count": null,
            "_view_module_version": "1.5.0",
            "orientation": "horizontal",
            "min": 0,
            "description_tooltip": null,
            "_model_module": "@jupyter-widgets/controls",
            "layout": "IPY_MODEL_1e796d97de02462f9765a911beb937cf"
          }
        },
        "b2565253441e4741b2b2ac77eb76af82": {
          "model_module": "@jupyter-widgets/controls",
          "model_name": "HTMLModel",
          "model_module_version": "1.5.0",
          "state": {
            "_view_name": "HTMLView",
            "style": "IPY_MODEL_1c0514c4575d47099e57eacbf07f21eb",
            "_dom_classes": [],
            "description": "",
            "_model_name": "HTMLModel",
            "placeholder": "​",
            "_view_module": "@jupyter-widgets/controls",
            "_model_module_version": "1.5.0",
            "value": " 1/1 [00:00&lt;00:00,  5.15it/s]",
            "_view_count": null,
            "_view_module_version": "1.5.0",
            "description_tooltip": null,
            "_model_module": "@jupyter-widgets/controls",
            "layout": "IPY_MODEL_d44f0d9c642f48dfb7d7645c61ae2aa7"
          }
        },
        "825400058b564d81a6fe70788ec39a31": {
          "model_module": "@jupyter-widgets/controls",
          "model_name": "DescriptionStyleModel",
          "model_module_version": "1.5.0",
          "state": {
            "_view_name": "StyleView",
            "_model_name": "DescriptionStyleModel",
            "description_width": "",
            "_view_module": "@jupyter-widgets/base",
            "_model_module_version": "1.5.0",
            "_view_count": null,
            "_view_module_version": "1.2.0",
            "_model_module": "@jupyter-widgets/controls"
          }
        },
        "c890cf75fb1d4e588d5281af462d9e8a": {
          "model_module": "@jupyter-widgets/base",
          "model_name": "LayoutModel",
          "model_module_version": "1.2.0",
          "state": {
            "_view_name": "LayoutView",
            "grid_template_rows": null,
            "right": null,
            "justify_content": null,
            "_view_module": "@jupyter-widgets/base",
            "overflow": null,
            "_model_module_version": "1.2.0",
            "_view_count": null,
            "flex_flow": null,
            "width": null,
            "min_width": null,
            "border": null,
            "align_items": null,
            "bottom": null,
            "_model_module": "@jupyter-widgets/base",
            "top": null,
            "grid_column": null,
            "overflow_y": null,
            "overflow_x": null,
            "grid_auto_flow": null,
            "grid_area": null,
            "grid_template_columns": null,
            "flex": null,
            "_model_name": "LayoutModel",
            "justify_items": null,
            "grid_row": null,
            "max_height": null,
            "align_content": null,
            "visibility": null,
            "align_self": null,
            "height": null,
            "min_height": null,
            "padding": null,
            "grid_auto_rows": null,
            "grid_gap": null,
            "max_width": null,
            "order": null,
            "_view_module_version": "1.2.0",
            "grid_template_areas": null,
            "object_position": null,
            "object_fit": null,
            "grid_auto_columns": null,
            "margin": null,
            "display": null,
            "left": null
          }
        },
        "7fabe97b40d749588fa47500d73979fe": {
          "model_module": "@jupyter-widgets/controls",
          "model_name": "ProgressStyleModel",
          "model_module_version": "1.5.0",
          "state": {
            "_view_name": "StyleView",
            "_model_name": "ProgressStyleModel",
            "description_width": "",
            "_view_module": "@jupyter-widgets/base",
            "_model_module_version": "1.5.0",
            "_view_count": null,
            "_view_module_version": "1.2.0",
            "bar_color": null,
            "_model_module": "@jupyter-widgets/controls"
          }
        },
        "1e796d97de02462f9765a911beb937cf": {
          "model_module": "@jupyter-widgets/base",
          "model_name": "LayoutModel",
          "model_module_version": "1.2.0",
          "state": {
            "_view_name": "LayoutView",
            "grid_template_rows": null,
            "right": null,
            "justify_content": null,
            "_view_module": "@jupyter-widgets/base",
            "overflow": null,
            "_model_module_version": "1.2.0",
            "_view_count": null,
            "flex_flow": null,
            "width": null,
            "min_width": null,
            "border": null,
            "align_items": null,
            "bottom": null,
            "_model_module": "@jupyter-widgets/base",
            "top": null,
            "grid_column": null,
            "overflow_y": null,
            "overflow_x": null,
            "grid_auto_flow": null,
            "grid_area": null,
            "grid_template_columns": null,
            "flex": null,
            "_model_name": "LayoutModel",
            "justify_items": null,
            "grid_row": null,
            "max_height": null,
            "align_content": null,
            "visibility": null,
            "align_self": null,
            "height": null,
            "min_height": null,
            "padding": null,
            "grid_auto_rows": null,
            "grid_gap": null,
            "max_width": null,
            "order": null,
            "_view_module_version": "1.2.0",
            "grid_template_areas": null,
            "object_position": null,
            "object_fit": null,
            "grid_auto_columns": null,
            "margin": null,
            "display": null,
            "left": null
          }
        },
        "1c0514c4575d47099e57eacbf07f21eb": {
          "model_module": "@jupyter-widgets/controls",
          "model_name": "DescriptionStyleModel",
          "model_module_version": "1.5.0",
          "state": {
            "_view_name": "StyleView",
            "_model_name": "DescriptionStyleModel",
            "description_width": "",
            "_view_module": "@jupyter-widgets/base",
            "_model_module_version": "1.5.0",
            "_view_count": null,
            "_view_module_version": "1.2.0",
            "_model_module": "@jupyter-widgets/controls"
          }
        },
        "d44f0d9c642f48dfb7d7645c61ae2aa7": {
          "model_module": "@jupyter-widgets/base",
          "model_name": "LayoutModel",
          "model_module_version": "1.2.0",
          "state": {
            "_view_name": "LayoutView",
            "grid_template_rows": null,
            "right": null,
            "justify_content": null,
            "_view_module": "@jupyter-widgets/base",
            "overflow": null,
            "_model_module_version": "1.2.0",
            "_view_count": null,
            "flex_flow": null,
            "width": null,
            "min_width": null,
            "border": null,
            "align_items": null,
            "bottom": null,
            "_model_module": "@jupyter-widgets/base",
            "top": null,
            "grid_column": null,
            "overflow_y": null,
            "overflow_x": null,
            "grid_auto_flow": null,
            "grid_area": null,
            "grid_template_columns": null,
            "flex": null,
            "_model_name": "LayoutModel",
            "justify_items": null,
            "grid_row": null,
            "max_height": null,
            "align_content": null,
            "visibility": null,
            "align_self": null,
            "height": null,
            "min_height": null,
            "padding": null,
            "grid_auto_rows": null,
            "grid_gap": null,
            "max_width": null,
            "order": null,
            "_view_module_version": "1.2.0",
            "grid_template_areas": null,
            "object_position": null,
            "object_fit": null,
            "grid_auto_columns": null,
            "margin": null,
            "display": null,
            "left": null
          }
        },
        "2bb72cab247f450597762a7405cb6ac8": {
          "model_module": "@jupyter-widgets/controls",
          "model_name": "HBoxModel",
          "model_module_version": "1.5.0",
          "state": {
            "_view_name": "HBoxView",
            "_dom_classes": [],
            "_model_name": "HBoxModel",
            "_view_module": "@jupyter-widgets/controls",
            "_model_module_version": "1.5.0",
            "_view_count": null,
            "_view_module_version": "1.5.0",
            "box_style": "",
            "layout": "IPY_MODEL_1e677953efe04da88cdb49c6f9cabadf",
            "_model_module": "@jupyter-widgets/controls",
            "children": [
              "IPY_MODEL_3e3a142fb1ba40fa94bf2b18abf32f92",
              "IPY_MODEL_d291df34b7624dcc810bfb9b9b5e672b",
              "IPY_MODEL_d342dd5380af41269539d889b8bbbb01"
            ]
          }
        },
        "1e677953efe04da88cdb49c6f9cabadf": {
          "model_module": "@jupyter-widgets/base",
          "model_name": "LayoutModel",
          "model_module_version": "1.2.0",
          "state": {
            "_view_name": "LayoutView",
            "grid_template_rows": null,
            "right": null,
            "justify_content": null,
            "_view_module": "@jupyter-widgets/base",
            "overflow": null,
            "_model_module_version": "1.2.0",
            "_view_count": null,
            "flex_flow": null,
            "width": null,
            "min_width": null,
            "border": null,
            "align_items": null,
            "bottom": null,
            "_model_module": "@jupyter-widgets/base",
            "top": null,
            "grid_column": null,
            "overflow_y": null,
            "overflow_x": null,
            "grid_auto_flow": null,
            "grid_area": null,
            "grid_template_columns": null,
            "flex": null,
            "_model_name": "LayoutModel",
            "justify_items": null,
            "grid_row": null,
            "max_height": null,
            "align_content": null,
            "visibility": null,
            "align_self": null,
            "height": null,
            "min_height": null,
            "padding": null,
            "grid_auto_rows": null,
            "grid_gap": null,
            "max_width": null,
            "order": null,
            "_view_module_version": "1.2.0",
            "grid_template_areas": null,
            "object_position": null,
            "object_fit": null,
            "grid_auto_columns": null,
            "margin": null,
            "display": null,
            "left": null
          }
        },
        "3e3a142fb1ba40fa94bf2b18abf32f92": {
          "model_module": "@jupyter-widgets/controls",
          "model_name": "HTMLModel",
          "model_module_version": "1.5.0",
          "state": {
            "_view_name": "HTMLView",
            "style": "IPY_MODEL_8e073fc8f9ee4db29483112c7a3638a5",
            "_dom_classes": [],
            "description": "",
            "_model_name": "HTMLModel",
            "placeholder": "​",
            "_view_module": "@jupyter-widgets/controls",
            "_model_module_version": "1.5.0",
            "value": "Running Prediction: 100%",
            "_view_count": null,
            "_view_module_version": "1.5.0",
            "description_tooltip": null,
            "_model_module": "@jupyter-widgets/controls",
            "layout": "IPY_MODEL_21af0a5fed7f4b608815e313e9c42546"
          }
        },
        "d291df34b7624dcc810bfb9b9b5e672b": {
          "model_module": "@jupyter-widgets/controls",
          "model_name": "FloatProgressModel",
          "model_module_version": "1.5.0",
          "state": {
            "_view_name": "ProgressView",
            "style": "IPY_MODEL_9fecb6283e194b98aaba2fdd2950b3e9",
            "_dom_classes": [],
            "description": "",
            "_model_name": "FloatProgressModel",
            "bar_style": "success",
            "max": 1,
            "_view_module": "@jupyter-widgets/controls",
            "_model_module_version": "1.5.0",
            "value": 1,
            "_view_count": null,
            "_view_module_version": "1.5.0",
            "orientation": "horizontal",
            "min": 0,
            "description_tooltip": null,
            "_model_module": "@jupyter-widgets/controls",
            "layout": "IPY_MODEL_4f0ba5d2ef3842edbd82ca032e2e6470"
          }
        },
        "d342dd5380af41269539d889b8bbbb01": {
          "model_module": "@jupyter-widgets/controls",
          "model_name": "HTMLModel",
          "model_module_version": "1.5.0",
          "state": {
            "_view_name": "HTMLView",
            "style": "IPY_MODEL_8f7c7f7b5a6e4dd48936c38655482e23",
            "_dom_classes": [],
            "description": "",
            "_model_name": "HTMLModel",
            "placeholder": "​",
            "_view_module": "@jupyter-widgets/controls",
            "_model_module_version": "1.5.0",
            "value": " 1/1 [00:00&lt;00:00, 14.40it/s]",
            "_view_count": null,
            "_view_module_version": "1.5.0",
            "description_tooltip": null,
            "_model_module": "@jupyter-widgets/controls",
            "layout": "IPY_MODEL_8b85556015e2453e88427d153b0b99fc"
          }
        },
        "8e073fc8f9ee4db29483112c7a3638a5": {
          "model_module": "@jupyter-widgets/controls",
          "model_name": "DescriptionStyleModel",
          "model_module_version": "1.5.0",
          "state": {
            "_view_name": "StyleView",
            "_model_name": "DescriptionStyleModel",
            "description_width": "",
            "_view_module": "@jupyter-widgets/base",
            "_model_module_version": "1.5.0",
            "_view_count": null,
            "_view_module_version": "1.2.0",
            "_model_module": "@jupyter-widgets/controls"
          }
        },
        "21af0a5fed7f4b608815e313e9c42546": {
          "model_module": "@jupyter-widgets/base",
          "model_name": "LayoutModel",
          "model_module_version": "1.2.0",
          "state": {
            "_view_name": "LayoutView",
            "grid_template_rows": null,
            "right": null,
            "justify_content": null,
            "_view_module": "@jupyter-widgets/base",
            "overflow": null,
            "_model_module_version": "1.2.0",
            "_view_count": null,
            "flex_flow": null,
            "width": null,
            "min_width": null,
            "border": null,
            "align_items": null,
            "bottom": null,
            "_model_module": "@jupyter-widgets/base",
            "top": null,
            "grid_column": null,
            "overflow_y": null,
            "overflow_x": null,
            "grid_auto_flow": null,
            "grid_area": null,
            "grid_template_columns": null,
            "flex": null,
            "_model_name": "LayoutModel",
            "justify_items": null,
            "grid_row": null,
            "max_height": null,
            "align_content": null,
            "visibility": null,
            "align_self": null,
            "height": null,
            "min_height": null,
            "padding": null,
            "grid_auto_rows": null,
            "grid_gap": null,
            "max_width": null,
            "order": null,
            "_view_module_version": "1.2.0",
            "grid_template_areas": null,
            "object_position": null,
            "object_fit": null,
            "grid_auto_columns": null,
            "margin": null,
            "display": null,
            "left": null
          }
        },
        "9fecb6283e194b98aaba2fdd2950b3e9": {
          "model_module": "@jupyter-widgets/controls",
          "model_name": "ProgressStyleModel",
          "model_module_version": "1.5.0",
          "state": {
            "_view_name": "StyleView",
            "_model_name": "ProgressStyleModel",
            "description_width": "",
            "_view_module": "@jupyter-widgets/base",
            "_model_module_version": "1.5.0",
            "_view_count": null,
            "_view_module_version": "1.2.0",
            "bar_color": null,
            "_model_module": "@jupyter-widgets/controls"
          }
        },
        "4f0ba5d2ef3842edbd82ca032e2e6470": {
          "model_module": "@jupyter-widgets/base",
          "model_name": "LayoutModel",
          "model_module_version": "1.2.0",
          "state": {
            "_view_name": "LayoutView",
            "grid_template_rows": null,
            "right": null,
            "justify_content": null,
            "_view_module": "@jupyter-widgets/base",
            "overflow": null,
            "_model_module_version": "1.2.0",
            "_view_count": null,
            "flex_flow": null,
            "width": null,
            "min_width": null,
            "border": null,
            "align_items": null,
            "bottom": null,
            "_model_module": "@jupyter-widgets/base",
            "top": null,
            "grid_column": null,
            "overflow_y": null,
            "overflow_x": null,
            "grid_auto_flow": null,
            "grid_area": null,
            "grid_template_columns": null,
            "flex": null,
            "_model_name": "LayoutModel",
            "justify_items": null,
            "grid_row": null,
            "max_height": null,
            "align_content": null,
            "visibility": null,
            "align_self": null,
            "height": null,
            "min_height": null,
            "padding": null,
            "grid_auto_rows": null,
            "grid_gap": null,
            "max_width": null,
            "order": null,
            "_view_module_version": "1.2.0",
            "grid_template_areas": null,
            "object_position": null,
            "object_fit": null,
            "grid_auto_columns": null,
            "margin": null,
            "display": null,
            "left": null
          }
        },
        "8f7c7f7b5a6e4dd48936c38655482e23": {
          "model_module": "@jupyter-widgets/controls",
          "model_name": "DescriptionStyleModel",
          "model_module_version": "1.5.0",
          "state": {
            "_view_name": "StyleView",
            "_model_name": "DescriptionStyleModel",
            "description_width": "",
            "_view_module": "@jupyter-widgets/base",
            "_model_module_version": "1.5.0",
            "_view_count": null,
            "_view_module_version": "1.2.0",
            "_model_module": "@jupyter-widgets/controls"
          }
        },
        "8b85556015e2453e88427d153b0b99fc": {
          "model_module": "@jupyter-widgets/base",
          "model_name": "LayoutModel",
          "model_module_version": "1.2.0",
          "state": {
            "_view_name": "LayoutView",
            "grid_template_rows": null,
            "right": null,
            "justify_content": null,
            "_view_module": "@jupyter-widgets/base",
            "overflow": null,
            "_model_module_version": "1.2.0",
            "_view_count": null,
            "flex_flow": null,
            "width": null,
            "min_width": null,
            "border": null,
            "align_items": null,
            "bottom": null,
            "_model_module": "@jupyter-widgets/base",
            "top": null,
            "grid_column": null,
            "overflow_y": null,
            "overflow_x": null,
            "grid_auto_flow": null,
            "grid_area": null,
            "grid_template_columns": null,
            "flex": null,
            "_model_name": "LayoutModel",
            "justify_items": null,
            "grid_row": null,
            "max_height": null,
            "align_content": null,
            "visibility": null,
            "align_self": null,
            "height": null,
            "min_height": null,
            "padding": null,
            "grid_auto_rows": null,
            "grid_gap": null,
            "max_width": null,
            "order": null,
            "_view_module_version": "1.2.0",
            "grid_template_areas": null,
            "object_position": null,
            "object_fit": null,
            "grid_auto_columns": null,
            "margin": null,
            "display": null,
            "left": null
          }
        },
        "a4c80929948c4f5a80cc83241d3e984f": {
          "model_module": "@jupyter-widgets/controls",
          "model_name": "HBoxModel",
          "model_module_version": "1.5.0",
          "state": {
            "_view_name": "HBoxView",
            "_dom_classes": [],
            "_model_name": "HBoxModel",
            "_view_module": "@jupyter-widgets/controls",
            "_model_module_version": "1.5.0",
            "_view_count": null,
            "_view_module_version": "1.5.0",
            "box_style": "",
            "layout": "IPY_MODEL_ad64c428d34444bfa82ae82f307c8883",
            "_model_module": "@jupyter-widgets/controls",
            "children": [
              "IPY_MODEL_10225786a11b47159cc89dba058ba555",
              "IPY_MODEL_2150088e1e30475599baab7e6e06848c",
              "IPY_MODEL_26077e6f7a424f749da7912ddf0f7bed"
            ]
          }
        },
        "ad64c428d34444bfa82ae82f307c8883": {
          "model_module": "@jupyter-widgets/base",
          "model_name": "LayoutModel",
          "model_module_version": "1.2.0",
          "state": {
            "_view_name": "LayoutView",
            "grid_template_rows": null,
            "right": null,
            "justify_content": null,
            "_view_module": "@jupyter-widgets/base",
            "overflow": null,
            "_model_module_version": "1.2.0",
            "_view_count": null,
            "flex_flow": null,
            "width": null,
            "min_width": null,
            "border": null,
            "align_items": null,
            "bottom": null,
            "_model_module": "@jupyter-widgets/base",
            "top": null,
            "grid_column": null,
            "overflow_y": null,
            "overflow_x": null,
            "grid_auto_flow": null,
            "grid_area": null,
            "grid_template_columns": null,
            "flex": null,
            "_model_name": "LayoutModel",
            "justify_items": null,
            "grid_row": null,
            "max_height": null,
            "align_content": null,
            "visibility": null,
            "align_self": null,
            "height": null,
            "min_height": null,
            "padding": null,
            "grid_auto_rows": null,
            "grid_gap": null,
            "max_width": null,
            "order": null,
            "_view_module_version": "1.2.0",
            "grid_template_areas": null,
            "object_position": null,
            "object_fit": null,
            "grid_auto_columns": null,
            "margin": null,
            "display": null,
            "left": null
          }
        },
        "10225786a11b47159cc89dba058ba555": {
          "model_module": "@jupyter-widgets/controls",
          "model_name": "HTMLModel",
          "model_module_version": "1.5.0",
          "state": {
            "_view_name": "HTMLView",
            "style": "IPY_MODEL_10bfb15d4e804e4cbda49eae0923b1d1",
            "_dom_classes": [],
            "description": "",
            "_model_name": "HTMLModel",
            "placeholder": "​",
            "_view_module": "@jupyter-widgets/controls",
            "_model_module_version": "1.5.0",
            "value": "100%",
            "_view_count": null,
            "_view_module_version": "1.5.0",
            "description_tooltip": null,
            "_model_module": "@jupyter-widgets/controls",
            "layout": "IPY_MODEL_ab40c55637da4bb9b29e65b307a39af3"
          }
        },
        "2150088e1e30475599baab7e6e06848c": {
          "model_module": "@jupyter-widgets/controls",
          "model_name": "FloatProgressModel",
          "model_module_version": "1.5.0",
          "state": {
            "_view_name": "ProgressView",
            "style": "IPY_MODEL_534f08e13a6443d3aad1014dc5998122",
            "_dom_classes": [],
            "description": "",
            "_model_name": "FloatProgressModel",
            "bar_style": "success",
            "max": 1,
            "_view_module": "@jupyter-widgets/controls",
            "_model_module_version": "1.5.0",
            "value": 1,
            "_view_count": null,
            "_view_module_version": "1.5.0",
            "orientation": "horizontal",
            "min": 0,
            "description_tooltip": null,
            "_model_module": "@jupyter-widgets/controls",
            "layout": "IPY_MODEL_8a1339ac2a9d4092bc97aea94c5d9663"
          }
        },
        "26077e6f7a424f749da7912ddf0f7bed": {
          "model_module": "@jupyter-widgets/controls",
          "model_name": "HTMLModel",
          "model_module_version": "1.5.0",
          "state": {
            "_view_name": "HTMLView",
            "style": "IPY_MODEL_4b718d35c43f4bc5be00dd3d4fc0c06c",
            "_dom_classes": [],
            "description": "",
            "_model_name": "HTMLModel",
            "placeholder": "​",
            "_view_module": "@jupyter-widgets/controls",
            "_model_module_version": "1.5.0",
            "value": " 1/1 [00:00&lt;00:00, 10.77it/s]",
            "_view_count": null,
            "_view_module_version": "1.5.0",
            "description_tooltip": null,
            "_model_module": "@jupyter-widgets/controls",
            "layout": "IPY_MODEL_4998e8a9ce11457cb88872abc3eb572c"
          }
        },
        "10bfb15d4e804e4cbda49eae0923b1d1": {
          "model_module": "@jupyter-widgets/controls",
          "model_name": "DescriptionStyleModel",
          "model_module_version": "1.5.0",
          "state": {
            "_view_name": "StyleView",
            "_model_name": "DescriptionStyleModel",
            "description_width": "",
            "_view_module": "@jupyter-widgets/base",
            "_model_module_version": "1.5.0",
            "_view_count": null,
            "_view_module_version": "1.2.0",
            "_model_module": "@jupyter-widgets/controls"
          }
        },
        "ab40c55637da4bb9b29e65b307a39af3": {
          "model_module": "@jupyter-widgets/base",
          "model_name": "LayoutModel",
          "model_module_version": "1.2.0",
          "state": {
            "_view_name": "LayoutView",
            "grid_template_rows": null,
            "right": null,
            "justify_content": null,
            "_view_module": "@jupyter-widgets/base",
            "overflow": null,
            "_model_module_version": "1.2.0",
            "_view_count": null,
            "flex_flow": null,
            "width": null,
            "min_width": null,
            "border": null,
            "align_items": null,
            "bottom": null,
            "_model_module": "@jupyter-widgets/base",
            "top": null,
            "grid_column": null,
            "overflow_y": null,
            "overflow_x": null,
            "grid_auto_flow": null,
            "grid_area": null,
            "grid_template_columns": null,
            "flex": null,
            "_model_name": "LayoutModel",
            "justify_items": null,
            "grid_row": null,
            "max_height": null,
            "align_content": null,
            "visibility": null,
            "align_self": null,
            "height": null,
            "min_height": null,
            "padding": null,
            "grid_auto_rows": null,
            "grid_gap": null,
            "max_width": null,
            "order": null,
            "_view_module_version": "1.2.0",
            "grid_template_areas": null,
            "object_position": null,
            "object_fit": null,
            "grid_auto_columns": null,
            "margin": null,
            "display": null,
            "left": null
          }
        },
        "534f08e13a6443d3aad1014dc5998122": {
          "model_module": "@jupyter-widgets/controls",
          "model_name": "ProgressStyleModel",
          "model_module_version": "1.5.0",
          "state": {
            "_view_name": "StyleView",
            "_model_name": "ProgressStyleModel",
            "description_width": "",
            "_view_module": "@jupyter-widgets/base",
            "_model_module_version": "1.5.0",
            "_view_count": null,
            "_view_module_version": "1.2.0",
            "bar_color": null,
            "_model_module": "@jupyter-widgets/controls"
          }
        },
        "8a1339ac2a9d4092bc97aea94c5d9663": {
          "model_module": "@jupyter-widgets/base",
          "model_name": "LayoutModel",
          "model_module_version": "1.2.0",
          "state": {
            "_view_name": "LayoutView",
            "grid_template_rows": null,
            "right": null,
            "justify_content": null,
            "_view_module": "@jupyter-widgets/base",
            "overflow": null,
            "_model_module_version": "1.2.0",
            "_view_count": null,
            "flex_flow": null,
            "width": null,
            "min_width": null,
            "border": null,
            "align_items": null,
            "bottom": null,
            "_model_module": "@jupyter-widgets/base",
            "top": null,
            "grid_column": null,
            "overflow_y": null,
            "overflow_x": null,
            "grid_auto_flow": null,
            "grid_area": null,
            "grid_template_columns": null,
            "flex": null,
            "_model_name": "LayoutModel",
            "justify_items": null,
            "grid_row": null,
            "max_height": null,
            "align_content": null,
            "visibility": null,
            "align_self": null,
            "height": null,
            "min_height": null,
            "padding": null,
            "grid_auto_rows": null,
            "grid_gap": null,
            "max_width": null,
            "order": null,
            "_view_module_version": "1.2.0",
            "grid_template_areas": null,
            "object_position": null,
            "object_fit": null,
            "grid_auto_columns": null,
            "margin": null,
            "display": null,
            "left": null
          }
        },
        "4b718d35c43f4bc5be00dd3d4fc0c06c": {
          "model_module": "@jupyter-widgets/controls",
          "model_name": "DescriptionStyleModel",
          "model_module_version": "1.5.0",
          "state": {
            "_view_name": "StyleView",
            "_model_name": "DescriptionStyleModel",
            "description_width": "",
            "_view_module": "@jupyter-widgets/base",
            "_model_module_version": "1.5.0",
            "_view_count": null,
            "_view_module_version": "1.2.0",
            "_model_module": "@jupyter-widgets/controls"
          }
        },
        "4998e8a9ce11457cb88872abc3eb572c": {
          "model_module": "@jupyter-widgets/base",
          "model_name": "LayoutModel",
          "model_module_version": "1.2.0",
          "state": {
            "_view_name": "LayoutView",
            "grid_template_rows": null,
            "right": null,
            "justify_content": null,
            "_view_module": "@jupyter-widgets/base",
            "overflow": null,
            "_model_module_version": "1.2.0",
            "_view_count": null,
            "flex_flow": null,
            "width": null,
            "min_width": null,
            "border": null,
            "align_items": null,
            "bottom": null,
            "_model_module": "@jupyter-widgets/base",
            "top": null,
            "grid_column": null,
            "overflow_y": null,
            "overflow_x": null,
            "grid_auto_flow": null,
            "grid_area": null,
            "grid_template_columns": null,
            "flex": null,
            "_model_name": "LayoutModel",
            "justify_items": null,
            "grid_row": null,
            "max_height": null,
            "align_content": null,
            "visibility": null,
            "align_self": null,
            "height": null,
            "min_height": null,
            "padding": null,
            "grid_auto_rows": null,
            "grid_gap": null,
            "max_width": null,
            "order": null,
            "_view_module_version": "1.2.0",
            "grid_template_areas": null,
            "object_position": null,
            "object_fit": null,
            "grid_auto_columns": null,
            "margin": null,
            "display": null,
            "left": null
          }
        },
        "aac61550d925428d81401f09f60b43b8": {
          "model_module": "@jupyter-widgets/controls",
          "model_name": "HBoxModel",
          "model_module_version": "1.5.0",
          "state": {
            "_view_name": "HBoxView",
            "_dom_classes": [],
            "_model_name": "HBoxModel",
            "_view_module": "@jupyter-widgets/controls",
            "_model_module_version": "1.5.0",
            "_view_count": null,
            "_view_module_version": "1.5.0",
            "box_style": "",
            "layout": "IPY_MODEL_e98607a8e5544bf3824751a8e4550955",
            "_model_module": "@jupyter-widgets/controls",
            "children": [
              "IPY_MODEL_bbfc487958164fbebfa094f607e9812b",
              "IPY_MODEL_76516f4afcc7447787d5b8fa28cb3175",
              "IPY_MODEL_eee209f37d2b4b1cbdc2091765232945"
            ]
          }
        },
        "e98607a8e5544bf3824751a8e4550955": {
          "model_module": "@jupyter-widgets/base",
          "model_name": "LayoutModel",
          "model_module_version": "1.2.0",
          "state": {
            "_view_name": "LayoutView",
            "grid_template_rows": null,
            "right": null,
            "justify_content": null,
            "_view_module": "@jupyter-widgets/base",
            "overflow": null,
            "_model_module_version": "1.2.0",
            "_view_count": null,
            "flex_flow": null,
            "width": null,
            "min_width": null,
            "border": null,
            "align_items": null,
            "bottom": null,
            "_model_module": "@jupyter-widgets/base",
            "top": null,
            "grid_column": null,
            "overflow_y": null,
            "overflow_x": null,
            "grid_auto_flow": null,
            "grid_area": null,
            "grid_template_columns": null,
            "flex": null,
            "_model_name": "LayoutModel",
            "justify_items": null,
            "grid_row": null,
            "max_height": null,
            "align_content": null,
            "visibility": null,
            "align_self": null,
            "height": null,
            "min_height": null,
            "padding": null,
            "grid_auto_rows": null,
            "grid_gap": null,
            "max_width": null,
            "order": null,
            "_view_module_version": "1.2.0",
            "grid_template_areas": null,
            "object_position": null,
            "object_fit": null,
            "grid_auto_columns": null,
            "margin": null,
            "display": null,
            "left": null
          }
        },
        "bbfc487958164fbebfa094f607e9812b": {
          "model_module": "@jupyter-widgets/controls",
          "model_name": "HTMLModel",
          "model_module_version": "1.5.0",
          "state": {
            "_view_name": "HTMLView",
            "style": "IPY_MODEL_9945375e41ae47e58cacd411e5bfdf7a",
            "_dom_classes": [],
            "description": "",
            "_model_name": "HTMLModel",
            "placeholder": "​",
            "_view_module": "@jupyter-widgets/controls",
            "_model_module_version": "1.5.0",
            "value": "Running Prediction: 100%",
            "_view_count": null,
            "_view_module_version": "1.5.0",
            "description_tooltip": null,
            "_model_module": "@jupyter-widgets/controls",
            "layout": "IPY_MODEL_4dbe1b83ae1e4177bd61312f74e13d0f"
          }
        },
        "76516f4afcc7447787d5b8fa28cb3175": {
          "model_module": "@jupyter-widgets/controls",
          "model_name": "FloatProgressModel",
          "model_module_version": "1.5.0",
          "state": {
            "_view_name": "ProgressView",
            "style": "IPY_MODEL_4c45888375b342988c7bb31fcfadbc11",
            "_dom_classes": [],
            "description": "",
            "_model_name": "FloatProgressModel",
            "bar_style": "success",
            "max": 1,
            "_view_module": "@jupyter-widgets/controls",
            "_model_module_version": "1.5.0",
            "value": 1,
            "_view_count": null,
            "_view_module_version": "1.5.0",
            "orientation": "horizontal",
            "min": 0,
            "description_tooltip": null,
            "_model_module": "@jupyter-widgets/controls",
            "layout": "IPY_MODEL_e068f5c4ecd64265a879bfb9d52abc34"
          }
        },
        "eee209f37d2b4b1cbdc2091765232945": {
          "model_module": "@jupyter-widgets/controls",
          "model_name": "HTMLModel",
          "model_module_version": "1.5.0",
          "state": {
            "_view_name": "HTMLView",
            "style": "IPY_MODEL_0ba29442268644a68f9390cb75c9180c",
            "_dom_classes": [],
            "description": "",
            "_model_name": "HTMLModel",
            "placeholder": "​",
            "_view_module": "@jupyter-widgets/controls",
            "_model_module_version": "1.5.0",
            "value": " 1/1 [00:00&lt;00:00, 16.28it/s]",
            "_view_count": null,
            "_view_module_version": "1.5.0",
            "description_tooltip": null,
            "_model_module": "@jupyter-widgets/controls",
            "layout": "IPY_MODEL_238f410073e3407c8d7e1ae80cfc7073"
          }
        },
        "9945375e41ae47e58cacd411e5bfdf7a": {
          "model_module": "@jupyter-widgets/controls",
          "model_name": "DescriptionStyleModel",
          "model_module_version": "1.5.0",
          "state": {
            "_view_name": "StyleView",
            "_model_name": "DescriptionStyleModel",
            "description_width": "",
            "_view_module": "@jupyter-widgets/base",
            "_model_module_version": "1.5.0",
            "_view_count": null,
            "_view_module_version": "1.2.0",
            "_model_module": "@jupyter-widgets/controls"
          }
        },
        "4dbe1b83ae1e4177bd61312f74e13d0f": {
          "model_module": "@jupyter-widgets/base",
          "model_name": "LayoutModel",
          "model_module_version": "1.2.0",
          "state": {
            "_view_name": "LayoutView",
            "grid_template_rows": null,
            "right": null,
            "justify_content": null,
            "_view_module": "@jupyter-widgets/base",
            "overflow": null,
            "_model_module_version": "1.2.0",
            "_view_count": null,
            "flex_flow": null,
            "width": null,
            "min_width": null,
            "border": null,
            "align_items": null,
            "bottom": null,
            "_model_module": "@jupyter-widgets/base",
            "top": null,
            "grid_column": null,
            "overflow_y": null,
            "overflow_x": null,
            "grid_auto_flow": null,
            "grid_area": null,
            "grid_template_columns": null,
            "flex": null,
            "_model_name": "LayoutModel",
            "justify_items": null,
            "grid_row": null,
            "max_height": null,
            "align_content": null,
            "visibility": null,
            "align_self": null,
            "height": null,
            "min_height": null,
            "padding": null,
            "grid_auto_rows": null,
            "grid_gap": null,
            "max_width": null,
            "order": null,
            "_view_module_version": "1.2.0",
            "grid_template_areas": null,
            "object_position": null,
            "object_fit": null,
            "grid_auto_columns": null,
            "margin": null,
            "display": null,
            "left": null
          }
        },
        "4c45888375b342988c7bb31fcfadbc11": {
          "model_module": "@jupyter-widgets/controls",
          "model_name": "ProgressStyleModel",
          "model_module_version": "1.5.0",
          "state": {
            "_view_name": "StyleView",
            "_model_name": "ProgressStyleModel",
            "description_width": "",
            "_view_module": "@jupyter-widgets/base",
            "_model_module_version": "1.5.0",
            "_view_count": null,
            "_view_module_version": "1.2.0",
            "bar_color": null,
            "_model_module": "@jupyter-widgets/controls"
          }
        },
        "e068f5c4ecd64265a879bfb9d52abc34": {
          "model_module": "@jupyter-widgets/base",
          "model_name": "LayoutModel",
          "model_module_version": "1.2.0",
          "state": {
            "_view_name": "LayoutView",
            "grid_template_rows": null,
            "right": null,
            "justify_content": null,
            "_view_module": "@jupyter-widgets/base",
            "overflow": null,
            "_model_module_version": "1.2.0",
            "_view_count": null,
            "flex_flow": null,
            "width": null,
            "min_width": null,
            "border": null,
            "align_items": null,
            "bottom": null,
            "_model_module": "@jupyter-widgets/base",
            "top": null,
            "grid_column": null,
            "overflow_y": null,
            "overflow_x": null,
            "grid_auto_flow": null,
            "grid_area": null,
            "grid_template_columns": null,
            "flex": null,
            "_model_name": "LayoutModel",
            "justify_items": null,
            "grid_row": null,
            "max_height": null,
            "align_content": null,
            "visibility": null,
            "align_self": null,
            "height": null,
            "min_height": null,
            "padding": null,
            "grid_auto_rows": null,
            "grid_gap": null,
            "max_width": null,
            "order": null,
            "_view_module_version": "1.2.0",
            "grid_template_areas": null,
            "object_position": null,
            "object_fit": null,
            "grid_auto_columns": null,
            "margin": null,
            "display": null,
            "left": null
          }
        },
        "0ba29442268644a68f9390cb75c9180c": {
          "model_module": "@jupyter-widgets/controls",
          "model_name": "DescriptionStyleModel",
          "model_module_version": "1.5.0",
          "state": {
            "_view_name": "StyleView",
            "_model_name": "DescriptionStyleModel",
            "description_width": "",
            "_view_module": "@jupyter-widgets/base",
            "_model_module_version": "1.5.0",
            "_view_count": null,
            "_view_module_version": "1.2.0",
            "_model_module": "@jupyter-widgets/controls"
          }
        },
        "238f410073e3407c8d7e1ae80cfc7073": {
          "model_module": "@jupyter-widgets/base",
          "model_name": "LayoutModel",
          "model_module_version": "1.2.0",
          "state": {
            "_view_name": "LayoutView",
            "grid_template_rows": null,
            "right": null,
            "justify_content": null,
            "_view_module": "@jupyter-widgets/base",
            "overflow": null,
            "_model_module_version": "1.2.0",
            "_view_count": null,
            "flex_flow": null,
            "width": null,
            "min_width": null,
            "border": null,
            "align_items": null,
            "bottom": null,
            "_model_module": "@jupyter-widgets/base",
            "top": null,
            "grid_column": null,
            "overflow_y": null,
            "overflow_x": null,
            "grid_auto_flow": null,
            "grid_area": null,
            "grid_template_columns": null,
            "flex": null,
            "_model_name": "LayoutModel",
            "justify_items": null,
            "grid_row": null,
            "max_height": null,
            "align_content": null,
            "visibility": null,
            "align_self": null,
            "height": null,
            "min_height": null,
            "padding": null,
            "grid_auto_rows": null,
            "grid_gap": null,
            "max_width": null,
            "order": null,
            "_view_module_version": "1.2.0",
            "grid_template_areas": null,
            "object_position": null,
            "object_fit": null,
            "grid_auto_columns": null,
            "margin": null,
            "display": null,
            "left": null
          }
        },
        "48880bdf38114f658ee8975915f47a67": {
          "model_module": "@jupyter-widgets/controls",
          "model_name": "HBoxModel",
          "model_module_version": "1.5.0",
          "state": {
            "_view_name": "HBoxView",
            "_dom_classes": [],
            "_model_name": "HBoxModel",
            "_view_module": "@jupyter-widgets/controls",
            "_model_module_version": "1.5.0",
            "_view_count": null,
            "_view_module_version": "1.5.0",
            "box_style": "",
            "layout": "IPY_MODEL_ecdfb9c280f2419daeacb8880df3dd87",
            "_model_module": "@jupyter-widgets/controls",
            "children": [
              "IPY_MODEL_ffe37b65bfa9440c9ce8f200357e0569",
              "IPY_MODEL_577a06875b5346579d2ffc5513537fbb",
              "IPY_MODEL_b2406e0804c54fc0b9ddff2fe7b34975"
            ]
          }
        },
        "ecdfb9c280f2419daeacb8880df3dd87": {
          "model_module": "@jupyter-widgets/base",
          "model_name": "LayoutModel",
          "model_module_version": "1.2.0",
          "state": {
            "_view_name": "LayoutView",
            "grid_template_rows": null,
            "right": null,
            "justify_content": null,
            "_view_module": "@jupyter-widgets/base",
            "overflow": null,
            "_model_module_version": "1.2.0",
            "_view_count": null,
            "flex_flow": null,
            "width": null,
            "min_width": null,
            "border": null,
            "align_items": null,
            "bottom": null,
            "_model_module": "@jupyter-widgets/base",
            "top": null,
            "grid_column": null,
            "overflow_y": null,
            "overflow_x": null,
            "grid_auto_flow": null,
            "grid_area": null,
            "grid_template_columns": null,
            "flex": null,
            "_model_name": "LayoutModel",
            "justify_items": null,
            "grid_row": null,
            "max_height": null,
            "align_content": null,
            "visibility": null,
            "align_self": null,
            "height": null,
            "min_height": null,
            "padding": null,
            "grid_auto_rows": null,
            "grid_gap": null,
            "max_width": null,
            "order": null,
            "_view_module_version": "1.2.0",
            "grid_template_areas": null,
            "object_position": null,
            "object_fit": null,
            "grid_auto_columns": null,
            "margin": null,
            "display": null,
            "left": null
          }
        },
        "ffe37b65bfa9440c9ce8f200357e0569": {
          "model_module": "@jupyter-widgets/controls",
          "model_name": "HTMLModel",
          "model_module_version": "1.5.0",
          "state": {
            "_view_name": "HTMLView",
            "style": "IPY_MODEL_f6d1c62278fc4cc8a5dc97bfc75ee3ad",
            "_dom_classes": [],
            "description": "",
            "_model_name": "HTMLModel",
            "placeholder": "​",
            "_view_module": "@jupyter-widgets/controls",
            "_model_module_version": "1.5.0",
            "value": "100%",
            "_view_count": null,
            "_view_module_version": "1.5.0",
            "description_tooltip": null,
            "_model_module": "@jupyter-widgets/controls",
            "layout": "IPY_MODEL_e1338aaa414546f580e5254b74a62bd7"
          }
        },
        "577a06875b5346579d2ffc5513537fbb": {
          "model_module": "@jupyter-widgets/controls",
          "model_name": "FloatProgressModel",
          "model_module_version": "1.5.0",
          "state": {
            "_view_name": "ProgressView",
            "style": "IPY_MODEL_389a257eb0a445238999de14886c84dd",
            "_dom_classes": [],
            "description": "",
            "_model_name": "FloatProgressModel",
            "bar_style": "success",
            "max": 1,
            "_view_module": "@jupyter-widgets/controls",
            "_model_module_version": "1.5.0",
            "value": 1,
            "_view_count": null,
            "_view_module_version": "1.5.0",
            "orientation": "horizontal",
            "min": 0,
            "description_tooltip": null,
            "_model_module": "@jupyter-widgets/controls",
            "layout": "IPY_MODEL_3a288172aef94b3db8c36c0ac9f72b82"
          }
        },
        "b2406e0804c54fc0b9ddff2fe7b34975": {
          "model_module": "@jupyter-widgets/controls",
          "model_name": "HTMLModel",
          "model_module_version": "1.5.0",
          "state": {
            "_view_name": "HTMLView",
            "style": "IPY_MODEL_10fd157818bf42de97b58ac62faeb4b3",
            "_dom_classes": [],
            "description": "",
            "_model_name": "HTMLModel",
            "placeholder": "​",
            "_view_module": "@jupyter-widgets/controls",
            "_model_module_version": "1.5.0",
            "value": " 1/1 [00:00&lt;00:00,  9.67it/s]",
            "_view_count": null,
            "_view_module_version": "1.5.0",
            "description_tooltip": null,
            "_model_module": "@jupyter-widgets/controls",
            "layout": "IPY_MODEL_cd5028e3357243f099ae94ff90673eaa"
          }
        },
        "f6d1c62278fc4cc8a5dc97bfc75ee3ad": {
          "model_module": "@jupyter-widgets/controls",
          "model_name": "DescriptionStyleModel",
          "model_module_version": "1.5.0",
          "state": {
            "_view_name": "StyleView",
            "_model_name": "DescriptionStyleModel",
            "description_width": "",
            "_view_module": "@jupyter-widgets/base",
            "_model_module_version": "1.5.0",
            "_view_count": null,
            "_view_module_version": "1.2.0",
            "_model_module": "@jupyter-widgets/controls"
          }
        },
        "e1338aaa414546f580e5254b74a62bd7": {
          "model_module": "@jupyter-widgets/base",
          "model_name": "LayoutModel",
          "model_module_version": "1.2.0",
          "state": {
            "_view_name": "LayoutView",
            "grid_template_rows": null,
            "right": null,
            "justify_content": null,
            "_view_module": "@jupyter-widgets/base",
            "overflow": null,
            "_model_module_version": "1.2.0",
            "_view_count": null,
            "flex_flow": null,
            "width": null,
            "min_width": null,
            "border": null,
            "align_items": null,
            "bottom": null,
            "_model_module": "@jupyter-widgets/base",
            "top": null,
            "grid_column": null,
            "overflow_y": null,
            "overflow_x": null,
            "grid_auto_flow": null,
            "grid_area": null,
            "grid_template_columns": null,
            "flex": null,
            "_model_name": "LayoutModel",
            "justify_items": null,
            "grid_row": null,
            "max_height": null,
            "align_content": null,
            "visibility": null,
            "align_self": null,
            "height": null,
            "min_height": null,
            "padding": null,
            "grid_auto_rows": null,
            "grid_gap": null,
            "max_width": null,
            "order": null,
            "_view_module_version": "1.2.0",
            "grid_template_areas": null,
            "object_position": null,
            "object_fit": null,
            "grid_auto_columns": null,
            "margin": null,
            "display": null,
            "left": null
          }
        },
        "389a257eb0a445238999de14886c84dd": {
          "model_module": "@jupyter-widgets/controls",
          "model_name": "ProgressStyleModel",
          "model_module_version": "1.5.0",
          "state": {
            "_view_name": "StyleView",
            "_model_name": "ProgressStyleModel",
            "description_width": "",
            "_view_module": "@jupyter-widgets/base",
            "_model_module_version": "1.5.0",
            "_view_count": null,
            "_view_module_version": "1.2.0",
            "bar_color": null,
            "_model_module": "@jupyter-widgets/controls"
          }
        },
        "3a288172aef94b3db8c36c0ac9f72b82": {
          "model_module": "@jupyter-widgets/base",
          "model_name": "LayoutModel",
          "model_module_version": "1.2.0",
          "state": {
            "_view_name": "LayoutView",
            "grid_template_rows": null,
            "right": null,
            "justify_content": null,
            "_view_module": "@jupyter-widgets/base",
            "overflow": null,
            "_model_module_version": "1.2.0",
            "_view_count": null,
            "flex_flow": null,
            "width": null,
            "min_width": null,
            "border": null,
            "align_items": null,
            "bottom": null,
            "_model_module": "@jupyter-widgets/base",
            "top": null,
            "grid_column": null,
            "overflow_y": null,
            "overflow_x": null,
            "grid_auto_flow": null,
            "grid_area": null,
            "grid_template_columns": null,
            "flex": null,
            "_model_name": "LayoutModel",
            "justify_items": null,
            "grid_row": null,
            "max_height": null,
            "align_content": null,
            "visibility": null,
            "align_self": null,
            "height": null,
            "min_height": null,
            "padding": null,
            "grid_auto_rows": null,
            "grid_gap": null,
            "max_width": null,
            "order": null,
            "_view_module_version": "1.2.0",
            "grid_template_areas": null,
            "object_position": null,
            "object_fit": null,
            "grid_auto_columns": null,
            "margin": null,
            "display": null,
            "left": null
          }
        },
        "10fd157818bf42de97b58ac62faeb4b3": {
          "model_module": "@jupyter-widgets/controls",
          "model_name": "DescriptionStyleModel",
          "model_module_version": "1.5.0",
          "state": {
            "_view_name": "StyleView",
            "_model_name": "DescriptionStyleModel",
            "description_width": "",
            "_view_module": "@jupyter-widgets/base",
            "_model_module_version": "1.5.0",
            "_view_count": null,
            "_view_module_version": "1.2.0",
            "_model_module": "@jupyter-widgets/controls"
          }
        },
        "cd5028e3357243f099ae94ff90673eaa": {
          "model_module": "@jupyter-widgets/base",
          "model_name": "LayoutModel",
          "model_module_version": "1.2.0",
          "state": {
            "_view_name": "LayoutView",
            "grid_template_rows": null,
            "right": null,
            "justify_content": null,
            "_view_module": "@jupyter-widgets/base",
            "overflow": null,
            "_model_module_version": "1.2.0",
            "_view_count": null,
            "flex_flow": null,
            "width": null,
            "min_width": null,
            "border": null,
            "align_items": null,
            "bottom": null,
            "_model_module": "@jupyter-widgets/base",
            "top": null,
            "grid_column": null,
            "overflow_y": null,
            "overflow_x": null,
            "grid_auto_flow": null,
            "grid_area": null,
            "grid_template_columns": null,
            "flex": null,
            "_model_name": "LayoutModel",
            "justify_items": null,
            "grid_row": null,
            "max_height": null,
            "align_content": null,
            "visibility": null,
            "align_self": null,
            "height": null,
            "min_height": null,
            "padding": null,
            "grid_auto_rows": null,
            "grid_gap": null,
            "max_width": null,
            "order": null,
            "_view_module_version": "1.2.0",
            "grid_template_areas": null,
            "object_position": null,
            "object_fit": null,
            "grid_auto_columns": null,
            "margin": null,
            "display": null,
            "left": null
          }
        },
        "ef7a3fd219d14195bc7ec7c05beb3293": {
          "model_module": "@jupyter-widgets/controls",
          "model_name": "HBoxModel",
          "model_module_version": "1.5.0",
          "state": {
            "_view_name": "HBoxView",
            "_dom_classes": [],
            "_model_name": "HBoxModel",
            "_view_module": "@jupyter-widgets/controls",
            "_model_module_version": "1.5.0",
            "_view_count": null,
            "_view_module_version": "1.5.0",
            "box_style": "",
            "layout": "IPY_MODEL_baf91b281f1c455c88ff3916724602ed",
            "_model_module": "@jupyter-widgets/controls",
            "children": [
              "IPY_MODEL_3d908ea874ea41ccab8746229a6c1994",
              "IPY_MODEL_f1b5599859d0454bb2603900f9c5d01b",
              "IPY_MODEL_15f3b84a70ef4f1d9c2a57cefb6e7187"
            ]
          }
        },
        "baf91b281f1c455c88ff3916724602ed": {
          "model_module": "@jupyter-widgets/base",
          "model_name": "LayoutModel",
          "model_module_version": "1.2.0",
          "state": {
            "_view_name": "LayoutView",
            "grid_template_rows": null,
            "right": null,
            "justify_content": null,
            "_view_module": "@jupyter-widgets/base",
            "overflow": null,
            "_model_module_version": "1.2.0",
            "_view_count": null,
            "flex_flow": null,
            "width": null,
            "min_width": null,
            "border": null,
            "align_items": null,
            "bottom": null,
            "_model_module": "@jupyter-widgets/base",
            "top": null,
            "grid_column": null,
            "overflow_y": null,
            "overflow_x": null,
            "grid_auto_flow": null,
            "grid_area": null,
            "grid_template_columns": null,
            "flex": null,
            "_model_name": "LayoutModel",
            "justify_items": null,
            "grid_row": null,
            "max_height": null,
            "align_content": null,
            "visibility": null,
            "align_self": null,
            "height": null,
            "min_height": null,
            "padding": null,
            "grid_auto_rows": null,
            "grid_gap": null,
            "max_width": null,
            "order": null,
            "_view_module_version": "1.2.0",
            "grid_template_areas": null,
            "object_position": null,
            "object_fit": null,
            "grid_auto_columns": null,
            "margin": null,
            "display": null,
            "left": null
          }
        },
        "3d908ea874ea41ccab8746229a6c1994": {
          "model_module": "@jupyter-widgets/controls",
          "model_name": "HTMLModel",
          "model_module_version": "1.5.0",
          "state": {
            "_view_name": "HTMLView",
            "style": "IPY_MODEL_3cfc15f5322948478e24486af9c73123",
            "_dom_classes": [],
            "description": "",
            "_model_name": "HTMLModel",
            "placeholder": "​",
            "_view_module": "@jupyter-widgets/controls",
            "_model_module_version": "1.5.0",
            "value": "Running Prediction: 100%",
            "_view_count": null,
            "_view_module_version": "1.5.0",
            "description_tooltip": null,
            "_model_module": "@jupyter-widgets/controls",
            "layout": "IPY_MODEL_5af45b5acc6f4badb6bb0742305502ee"
          }
        },
        "f1b5599859d0454bb2603900f9c5d01b": {
          "model_module": "@jupyter-widgets/controls",
          "model_name": "FloatProgressModel",
          "model_module_version": "1.5.0",
          "state": {
            "_view_name": "ProgressView",
            "style": "IPY_MODEL_f67e82f562c14b60b79890431f66cde7",
            "_dom_classes": [],
            "description": "",
            "_model_name": "FloatProgressModel",
            "bar_style": "success",
            "max": 1,
            "_view_module": "@jupyter-widgets/controls",
            "_model_module_version": "1.5.0",
            "value": 1,
            "_view_count": null,
            "_view_module_version": "1.5.0",
            "orientation": "horizontal",
            "min": 0,
            "description_tooltip": null,
            "_model_module": "@jupyter-widgets/controls",
            "layout": "IPY_MODEL_b022bda475e542e4af6d5cd06d3b8c67"
          }
        },
        "15f3b84a70ef4f1d9c2a57cefb6e7187": {
          "model_module": "@jupyter-widgets/controls",
          "model_name": "HTMLModel",
          "model_module_version": "1.5.0",
          "state": {
            "_view_name": "HTMLView",
            "style": "IPY_MODEL_f6cb50f067184abc9791c83b505dad11",
            "_dom_classes": [],
            "description": "",
            "_model_name": "HTMLModel",
            "placeholder": "​",
            "_view_module": "@jupyter-widgets/controls",
            "_model_module_version": "1.5.0",
            "value": " 1/1 [00:00&lt;00:00, 14.58it/s]",
            "_view_count": null,
            "_view_module_version": "1.5.0",
            "description_tooltip": null,
            "_model_module": "@jupyter-widgets/controls",
            "layout": "IPY_MODEL_810b293193a74cebb1e502d897e940f0"
          }
        },
        "3cfc15f5322948478e24486af9c73123": {
          "model_module": "@jupyter-widgets/controls",
          "model_name": "DescriptionStyleModel",
          "model_module_version": "1.5.0",
          "state": {
            "_view_name": "StyleView",
            "_model_name": "DescriptionStyleModel",
            "description_width": "",
            "_view_module": "@jupyter-widgets/base",
            "_model_module_version": "1.5.0",
            "_view_count": null,
            "_view_module_version": "1.2.0",
            "_model_module": "@jupyter-widgets/controls"
          }
        },
        "5af45b5acc6f4badb6bb0742305502ee": {
          "model_module": "@jupyter-widgets/base",
          "model_name": "LayoutModel",
          "model_module_version": "1.2.0",
          "state": {
            "_view_name": "LayoutView",
            "grid_template_rows": null,
            "right": null,
            "justify_content": null,
            "_view_module": "@jupyter-widgets/base",
            "overflow": null,
            "_model_module_version": "1.2.0",
            "_view_count": null,
            "flex_flow": null,
            "width": null,
            "min_width": null,
            "border": null,
            "align_items": null,
            "bottom": null,
            "_model_module": "@jupyter-widgets/base",
            "top": null,
            "grid_column": null,
            "overflow_y": null,
            "overflow_x": null,
            "grid_auto_flow": null,
            "grid_area": null,
            "grid_template_columns": null,
            "flex": null,
            "_model_name": "LayoutModel",
            "justify_items": null,
            "grid_row": null,
            "max_height": null,
            "align_content": null,
            "visibility": null,
            "align_self": null,
            "height": null,
            "min_height": null,
            "padding": null,
            "grid_auto_rows": null,
            "grid_gap": null,
            "max_width": null,
            "order": null,
            "_view_module_version": "1.2.0",
            "grid_template_areas": null,
            "object_position": null,
            "object_fit": null,
            "grid_auto_columns": null,
            "margin": null,
            "display": null,
            "left": null
          }
        },
        "f67e82f562c14b60b79890431f66cde7": {
          "model_module": "@jupyter-widgets/controls",
          "model_name": "ProgressStyleModel",
          "model_module_version": "1.5.0",
          "state": {
            "_view_name": "StyleView",
            "_model_name": "ProgressStyleModel",
            "description_width": "",
            "_view_module": "@jupyter-widgets/base",
            "_model_module_version": "1.5.0",
            "_view_count": null,
            "_view_module_version": "1.2.0",
            "bar_color": null,
            "_model_module": "@jupyter-widgets/controls"
          }
        },
        "b022bda475e542e4af6d5cd06d3b8c67": {
          "model_module": "@jupyter-widgets/base",
          "model_name": "LayoutModel",
          "model_module_version": "1.2.0",
          "state": {
            "_view_name": "LayoutView",
            "grid_template_rows": null,
            "right": null,
            "justify_content": null,
            "_view_module": "@jupyter-widgets/base",
            "overflow": null,
            "_model_module_version": "1.2.0",
            "_view_count": null,
            "flex_flow": null,
            "width": null,
            "min_width": null,
            "border": null,
            "align_items": null,
            "bottom": null,
            "_model_module": "@jupyter-widgets/base",
            "top": null,
            "grid_column": null,
            "overflow_y": null,
            "overflow_x": null,
            "grid_auto_flow": null,
            "grid_area": null,
            "grid_template_columns": null,
            "flex": null,
            "_model_name": "LayoutModel",
            "justify_items": null,
            "grid_row": null,
            "max_height": null,
            "align_content": null,
            "visibility": null,
            "align_self": null,
            "height": null,
            "min_height": null,
            "padding": null,
            "grid_auto_rows": null,
            "grid_gap": null,
            "max_width": null,
            "order": null,
            "_view_module_version": "1.2.0",
            "grid_template_areas": null,
            "object_position": null,
            "object_fit": null,
            "grid_auto_columns": null,
            "margin": null,
            "display": null,
            "left": null
          }
        },
        "f6cb50f067184abc9791c83b505dad11": {
          "model_module": "@jupyter-widgets/controls",
          "model_name": "DescriptionStyleModel",
          "model_module_version": "1.5.0",
          "state": {
            "_view_name": "StyleView",
            "_model_name": "DescriptionStyleModel",
            "description_width": "",
            "_view_module": "@jupyter-widgets/base",
            "_model_module_version": "1.5.0",
            "_view_count": null,
            "_view_module_version": "1.2.0",
            "_model_module": "@jupyter-widgets/controls"
          }
        },
        "810b293193a74cebb1e502d897e940f0": {
          "model_module": "@jupyter-widgets/base",
          "model_name": "LayoutModel",
          "model_module_version": "1.2.0",
          "state": {
            "_view_name": "LayoutView",
            "grid_template_rows": null,
            "right": null,
            "justify_content": null,
            "_view_module": "@jupyter-widgets/base",
            "overflow": null,
            "_model_module_version": "1.2.0",
            "_view_count": null,
            "flex_flow": null,
            "width": null,
            "min_width": null,
            "border": null,
            "align_items": null,
            "bottom": null,
            "_model_module": "@jupyter-widgets/base",
            "top": null,
            "grid_column": null,
            "overflow_y": null,
            "overflow_x": null,
            "grid_auto_flow": null,
            "grid_area": null,
            "grid_template_columns": null,
            "flex": null,
            "_model_name": "LayoutModel",
            "justify_items": null,
            "grid_row": null,
            "max_height": null,
            "align_content": null,
            "visibility": null,
            "align_self": null,
            "height": null,
            "min_height": null,
            "padding": null,
            "grid_auto_rows": null,
            "grid_gap": null,
            "max_width": null,
            "order": null,
            "_view_module_version": "1.2.0",
            "grid_template_areas": null,
            "object_position": null,
            "object_fit": null,
            "grid_auto_columns": null,
            "margin": null,
            "display": null,
            "left": null
          }
        },
        "1deb07748f744e06a08478b9d54edf55": {
          "model_module": "@jupyter-widgets/controls",
          "model_name": "HBoxModel",
          "model_module_version": "1.5.0",
          "state": {
            "_view_name": "HBoxView",
            "_dom_classes": [],
            "_model_name": "HBoxModel",
            "_view_module": "@jupyter-widgets/controls",
            "_model_module_version": "1.5.0",
            "_view_count": null,
            "_view_module_version": "1.5.0",
            "box_style": "",
            "layout": "IPY_MODEL_c154b22410a848d09668139c828ca165",
            "_model_module": "@jupyter-widgets/controls",
            "children": [
              "IPY_MODEL_1d05903a8d2648a288e3e823015a0b94",
              "IPY_MODEL_b8058bca2eac45e387a55190ddfd6cca",
              "IPY_MODEL_c740af546ae147589d1756027ff9cc71"
            ]
          }
        },
        "c154b22410a848d09668139c828ca165": {
          "model_module": "@jupyter-widgets/base",
          "model_name": "LayoutModel",
          "model_module_version": "1.2.0",
          "state": {
            "_view_name": "LayoutView",
            "grid_template_rows": null,
            "right": null,
            "justify_content": null,
            "_view_module": "@jupyter-widgets/base",
            "overflow": null,
            "_model_module_version": "1.2.0",
            "_view_count": null,
            "flex_flow": null,
            "width": null,
            "min_width": null,
            "border": null,
            "align_items": null,
            "bottom": null,
            "_model_module": "@jupyter-widgets/base",
            "top": null,
            "grid_column": null,
            "overflow_y": null,
            "overflow_x": null,
            "grid_auto_flow": null,
            "grid_area": null,
            "grid_template_columns": null,
            "flex": null,
            "_model_name": "LayoutModel",
            "justify_items": null,
            "grid_row": null,
            "max_height": null,
            "align_content": null,
            "visibility": null,
            "align_self": null,
            "height": null,
            "min_height": null,
            "padding": null,
            "grid_auto_rows": null,
            "grid_gap": null,
            "max_width": null,
            "order": null,
            "_view_module_version": "1.2.0",
            "grid_template_areas": null,
            "object_position": null,
            "object_fit": null,
            "grid_auto_columns": null,
            "margin": null,
            "display": null,
            "left": null
          }
        },
        "1d05903a8d2648a288e3e823015a0b94": {
          "model_module": "@jupyter-widgets/controls",
          "model_name": "HTMLModel",
          "model_module_version": "1.5.0",
          "state": {
            "_view_name": "HTMLView",
            "style": "IPY_MODEL_5fd1f648727b4a758e1488d3795bb41e",
            "_dom_classes": [],
            "description": "",
            "_model_name": "HTMLModel",
            "placeholder": "​",
            "_view_module": "@jupyter-widgets/controls",
            "_model_module_version": "1.5.0",
            "value": "100%",
            "_view_count": null,
            "_view_module_version": "1.5.0",
            "description_tooltip": null,
            "_model_module": "@jupyter-widgets/controls",
            "layout": "IPY_MODEL_95cf39dfc0bc444291a40a3b5d40a1ba"
          }
        },
        "b8058bca2eac45e387a55190ddfd6cca": {
          "model_module": "@jupyter-widgets/controls",
          "model_name": "FloatProgressModel",
          "model_module_version": "1.5.0",
          "state": {
            "_view_name": "ProgressView",
            "style": "IPY_MODEL_d64b0d5f21c942a996b849c1eaed7c1c",
            "_dom_classes": [],
            "description": "",
            "_model_name": "FloatProgressModel",
            "bar_style": "success",
            "max": 1,
            "_view_module": "@jupyter-widgets/controls",
            "_model_module_version": "1.5.0",
            "value": 1,
            "_view_count": null,
            "_view_module_version": "1.5.0",
            "orientation": "horizontal",
            "min": 0,
            "description_tooltip": null,
            "_model_module": "@jupyter-widgets/controls",
            "layout": "IPY_MODEL_3b78b59a1d904484a61fcb25c4ed4565"
          }
        },
        "c740af546ae147589d1756027ff9cc71": {
          "model_module": "@jupyter-widgets/controls",
          "model_name": "HTMLModel",
          "model_module_version": "1.5.0",
          "state": {
            "_view_name": "HTMLView",
            "style": "IPY_MODEL_cf951b1067264aed954abea1a0178f3b",
            "_dom_classes": [],
            "description": "",
            "_model_name": "HTMLModel",
            "placeholder": "​",
            "_view_module": "@jupyter-widgets/controls",
            "_model_module_version": "1.5.0",
            "value": " 1/1 [00:00&lt;00:00, 10.54it/s]",
            "_view_count": null,
            "_view_module_version": "1.5.0",
            "description_tooltip": null,
            "_model_module": "@jupyter-widgets/controls",
            "layout": "IPY_MODEL_3f90e870282c4d388e9a818865468f48"
          }
        },
        "5fd1f648727b4a758e1488d3795bb41e": {
          "model_module": "@jupyter-widgets/controls",
          "model_name": "DescriptionStyleModel",
          "model_module_version": "1.5.0",
          "state": {
            "_view_name": "StyleView",
            "_model_name": "DescriptionStyleModel",
            "description_width": "",
            "_view_module": "@jupyter-widgets/base",
            "_model_module_version": "1.5.0",
            "_view_count": null,
            "_view_module_version": "1.2.0",
            "_model_module": "@jupyter-widgets/controls"
          }
        },
        "95cf39dfc0bc444291a40a3b5d40a1ba": {
          "model_module": "@jupyter-widgets/base",
          "model_name": "LayoutModel",
          "model_module_version": "1.2.0",
          "state": {
            "_view_name": "LayoutView",
            "grid_template_rows": null,
            "right": null,
            "justify_content": null,
            "_view_module": "@jupyter-widgets/base",
            "overflow": null,
            "_model_module_version": "1.2.0",
            "_view_count": null,
            "flex_flow": null,
            "width": null,
            "min_width": null,
            "border": null,
            "align_items": null,
            "bottom": null,
            "_model_module": "@jupyter-widgets/base",
            "top": null,
            "grid_column": null,
            "overflow_y": null,
            "overflow_x": null,
            "grid_auto_flow": null,
            "grid_area": null,
            "grid_template_columns": null,
            "flex": null,
            "_model_name": "LayoutModel",
            "justify_items": null,
            "grid_row": null,
            "max_height": null,
            "align_content": null,
            "visibility": null,
            "align_self": null,
            "height": null,
            "min_height": null,
            "padding": null,
            "grid_auto_rows": null,
            "grid_gap": null,
            "max_width": null,
            "order": null,
            "_view_module_version": "1.2.0",
            "grid_template_areas": null,
            "object_position": null,
            "object_fit": null,
            "grid_auto_columns": null,
            "margin": null,
            "display": null,
            "left": null
          }
        },
        "d64b0d5f21c942a996b849c1eaed7c1c": {
          "model_module": "@jupyter-widgets/controls",
          "model_name": "ProgressStyleModel",
          "model_module_version": "1.5.0",
          "state": {
            "_view_name": "StyleView",
            "_model_name": "ProgressStyleModel",
            "description_width": "",
            "_view_module": "@jupyter-widgets/base",
            "_model_module_version": "1.5.0",
            "_view_count": null,
            "_view_module_version": "1.2.0",
            "bar_color": null,
            "_model_module": "@jupyter-widgets/controls"
          }
        },
        "3b78b59a1d904484a61fcb25c4ed4565": {
          "model_module": "@jupyter-widgets/base",
          "model_name": "LayoutModel",
          "model_module_version": "1.2.0",
          "state": {
            "_view_name": "LayoutView",
            "grid_template_rows": null,
            "right": null,
            "justify_content": null,
            "_view_module": "@jupyter-widgets/base",
            "overflow": null,
            "_model_module_version": "1.2.0",
            "_view_count": null,
            "flex_flow": null,
            "width": null,
            "min_width": null,
            "border": null,
            "align_items": null,
            "bottom": null,
            "_model_module": "@jupyter-widgets/base",
            "top": null,
            "grid_column": null,
            "overflow_y": null,
            "overflow_x": null,
            "grid_auto_flow": null,
            "grid_area": null,
            "grid_template_columns": null,
            "flex": null,
            "_model_name": "LayoutModel",
            "justify_items": null,
            "grid_row": null,
            "max_height": null,
            "align_content": null,
            "visibility": null,
            "align_self": null,
            "height": null,
            "min_height": null,
            "padding": null,
            "grid_auto_rows": null,
            "grid_gap": null,
            "max_width": null,
            "order": null,
            "_view_module_version": "1.2.0",
            "grid_template_areas": null,
            "object_position": null,
            "object_fit": null,
            "grid_auto_columns": null,
            "margin": null,
            "display": null,
            "left": null
          }
        },
        "cf951b1067264aed954abea1a0178f3b": {
          "model_module": "@jupyter-widgets/controls",
          "model_name": "DescriptionStyleModel",
          "model_module_version": "1.5.0",
          "state": {
            "_view_name": "StyleView",
            "_model_name": "DescriptionStyleModel",
            "description_width": "",
            "_view_module": "@jupyter-widgets/base",
            "_model_module_version": "1.5.0",
            "_view_count": null,
            "_view_module_version": "1.2.0",
            "_model_module": "@jupyter-widgets/controls"
          }
        },
        "3f90e870282c4d388e9a818865468f48": {
          "model_module": "@jupyter-widgets/base",
          "model_name": "LayoutModel",
          "model_module_version": "1.2.0",
          "state": {
            "_view_name": "LayoutView",
            "grid_template_rows": null,
            "right": null,
            "justify_content": null,
            "_view_module": "@jupyter-widgets/base",
            "overflow": null,
            "_model_module_version": "1.2.0",
            "_view_count": null,
            "flex_flow": null,
            "width": null,
            "min_width": null,
            "border": null,
            "align_items": null,
            "bottom": null,
            "_model_module": "@jupyter-widgets/base",
            "top": null,
            "grid_column": null,
            "overflow_y": null,
            "overflow_x": null,
            "grid_auto_flow": null,
            "grid_area": null,
            "grid_template_columns": null,
            "flex": null,
            "_model_name": "LayoutModel",
            "justify_items": null,
            "grid_row": null,
            "max_height": null,
            "align_content": null,
            "visibility": null,
            "align_self": null,
            "height": null,
            "min_height": null,
            "padding": null,
            "grid_auto_rows": null,
            "grid_gap": null,
            "max_width": null,
            "order": null,
            "_view_module_version": "1.2.0",
            "grid_template_areas": null,
            "object_position": null,
            "object_fit": null,
            "grid_auto_columns": null,
            "margin": null,
            "display": null,
            "left": null
          }
        },
        "0462287c16d64879aba6279b9dc4c875": {
          "model_module": "@jupyter-widgets/controls",
          "model_name": "HBoxModel",
          "model_module_version": "1.5.0",
          "state": {
            "_view_name": "HBoxView",
            "_dom_classes": [],
            "_model_name": "HBoxModel",
            "_view_module": "@jupyter-widgets/controls",
            "_model_module_version": "1.5.0",
            "_view_count": null,
            "_view_module_version": "1.5.0",
            "box_style": "",
            "layout": "IPY_MODEL_8a5093643e4348ecac1b1a8a0a3e4069",
            "_model_module": "@jupyter-widgets/controls",
            "children": [
              "IPY_MODEL_bf2bf8f77e67412eadd947748e1a833f",
              "IPY_MODEL_12ba0f96562840d0abd0e1721b246b0c",
              "IPY_MODEL_ea0df7085f4a45ca9890147d4a490154"
            ]
          }
        },
        "8a5093643e4348ecac1b1a8a0a3e4069": {
          "model_module": "@jupyter-widgets/base",
          "model_name": "LayoutModel",
          "model_module_version": "1.2.0",
          "state": {
            "_view_name": "LayoutView",
            "grid_template_rows": null,
            "right": null,
            "justify_content": null,
            "_view_module": "@jupyter-widgets/base",
            "overflow": null,
            "_model_module_version": "1.2.0",
            "_view_count": null,
            "flex_flow": null,
            "width": null,
            "min_width": null,
            "border": null,
            "align_items": null,
            "bottom": null,
            "_model_module": "@jupyter-widgets/base",
            "top": null,
            "grid_column": null,
            "overflow_y": null,
            "overflow_x": null,
            "grid_auto_flow": null,
            "grid_area": null,
            "grid_template_columns": null,
            "flex": null,
            "_model_name": "LayoutModel",
            "justify_items": null,
            "grid_row": null,
            "max_height": null,
            "align_content": null,
            "visibility": null,
            "align_self": null,
            "height": null,
            "min_height": null,
            "padding": null,
            "grid_auto_rows": null,
            "grid_gap": null,
            "max_width": null,
            "order": null,
            "_view_module_version": "1.2.0",
            "grid_template_areas": null,
            "object_position": null,
            "object_fit": null,
            "grid_auto_columns": null,
            "margin": null,
            "display": null,
            "left": null
          }
        },
        "bf2bf8f77e67412eadd947748e1a833f": {
          "model_module": "@jupyter-widgets/controls",
          "model_name": "HTMLModel",
          "model_module_version": "1.5.0",
          "state": {
            "_view_name": "HTMLView",
            "style": "IPY_MODEL_532d59ff9dc54e628488e287f321d034",
            "_dom_classes": [],
            "description": "",
            "_model_name": "HTMLModel",
            "placeholder": "​",
            "_view_module": "@jupyter-widgets/controls",
            "_model_module_version": "1.5.0",
            "value": "Running Prediction: 100%",
            "_view_count": null,
            "_view_module_version": "1.5.0",
            "description_tooltip": null,
            "_model_module": "@jupyter-widgets/controls",
            "layout": "IPY_MODEL_7cd81edb75454875b2b27a113aaddd4e"
          }
        },
        "12ba0f96562840d0abd0e1721b246b0c": {
          "model_module": "@jupyter-widgets/controls",
          "model_name": "FloatProgressModel",
          "model_module_version": "1.5.0",
          "state": {
            "_view_name": "ProgressView",
            "style": "IPY_MODEL_096100e661be4c8e80c948646b85d524",
            "_dom_classes": [],
            "description": "",
            "_model_name": "FloatProgressModel",
            "bar_style": "success",
            "max": 1,
            "_view_module": "@jupyter-widgets/controls",
            "_model_module_version": "1.5.0",
            "value": 1,
            "_view_count": null,
            "_view_module_version": "1.5.0",
            "orientation": "horizontal",
            "min": 0,
            "description_tooltip": null,
            "_model_module": "@jupyter-widgets/controls",
            "layout": "IPY_MODEL_228d18826f3e497893568640ab1a2e32"
          }
        },
        "ea0df7085f4a45ca9890147d4a490154": {
          "model_module": "@jupyter-widgets/controls",
          "model_name": "HTMLModel",
          "model_module_version": "1.5.0",
          "state": {
            "_view_name": "HTMLView",
            "style": "IPY_MODEL_2bb90f080ddc464c98b84754f542cde5",
            "_dom_classes": [],
            "description": "",
            "_model_name": "HTMLModel",
            "placeholder": "​",
            "_view_module": "@jupyter-widgets/controls",
            "_model_module_version": "1.5.0",
            "value": " 1/1 [00:00&lt;00:00, 18.81it/s]",
            "_view_count": null,
            "_view_module_version": "1.5.0",
            "description_tooltip": null,
            "_model_module": "@jupyter-widgets/controls",
            "layout": "IPY_MODEL_eb7b5ec8f2bb45068a58a51f4e6b57c6"
          }
        },
        "532d59ff9dc54e628488e287f321d034": {
          "model_module": "@jupyter-widgets/controls",
          "model_name": "DescriptionStyleModel",
          "model_module_version": "1.5.0",
          "state": {
            "_view_name": "StyleView",
            "_model_name": "DescriptionStyleModel",
            "description_width": "",
            "_view_module": "@jupyter-widgets/base",
            "_model_module_version": "1.5.0",
            "_view_count": null,
            "_view_module_version": "1.2.0",
            "_model_module": "@jupyter-widgets/controls"
          }
        },
        "7cd81edb75454875b2b27a113aaddd4e": {
          "model_module": "@jupyter-widgets/base",
          "model_name": "LayoutModel",
          "model_module_version": "1.2.0",
          "state": {
            "_view_name": "LayoutView",
            "grid_template_rows": null,
            "right": null,
            "justify_content": null,
            "_view_module": "@jupyter-widgets/base",
            "overflow": null,
            "_model_module_version": "1.2.0",
            "_view_count": null,
            "flex_flow": null,
            "width": null,
            "min_width": null,
            "border": null,
            "align_items": null,
            "bottom": null,
            "_model_module": "@jupyter-widgets/base",
            "top": null,
            "grid_column": null,
            "overflow_y": null,
            "overflow_x": null,
            "grid_auto_flow": null,
            "grid_area": null,
            "grid_template_columns": null,
            "flex": null,
            "_model_name": "LayoutModel",
            "justify_items": null,
            "grid_row": null,
            "max_height": null,
            "align_content": null,
            "visibility": null,
            "align_self": null,
            "height": null,
            "min_height": null,
            "padding": null,
            "grid_auto_rows": null,
            "grid_gap": null,
            "max_width": null,
            "order": null,
            "_view_module_version": "1.2.0",
            "grid_template_areas": null,
            "object_position": null,
            "object_fit": null,
            "grid_auto_columns": null,
            "margin": null,
            "display": null,
            "left": null
          }
        },
        "096100e661be4c8e80c948646b85d524": {
          "model_module": "@jupyter-widgets/controls",
          "model_name": "ProgressStyleModel",
          "model_module_version": "1.5.0",
          "state": {
            "_view_name": "StyleView",
            "_model_name": "ProgressStyleModel",
            "description_width": "",
            "_view_module": "@jupyter-widgets/base",
            "_model_module_version": "1.5.0",
            "_view_count": null,
            "_view_module_version": "1.2.0",
            "bar_color": null,
            "_model_module": "@jupyter-widgets/controls"
          }
        },
        "228d18826f3e497893568640ab1a2e32": {
          "model_module": "@jupyter-widgets/base",
          "model_name": "LayoutModel",
          "model_module_version": "1.2.0",
          "state": {
            "_view_name": "LayoutView",
            "grid_template_rows": null,
            "right": null,
            "justify_content": null,
            "_view_module": "@jupyter-widgets/base",
            "overflow": null,
            "_model_module_version": "1.2.0",
            "_view_count": null,
            "flex_flow": null,
            "width": null,
            "min_width": null,
            "border": null,
            "align_items": null,
            "bottom": null,
            "_model_module": "@jupyter-widgets/base",
            "top": null,
            "grid_column": null,
            "overflow_y": null,
            "overflow_x": null,
            "grid_auto_flow": null,
            "grid_area": null,
            "grid_template_columns": null,
            "flex": null,
            "_model_name": "LayoutModel",
            "justify_items": null,
            "grid_row": null,
            "max_height": null,
            "align_content": null,
            "visibility": null,
            "align_self": null,
            "height": null,
            "min_height": null,
            "padding": null,
            "grid_auto_rows": null,
            "grid_gap": null,
            "max_width": null,
            "order": null,
            "_view_module_version": "1.2.0",
            "grid_template_areas": null,
            "object_position": null,
            "object_fit": null,
            "grid_auto_columns": null,
            "margin": null,
            "display": null,
            "left": null
          }
        },
        "2bb90f080ddc464c98b84754f542cde5": {
          "model_module": "@jupyter-widgets/controls",
          "model_name": "DescriptionStyleModel",
          "model_module_version": "1.5.0",
          "state": {
            "_view_name": "StyleView",
            "_model_name": "DescriptionStyleModel",
            "description_width": "",
            "_view_module": "@jupyter-widgets/base",
            "_model_module_version": "1.5.0",
            "_view_count": null,
            "_view_module_version": "1.2.0",
            "_model_module": "@jupyter-widgets/controls"
          }
        },
        "eb7b5ec8f2bb45068a58a51f4e6b57c6": {
          "model_module": "@jupyter-widgets/base",
          "model_name": "LayoutModel",
          "model_module_version": "1.2.0",
          "state": {
            "_view_name": "LayoutView",
            "grid_template_rows": null,
            "right": null,
            "justify_content": null,
            "_view_module": "@jupyter-widgets/base",
            "overflow": null,
            "_model_module_version": "1.2.0",
            "_view_count": null,
            "flex_flow": null,
            "width": null,
            "min_width": null,
            "border": null,
            "align_items": null,
            "bottom": null,
            "_model_module": "@jupyter-widgets/base",
            "top": null,
            "grid_column": null,
            "overflow_y": null,
            "overflow_x": null,
            "grid_auto_flow": null,
            "grid_area": null,
            "grid_template_columns": null,
            "flex": null,
            "_model_name": "LayoutModel",
            "justify_items": null,
            "grid_row": null,
            "max_height": null,
            "align_content": null,
            "visibility": null,
            "align_self": null,
            "height": null,
            "min_height": null,
            "padding": null,
            "grid_auto_rows": null,
            "grid_gap": null,
            "max_width": null,
            "order": null,
            "_view_module_version": "1.2.0",
            "grid_template_areas": null,
            "object_position": null,
            "object_fit": null,
            "grid_auto_columns": null,
            "margin": null,
            "display": null,
            "left": null
          }
        },
        "e9fd74b2679a4f84904d1b48cd5c1947": {
          "model_module": "@jupyter-widgets/controls",
          "model_name": "HBoxModel",
          "model_module_version": "1.5.0",
          "state": {
            "_view_name": "HBoxView",
            "_dom_classes": [],
            "_model_name": "HBoxModel",
            "_view_module": "@jupyter-widgets/controls",
            "_model_module_version": "1.5.0",
            "_view_count": null,
            "_view_module_version": "1.5.0",
            "box_style": "",
            "layout": "IPY_MODEL_11c612ad5827472287d6b4930a22624a",
            "_model_module": "@jupyter-widgets/controls",
            "children": [
              "IPY_MODEL_413d11dbbe1e40d7a021fb6be8b133b2",
              "IPY_MODEL_0d0893e962a24b69a20e561ab7fdbfee",
              "IPY_MODEL_ec5090cd83ac4f4784135f92e2b6c100"
            ]
          }
        },
        "11c612ad5827472287d6b4930a22624a": {
          "model_module": "@jupyter-widgets/base",
          "model_name": "LayoutModel",
          "model_module_version": "1.2.0",
          "state": {
            "_view_name": "LayoutView",
            "grid_template_rows": null,
            "right": null,
            "justify_content": null,
            "_view_module": "@jupyter-widgets/base",
            "overflow": null,
            "_model_module_version": "1.2.0",
            "_view_count": null,
            "flex_flow": null,
            "width": null,
            "min_width": null,
            "border": null,
            "align_items": null,
            "bottom": null,
            "_model_module": "@jupyter-widgets/base",
            "top": null,
            "grid_column": null,
            "overflow_y": null,
            "overflow_x": null,
            "grid_auto_flow": null,
            "grid_area": null,
            "grid_template_columns": null,
            "flex": null,
            "_model_name": "LayoutModel",
            "justify_items": null,
            "grid_row": null,
            "max_height": null,
            "align_content": null,
            "visibility": null,
            "align_self": null,
            "height": null,
            "min_height": null,
            "padding": null,
            "grid_auto_rows": null,
            "grid_gap": null,
            "max_width": null,
            "order": null,
            "_view_module_version": "1.2.0",
            "grid_template_areas": null,
            "object_position": null,
            "object_fit": null,
            "grid_auto_columns": null,
            "margin": null,
            "display": null,
            "left": null
          }
        },
        "413d11dbbe1e40d7a021fb6be8b133b2": {
          "model_module": "@jupyter-widgets/controls",
          "model_name": "HTMLModel",
          "model_module_version": "1.5.0",
          "state": {
            "_view_name": "HTMLView",
            "style": "IPY_MODEL_5fec4ac6988944cc93643ae103afeade",
            "_dom_classes": [],
            "description": "",
            "_model_name": "HTMLModel",
            "placeholder": "​",
            "_view_module": "@jupyter-widgets/controls",
            "_model_module_version": "1.5.0",
            "value": "100%",
            "_view_count": null,
            "_view_module_version": "1.5.0",
            "description_tooltip": null,
            "_model_module": "@jupyter-widgets/controls",
            "layout": "IPY_MODEL_3251167ee6ff48fdba2fafff9f4564fd"
          }
        },
        "0d0893e962a24b69a20e561ab7fdbfee": {
          "model_module": "@jupyter-widgets/controls",
          "model_name": "FloatProgressModel",
          "model_module_version": "1.5.0",
          "state": {
            "_view_name": "ProgressView",
            "style": "IPY_MODEL_be2709c939ed4a358e05fabf7f9b5b8d",
            "_dom_classes": [],
            "description": "",
            "_model_name": "FloatProgressModel",
            "bar_style": "success",
            "max": 1,
            "_view_module": "@jupyter-widgets/controls",
            "_model_module_version": "1.5.0",
            "value": 1,
            "_view_count": null,
            "_view_module_version": "1.5.0",
            "orientation": "horizontal",
            "min": 0,
            "description_tooltip": null,
            "_model_module": "@jupyter-widgets/controls",
            "layout": "IPY_MODEL_8fbfba4126264bee80a7d0f7a191605d"
          }
        },
        "ec5090cd83ac4f4784135f92e2b6c100": {
          "model_module": "@jupyter-widgets/controls",
          "model_name": "HTMLModel",
          "model_module_version": "1.5.0",
          "state": {
            "_view_name": "HTMLView",
            "style": "IPY_MODEL_a135b15b7e81424391409b7c56ae1383",
            "_dom_classes": [],
            "description": "",
            "_model_name": "HTMLModel",
            "placeholder": "​",
            "_view_module": "@jupyter-widgets/controls",
            "_model_module_version": "1.5.0",
            "value": " 1/1 [00:00&lt;00:00, 10.48it/s]",
            "_view_count": null,
            "_view_module_version": "1.5.0",
            "description_tooltip": null,
            "_model_module": "@jupyter-widgets/controls",
            "layout": "IPY_MODEL_79cf38a6cf614678a7c500edf3900d2c"
          }
        },
        "5fec4ac6988944cc93643ae103afeade": {
          "model_module": "@jupyter-widgets/controls",
          "model_name": "DescriptionStyleModel",
          "model_module_version": "1.5.0",
          "state": {
            "_view_name": "StyleView",
            "_model_name": "DescriptionStyleModel",
            "description_width": "",
            "_view_module": "@jupyter-widgets/base",
            "_model_module_version": "1.5.0",
            "_view_count": null,
            "_view_module_version": "1.2.0",
            "_model_module": "@jupyter-widgets/controls"
          }
        },
        "3251167ee6ff48fdba2fafff9f4564fd": {
          "model_module": "@jupyter-widgets/base",
          "model_name": "LayoutModel",
          "model_module_version": "1.2.0",
          "state": {
            "_view_name": "LayoutView",
            "grid_template_rows": null,
            "right": null,
            "justify_content": null,
            "_view_module": "@jupyter-widgets/base",
            "overflow": null,
            "_model_module_version": "1.2.0",
            "_view_count": null,
            "flex_flow": null,
            "width": null,
            "min_width": null,
            "border": null,
            "align_items": null,
            "bottom": null,
            "_model_module": "@jupyter-widgets/base",
            "top": null,
            "grid_column": null,
            "overflow_y": null,
            "overflow_x": null,
            "grid_auto_flow": null,
            "grid_area": null,
            "grid_template_columns": null,
            "flex": null,
            "_model_name": "LayoutModel",
            "justify_items": null,
            "grid_row": null,
            "max_height": null,
            "align_content": null,
            "visibility": null,
            "align_self": null,
            "height": null,
            "min_height": null,
            "padding": null,
            "grid_auto_rows": null,
            "grid_gap": null,
            "max_width": null,
            "order": null,
            "_view_module_version": "1.2.0",
            "grid_template_areas": null,
            "object_position": null,
            "object_fit": null,
            "grid_auto_columns": null,
            "margin": null,
            "display": null,
            "left": null
          }
        },
        "be2709c939ed4a358e05fabf7f9b5b8d": {
          "model_module": "@jupyter-widgets/controls",
          "model_name": "ProgressStyleModel",
          "model_module_version": "1.5.0",
          "state": {
            "_view_name": "StyleView",
            "_model_name": "ProgressStyleModel",
            "description_width": "",
            "_view_module": "@jupyter-widgets/base",
            "_model_module_version": "1.5.0",
            "_view_count": null,
            "_view_module_version": "1.2.0",
            "bar_color": null,
            "_model_module": "@jupyter-widgets/controls"
          }
        },
        "8fbfba4126264bee80a7d0f7a191605d": {
          "model_module": "@jupyter-widgets/base",
          "model_name": "LayoutModel",
          "model_module_version": "1.2.0",
          "state": {
            "_view_name": "LayoutView",
            "grid_template_rows": null,
            "right": null,
            "justify_content": null,
            "_view_module": "@jupyter-widgets/base",
            "overflow": null,
            "_model_module_version": "1.2.0",
            "_view_count": null,
            "flex_flow": null,
            "width": null,
            "min_width": null,
            "border": null,
            "align_items": null,
            "bottom": null,
            "_model_module": "@jupyter-widgets/base",
            "top": null,
            "grid_column": null,
            "overflow_y": null,
            "overflow_x": null,
            "grid_auto_flow": null,
            "grid_area": null,
            "grid_template_columns": null,
            "flex": null,
            "_model_name": "LayoutModel",
            "justify_items": null,
            "grid_row": null,
            "max_height": null,
            "align_content": null,
            "visibility": null,
            "align_self": null,
            "height": null,
            "min_height": null,
            "padding": null,
            "grid_auto_rows": null,
            "grid_gap": null,
            "max_width": null,
            "order": null,
            "_view_module_version": "1.2.0",
            "grid_template_areas": null,
            "object_position": null,
            "object_fit": null,
            "grid_auto_columns": null,
            "margin": null,
            "display": null,
            "left": null
          }
        },
        "a135b15b7e81424391409b7c56ae1383": {
          "model_module": "@jupyter-widgets/controls",
          "model_name": "DescriptionStyleModel",
          "model_module_version": "1.5.0",
          "state": {
            "_view_name": "StyleView",
            "_model_name": "DescriptionStyleModel",
            "description_width": "",
            "_view_module": "@jupyter-widgets/base",
            "_model_module_version": "1.5.0",
            "_view_count": null,
            "_view_module_version": "1.2.0",
            "_model_module": "@jupyter-widgets/controls"
          }
        },
        "79cf38a6cf614678a7c500edf3900d2c": {
          "model_module": "@jupyter-widgets/base",
          "model_name": "LayoutModel",
          "model_module_version": "1.2.0",
          "state": {
            "_view_name": "LayoutView",
            "grid_template_rows": null,
            "right": null,
            "justify_content": null,
            "_view_module": "@jupyter-widgets/base",
            "overflow": null,
            "_model_module_version": "1.2.0",
            "_view_count": null,
            "flex_flow": null,
            "width": null,
            "min_width": null,
            "border": null,
            "align_items": null,
            "bottom": null,
            "_model_module": "@jupyter-widgets/base",
            "top": null,
            "grid_column": null,
            "overflow_y": null,
            "overflow_x": null,
            "grid_auto_flow": null,
            "grid_area": null,
            "grid_template_columns": null,
            "flex": null,
            "_model_name": "LayoutModel",
            "justify_items": null,
            "grid_row": null,
            "max_height": null,
            "align_content": null,
            "visibility": null,
            "align_self": null,
            "height": null,
            "min_height": null,
            "padding": null,
            "grid_auto_rows": null,
            "grid_gap": null,
            "max_width": null,
            "order": null,
            "_view_module_version": "1.2.0",
            "grid_template_areas": null,
            "object_position": null,
            "object_fit": null,
            "grid_auto_columns": null,
            "margin": null,
            "display": null,
            "left": null
          }
        },
        "622449352d3b441f81bb2409060ee749": {
          "model_module": "@jupyter-widgets/controls",
          "model_name": "HBoxModel",
          "model_module_version": "1.5.0",
          "state": {
            "_view_name": "HBoxView",
            "_dom_classes": [],
            "_model_name": "HBoxModel",
            "_view_module": "@jupyter-widgets/controls",
            "_model_module_version": "1.5.0",
            "_view_count": null,
            "_view_module_version": "1.5.0",
            "box_style": "",
            "layout": "IPY_MODEL_50ecf2abf653457e96f00270e627acca",
            "_model_module": "@jupyter-widgets/controls",
            "children": [
              "IPY_MODEL_18966ee221b448468bffced223ff65d3",
              "IPY_MODEL_86671c531a234835940e9d3b38e1b303",
              "IPY_MODEL_f9751acb32894892bf7e6c227441a05f"
            ]
          }
        },
        "50ecf2abf653457e96f00270e627acca": {
          "model_module": "@jupyter-widgets/base",
          "model_name": "LayoutModel",
          "model_module_version": "1.2.0",
          "state": {
            "_view_name": "LayoutView",
            "grid_template_rows": null,
            "right": null,
            "justify_content": null,
            "_view_module": "@jupyter-widgets/base",
            "overflow": null,
            "_model_module_version": "1.2.0",
            "_view_count": null,
            "flex_flow": null,
            "width": null,
            "min_width": null,
            "border": null,
            "align_items": null,
            "bottom": null,
            "_model_module": "@jupyter-widgets/base",
            "top": null,
            "grid_column": null,
            "overflow_y": null,
            "overflow_x": null,
            "grid_auto_flow": null,
            "grid_area": null,
            "grid_template_columns": null,
            "flex": null,
            "_model_name": "LayoutModel",
            "justify_items": null,
            "grid_row": null,
            "max_height": null,
            "align_content": null,
            "visibility": null,
            "align_self": null,
            "height": null,
            "min_height": null,
            "padding": null,
            "grid_auto_rows": null,
            "grid_gap": null,
            "max_width": null,
            "order": null,
            "_view_module_version": "1.2.0",
            "grid_template_areas": null,
            "object_position": null,
            "object_fit": null,
            "grid_auto_columns": null,
            "margin": null,
            "display": null,
            "left": null
          }
        },
        "18966ee221b448468bffced223ff65d3": {
          "model_module": "@jupyter-widgets/controls",
          "model_name": "HTMLModel",
          "model_module_version": "1.5.0",
          "state": {
            "_view_name": "HTMLView",
            "style": "IPY_MODEL_8646dc01492540b482e51b815fdf044c",
            "_dom_classes": [],
            "description": "",
            "_model_name": "HTMLModel",
            "placeholder": "​",
            "_view_module": "@jupyter-widgets/controls",
            "_model_module_version": "1.5.0",
            "value": "Running Prediction: 100%",
            "_view_count": null,
            "_view_module_version": "1.5.0",
            "description_tooltip": null,
            "_model_module": "@jupyter-widgets/controls",
            "layout": "IPY_MODEL_6f788f60892645c4aca189d0928488d4"
          }
        },
        "86671c531a234835940e9d3b38e1b303": {
          "model_module": "@jupyter-widgets/controls",
          "model_name": "FloatProgressModel",
          "model_module_version": "1.5.0",
          "state": {
            "_view_name": "ProgressView",
            "style": "IPY_MODEL_396d85a0c9254a0f8ca692c4f6f325fb",
            "_dom_classes": [],
            "description": "",
            "_model_name": "FloatProgressModel",
            "bar_style": "success",
            "max": 1,
            "_view_module": "@jupyter-widgets/controls",
            "_model_module_version": "1.5.0",
            "value": 1,
            "_view_count": null,
            "_view_module_version": "1.5.0",
            "orientation": "horizontal",
            "min": 0,
            "description_tooltip": null,
            "_model_module": "@jupyter-widgets/controls",
            "layout": "IPY_MODEL_92a9ebb1eaa24946939e883eb87f7e82"
          }
        },
        "f9751acb32894892bf7e6c227441a05f": {
          "model_module": "@jupyter-widgets/controls",
          "model_name": "HTMLModel",
          "model_module_version": "1.5.0",
          "state": {
            "_view_name": "HTMLView",
            "style": "IPY_MODEL_513d68b1236b44b89adad03bc8e9704d",
            "_dom_classes": [],
            "description": "",
            "_model_name": "HTMLModel",
            "placeholder": "​",
            "_view_module": "@jupyter-widgets/controls",
            "_model_module_version": "1.5.0",
            "value": " 1/1 [00:00&lt;00:00, 17.30it/s]",
            "_view_count": null,
            "_view_module_version": "1.5.0",
            "description_tooltip": null,
            "_model_module": "@jupyter-widgets/controls",
            "layout": "IPY_MODEL_b2ffe9223872484dba4726b9857aabc2"
          }
        },
        "8646dc01492540b482e51b815fdf044c": {
          "model_module": "@jupyter-widgets/controls",
          "model_name": "DescriptionStyleModel",
          "model_module_version": "1.5.0",
          "state": {
            "_view_name": "StyleView",
            "_model_name": "DescriptionStyleModel",
            "description_width": "",
            "_view_module": "@jupyter-widgets/base",
            "_model_module_version": "1.5.0",
            "_view_count": null,
            "_view_module_version": "1.2.0",
            "_model_module": "@jupyter-widgets/controls"
          }
        },
        "6f788f60892645c4aca189d0928488d4": {
          "model_module": "@jupyter-widgets/base",
          "model_name": "LayoutModel",
          "model_module_version": "1.2.0",
          "state": {
            "_view_name": "LayoutView",
            "grid_template_rows": null,
            "right": null,
            "justify_content": null,
            "_view_module": "@jupyter-widgets/base",
            "overflow": null,
            "_model_module_version": "1.2.0",
            "_view_count": null,
            "flex_flow": null,
            "width": null,
            "min_width": null,
            "border": null,
            "align_items": null,
            "bottom": null,
            "_model_module": "@jupyter-widgets/base",
            "top": null,
            "grid_column": null,
            "overflow_y": null,
            "overflow_x": null,
            "grid_auto_flow": null,
            "grid_area": null,
            "grid_template_columns": null,
            "flex": null,
            "_model_name": "LayoutModel",
            "justify_items": null,
            "grid_row": null,
            "max_height": null,
            "align_content": null,
            "visibility": null,
            "align_self": null,
            "height": null,
            "min_height": null,
            "padding": null,
            "grid_auto_rows": null,
            "grid_gap": null,
            "max_width": null,
            "order": null,
            "_view_module_version": "1.2.0",
            "grid_template_areas": null,
            "object_position": null,
            "object_fit": null,
            "grid_auto_columns": null,
            "margin": null,
            "display": null,
            "left": null
          }
        },
        "396d85a0c9254a0f8ca692c4f6f325fb": {
          "model_module": "@jupyter-widgets/controls",
          "model_name": "ProgressStyleModel",
          "model_module_version": "1.5.0",
          "state": {
            "_view_name": "StyleView",
            "_model_name": "ProgressStyleModel",
            "description_width": "",
            "_view_module": "@jupyter-widgets/base",
            "_model_module_version": "1.5.0",
            "_view_count": null,
            "_view_module_version": "1.2.0",
            "bar_color": null,
            "_model_module": "@jupyter-widgets/controls"
          }
        },
        "92a9ebb1eaa24946939e883eb87f7e82": {
          "model_module": "@jupyter-widgets/base",
          "model_name": "LayoutModel",
          "model_module_version": "1.2.0",
          "state": {
            "_view_name": "LayoutView",
            "grid_template_rows": null,
            "right": null,
            "justify_content": null,
            "_view_module": "@jupyter-widgets/base",
            "overflow": null,
            "_model_module_version": "1.2.0",
            "_view_count": null,
            "flex_flow": null,
            "width": null,
            "min_width": null,
            "border": null,
            "align_items": null,
            "bottom": null,
            "_model_module": "@jupyter-widgets/base",
            "top": null,
            "grid_column": null,
            "overflow_y": null,
            "overflow_x": null,
            "grid_auto_flow": null,
            "grid_area": null,
            "grid_template_columns": null,
            "flex": null,
            "_model_name": "LayoutModel",
            "justify_items": null,
            "grid_row": null,
            "max_height": null,
            "align_content": null,
            "visibility": null,
            "align_self": null,
            "height": null,
            "min_height": null,
            "padding": null,
            "grid_auto_rows": null,
            "grid_gap": null,
            "max_width": null,
            "order": null,
            "_view_module_version": "1.2.0",
            "grid_template_areas": null,
            "object_position": null,
            "object_fit": null,
            "grid_auto_columns": null,
            "margin": null,
            "display": null,
            "left": null
          }
        },
        "513d68b1236b44b89adad03bc8e9704d": {
          "model_module": "@jupyter-widgets/controls",
          "model_name": "DescriptionStyleModel",
          "model_module_version": "1.5.0",
          "state": {
            "_view_name": "StyleView",
            "_model_name": "DescriptionStyleModel",
            "description_width": "",
            "_view_module": "@jupyter-widgets/base",
            "_model_module_version": "1.5.0",
            "_view_count": null,
            "_view_module_version": "1.2.0",
            "_model_module": "@jupyter-widgets/controls"
          }
        },
        "b2ffe9223872484dba4726b9857aabc2": {
          "model_module": "@jupyter-widgets/base",
          "model_name": "LayoutModel",
          "model_module_version": "1.2.0",
          "state": {
            "_view_name": "LayoutView",
            "grid_template_rows": null,
            "right": null,
            "justify_content": null,
            "_view_module": "@jupyter-widgets/base",
            "overflow": null,
            "_model_module_version": "1.2.0",
            "_view_count": null,
            "flex_flow": null,
            "width": null,
            "min_width": null,
            "border": null,
            "align_items": null,
            "bottom": null,
            "_model_module": "@jupyter-widgets/base",
            "top": null,
            "grid_column": null,
            "overflow_y": null,
            "overflow_x": null,
            "grid_auto_flow": null,
            "grid_area": null,
            "grid_template_columns": null,
            "flex": null,
            "_model_name": "LayoutModel",
            "justify_items": null,
            "grid_row": null,
            "max_height": null,
            "align_content": null,
            "visibility": null,
            "align_self": null,
            "height": null,
            "min_height": null,
            "padding": null,
            "grid_auto_rows": null,
            "grid_gap": null,
            "max_width": null,
            "order": null,
            "_view_module_version": "1.2.0",
            "grid_template_areas": null,
            "object_position": null,
            "object_fit": null,
            "grid_auto_columns": null,
            "margin": null,
            "display": null,
            "left": null
          }
        },
        "4cf5484105e04b8585e074a4c5da6ce4": {
          "model_module": "@jupyter-widgets/controls",
          "model_name": "HBoxModel",
          "model_module_version": "1.5.0",
          "state": {
            "_view_name": "HBoxView",
            "_dom_classes": [],
            "_model_name": "HBoxModel",
            "_view_module": "@jupyter-widgets/controls",
            "_model_module_version": "1.5.0",
            "_view_count": null,
            "_view_module_version": "1.5.0",
            "box_style": "",
            "layout": "IPY_MODEL_39530f56a0b84419a63aa479f47a082d",
            "_model_module": "@jupyter-widgets/controls",
            "children": [
              "IPY_MODEL_d2763f8bc99140f8b391dd87d8655b25",
              "IPY_MODEL_5c8d377dcb0a41c693b54cf10bf7db5e",
              "IPY_MODEL_d15606592bea4e94b4d772a6b359122c"
            ]
          }
        },
        "39530f56a0b84419a63aa479f47a082d": {
          "model_module": "@jupyter-widgets/base",
          "model_name": "LayoutModel",
          "model_module_version": "1.2.0",
          "state": {
            "_view_name": "LayoutView",
            "grid_template_rows": null,
            "right": null,
            "justify_content": null,
            "_view_module": "@jupyter-widgets/base",
            "overflow": null,
            "_model_module_version": "1.2.0",
            "_view_count": null,
            "flex_flow": null,
            "width": null,
            "min_width": null,
            "border": null,
            "align_items": null,
            "bottom": null,
            "_model_module": "@jupyter-widgets/base",
            "top": null,
            "grid_column": null,
            "overflow_y": null,
            "overflow_x": null,
            "grid_auto_flow": null,
            "grid_area": null,
            "grid_template_columns": null,
            "flex": null,
            "_model_name": "LayoutModel",
            "justify_items": null,
            "grid_row": null,
            "max_height": null,
            "align_content": null,
            "visibility": null,
            "align_self": null,
            "height": null,
            "min_height": null,
            "padding": null,
            "grid_auto_rows": null,
            "grid_gap": null,
            "max_width": null,
            "order": null,
            "_view_module_version": "1.2.0",
            "grid_template_areas": null,
            "object_position": null,
            "object_fit": null,
            "grid_auto_columns": null,
            "margin": null,
            "display": null,
            "left": null
          }
        },
        "d2763f8bc99140f8b391dd87d8655b25": {
          "model_module": "@jupyter-widgets/controls",
          "model_name": "HTMLModel",
          "model_module_version": "1.5.0",
          "state": {
            "_view_name": "HTMLView",
            "style": "IPY_MODEL_cdce13257ebd467d993ce77c207685c5",
            "_dom_classes": [],
            "description": "",
            "_model_name": "HTMLModel",
            "placeholder": "​",
            "_view_module": "@jupyter-widgets/controls",
            "_model_module_version": "1.5.0",
            "value": "100%",
            "_view_count": null,
            "_view_module_version": "1.5.0",
            "description_tooltip": null,
            "_model_module": "@jupyter-widgets/controls",
            "layout": "IPY_MODEL_9e7dc3bd186444dd97bb366d3f9cea40"
          }
        },
        "5c8d377dcb0a41c693b54cf10bf7db5e": {
          "model_module": "@jupyter-widgets/controls",
          "model_name": "FloatProgressModel",
          "model_module_version": "1.5.0",
          "state": {
            "_view_name": "ProgressView",
            "style": "IPY_MODEL_c00fbc3479054ebaa99523da05626009",
            "_dom_classes": [],
            "description": "",
            "_model_name": "FloatProgressModel",
            "bar_style": "success",
            "max": 1,
            "_view_module": "@jupyter-widgets/controls",
            "_model_module_version": "1.5.0",
            "value": 1,
            "_view_count": null,
            "_view_module_version": "1.5.0",
            "orientation": "horizontal",
            "min": 0,
            "description_tooltip": null,
            "_model_module": "@jupyter-widgets/controls",
            "layout": "IPY_MODEL_64227b1eaafc496fb1bf67006c078a6b"
          }
        },
        "d15606592bea4e94b4d772a6b359122c": {
          "model_module": "@jupyter-widgets/controls",
          "model_name": "HTMLModel",
          "model_module_version": "1.5.0",
          "state": {
            "_view_name": "HTMLView",
            "style": "IPY_MODEL_f6b62aab5d924db3a9d54596c3e92002",
            "_dom_classes": [],
            "description": "",
            "_model_name": "HTMLModel",
            "placeholder": "​",
            "_view_module": "@jupyter-widgets/controls",
            "_model_module_version": "1.5.0",
            "value": " 1/1 [00:00&lt;00:00,  9.38it/s]",
            "_view_count": null,
            "_view_module_version": "1.5.0",
            "description_tooltip": null,
            "_model_module": "@jupyter-widgets/controls",
            "layout": "IPY_MODEL_a9ab0ee68d994915a637d9ed616a8300"
          }
        },
        "cdce13257ebd467d993ce77c207685c5": {
          "model_module": "@jupyter-widgets/controls",
          "model_name": "DescriptionStyleModel",
          "model_module_version": "1.5.0",
          "state": {
            "_view_name": "StyleView",
            "_model_name": "DescriptionStyleModel",
            "description_width": "",
            "_view_module": "@jupyter-widgets/base",
            "_model_module_version": "1.5.0",
            "_view_count": null,
            "_view_module_version": "1.2.0",
            "_model_module": "@jupyter-widgets/controls"
          }
        },
        "9e7dc3bd186444dd97bb366d3f9cea40": {
          "model_module": "@jupyter-widgets/base",
          "model_name": "LayoutModel",
          "model_module_version": "1.2.0",
          "state": {
            "_view_name": "LayoutView",
            "grid_template_rows": null,
            "right": null,
            "justify_content": null,
            "_view_module": "@jupyter-widgets/base",
            "overflow": null,
            "_model_module_version": "1.2.0",
            "_view_count": null,
            "flex_flow": null,
            "width": null,
            "min_width": null,
            "border": null,
            "align_items": null,
            "bottom": null,
            "_model_module": "@jupyter-widgets/base",
            "top": null,
            "grid_column": null,
            "overflow_y": null,
            "overflow_x": null,
            "grid_auto_flow": null,
            "grid_area": null,
            "grid_template_columns": null,
            "flex": null,
            "_model_name": "LayoutModel",
            "justify_items": null,
            "grid_row": null,
            "max_height": null,
            "align_content": null,
            "visibility": null,
            "align_self": null,
            "height": null,
            "min_height": null,
            "padding": null,
            "grid_auto_rows": null,
            "grid_gap": null,
            "max_width": null,
            "order": null,
            "_view_module_version": "1.2.0",
            "grid_template_areas": null,
            "object_position": null,
            "object_fit": null,
            "grid_auto_columns": null,
            "margin": null,
            "display": null,
            "left": null
          }
        },
        "c00fbc3479054ebaa99523da05626009": {
          "model_module": "@jupyter-widgets/controls",
          "model_name": "ProgressStyleModel",
          "model_module_version": "1.5.0",
          "state": {
            "_view_name": "StyleView",
            "_model_name": "ProgressStyleModel",
            "description_width": "",
            "_view_module": "@jupyter-widgets/base",
            "_model_module_version": "1.5.0",
            "_view_count": null,
            "_view_module_version": "1.2.0",
            "bar_color": null,
            "_model_module": "@jupyter-widgets/controls"
          }
        },
        "64227b1eaafc496fb1bf67006c078a6b": {
          "model_module": "@jupyter-widgets/base",
          "model_name": "LayoutModel",
          "model_module_version": "1.2.0",
          "state": {
            "_view_name": "LayoutView",
            "grid_template_rows": null,
            "right": null,
            "justify_content": null,
            "_view_module": "@jupyter-widgets/base",
            "overflow": null,
            "_model_module_version": "1.2.0",
            "_view_count": null,
            "flex_flow": null,
            "width": null,
            "min_width": null,
            "border": null,
            "align_items": null,
            "bottom": null,
            "_model_module": "@jupyter-widgets/base",
            "top": null,
            "grid_column": null,
            "overflow_y": null,
            "overflow_x": null,
            "grid_auto_flow": null,
            "grid_area": null,
            "grid_template_columns": null,
            "flex": null,
            "_model_name": "LayoutModel",
            "justify_items": null,
            "grid_row": null,
            "max_height": null,
            "align_content": null,
            "visibility": null,
            "align_self": null,
            "height": null,
            "min_height": null,
            "padding": null,
            "grid_auto_rows": null,
            "grid_gap": null,
            "max_width": null,
            "order": null,
            "_view_module_version": "1.2.0",
            "grid_template_areas": null,
            "object_position": null,
            "object_fit": null,
            "grid_auto_columns": null,
            "margin": null,
            "display": null,
            "left": null
          }
        },
        "f6b62aab5d924db3a9d54596c3e92002": {
          "model_module": "@jupyter-widgets/controls",
          "model_name": "DescriptionStyleModel",
          "model_module_version": "1.5.0",
          "state": {
            "_view_name": "StyleView",
            "_model_name": "DescriptionStyleModel",
            "description_width": "",
            "_view_module": "@jupyter-widgets/base",
            "_model_module_version": "1.5.0",
            "_view_count": null,
            "_view_module_version": "1.2.0",
            "_model_module": "@jupyter-widgets/controls"
          }
        },
        "a9ab0ee68d994915a637d9ed616a8300": {
          "model_module": "@jupyter-widgets/base",
          "model_name": "LayoutModel",
          "model_module_version": "1.2.0",
          "state": {
            "_view_name": "LayoutView",
            "grid_template_rows": null,
            "right": null,
            "justify_content": null,
            "_view_module": "@jupyter-widgets/base",
            "overflow": null,
            "_model_module_version": "1.2.0",
            "_view_count": null,
            "flex_flow": null,
            "width": null,
            "min_width": null,
            "border": null,
            "align_items": null,
            "bottom": null,
            "_model_module": "@jupyter-widgets/base",
            "top": null,
            "grid_column": null,
            "overflow_y": null,
            "overflow_x": null,
            "grid_auto_flow": null,
            "grid_area": null,
            "grid_template_columns": null,
            "flex": null,
            "_model_name": "LayoutModel",
            "justify_items": null,
            "grid_row": null,
            "max_height": null,
            "align_content": null,
            "visibility": null,
            "align_self": null,
            "height": null,
            "min_height": null,
            "padding": null,
            "grid_auto_rows": null,
            "grid_gap": null,
            "max_width": null,
            "order": null,
            "_view_module_version": "1.2.0",
            "grid_template_areas": null,
            "object_position": null,
            "object_fit": null,
            "grid_auto_columns": null,
            "margin": null,
            "display": null,
            "left": null
          }
        },
        "1335fe0b8e00448bbcc1148d297e6a72": {
          "model_module": "@jupyter-widgets/controls",
          "model_name": "HBoxModel",
          "model_module_version": "1.5.0",
          "state": {
            "_view_name": "HBoxView",
            "_dom_classes": [],
            "_model_name": "HBoxModel",
            "_view_module": "@jupyter-widgets/controls",
            "_model_module_version": "1.5.0",
            "_view_count": null,
            "_view_module_version": "1.5.0",
            "box_style": "",
            "layout": "IPY_MODEL_af21781cd38a4415a9878df14b83ab8c",
            "_model_module": "@jupyter-widgets/controls",
            "children": [
              "IPY_MODEL_7ea41d832c964ca787e15c5cd1bbad44",
              "IPY_MODEL_4abcbfdea8d54896b6be21f12685e933",
              "IPY_MODEL_7506ff6c45f24c18b1ea2999ded261cd"
            ]
          }
        },
        "af21781cd38a4415a9878df14b83ab8c": {
          "model_module": "@jupyter-widgets/base",
          "model_name": "LayoutModel",
          "model_module_version": "1.2.0",
          "state": {
            "_view_name": "LayoutView",
            "grid_template_rows": null,
            "right": null,
            "justify_content": null,
            "_view_module": "@jupyter-widgets/base",
            "overflow": null,
            "_model_module_version": "1.2.0",
            "_view_count": null,
            "flex_flow": null,
            "width": null,
            "min_width": null,
            "border": null,
            "align_items": null,
            "bottom": null,
            "_model_module": "@jupyter-widgets/base",
            "top": null,
            "grid_column": null,
            "overflow_y": null,
            "overflow_x": null,
            "grid_auto_flow": null,
            "grid_area": null,
            "grid_template_columns": null,
            "flex": null,
            "_model_name": "LayoutModel",
            "justify_items": null,
            "grid_row": null,
            "max_height": null,
            "align_content": null,
            "visibility": null,
            "align_self": null,
            "height": null,
            "min_height": null,
            "padding": null,
            "grid_auto_rows": null,
            "grid_gap": null,
            "max_width": null,
            "order": null,
            "_view_module_version": "1.2.0",
            "grid_template_areas": null,
            "object_position": null,
            "object_fit": null,
            "grid_auto_columns": null,
            "margin": null,
            "display": null,
            "left": null
          }
        },
        "7ea41d832c964ca787e15c5cd1bbad44": {
          "model_module": "@jupyter-widgets/controls",
          "model_name": "HTMLModel",
          "model_module_version": "1.5.0",
          "state": {
            "_view_name": "HTMLView",
            "style": "IPY_MODEL_9f08acf0e4594b5fa89ec1ecf5fffda3",
            "_dom_classes": [],
            "description": "",
            "_model_name": "HTMLModel",
            "placeholder": "​",
            "_view_module": "@jupyter-widgets/controls",
            "_model_module_version": "1.5.0",
            "value": "Running Prediction: 100%",
            "_view_count": null,
            "_view_module_version": "1.5.0",
            "description_tooltip": null,
            "_model_module": "@jupyter-widgets/controls",
            "layout": "IPY_MODEL_28ffb68d932c43c98d65cef059c18e3a"
          }
        },
        "4abcbfdea8d54896b6be21f12685e933": {
          "model_module": "@jupyter-widgets/controls",
          "model_name": "FloatProgressModel",
          "model_module_version": "1.5.0",
          "state": {
            "_view_name": "ProgressView",
            "style": "IPY_MODEL_73cdbf00cb8f4f629a2156aa58b310a6",
            "_dom_classes": [],
            "description": "",
            "_model_name": "FloatProgressModel",
            "bar_style": "success",
            "max": 1,
            "_view_module": "@jupyter-widgets/controls",
            "_model_module_version": "1.5.0",
            "value": 1,
            "_view_count": null,
            "_view_module_version": "1.5.0",
            "orientation": "horizontal",
            "min": 0,
            "description_tooltip": null,
            "_model_module": "@jupyter-widgets/controls",
            "layout": "IPY_MODEL_6ca9d3085f7c4fa39d7f6ce5c30d75d7"
          }
        },
        "7506ff6c45f24c18b1ea2999ded261cd": {
          "model_module": "@jupyter-widgets/controls",
          "model_name": "HTMLModel",
          "model_module_version": "1.5.0",
          "state": {
            "_view_name": "HTMLView",
            "style": "IPY_MODEL_3df4b3d329844ed19c97805728870119",
            "_dom_classes": [],
            "description": "",
            "_model_name": "HTMLModel",
            "placeholder": "​",
            "_view_module": "@jupyter-widgets/controls",
            "_model_module_version": "1.5.0",
            "value": " 1/1 [00:00&lt;00:00, 16.77it/s]",
            "_view_count": null,
            "_view_module_version": "1.5.0",
            "description_tooltip": null,
            "_model_module": "@jupyter-widgets/controls",
            "layout": "IPY_MODEL_9e272e047713477a8bed795a35cfdc36"
          }
        },
        "9f08acf0e4594b5fa89ec1ecf5fffda3": {
          "model_module": "@jupyter-widgets/controls",
          "model_name": "DescriptionStyleModel",
          "model_module_version": "1.5.0",
          "state": {
            "_view_name": "StyleView",
            "_model_name": "DescriptionStyleModel",
            "description_width": "",
            "_view_module": "@jupyter-widgets/base",
            "_model_module_version": "1.5.0",
            "_view_count": null,
            "_view_module_version": "1.2.0",
            "_model_module": "@jupyter-widgets/controls"
          }
        },
        "28ffb68d932c43c98d65cef059c18e3a": {
          "model_module": "@jupyter-widgets/base",
          "model_name": "LayoutModel",
          "model_module_version": "1.2.0",
          "state": {
            "_view_name": "LayoutView",
            "grid_template_rows": null,
            "right": null,
            "justify_content": null,
            "_view_module": "@jupyter-widgets/base",
            "overflow": null,
            "_model_module_version": "1.2.0",
            "_view_count": null,
            "flex_flow": null,
            "width": null,
            "min_width": null,
            "border": null,
            "align_items": null,
            "bottom": null,
            "_model_module": "@jupyter-widgets/base",
            "top": null,
            "grid_column": null,
            "overflow_y": null,
            "overflow_x": null,
            "grid_auto_flow": null,
            "grid_area": null,
            "grid_template_columns": null,
            "flex": null,
            "_model_name": "LayoutModel",
            "justify_items": null,
            "grid_row": null,
            "max_height": null,
            "align_content": null,
            "visibility": null,
            "align_self": null,
            "height": null,
            "min_height": null,
            "padding": null,
            "grid_auto_rows": null,
            "grid_gap": null,
            "max_width": null,
            "order": null,
            "_view_module_version": "1.2.0",
            "grid_template_areas": null,
            "object_position": null,
            "object_fit": null,
            "grid_auto_columns": null,
            "margin": null,
            "display": null,
            "left": null
          }
        },
        "73cdbf00cb8f4f629a2156aa58b310a6": {
          "model_module": "@jupyter-widgets/controls",
          "model_name": "ProgressStyleModel",
          "model_module_version": "1.5.0",
          "state": {
            "_view_name": "StyleView",
            "_model_name": "ProgressStyleModel",
            "description_width": "",
            "_view_module": "@jupyter-widgets/base",
            "_model_module_version": "1.5.0",
            "_view_count": null,
            "_view_module_version": "1.2.0",
            "bar_color": null,
            "_model_module": "@jupyter-widgets/controls"
          }
        },
        "6ca9d3085f7c4fa39d7f6ce5c30d75d7": {
          "model_module": "@jupyter-widgets/base",
          "model_name": "LayoutModel",
          "model_module_version": "1.2.0",
          "state": {
            "_view_name": "LayoutView",
            "grid_template_rows": null,
            "right": null,
            "justify_content": null,
            "_view_module": "@jupyter-widgets/base",
            "overflow": null,
            "_model_module_version": "1.2.0",
            "_view_count": null,
            "flex_flow": null,
            "width": null,
            "min_width": null,
            "border": null,
            "align_items": null,
            "bottom": null,
            "_model_module": "@jupyter-widgets/base",
            "top": null,
            "grid_column": null,
            "overflow_y": null,
            "overflow_x": null,
            "grid_auto_flow": null,
            "grid_area": null,
            "grid_template_columns": null,
            "flex": null,
            "_model_name": "LayoutModel",
            "justify_items": null,
            "grid_row": null,
            "max_height": null,
            "align_content": null,
            "visibility": null,
            "align_self": null,
            "height": null,
            "min_height": null,
            "padding": null,
            "grid_auto_rows": null,
            "grid_gap": null,
            "max_width": null,
            "order": null,
            "_view_module_version": "1.2.0",
            "grid_template_areas": null,
            "object_position": null,
            "object_fit": null,
            "grid_auto_columns": null,
            "margin": null,
            "display": null,
            "left": null
          }
        },
        "3df4b3d329844ed19c97805728870119": {
          "model_module": "@jupyter-widgets/controls",
          "model_name": "DescriptionStyleModel",
          "model_module_version": "1.5.0",
          "state": {
            "_view_name": "StyleView",
            "_model_name": "DescriptionStyleModel",
            "description_width": "",
            "_view_module": "@jupyter-widgets/base",
            "_model_module_version": "1.5.0",
            "_view_count": null,
            "_view_module_version": "1.2.0",
            "_model_module": "@jupyter-widgets/controls"
          }
        },
        "9e272e047713477a8bed795a35cfdc36": {
          "model_module": "@jupyter-widgets/base",
          "model_name": "LayoutModel",
          "model_module_version": "1.2.0",
          "state": {
            "_view_name": "LayoutView",
            "grid_template_rows": null,
            "right": null,
            "justify_content": null,
            "_view_module": "@jupyter-widgets/base",
            "overflow": null,
            "_model_module_version": "1.2.0",
            "_view_count": null,
            "flex_flow": null,
            "width": null,
            "min_width": null,
            "border": null,
            "align_items": null,
            "bottom": null,
            "_model_module": "@jupyter-widgets/base",
            "top": null,
            "grid_column": null,
            "overflow_y": null,
            "overflow_x": null,
            "grid_auto_flow": null,
            "grid_area": null,
            "grid_template_columns": null,
            "flex": null,
            "_model_name": "LayoutModel",
            "justify_items": null,
            "grid_row": null,
            "max_height": null,
            "align_content": null,
            "visibility": null,
            "align_self": null,
            "height": null,
            "min_height": null,
            "padding": null,
            "grid_auto_rows": null,
            "grid_gap": null,
            "max_width": null,
            "order": null,
            "_view_module_version": "1.2.0",
            "grid_template_areas": null,
            "object_position": null,
            "object_fit": null,
            "grid_auto_columns": null,
            "margin": null,
            "display": null,
            "left": null
          }
        },
        "462ea970ea424074ab26955a600a82f8": {
          "model_module": "@jupyter-widgets/controls",
          "model_name": "HBoxModel",
          "model_module_version": "1.5.0",
          "state": {
            "_view_name": "HBoxView",
            "_dom_classes": [],
            "_model_name": "HBoxModel",
            "_view_module": "@jupyter-widgets/controls",
            "_model_module_version": "1.5.0",
            "_view_count": null,
            "_view_module_version": "1.5.0",
            "box_style": "",
            "layout": "IPY_MODEL_f92c2d7eb7134858aeec15859ec3ce23",
            "_model_module": "@jupyter-widgets/controls",
            "children": [
              "IPY_MODEL_630fa19b5ce44a3f8e9fde9d8cfdbdf6",
              "IPY_MODEL_8b9820725328437bb07cc2901261ec1d",
              "IPY_MODEL_cffdd891a535498db751508b054a6999"
            ]
          }
        },
        "f92c2d7eb7134858aeec15859ec3ce23": {
          "model_module": "@jupyter-widgets/base",
          "model_name": "LayoutModel",
          "model_module_version": "1.2.0",
          "state": {
            "_view_name": "LayoutView",
            "grid_template_rows": null,
            "right": null,
            "justify_content": null,
            "_view_module": "@jupyter-widgets/base",
            "overflow": null,
            "_model_module_version": "1.2.0",
            "_view_count": null,
            "flex_flow": null,
            "width": null,
            "min_width": null,
            "border": null,
            "align_items": null,
            "bottom": null,
            "_model_module": "@jupyter-widgets/base",
            "top": null,
            "grid_column": null,
            "overflow_y": null,
            "overflow_x": null,
            "grid_auto_flow": null,
            "grid_area": null,
            "grid_template_columns": null,
            "flex": null,
            "_model_name": "LayoutModel",
            "justify_items": null,
            "grid_row": null,
            "max_height": null,
            "align_content": null,
            "visibility": null,
            "align_self": null,
            "height": null,
            "min_height": null,
            "padding": null,
            "grid_auto_rows": null,
            "grid_gap": null,
            "max_width": null,
            "order": null,
            "_view_module_version": "1.2.0",
            "grid_template_areas": null,
            "object_position": null,
            "object_fit": null,
            "grid_auto_columns": null,
            "margin": null,
            "display": null,
            "left": null
          }
        },
        "630fa19b5ce44a3f8e9fde9d8cfdbdf6": {
          "model_module": "@jupyter-widgets/controls",
          "model_name": "HTMLModel",
          "model_module_version": "1.5.0",
          "state": {
            "_view_name": "HTMLView",
            "style": "IPY_MODEL_2e8338de17c84ec1a568e6c4824a4750",
            "_dom_classes": [],
            "description": "",
            "_model_name": "HTMLModel",
            "placeholder": "​",
            "_view_module": "@jupyter-widgets/controls",
            "_model_module_version": "1.5.0",
            "value": "100%",
            "_view_count": null,
            "_view_module_version": "1.5.0",
            "description_tooltip": null,
            "_model_module": "@jupyter-widgets/controls",
            "layout": "IPY_MODEL_6ea017b2b1a24f8186f11127f80a608c"
          }
        },
        "8b9820725328437bb07cc2901261ec1d": {
          "model_module": "@jupyter-widgets/controls",
          "model_name": "FloatProgressModel",
          "model_module_version": "1.5.0",
          "state": {
            "_view_name": "ProgressView",
            "style": "IPY_MODEL_3c7cf9a1a8474c4b8b0a5f1fd2006369",
            "_dom_classes": [],
            "description": "",
            "_model_name": "FloatProgressModel",
            "bar_style": "success",
            "max": 1,
            "_view_module": "@jupyter-widgets/controls",
            "_model_module_version": "1.5.0",
            "value": 1,
            "_view_count": null,
            "_view_module_version": "1.5.0",
            "orientation": "horizontal",
            "min": 0,
            "description_tooltip": null,
            "_model_module": "@jupyter-widgets/controls",
            "layout": "IPY_MODEL_cd379c0ec4684ccaaef20a7acc17e579"
          }
        },
        "cffdd891a535498db751508b054a6999": {
          "model_module": "@jupyter-widgets/controls",
          "model_name": "HTMLModel",
          "model_module_version": "1.5.0",
          "state": {
            "_view_name": "HTMLView",
            "style": "IPY_MODEL_efb23c20df29486880cedca1f72f3a0e",
            "_dom_classes": [],
            "description": "",
            "_model_name": "HTMLModel",
            "placeholder": "​",
            "_view_module": "@jupyter-widgets/controls",
            "_model_module_version": "1.5.0",
            "value": " 1/1 [00:00&lt;00:00, 10.20it/s]",
            "_view_count": null,
            "_view_module_version": "1.5.0",
            "description_tooltip": null,
            "_model_module": "@jupyter-widgets/controls",
            "layout": "IPY_MODEL_6b6280328b71474596ca2566c5eb6a74"
          }
        },
        "2e8338de17c84ec1a568e6c4824a4750": {
          "model_module": "@jupyter-widgets/controls",
          "model_name": "DescriptionStyleModel",
          "model_module_version": "1.5.0",
          "state": {
            "_view_name": "StyleView",
            "_model_name": "DescriptionStyleModel",
            "description_width": "",
            "_view_module": "@jupyter-widgets/base",
            "_model_module_version": "1.5.0",
            "_view_count": null,
            "_view_module_version": "1.2.0",
            "_model_module": "@jupyter-widgets/controls"
          }
        },
        "6ea017b2b1a24f8186f11127f80a608c": {
          "model_module": "@jupyter-widgets/base",
          "model_name": "LayoutModel",
          "model_module_version": "1.2.0",
          "state": {
            "_view_name": "LayoutView",
            "grid_template_rows": null,
            "right": null,
            "justify_content": null,
            "_view_module": "@jupyter-widgets/base",
            "overflow": null,
            "_model_module_version": "1.2.0",
            "_view_count": null,
            "flex_flow": null,
            "width": null,
            "min_width": null,
            "border": null,
            "align_items": null,
            "bottom": null,
            "_model_module": "@jupyter-widgets/base",
            "top": null,
            "grid_column": null,
            "overflow_y": null,
            "overflow_x": null,
            "grid_auto_flow": null,
            "grid_area": null,
            "grid_template_columns": null,
            "flex": null,
            "_model_name": "LayoutModel",
            "justify_items": null,
            "grid_row": null,
            "max_height": null,
            "align_content": null,
            "visibility": null,
            "align_self": null,
            "height": null,
            "min_height": null,
            "padding": null,
            "grid_auto_rows": null,
            "grid_gap": null,
            "max_width": null,
            "order": null,
            "_view_module_version": "1.2.0",
            "grid_template_areas": null,
            "object_position": null,
            "object_fit": null,
            "grid_auto_columns": null,
            "margin": null,
            "display": null,
            "left": null
          }
        },
        "3c7cf9a1a8474c4b8b0a5f1fd2006369": {
          "model_module": "@jupyter-widgets/controls",
          "model_name": "ProgressStyleModel",
          "model_module_version": "1.5.0",
          "state": {
            "_view_name": "StyleView",
            "_model_name": "ProgressStyleModel",
            "description_width": "",
            "_view_module": "@jupyter-widgets/base",
            "_model_module_version": "1.5.0",
            "_view_count": null,
            "_view_module_version": "1.2.0",
            "bar_color": null,
            "_model_module": "@jupyter-widgets/controls"
          }
        },
        "cd379c0ec4684ccaaef20a7acc17e579": {
          "model_module": "@jupyter-widgets/base",
          "model_name": "LayoutModel",
          "model_module_version": "1.2.0",
          "state": {
            "_view_name": "LayoutView",
            "grid_template_rows": null,
            "right": null,
            "justify_content": null,
            "_view_module": "@jupyter-widgets/base",
            "overflow": null,
            "_model_module_version": "1.2.0",
            "_view_count": null,
            "flex_flow": null,
            "width": null,
            "min_width": null,
            "border": null,
            "align_items": null,
            "bottom": null,
            "_model_module": "@jupyter-widgets/base",
            "top": null,
            "grid_column": null,
            "overflow_y": null,
            "overflow_x": null,
            "grid_auto_flow": null,
            "grid_area": null,
            "grid_template_columns": null,
            "flex": null,
            "_model_name": "LayoutModel",
            "justify_items": null,
            "grid_row": null,
            "max_height": null,
            "align_content": null,
            "visibility": null,
            "align_self": null,
            "height": null,
            "min_height": null,
            "padding": null,
            "grid_auto_rows": null,
            "grid_gap": null,
            "max_width": null,
            "order": null,
            "_view_module_version": "1.2.0",
            "grid_template_areas": null,
            "object_position": null,
            "object_fit": null,
            "grid_auto_columns": null,
            "margin": null,
            "display": null,
            "left": null
          }
        },
        "efb23c20df29486880cedca1f72f3a0e": {
          "model_module": "@jupyter-widgets/controls",
          "model_name": "DescriptionStyleModel",
          "model_module_version": "1.5.0",
          "state": {
            "_view_name": "StyleView",
            "_model_name": "DescriptionStyleModel",
            "description_width": "",
            "_view_module": "@jupyter-widgets/base",
            "_model_module_version": "1.5.0",
            "_view_count": null,
            "_view_module_version": "1.2.0",
            "_model_module": "@jupyter-widgets/controls"
          }
        },
        "6b6280328b71474596ca2566c5eb6a74": {
          "model_module": "@jupyter-widgets/base",
          "model_name": "LayoutModel",
          "model_module_version": "1.2.0",
          "state": {
            "_view_name": "LayoutView",
            "grid_template_rows": null,
            "right": null,
            "justify_content": null,
            "_view_module": "@jupyter-widgets/base",
            "overflow": null,
            "_model_module_version": "1.2.0",
            "_view_count": null,
            "flex_flow": null,
            "width": null,
            "min_width": null,
            "border": null,
            "align_items": null,
            "bottom": null,
            "_model_module": "@jupyter-widgets/base",
            "top": null,
            "grid_column": null,
            "overflow_y": null,
            "overflow_x": null,
            "grid_auto_flow": null,
            "grid_area": null,
            "grid_template_columns": null,
            "flex": null,
            "_model_name": "LayoutModel",
            "justify_items": null,
            "grid_row": null,
            "max_height": null,
            "align_content": null,
            "visibility": null,
            "align_self": null,
            "height": null,
            "min_height": null,
            "padding": null,
            "grid_auto_rows": null,
            "grid_gap": null,
            "max_width": null,
            "order": null,
            "_view_module_version": "1.2.0",
            "grid_template_areas": null,
            "object_position": null,
            "object_fit": null,
            "grid_auto_columns": null,
            "margin": null,
            "display": null,
            "left": null
          }
        },
        "9be005f322794f15875f9778fe7e8277": {
          "model_module": "@jupyter-widgets/controls",
          "model_name": "HBoxModel",
          "model_module_version": "1.5.0",
          "state": {
            "_view_name": "HBoxView",
            "_dom_classes": [],
            "_model_name": "HBoxModel",
            "_view_module": "@jupyter-widgets/controls",
            "_model_module_version": "1.5.0",
            "_view_count": null,
            "_view_module_version": "1.5.0",
            "box_style": "",
            "layout": "IPY_MODEL_543c06d3bff24c508d5ab80829a66d8a",
            "_model_module": "@jupyter-widgets/controls",
            "children": [
              "IPY_MODEL_06967224ab25436d8e2f075151696b7d",
              "IPY_MODEL_efca4cd73ddc4263b1f0eebcfe253e8d",
              "IPY_MODEL_e61bc46f5a964c7db24e7b8d9f915e0b"
            ]
          }
        },
        "543c06d3bff24c508d5ab80829a66d8a": {
          "model_module": "@jupyter-widgets/base",
          "model_name": "LayoutModel",
          "model_module_version": "1.2.0",
          "state": {
            "_view_name": "LayoutView",
            "grid_template_rows": null,
            "right": null,
            "justify_content": null,
            "_view_module": "@jupyter-widgets/base",
            "overflow": null,
            "_model_module_version": "1.2.0",
            "_view_count": null,
            "flex_flow": null,
            "width": null,
            "min_width": null,
            "border": null,
            "align_items": null,
            "bottom": null,
            "_model_module": "@jupyter-widgets/base",
            "top": null,
            "grid_column": null,
            "overflow_y": null,
            "overflow_x": null,
            "grid_auto_flow": null,
            "grid_area": null,
            "grid_template_columns": null,
            "flex": null,
            "_model_name": "LayoutModel",
            "justify_items": null,
            "grid_row": null,
            "max_height": null,
            "align_content": null,
            "visibility": null,
            "align_self": null,
            "height": null,
            "min_height": null,
            "padding": null,
            "grid_auto_rows": null,
            "grid_gap": null,
            "max_width": null,
            "order": null,
            "_view_module_version": "1.2.0",
            "grid_template_areas": null,
            "object_position": null,
            "object_fit": null,
            "grid_auto_columns": null,
            "margin": null,
            "display": null,
            "left": null
          }
        },
        "06967224ab25436d8e2f075151696b7d": {
          "model_module": "@jupyter-widgets/controls",
          "model_name": "HTMLModel",
          "model_module_version": "1.5.0",
          "state": {
            "_view_name": "HTMLView",
            "style": "IPY_MODEL_1da1c66743094459b62969babe78dc76",
            "_dom_classes": [],
            "description": "",
            "_model_name": "HTMLModel",
            "placeholder": "​",
            "_view_module": "@jupyter-widgets/controls",
            "_model_module_version": "1.5.0",
            "value": "Running Prediction: 100%",
            "_view_count": null,
            "_view_module_version": "1.5.0",
            "description_tooltip": null,
            "_model_module": "@jupyter-widgets/controls",
            "layout": "IPY_MODEL_08091babea63442fa2e2e6b11242cf0c"
          }
        },
        "efca4cd73ddc4263b1f0eebcfe253e8d": {
          "model_module": "@jupyter-widgets/controls",
          "model_name": "FloatProgressModel",
          "model_module_version": "1.5.0",
          "state": {
            "_view_name": "ProgressView",
            "style": "IPY_MODEL_885cf104b306442c98423270cc998da1",
            "_dom_classes": [],
            "description": "",
            "_model_name": "FloatProgressModel",
            "bar_style": "success",
            "max": 1,
            "_view_module": "@jupyter-widgets/controls",
            "_model_module_version": "1.5.0",
            "value": 1,
            "_view_count": null,
            "_view_module_version": "1.5.0",
            "orientation": "horizontal",
            "min": 0,
            "description_tooltip": null,
            "_model_module": "@jupyter-widgets/controls",
            "layout": "IPY_MODEL_1e42b0655f3049e29a505fe60a996d68"
          }
        },
        "e61bc46f5a964c7db24e7b8d9f915e0b": {
          "model_module": "@jupyter-widgets/controls",
          "model_name": "HTMLModel",
          "model_module_version": "1.5.0",
          "state": {
            "_view_name": "HTMLView",
            "style": "IPY_MODEL_0e429273aaf94d659b69316ce3be1df4",
            "_dom_classes": [],
            "description": "",
            "_model_name": "HTMLModel",
            "placeholder": "​",
            "_view_module": "@jupyter-widgets/controls",
            "_model_module_version": "1.5.0",
            "value": " 1/1 [00:00&lt;00:00, 17.18it/s]",
            "_view_count": null,
            "_view_module_version": "1.5.0",
            "description_tooltip": null,
            "_model_module": "@jupyter-widgets/controls",
            "layout": "IPY_MODEL_109934fe45784c42b8e6f89662293ff5"
          }
        },
        "1da1c66743094459b62969babe78dc76": {
          "model_module": "@jupyter-widgets/controls",
          "model_name": "DescriptionStyleModel",
          "model_module_version": "1.5.0",
          "state": {
            "_view_name": "StyleView",
            "_model_name": "DescriptionStyleModel",
            "description_width": "",
            "_view_module": "@jupyter-widgets/base",
            "_model_module_version": "1.5.0",
            "_view_count": null,
            "_view_module_version": "1.2.0",
            "_model_module": "@jupyter-widgets/controls"
          }
        },
        "08091babea63442fa2e2e6b11242cf0c": {
          "model_module": "@jupyter-widgets/base",
          "model_name": "LayoutModel",
          "model_module_version": "1.2.0",
          "state": {
            "_view_name": "LayoutView",
            "grid_template_rows": null,
            "right": null,
            "justify_content": null,
            "_view_module": "@jupyter-widgets/base",
            "overflow": null,
            "_model_module_version": "1.2.0",
            "_view_count": null,
            "flex_flow": null,
            "width": null,
            "min_width": null,
            "border": null,
            "align_items": null,
            "bottom": null,
            "_model_module": "@jupyter-widgets/base",
            "top": null,
            "grid_column": null,
            "overflow_y": null,
            "overflow_x": null,
            "grid_auto_flow": null,
            "grid_area": null,
            "grid_template_columns": null,
            "flex": null,
            "_model_name": "LayoutModel",
            "justify_items": null,
            "grid_row": null,
            "max_height": null,
            "align_content": null,
            "visibility": null,
            "align_self": null,
            "height": null,
            "min_height": null,
            "padding": null,
            "grid_auto_rows": null,
            "grid_gap": null,
            "max_width": null,
            "order": null,
            "_view_module_version": "1.2.0",
            "grid_template_areas": null,
            "object_position": null,
            "object_fit": null,
            "grid_auto_columns": null,
            "margin": null,
            "display": null,
            "left": null
          }
        },
        "885cf104b306442c98423270cc998da1": {
          "model_module": "@jupyter-widgets/controls",
          "model_name": "ProgressStyleModel",
          "model_module_version": "1.5.0",
          "state": {
            "_view_name": "StyleView",
            "_model_name": "ProgressStyleModel",
            "description_width": "",
            "_view_module": "@jupyter-widgets/base",
            "_model_module_version": "1.5.0",
            "_view_count": null,
            "_view_module_version": "1.2.0",
            "bar_color": null,
            "_model_module": "@jupyter-widgets/controls"
          }
        },
        "1e42b0655f3049e29a505fe60a996d68": {
          "model_module": "@jupyter-widgets/base",
          "model_name": "LayoutModel",
          "model_module_version": "1.2.0",
          "state": {
            "_view_name": "LayoutView",
            "grid_template_rows": null,
            "right": null,
            "justify_content": null,
            "_view_module": "@jupyter-widgets/base",
            "overflow": null,
            "_model_module_version": "1.2.0",
            "_view_count": null,
            "flex_flow": null,
            "width": null,
            "min_width": null,
            "border": null,
            "align_items": null,
            "bottom": null,
            "_model_module": "@jupyter-widgets/base",
            "top": null,
            "grid_column": null,
            "overflow_y": null,
            "overflow_x": null,
            "grid_auto_flow": null,
            "grid_area": null,
            "grid_template_columns": null,
            "flex": null,
            "_model_name": "LayoutModel",
            "justify_items": null,
            "grid_row": null,
            "max_height": null,
            "align_content": null,
            "visibility": null,
            "align_self": null,
            "height": null,
            "min_height": null,
            "padding": null,
            "grid_auto_rows": null,
            "grid_gap": null,
            "max_width": null,
            "order": null,
            "_view_module_version": "1.2.0",
            "grid_template_areas": null,
            "object_position": null,
            "object_fit": null,
            "grid_auto_columns": null,
            "margin": null,
            "display": null,
            "left": null
          }
        },
        "0e429273aaf94d659b69316ce3be1df4": {
          "model_module": "@jupyter-widgets/controls",
          "model_name": "DescriptionStyleModel",
          "model_module_version": "1.5.0",
          "state": {
            "_view_name": "StyleView",
            "_model_name": "DescriptionStyleModel",
            "description_width": "",
            "_view_module": "@jupyter-widgets/base",
            "_model_module_version": "1.5.0",
            "_view_count": null,
            "_view_module_version": "1.2.0",
            "_model_module": "@jupyter-widgets/controls"
          }
        },
        "109934fe45784c42b8e6f89662293ff5": {
          "model_module": "@jupyter-widgets/base",
          "model_name": "LayoutModel",
          "model_module_version": "1.2.0",
          "state": {
            "_view_name": "LayoutView",
            "grid_template_rows": null,
            "right": null,
            "justify_content": null,
            "_view_module": "@jupyter-widgets/base",
            "overflow": null,
            "_model_module_version": "1.2.0",
            "_view_count": null,
            "flex_flow": null,
            "width": null,
            "min_width": null,
            "border": null,
            "align_items": null,
            "bottom": null,
            "_model_module": "@jupyter-widgets/base",
            "top": null,
            "grid_column": null,
            "overflow_y": null,
            "overflow_x": null,
            "grid_auto_flow": null,
            "grid_area": null,
            "grid_template_columns": null,
            "flex": null,
            "_model_name": "LayoutModel",
            "justify_items": null,
            "grid_row": null,
            "max_height": null,
            "align_content": null,
            "visibility": null,
            "align_self": null,
            "height": null,
            "min_height": null,
            "padding": null,
            "grid_auto_rows": null,
            "grid_gap": null,
            "max_width": null,
            "order": null,
            "_view_module_version": "1.2.0",
            "grid_template_areas": null,
            "object_position": null,
            "object_fit": null,
            "grid_auto_columns": null,
            "margin": null,
            "display": null,
            "left": null
          }
        },
        "4a44438330e648dc97939f4548bfd1cb": {
          "model_module": "@jupyter-widgets/controls",
          "model_name": "HBoxModel",
          "model_module_version": "1.5.0",
          "state": {
            "_view_name": "HBoxView",
            "_dom_classes": [],
            "_model_name": "HBoxModel",
            "_view_module": "@jupyter-widgets/controls",
            "_model_module_version": "1.5.0",
            "_view_count": null,
            "_view_module_version": "1.5.0",
            "box_style": "",
            "layout": "IPY_MODEL_bb6ea033ecc442b494cfc1337bf47cb8",
            "_model_module": "@jupyter-widgets/controls",
            "children": [
              "IPY_MODEL_cec1c8cb018c4bfabccb1027ff548bb4",
              "IPY_MODEL_76f465837a1649d9bb341a10efdaba7f",
              "IPY_MODEL_983cb74942fb4af280bb68a1dec1885b"
            ]
          }
        },
        "bb6ea033ecc442b494cfc1337bf47cb8": {
          "model_module": "@jupyter-widgets/base",
          "model_name": "LayoutModel",
          "model_module_version": "1.2.0",
          "state": {
            "_view_name": "LayoutView",
            "grid_template_rows": null,
            "right": null,
            "justify_content": null,
            "_view_module": "@jupyter-widgets/base",
            "overflow": null,
            "_model_module_version": "1.2.0",
            "_view_count": null,
            "flex_flow": null,
            "width": null,
            "min_width": null,
            "border": null,
            "align_items": null,
            "bottom": null,
            "_model_module": "@jupyter-widgets/base",
            "top": null,
            "grid_column": null,
            "overflow_y": null,
            "overflow_x": null,
            "grid_auto_flow": null,
            "grid_area": null,
            "grid_template_columns": null,
            "flex": null,
            "_model_name": "LayoutModel",
            "justify_items": null,
            "grid_row": null,
            "max_height": null,
            "align_content": null,
            "visibility": null,
            "align_self": null,
            "height": null,
            "min_height": null,
            "padding": null,
            "grid_auto_rows": null,
            "grid_gap": null,
            "max_width": null,
            "order": null,
            "_view_module_version": "1.2.0",
            "grid_template_areas": null,
            "object_position": null,
            "object_fit": null,
            "grid_auto_columns": null,
            "margin": null,
            "display": null,
            "left": null
          }
        },
        "cec1c8cb018c4bfabccb1027ff548bb4": {
          "model_module": "@jupyter-widgets/controls",
          "model_name": "HTMLModel",
          "model_module_version": "1.5.0",
          "state": {
            "_view_name": "HTMLView",
            "style": "IPY_MODEL_eb55e02e48c747ed8f37f00aec436528",
            "_dom_classes": [],
            "description": "",
            "_model_name": "HTMLModel",
            "placeholder": "​",
            "_view_module": "@jupyter-widgets/controls",
            "_model_module_version": "1.5.0",
            "value": "100%",
            "_view_count": null,
            "_view_module_version": "1.5.0",
            "description_tooltip": null,
            "_model_module": "@jupyter-widgets/controls",
            "layout": "IPY_MODEL_64280bed3dea40b0b74d41506a66d050"
          }
        },
        "76f465837a1649d9bb341a10efdaba7f": {
          "model_module": "@jupyter-widgets/controls",
          "model_name": "FloatProgressModel",
          "model_module_version": "1.5.0",
          "state": {
            "_view_name": "ProgressView",
            "style": "IPY_MODEL_c426a818730448949cc92326fc657fec",
            "_dom_classes": [],
            "description": "",
            "_model_name": "FloatProgressModel",
            "bar_style": "success",
            "max": 1,
            "_view_module": "@jupyter-widgets/controls",
            "_model_module_version": "1.5.0",
            "value": 1,
            "_view_count": null,
            "_view_module_version": "1.5.0",
            "orientation": "horizontal",
            "min": 0,
            "description_tooltip": null,
            "_model_module": "@jupyter-widgets/controls",
            "layout": "IPY_MODEL_69645a1c53834960b4c98f13124fa49a"
          }
        },
        "983cb74942fb4af280bb68a1dec1885b": {
          "model_module": "@jupyter-widgets/controls",
          "model_name": "HTMLModel",
          "model_module_version": "1.5.0",
          "state": {
            "_view_name": "HTMLView",
            "style": "IPY_MODEL_20d283019a5e4fbd8caea624a15ce6eb",
            "_dom_classes": [],
            "description": "",
            "_model_name": "HTMLModel",
            "placeholder": "​",
            "_view_module": "@jupyter-widgets/controls",
            "_model_module_version": "1.5.0",
            "value": " 1/1 [00:00&lt;00:00, 12.14it/s]",
            "_view_count": null,
            "_view_module_version": "1.5.0",
            "description_tooltip": null,
            "_model_module": "@jupyter-widgets/controls",
            "layout": "IPY_MODEL_6fefe8c090074567b8aadd9d3b4ca66f"
          }
        },
        "eb55e02e48c747ed8f37f00aec436528": {
          "model_module": "@jupyter-widgets/controls",
          "model_name": "DescriptionStyleModel",
          "model_module_version": "1.5.0",
          "state": {
            "_view_name": "StyleView",
            "_model_name": "DescriptionStyleModel",
            "description_width": "",
            "_view_module": "@jupyter-widgets/base",
            "_model_module_version": "1.5.0",
            "_view_count": null,
            "_view_module_version": "1.2.0",
            "_model_module": "@jupyter-widgets/controls"
          }
        },
        "64280bed3dea40b0b74d41506a66d050": {
          "model_module": "@jupyter-widgets/base",
          "model_name": "LayoutModel",
          "model_module_version": "1.2.0",
          "state": {
            "_view_name": "LayoutView",
            "grid_template_rows": null,
            "right": null,
            "justify_content": null,
            "_view_module": "@jupyter-widgets/base",
            "overflow": null,
            "_model_module_version": "1.2.0",
            "_view_count": null,
            "flex_flow": null,
            "width": null,
            "min_width": null,
            "border": null,
            "align_items": null,
            "bottom": null,
            "_model_module": "@jupyter-widgets/base",
            "top": null,
            "grid_column": null,
            "overflow_y": null,
            "overflow_x": null,
            "grid_auto_flow": null,
            "grid_area": null,
            "grid_template_columns": null,
            "flex": null,
            "_model_name": "LayoutModel",
            "justify_items": null,
            "grid_row": null,
            "max_height": null,
            "align_content": null,
            "visibility": null,
            "align_self": null,
            "height": null,
            "min_height": null,
            "padding": null,
            "grid_auto_rows": null,
            "grid_gap": null,
            "max_width": null,
            "order": null,
            "_view_module_version": "1.2.0",
            "grid_template_areas": null,
            "object_position": null,
            "object_fit": null,
            "grid_auto_columns": null,
            "margin": null,
            "display": null,
            "left": null
          }
        },
        "c426a818730448949cc92326fc657fec": {
          "model_module": "@jupyter-widgets/controls",
          "model_name": "ProgressStyleModel",
          "model_module_version": "1.5.0",
          "state": {
            "_view_name": "StyleView",
            "_model_name": "ProgressStyleModel",
            "description_width": "",
            "_view_module": "@jupyter-widgets/base",
            "_model_module_version": "1.5.0",
            "_view_count": null,
            "_view_module_version": "1.2.0",
            "bar_color": null,
            "_model_module": "@jupyter-widgets/controls"
          }
        },
        "69645a1c53834960b4c98f13124fa49a": {
          "model_module": "@jupyter-widgets/base",
          "model_name": "LayoutModel",
          "model_module_version": "1.2.0",
          "state": {
            "_view_name": "LayoutView",
            "grid_template_rows": null,
            "right": null,
            "justify_content": null,
            "_view_module": "@jupyter-widgets/base",
            "overflow": null,
            "_model_module_version": "1.2.0",
            "_view_count": null,
            "flex_flow": null,
            "width": null,
            "min_width": null,
            "border": null,
            "align_items": null,
            "bottom": null,
            "_model_module": "@jupyter-widgets/base",
            "top": null,
            "grid_column": null,
            "overflow_y": null,
            "overflow_x": null,
            "grid_auto_flow": null,
            "grid_area": null,
            "grid_template_columns": null,
            "flex": null,
            "_model_name": "LayoutModel",
            "justify_items": null,
            "grid_row": null,
            "max_height": null,
            "align_content": null,
            "visibility": null,
            "align_self": null,
            "height": null,
            "min_height": null,
            "padding": null,
            "grid_auto_rows": null,
            "grid_gap": null,
            "max_width": null,
            "order": null,
            "_view_module_version": "1.2.0",
            "grid_template_areas": null,
            "object_position": null,
            "object_fit": null,
            "grid_auto_columns": null,
            "margin": null,
            "display": null,
            "left": null
          }
        },
        "20d283019a5e4fbd8caea624a15ce6eb": {
          "model_module": "@jupyter-widgets/controls",
          "model_name": "DescriptionStyleModel",
          "model_module_version": "1.5.0",
          "state": {
            "_view_name": "StyleView",
            "_model_name": "DescriptionStyleModel",
            "description_width": "",
            "_view_module": "@jupyter-widgets/base",
            "_model_module_version": "1.5.0",
            "_view_count": null,
            "_view_module_version": "1.2.0",
            "_model_module": "@jupyter-widgets/controls"
          }
        },
        "6fefe8c090074567b8aadd9d3b4ca66f": {
          "model_module": "@jupyter-widgets/base",
          "model_name": "LayoutModel",
          "model_module_version": "1.2.0",
          "state": {
            "_view_name": "LayoutView",
            "grid_template_rows": null,
            "right": null,
            "justify_content": null,
            "_view_module": "@jupyter-widgets/base",
            "overflow": null,
            "_model_module_version": "1.2.0",
            "_view_count": null,
            "flex_flow": null,
            "width": null,
            "min_width": null,
            "border": null,
            "align_items": null,
            "bottom": null,
            "_model_module": "@jupyter-widgets/base",
            "top": null,
            "grid_column": null,
            "overflow_y": null,
            "overflow_x": null,
            "grid_auto_flow": null,
            "grid_area": null,
            "grid_template_columns": null,
            "flex": null,
            "_model_name": "LayoutModel",
            "justify_items": null,
            "grid_row": null,
            "max_height": null,
            "align_content": null,
            "visibility": null,
            "align_self": null,
            "height": null,
            "min_height": null,
            "padding": null,
            "grid_auto_rows": null,
            "grid_gap": null,
            "max_width": null,
            "order": null,
            "_view_module_version": "1.2.0",
            "grid_template_areas": null,
            "object_position": null,
            "object_fit": null,
            "grid_auto_columns": null,
            "margin": null,
            "display": null,
            "left": null
          }
        },
        "ea010ec177a94549b60bf6ac96209a9a": {
          "model_module": "@jupyter-widgets/controls",
          "model_name": "HBoxModel",
          "model_module_version": "1.5.0",
          "state": {
            "_view_name": "HBoxView",
            "_dom_classes": [],
            "_model_name": "HBoxModel",
            "_view_module": "@jupyter-widgets/controls",
            "_model_module_version": "1.5.0",
            "_view_count": null,
            "_view_module_version": "1.5.0",
            "box_style": "",
            "layout": "IPY_MODEL_b81fa0908ca047db83cb03b40a872540",
            "_model_module": "@jupyter-widgets/controls",
            "children": [
              "IPY_MODEL_c3213a5f4f114b5fbe91a8cff611d7ec",
              "IPY_MODEL_4e60577dabcd41bea2b67537aba08b44",
              "IPY_MODEL_74fd1a2ec6d641ca8441870c64fe30e6"
            ]
          }
        },
        "b81fa0908ca047db83cb03b40a872540": {
          "model_module": "@jupyter-widgets/base",
          "model_name": "LayoutModel",
          "model_module_version": "1.2.0",
          "state": {
            "_view_name": "LayoutView",
            "grid_template_rows": null,
            "right": null,
            "justify_content": null,
            "_view_module": "@jupyter-widgets/base",
            "overflow": null,
            "_model_module_version": "1.2.0",
            "_view_count": null,
            "flex_flow": null,
            "width": null,
            "min_width": null,
            "border": null,
            "align_items": null,
            "bottom": null,
            "_model_module": "@jupyter-widgets/base",
            "top": null,
            "grid_column": null,
            "overflow_y": null,
            "overflow_x": null,
            "grid_auto_flow": null,
            "grid_area": null,
            "grid_template_columns": null,
            "flex": null,
            "_model_name": "LayoutModel",
            "justify_items": null,
            "grid_row": null,
            "max_height": null,
            "align_content": null,
            "visibility": null,
            "align_self": null,
            "height": null,
            "min_height": null,
            "padding": null,
            "grid_auto_rows": null,
            "grid_gap": null,
            "max_width": null,
            "order": null,
            "_view_module_version": "1.2.0",
            "grid_template_areas": null,
            "object_position": null,
            "object_fit": null,
            "grid_auto_columns": null,
            "margin": null,
            "display": null,
            "left": null
          }
        },
        "c3213a5f4f114b5fbe91a8cff611d7ec": {
          "model_module": "@jupyter-widgets/controls",
          "model_name": "HTMLModel",
          "model_module_version": "1.5.0",
          "state": {
            "_view_name": "HTMLView",
            "style": "IPY_MODEL_1052e155372c41af993e36d55c8e5974",
            "_dom_classes": [],
            "description": "",
            "_model_name": "HTMLModel",
            "placeholder": "​",
            "_view_module": "@jupyter-widgets/controls",
            "_model_module_version": "1.5.0",
            "value": "Running Prediction: 100%",
            "_view_count": null,
            "_view_module_version": "1.5.0",
            "description_tooltip": null,
            "_model_module": "@jupyter-widgets/controls",
            "layout": "IPY_MODEL_71ffa1a2ac3f46d8bd91d107b721000b"
          }
        },
        "4e60577dabcd41bea2b67537aba08b44": {
          "model_module": "@jupyter-widgets/controls",
          "model_name": "FloatProgressModel",
          "model_module_version": "1.5.0",
          "state": {
            "_view_name": "ProgressView",
            "style": "IPY_MODEL_a9c02ed3162b4483902aca74ed4e7a6f",
            "_dom_classes": [],
            "description": "",
            "_model_name": "FloatProgressModel",
            "bar_style": "success",
            "max": 1,
            "_view_module": "@jupyter-widgets/controls",
            "_model_module_version": "1.5.0",
            "value": 1,
            "_view_count": null,
            "_view_module_version": "1.5.0",
            "orientation": "horizontal",
            "min": 0,
            "description_tooltip": null,
            "_model_module": "@jupyter-widgets/controls",
            "layout": "IPY_MODEL_074263bbf97e4fb3aed27234e34a8dac"
          }
        },
        "74fd1a2ec6d641ca8441870c64fe30e6": {
          "model_module": "@jupyter-widgets/controls",
          "model_name": "HTMLModel",
          "model_module_version": "1.5.0",
          "state": {
            "_view_name": "HTMLView",
            "style": "IPY_MODEL_2eeb57dda4bb4143b7d672996297148a",
            "_dom_classes": [],
            "description": "",
            "_model_name": "HTMLModel",
            "placeholder": "​",
            "_view_module": "@jupyter-widgets/controls",
            "_model_module_version": "1.5.0",
            "value": " 1/1 [00:00&lt;00:00, 16.44it/s]",
            "_view_count": null,
            "_view_module_version": "1.5.0",
            "description_tooltip": null,
            "_model_module": "@jupyter-widgets/controls",
            "layout": "IPY_MODEL_43a5e67f622a4c2d85e91b1f845cce19"
          }
        },
        "1052e155372c41af993e36d55c8e5974": {
          "model_module": "@jupyter-widgets/controls",
          "model_name": "DescriptionStyleModel",
          "model_module_version": "1.5.0",
          "state": {
            "_view_name": "StyleView",
            "_model_name": "DescriptionStyleModel",
            "description_width": "",
            "_view_module": "@jupyter-widgets/base",
            "_model_module_version": "1.5.0",
            "_view_count": null,
            "_view_module_version": "1.2.0",
            "_model_module": "@jupyter-widgets/controls"
          }
        },
        "71ffa1a2ac3f46d8bd91d107b721000b": {
          "model_module": "@jupyter-widgets/base",
          "model_name": "LayoutModel",
          "model_module_version": "1.2.0",
          "state": {
            "_view_name": "LayoutView",
            "grid_template_rows": null,
            "right": null,
            "justify_content": null,
            "_view_module": "@jupyter-widgets/base",
            "overflow": null,
            "_model_module_version": "1.2.0",
            "_view_count": null,
            "flex_flow": null,
            "width": null,
            "min_width": null,
            "border": null,
            "align_items": null,
            "bottom": null,
            "_model_module": "@jupyter-widgets/base",
            "top": null,
            "grid_column": null,
            "overflow_y": null,
            "overflow_x": null,
            "grid_auto_flow": null,
            "grid_area": null,
            "grid_template_columns": null,
            "flex": null,
            "_model_name": "LayoutModel",
            "justify_items": null,
            "grid_row": null,
            "max_height": null,
            "align_content": null,
            "visibility": null,
            "align_self": null,
            "height": null,
            "min_height": null,
            "padding": null,
            "grid_auto_rows": null,
            "grid_gap": null,
            "max_width": null,
            "order": null,
            "_view_module_version": "1.2.0",
            "grid_template_areas": null,
            "object_position": null,
            "object_fit": null,
            "grid_auto_columns": null,
            "margin": null,
            "display": null,
            "left": null
          }
        },
        "a9c02ed3162b4483902aca74ed4e7a6f": {
          "model_module": "@jupyter-widgets/controls",
          "model_name": "ProgressStyleModel",
          "model_module_version": "1.5.0",
          "state": {
            "_view_name": "StyleView",
            "_model_name": "ProgressStyleModel",
            "description_width": "",
            "_view_module": "@jupyter-widgets/base",
            "_model_module_version": "1.5.0",
            "_view_count": null,
            "_view_module_version": "1.2.0",
            "bar_color": null,
            "_model_module": "@jupyter-widgets/controls"
          }
        },
        "074263bbf97e4fb3aed27234e34a8dac": {
          "model_module": "@jupyter-widgets/base",
          "model_name": "LayoutModel",
          "model_module_version": "1.2.0",
          "state": {
            "_view_name": "LayoutView",
            "grid_template_rows": null,
            "right": null,
            "justify_content": null,
            "_view_module": "@jupyter-widgets/base",
            "overflow": null,
            "_model_module_version": "1.2.0",
            "_view_count": null,
            "flex_flow": null,
            "width": null,
            "min_width": null,
            "border": null,
            "align_items": null,
            "bottom": null,
            "_model_module": "@jupyter-widgets/base",
            "top": null,
            "grid_column": null,
            "overflow_y": null,
            "overflow_x": null,
            "grid_auto_flow": null,
            "grid_area": null,
            "grid_template_columns": null,
            "flex": null,
            "_model_name": "LayoutModel",
            "justify_items": null,
            "grid_row": null,
            "max_height": null,
            "align_content": null,
            "visibility": null,
            "align_self": null,
            "height": null,
            "min_height": null,
            "padding": null,
            "grid_auto_rows": null,
            "grid_gap": null,
            "max_width": null,
            "order": null,
            "_view_module_version": "1.2.0",
            "grid_template_areas": null,
            "object_position": null,
            "object_fit": null,
            "grid_auto_columns": null,
            "margin": null,
            "display": null,
            "left": null
          }
        },
        "2eeb57dda4bb4143b7d672996297148a": {
          "model_module": "@jupyter-widgets/controls",
          "model_name": "DescriptionStyleModel",
          "model_module_version": "1.5.0",
          "state": {
            "_view_name": "StyleView",
            "_model_name": "DescriptionStyleModel",
            "description_width": "",
            "_view_module": "@jupyter-widgets/base",
            "_model_module_version": "1.5.0",
            "_view_count": null,
            "_view_module_version": "1.2.0",
            "_model_module": "@jupyter-widgets/controls"
          }
        },
        "43a5e67f622a4c2d85e91b1f845cce19": {
          "model_module": "@jupyter-widgets/base",
          "model_name": "LayoutModel",
          "model_module_version": "1.2.0",
          "state": {
            "_view_name": "LayoutView",
            "grid_template_rows": null,
            "right": null,
            "justify_content": null,
            "_view_module": "@jupyter-widgets/base",
            "overflow": null,
            "_model_module_version": "1.2.0",
            "_view_count": null,
            "flex_flow": null,
            "width": null,
            "min_width": null,
            "border": null,
            "align_items": null,
            "bottom": null,
            "_model_module": "@jupyter-widgets/base",
            "top": null,
            "grid_column": null,
            "overflow_y": null,
            "overflow_x": null,
            "grid_auto_flow": null,
            "grid_area": null,
            "grid_template_columns": null,
            "flex": null,
            "_model_name": "LayoutModel",
            "justify_items": null,
            "grid_row": null,
            "max_height": null,
            "align_content": null,
            "visibility": null,
            "align_self": null,
            "height": null,
            "min_height": null,
            "padding": null,
            "grid_auto_rows": null,
            "grid_gap": null,
            "max_width": null,
            "order": null,
            "_view_module_version": "1.2.0",
            "grid_template_areas": null,
            "object_position": null,
            "object_fit": null,
            "grid_auto_columns": null,
            "margin": null,
            "display": null,
            "left": null
          }
        },
        "9f387d5c2f6843bc95887f8ea2721ed6": {
          "model_module": "@jupyter-widgets/controls",
          "model_name": "HBoxModel",
          "model_module_version": "1.5.0",
          "state": {
            "_view_name": "HBoxView",
            "_dom_classes": [],
            "_model_name": "HBoxModel",
            "_view_module": "@jupyter-widgets/controls",
            "_model_module_version": "1.5.0",
            "_view_count": null,
            "_view_module_version": "1.5.0",
            "box_style": "",
            "layout": "IPY_MODEL_1d2deb983e14432e82a632e25ae9f12b",
            "_model_module": "@jupyter-widgets/controls",
            "children": [
              "IPY_MODEL_443df35f4c2f4bb0b068296f03d1d21c",
              "IPY_MODEL_00e5debfcdaa4db09e7007602722ad55",
              "IPY_MODEL_683b5736b7f248b3961baf075709a716"
            ]
          }
        },
        "1d2deb983e14432e82a632e25ae9f12b": {
          "model_module": "@jupyter-widgets/base",
          "model_name": "LayoutModel",
          "model_module_version": "1.2.0",
          "state": {
            "_view_name": "LayoutView",
            "grid_template_rows": null,
            "right": null,
            "justify_content": null,
            "_view_module": "@jupyter-widgets/base",
            "overflow": null,
            "_model_module_version": "1.2.0",
            "_view_count": null,
            "flex_flow": null,
            "width": null,
            "min_width": null,
            "border": null,
            "align_items": null,
            "bottom": null,
            "_model_module": "@jupyter-widgets/base",
            "top": null,
            "grid_column": null,
            "overflow_y": null,
            "overflow_x": null,
            "grid_auto_flow": null,
            "grid_area": null,
            "grid_template_columns": null,
            "flex": null,
            "_model_name": "LayoutModel",
            "justify_items": null,
            "grid_row": null,
            "max_height": null,
            "align_content": null,
            "visibility": null,
            "align_self": null,
            "height": null,
            "min_height": null,
            "padding": null,
            "grid_auto_rows": null,
            "grid_gap": null,
            "max_width": null,
            "order": null,
            "_view_module_version": "1.2.0",
            "grid_template_areas": null,
            "object_position": null,
            "object_fit": null,
            "grid_auto_columns": null,
            "margin": null,
            "display": null,
            "left": null
          }
        },
        "443df35f4c2f4bb0b068296f03d1d21c": {
          "model_module": "@jupyter-widgets/controls",
          "model_name": "HTMLModel",
          "model_module_version": "1.5.0",
          "state": {
            "_view_name": "HTMLView",
            "style": "IPY_MODEL_70b9ecbbc80d4d7e8b5feba5b3cb2d12",
            "_dom_classes": [],
            "description": "",
            "_model_name": "HTMLModel",
            "placeholder": "​",
            "_view_module": "@jupyter-widgets/controls",
            "_model_module_version": "1.5.0",
            "value": "100%",
            "_view_count": null,
            "_view_module_version": "1.5.0",
            "description_tooltip": null,
            "_model_module": "@jupyter-widgets/controls",
            "layout": "IPY_MODEL_4de4a0a5b7a04f3f8e0c811e56bcce8c"
          }
        },
        "00e5debfcdaa4db09e7007602722ad55": {
          "model_module": "@jupyter-widgets/controls",
          "model_name": "FloatProgressModel",
          "model_module_version": "1.5.0",
          "state": {
            "_view_name": "ProgressView",
            "style": "IPY_MODEL_cefd8b9e1fc149d9966cf256daa293d4",
            "_dom_classes": [],
            "description": "",
            "_model_name": "FloatProgressModel",
            "bar_style": "success",
            "max": 1,
            "_view_module": "@jupyter-widgets/controls",
            "_model_module_version": "1.5.0",
            "value": 1,
            "_view_count": null,
            "_view_module_version": "1.5.0",
            "orientation": "horizontal",
            "min": 0,
            "description_tooltip": null,
            "_model_module": "@jupyter-widgets/controls",
            "layout": "IPY_MODEL_e8c91a25780c4a8f8ff672bf41e2fccf"
          }
        },
        "683b5736b7f248b3961baf075709a716": {
          "model_module": "@jupyter-widgets/controls",
          "model_name": "HTMLModel",
          "model_module_version": "1.5.0",
          "state": {
            "_view_name": "HTMLView",
            "style": "IPY_MODEL_61c0257d6b7f4bc29a373bd2aff7fa61",
            "_dom_classes": [],
            "description": "",
            "_model_name": "HTMLModel",
            "placeholder": "​",
            "_view_module": "@jupyter-widgets/controls",
            "_model_module_version": "1.5.0",
            "value": " 1/1 [00:00&lt;00:00, 10.12it/s]",
            "_view_count": null,
            "_view_module_version": "1.5.0",
            "description_tooltip": null,
            "_model_module": "@jupyter-widgets/controls",
            "layout": "IPY_MODEL_c24153d3a6d648af88308586a93ff7c0"
          }
        },
        "70b9ecbbc80d4d7e8b5feba5b3cb2d12": {
          "model_module": "@jupyter-widgets/controls",
          "model_name": "DescriptionStyleModel",
          "model_module_version": "1.5.0",
          "state": {
            "_view_name": "StyleView",
            "_model_name": "DescriptionStyleModel",
            "description_width": "",
            "_view_module": "@jupyter-widgets/base",
            "_model_module_version": "1.5.0",
            "_view_count": null,
            "_view_module_version": "1.2.0",
            "_model_module": "@jupyter-widgets/controls"
          }
        },
        "4de4a0a5b7a04f3f8e0c811e56bcce8c": {
          "model_module": "@jupyter-widgets/base",
          "model_name": "LayoutModel",
          "model_module_version": "1.2.0",
          "state": {
            "_view_name": "LayoutView",
            "grid_template_rows": null,
            "right": null,
            "justify_content": null,
            "_view_module": "@jupyter-widgets/base",
            "overflow": null,
            "_model_module_version": "1.2.0",
            "_view_count": null,
            "flex_flow": null,
            "width": null,
            "min_width": null,
            "border": null,
            "align_items": null,
            "bottom": null,
            "_model_module": "@jupyter-widgets/base",
            "top": null,
            "grid_column": null,
            "overflow_y": null,
            "overflow_x": null,
            "grid_auto_flow": null,
            "grid_area": null,
            "grid_template_columns": null,
            "flex": null,
            "_model_name": "LayoutModel",
            "justify_items": null,
            "grid_row": null,
            "max_height": null,
            "align_content": null,
            "visibility": null,
            "align_self": null,
            "height": null,
            "min_height": null,
            "padding": null,
            "grid_auto_rows": null,
            "grid_gap": null,
            "max_width": null,
            "order": null,
            "_view_module_version": "1.2.0",
            "grid_template_areas": null,
            "object_position": null,
            "object_fit": null,
            "grid_auto_columns": null,
            "margin": null,
            "display": null,
            "left": null
          }
        },
        "cefd8b9e1fc149d9966cf256daa293d4": {
          "model_module": "@jupyter-widgets/controls",
          "model_name": "ProgressStyleModel",
          "model_module_version": "1.5.0",
          "state": {
            "_view_name": "StyleView",
            "_model_name": "ProgressStyleModel",
            "description_width": "",
            "_view_module": "@jupyter-widgets/base",
            "_model_module_version": "1.5.0",
            "_view_count": null,
            "_view_module_version": "1.2.0",
            "bar_color": null,
            "_model_module": "@jupyter-widgets/controls"
          }
        },
        "e8c91a25780c4a8f8ff672bf41e2fccf": {
          "model_module": "@jupyter-widgets/base",
          "model_name": "LayoutModel",
          "model_module_version": "1.2.0",
          "state": {
            "_view_name": "LayoutView",
            "grid_template_rows": null,
            "right": null,
            "justify_content": null,
            "_view_module": "@jupyter-widgets/base",
            "overflow": null,
            "_model_module_version": "1.2.0",
            "_view_count": null,
            "flex_flow": null,
            "width": null,
            "min_width": null,
            "border": null,
            "align_items": null,
            "bottom": null,
            "_model_module": "@jupyter-widgets/base",
            "top": null,
            "grid_column": null,
            "overflow_y": null,
            "overflow_x": null,
            "grid_auto_flow": null,
            "grid_area": null,
            "grid_template_columns": null,
            "flex": null,
            "_model_name": "LayoutModel",
            "justify_items": null,
            "grid_row": null,
            "max_height": null,
            "align_content": null,
            "visibility": null,
            "align_self": null,
            "height": null,
            "min_height": null,
            "padding": null,
            "grid_auto_rows": null,
            "grid_gap": null,
            "max_width": null,
            "order": null,
            "_view_module_version": "1.2.0",
            "grid_template_areas": null,
            "object_position": null,
            "object_fit": null,
            "grid_auto_columns": null,
            "margin": null,
            "display": null,
            "left": null
          }
        },
        "61c0257d6b7f4bc29a373bd2aff7fa61": {
          "model_module": "@jupyter-widgets/controls",
          "model_name": "DescriptionStyleModel",
          "model_module_version": "1.5.0",
          "state": {
            "_view_name": "StyleView",
            "_model_name": "DescriptionStyleModel",
            "description_width": "",
            "_view_module": "@jupyter-widgets/base",
            "_model_module_version": "1.5.0",
            "_view_count": null,
            "_view_module_version": "1.2.0",
            "_model_module": "@jupyter-widgets/controls"
          }
        },
        "c24153d3a6d648af88308586a93ff7c0": {
          "model_module": "@jupyter-widgets/base",
          "model_name": "LayoutModel",
          "model_module_version": "1.2.0",
          "state": {
            "_view_name": "LayoutView",
            "grid_template_rows": null,
            "right": null,
            "justify_content": null,
            "_view_module": "@jupyter-widgets/base",
            "overflow": null,
            "_model_module_version": "1.2.0",
            "_view_count": null,
            "flex_flow": null,
            "width": null,
            "min_width": null,
            "border": null,
            "align_items": null,
            "bottom": null,
            "_model_module": "@jupyter-widgets/base",
            "top": null,
            "grid_column": null,
            "overflow_y": null,
            "overflow_x": null,
            "grid_auto_flow": null,
            "grid_area": null,
            "grid_template_columns": null,
            "flex": null,
            "_model_name": "LayoutModel",
            "justify_items": null,
            "grid_row": null,
            "max_height": null,
            "align_content": null,
            "visibility": null,
            "align_self": null,
            "height": null,
            "min_height": null,
            "padding": null,
            "grid_auto_rows": null,
            "grid_gap": null,
            "max_width": null,
            "order": null,
            "_view_module_version": "1.2.0",
            "grid_template_areas": null,
            "object_position": null,
            "object_fit": null,
            "grid_auto_columns": null,
            "margin": null,
            "display": null,
            "left": null
          }
        },
        "67392ea5966742f08c6a9e111acbbea2": {
          "model_module": "@jupyter-widgets/controls",
          "model_name": "HBoxModel",
          "model_module_version": "1.5.0",
          "state": {
            "_view_name": "HBoxView",
            "_dom_classes": [],
            "_model_name": "HBoxModel",
            "_view_module": "@jupyter-widgets/controls",
            "_model_module_version": "1.5.0",
            "_view_count": null,
            "_view_module_version": "1.5.0",
            "box_style": "",
            "layout": "IPY_MODEL_e633399b26e543308bb562cff9544858",
            "_model_module": "@jupyter-widgets/controls",
            "children": [
              "IPY_MODEL_f062302843c946cb90890f9dd5203cdb",
              "IPY_MODEL_11b80dc3411a4482a766194481233e19",
              "IPY_MODEL_6b1ee413f0894409824fdef4bcd6c864"
            ]
          }
        },
        "e633399b26e543308bb562cff9544858": {
          "model_module": "@jupyter-widgets/base",
          "model_name": "LayoutModel",
          "model_module_version": "1.2.0",
          "state": {
            "_view_name": "LayoutView",
            "grid_template_rows": null,
            "right": null,
            "justify_content": null,
            "_view_module": "@jupyter-widgets/base",
            "overflow": null,
            "_model_module_version": "1.2.0",
            "_view_count": null,
            "flex_flow": null,
            "width": null,
            "min_width": null,
            "border": null,
            "align_items": null,
            "bottom": null,
            "_model_module": "@jupyter-widgets/base",
            "top": null,
            "grid_column": null,
            "overflow_y": null,
            "overflow_x": null,
            "grid_auto_flow": null,
            "grid_area": null,
            "grid_template_columns": null,
            "flex": null,
            "_model_name": "LayoutModel",
            "justify_items": null,
            "grid_row": null,
            "max_height": null,
            "align_content": null,
            "visibility": null,
            "align_self": null,
            "height": null,
            "min_height": null,
            "padding": null,
            "grid_auto_rows": null,
            "grid_gap": null,
            "max_width": null,
            "order": null,
            "_view_module_version": "1.2.0",
            "grid_template_areas": null,
            "object_position": null,
            "object_fit": null,
            "grid_auto_columns": null,
            "margin": null,
            "display": null,
            "left": null
          }
        },
        "f062302843c946cb90890f9dd5203cdb": {
          "model_module": "@jupyter-widgets/controls",
          "model_name": "HTMLModel",
          "model_module_version": "1.5.0",
          "state": {
            "_view_name": "HTMLView",
            "style": "IPY_MODEL_c05aaa114bb94dfba05cb91d644ebd2b",
            "_dom_classes": [],
            "description": "",
            "_model_name": "HTMLModel",
            "placeholder": "​",
            "_view_module": "@jupyter-widgets/controls",
            "_model_module_version": "1.5.0",
            "value": "Running Prediction: 100%",
            "_view_count": null,
            "_view_module_version": "1.5.0",
            "description_tooltip": null,
            "_model_module": "@jupyter-widgets/controls",
            "layout": "IPY_MODEL_3ae710056ecd4a7fbcf501c592f8c912"
          }
        },
        "11b80dc3411a4482a766194481233e19": {
          "model_module": "@jupyter-widgets/controls",
          "model_name": "FloatProgressModel",
          "model_module_version": "1.5.0",
          "state": {
            "_view_name": "ProgressView",
            "style": "IPY_MODEL_6aa27567178d473bb6d358471dfcf635",
            "_dom_classes": [],
            "description": "",
            "_model_name": "FloatProgressModel",
            "bar_style": "success",
            "max": 1,
            "_view_module": "@jupyter-widgets/controls",
            "_model_module_version": "1.5.0",
            "value": 1,
            "_view_count": null,
            "_view_module_version": "1.5.0",
            "orientation": "horizontal",
            "min": 0,
            "description_tooltip": null,
            "_model_module": "@jupyter-widgets/controls",
            "layout": "IPY_MODEL_2b9c404b2c344d799a9ec73ff29b6562"
          }
        },
        "6b1ee413f0894409824fdef4bcd6c864": {
          "model_module": "@jupyter-widgets/controls",
          "model_name": "HTMLModel",
          "model_module_version": "1.5.0",
          "state": {
            "_view_name": "HTMLView",
            "style": "IPY_MODEL_f39f23f7707746948b3c09cc0cd9cf1d",
            "_dom_classes": [],
            "description": "",
            "_model_name": "HTMLModel",
            "placeholder": "​",
            "_view_module": "@jupyter-widgets/controls",
            "_model_module_version": "1.5.0",
            "value": " 1/1 [00:00&lt;00:00, 18.38it/s]",
            "_view_count": null,
            "_view_module_version": "1.5.0",
            "description_tooltip": null,
            "_model_module": "@jupyter-widgets/controls",
            "layout": "IPY_MODEL_b3141595bb3a4b5a99c7099f77010d44"
          }
        },
        "c05aaa114bb94dfba05cb91d644ebd2b": {
          "model_module": "@jupyter-widgets/controls",
          "model_name": "DescriptionStyleModel",
          "model_module_version": "1.5.0",
          "state": {
            "_view_name": "StyleView",
            "_model_name": "DescriptionStyleModel",
            "description_width": "",
            "_view_module": "@jupyter-widgets/base",
            "_model_module_version": "1.5.0",
            "_view_count": null,
            "_view_module_version": "1.2.0",
            "_model_module": "@jupyter-widgets/controls"
          }
        },
        "3ae710056ecd4a7fbcf501c592f8c912": {
          "model_module": "@jupyter-widgets/base",
          "model_name": "LayoutModel",
          "model_module_version": "1.2.0",
          "state": {
            "_view_name": "LayoutView",
            "grid_template_rows": null,
            "right": null,
            "justify_content": null,
            "_view_module": "@jupyter-widgets/base",
            "overflow": null,
            "_model_module_version": "1.2.0",
            "_view_count": null,
            "flex_flow": null,
            "width": null,
            "min_width": null,
            "border": null,
            "align_items": null,
            "bottom": null,
            "_model_module": "@jupyter-widgets/base",
            "top": null,
            "grid_column": null,
            "overflow_y": null,
            "overflow_x": null,
            "grid_auto_flow": null,
            "grid_area": null,
            "grid_template_columns": null,
            "flex": null,
            "_model_name": "LayoutModel",
            "justify_items": null,
            "grid_row": null,
            "max_height": null,
            "align_content": null,
            "visibility": null,
            "align_self": null,
            "height": null,
            "min_height": null,
            "padding": null,
            "grid_auto_rows": null,
            "grid_gap": null,
            "max_width": null,
            "order": null,
            "_view_module_version": "1.2.0",
            "grid_template_areas": null,
            "object_position": null,
            "object_fit": null,
            "grid_auto_columns": null,
            "margin": null,
            "display": null,
            "left": null
          }
        },
        "6aa27567178d473bb6d358471dfcf635": {
          "model_module": "@jupyter-widgets/controls",
          "model_name": "ProgressStyleModel",
          "model_module_version": "1.5.0",
          "state": {
            "_view_name": "StyleView",
            "_model_name": "ProgressStyleModel",
            "description_width": "",
            "_view_module": "@jupyter-widgets/base",
            "_model_module_version": "1.5.0",
            "_view_count": null,
            "_view_module_version": "1.2.0",
            "bar_color": null,
            "_model_module": "@jupyter-widgets/controls"
          }
        },
        "2b9c404b2c344d799a9ec73ff29b6562": {
          "model_module": "@jupyter-widgets/base",
          "model_name": "LayoutModel",
          "model_module_version": "1.2.0",
          "state": {
            "_view_name": "LayoutView",
            "grid_template_rows": null,
            "right": null,
            "justify_content": null,
            "_view_module": "@jupyter-widgets/base",
            "overflow": null,
            "_model_module_version": "1.2.0",
            "_view_count": null,
            "flex_flow": null,
            "width": null,
            "min_width": null,
            "border": null,
            "align_items": null,
            "bottom": null,
            "_model_module": "@jupyter-widgets/base",
            "top": null,
            "grid_column": null,
            "overflow_y": null,
            "overflow_x": null,
            "grid_auto_flow": null,
            "grid_area": null,
            "grid_template_columns": null,
            "flex": null,
            "_model_name": "LayoutModel",
            "justify_items": null,
            "grid_row": null,
            "max_height": null,
            "align_content": null,
            "visibility": null,
            "align_self": null,
            "height": null,
            "min_height": null,
            "padding": null,
            "grid_auto_rows": null,
            "grid_gap": null,
            "max_width": null,
            "order": null,
            "_view_module_version": "1.2.0",
            "grid_template_areas": null,
            "object_position": null,
            "object_fit": null,
            "grid_auto_columns": null,
            "margin": null,
            "display": null,
            "left": null
          }
        },
        "f39f23f7707746948b3c09cc0cd9cf1d": {
          "model_module": "@jupyter-widgets/controls",
          "model_name": "DescriptionStyleModel",
          "model_module_version": "1.5.0",
          "state": {
            "_view_name": "StyleView",
            "_model_name": "DescriptionStyleModel",
            "description_width": "",
            "_view_module": "@jupyter-widgets/base",
            "_model_module_version": "1.5.0",
            "_view_count": null,
            "_view_module_version": "1.2.0",
            "_model_module": "@jupyter-widgets/controls"
          }
        },
        "b3141595bb3a4b5a99c7099f77010d44": {
          "model_module": "@jupyter-widgets/base",
          "model_name": "LayoutModel",
          "model_module_version": "1.2.0",
          "state": {
            "_view_name": "LayoutView",
            "grid_template_rows": null,
            "right": null,
            "justify_content": null,
            "_view_module": "@jupyter-widgets/base",
            "overflow": null,
            "_model_module_version": "1.2.0",
            "_view_count": null,
            "flex_flow": null,
            "width": null,
            "min_width": null,
            "border": null,
            "align_items": null,
            "bottom": null,
            "_model_module": "@jupyter-widgets/base",
            "top": null,
            "grid_column": null,
            "overflow_y": null,
            "overflow_x": null,
            "grid_auto_flow": null,
            "grid_area": null,
            "grid_template_columns": null,
            "flex": null,
            "_model_name": "LayoutModel",
            "justify_items": null,
            "grid_row": null,
            "max_height": null,
            "align_content": null,
            "visibility": null,
            "align_self": null,
            "height": null,
            "min_height": null,
            "padding": null,
            "grid_auto_rows": null,
            "grid_gap": null,
            "max_width": null,
            "order": null,
            "_view_module_version": "1.2.0",
            "grid_template_areas": null,
            "object_position": null,
            "object_fit": null,
            "grid_auto_columns": null,
            "margin": null,
            "display": null,
            "left": null
          }
        },
        "227f23118e5145db850594c124601707": {
          "model_module": "@jupyter-widgets/controls",
          "model_name": "HBoxModel",
          "model_module_version": "1.5.0",
          "state": {
            "_view_name": "HBoxView",
            "_dom_classes": [],
            "_model_name": "HBoxModel",
            "_view_module": "@jupyter-widgets/controls",
            "_model_module_version": "1.5.0",
            "_view_count": null,
            "_view_module_version": "1.5.0",
            "box_style": "",
            "layout": "IPY_MODEL_20393c4e2ef7426c951624c07f84737a",
            "_model_module": "@jupyter-widgets/controls",
            "children": [
              "IPY_MODEL_4e2cfa4606134df7becea22824eee9ca",
              "IPY_MODEL_d4a92f3b6a69423183a6fcb520d4af61",
              "IPY_MODEL_af4326ba004e4de0be297a55cf7e6747"
            ]
          }
        },
        "20393c4e2ef7426c951624c07f84737a": {
          "model_module": "@jupyter-widgets/base",
          "model_name": "LayoutModel",
          "model_module_version": "1.2.0",
          "state": {
            "_view_name": "LayoutView",
            "grid_template_rows": null,
            "right": null,
            "justify_content": null,
            "_view_module": "@jupyter-widgets/base",
            "overflow": null,
            "_model_module_version": "1.2.0",
            "_view_count": null,
            "flex_flow": null,
            "width": null,
            "min_width": null,
            "border": null,
            "align_items": null,
            "bottom": null,
            "_model_module": "@jupyter-widgets/base",
            "top": null,
            "grid_column": null,
            "overflow_y": null,
            "overflow_x": null,
            "grid_auto_flow": null,
            "grid_area": null,
            "grid_template_columns": null,
            "flex": null,
            "_model_name": "LayoutModel",
            "justify_items": null,
            "grid_row": null,
            "max_height": null,
            "align_content": null,
            "visibility": null,
            "align_self": null,
            "height": null,
            "min_height": null,
            "padding": null,
            "grid_auto_rows": null,
            "grid_gap": null,
            "max_width": null,
            "order": null,
            "_view_module_version": "1.2.0",
            "grid_template_areas": null,
            "object_position": null,
            "object_fit": null,
            "grid_auto_columns": null,
            "margin": null,
            "display": null,
            "left": null
          }
        },
        "4e2cfa4606134df7becea22824eee9ca": {
          "model_module": "@jupyter-widgets/controls",
          "model_name": "HTMLModel",
          "model_module_version": "1.5.0",
          "state": {
            "_view_name": "HTMLView",
            "style": "IPY_MODEL_875874169abc461196d36b0f702d51f3",
            "_dom_classes": [],
            "description": "",
            "_model_name": "HTMLModel",
            "placeholder": "​",
            "_view_module": "@jupyter-widgets/controls",
            "_model_module_version": "1.5.0",
            "value": "100%",
            "_view_count": null,
            "_view_module_version": "1.5.0",
            "description_tooltip": null,
            "_model_module": "@jupyter-widgets/controls",
            "layout": "IPY_MODEL_33c8b5054aea41868247551980df9e42"
          }
        },
        "d4a92f3b6a69423183a6fcb520d4af61": {
          "model_module": "@jupyter-widgets/controls",
          "model_name": "FloatProgressModel",
          "model_module_version": "1.5.0",
          "state": {
            "_view_name": "ProgressView",
            "style": "IPY_MODEL_e45be35dbc67431c9069110d7f2430ec",
            "_dom_classes": [],
            "description": "",
            "_model_name": "FloatProgressModel",
            "bar_style": "success",
            "max": 1,
            "_view_module": "@jupyter-widgets/controls",
            "_model_module_version": "1.5.0",
            "value": 1,
            "_view_count": null,
            "_view_module_version": "1.5.0",
            "orientation": "horizontal",
            "min": 0,
            "description_tooltip": null,
            "_model_module": "@jupyter-widgets/controls",
            "layout": "IPY_MODEL_6183102a18d2411d9c833c2f8eb7777d"
          }
        },
        "af4326ba004e4de0be297a55cf7e6747": {
          "model_module": "@jupyter-widgets/controls",
          "model_name": "HTMLModel",
          "model_module_version": "1.5.0",
          "state": {
            "_view_name": "HTMLView",
            "style": "IPY_MODEL_59e32fd8fd754d25b628dc2275f95c20",
            "_dom_classes": [],
            "description": "",
            "_model_name": "HTMLModel",
            "placeholder": "​",
            "_view_module": "@jupyter-widgets/controls",
            "_model_module_version": "1.5.0",
            "value": " 1/1 [00:00&lt;00:00,  8.03it/s]",
            "_view_count": null,
            "_view_module_version": "1.5.0",
            "description_tooltip": null,
            "_model_module": "@jupyter-widgets/controls",
            "layout": "IPY_MODEL_4246e4574f264f16a652f05c45e5275d"
          }
        },
        "875874169abc461196d36b0f702d51f3": {
          "model_module": "@jupyter-widgets/controls",
          "model_name": "DescriptionStyleModel",
          "model_module_version": "1.5.0",
          "state": {
            "_view_name": "StyleView",
            "_model_name": "DescriptionStyleModel",
            "description_width": "",
            "_view_module": "@jupyter-widgets/base",
            "_model_module_version": "1.5.0",
            "_view_count": null,
            "_view_module_version": "1.2.0",
            "_model_module": "@jupyter-widgets/controls"
          }
        },
        "33c8b5054aea41868247551980df9e42": {
          "model_module": "@jupyter-widgets/base",
          "model_name": "LayoutModel",
          "model_module_version": "1.2.0",
          "state": {
            "_view_name": "LayoutView",
            "grid_template_rows": null,
            "right": null,
            "justify_content": null,
            "_view_module": "@jupyter-widgets/base",
            "overflow": null,
            "_model_module_version": "1.2.0",
            "_view_count": null,
            "flex_flow": null,
            "width": null,
            "min_width": null,
            "border": null,
            "align_items": null,
            "bottom": null,
            "_model_module": "@jupyter-widgets/base",
            "top": null,
            "grid_column": null,
            "overflow_y": null,
            "overflow_x": null,
            "grid_auto_flow": null,
            "grid_area": null,
            "grid_template_columns": null,
            "flex": null,
            "_model_name": "LayoutModel",
            "justify_items": null,
            "grid_row": null,
            "max_height": null,
            "align_content": null,
            "visibility": null,
            "align_self": null,
            "height": null,
            "min_height": null,
            "padding": null,
            "grid_auto_rows": null,
            "grid_gap": null,
            "max_width": null,
            "order": null,
            "_view_module_version": "1.2.0",
            "grid_template_areas": null,
            "object_position": null,
            "object_fit": null,
            "grid_auto_columns": null,
            "margin": null,
            "display": null,
            "left": null
          }
        },
        "e45be35dbc67431c9069110d7f2430ec": {
          "model_module": "@jupyter-widgets/controls",
          "model_name": "ProgressStyleModel",
          "model_module_version": "1.5.0",
          "state": {
            "_view_name": "StyleView",
            "_model_name": "ProgressStyleModel",
            "description_width": "",
            "_view_module": "@jupyter-widgets/base",
            "_model_module_version": "1.5.0",
            "_view_count": null,
            "_view_module_version": "1.2.0",
            "bar_color": null,
            "_model_module": "@jupyter-widgets/controls"
          }
        },
        "6183102a18d2411d9c833c2f8eb7777d": {
          "model_module": "@jupyter-widgets/base",
          "model_name": "LayoutModel",
          "model_module_version": "1.2.0",
          "state": {
            "_view_name": "LayoutView",
            "grid_template_rows": null,
            "right": null,
            "justify_content": null,
            "_view_module": "@jupyter-widgets/base",
            "overflow": null,
            "_model_module_version": "1.2.0",
            "_view_count": null,
            "flex_flow": null,
            "width": null,
            "min_width": null,
            "border": null,
            "align_items": null,
            "bottom": null,
            "_model_module": "@jupyter-widgets/base",
            "top": null,
            "grid_column": null,
            "overflow_y": null,
            "overflow_x": null,
            "grid_auto_flow": null,
            "grid_area": null,
            "grid_template_columns": null,
            "flex": null,
            "_model_name": "LayoutModel",
            "justify_items": null,
            "grid_row": null,
            "max_height": null,
            "align_content": null,
            "visibility": null,
            "align_self": null,
            "height": null,
            "min_height": null,
            "padding": null,
            "grid_auto_rows": null,
            "grid_gap": null,
            "max_width": null,
            "order": null,
            "_view_module_version": "1.2.0",
            "grid_template_areas": null,
            "object_position": null,
            "object_fit": null,
            "grid_auto_columns": null,
            "margin": null,
            "display": null,
            "left": null
          }
        },
        "59e32fd8fd754d25b628dc2275f95c20": {
          "model_module": "@jupyter-widgets/controls",
          "model_name": "DescriptionStyleModel",
          "model_module_version": "1.5.0",
          "state": {
            "_view_name": "StyleView",
            "_model_name": "DescriptionStyleModel",
            "description_width": "",
            "_view_module": "@jupyter-widgets/base",
            "_model_module_version": "1.5.0",
            "_view_count": null,
            "_view_module_version": "1.2.0",
            "_model_module": "@jupyter-widgets/controls"
          }
        },
        "4246e4574f264f16a652f05c45e5275d": {
          "model_module": "@jupyter-widgets/base",
          "model_name": "LayoutModel",
          "model_module_version": "1.2.0",
          "state": {
            "_view_name": "LayoutView",
            "grid_template_rows": null,
            "right": null,
            "justify_content": null,
            "_view_module": "@jupyter-widgets/base",
            "overflow": null,
            "_model_module_version": "1.2.0",
            "_view_count": null,
            "flex_flow": null,
            "width": null,
            "min_width": null,
            "border": null,
            "align_items": null,
            "bottom": null,
            "_model_module": "@jupyter-widgets/base",
            "top": null,
            "grid_column": null,
            "overflow_y": null,
            "overflow_x": null,
            "grid_auto_flow": null,
            "grid_area": null,
            "grid_template_columns": null,
            "flex": null,
            "_model_name": "LayoutModel",
            "justify_items": null,
            "grid_row": null,
            "max_height": null,
            "align_content": null,
            "visibility": null,
            "align_self": null,
            "height": null,
            "min_height": null,
            "padding": null,
            "grid_auto_rows": null,
            "grid_gap": null,
            "max_width": null,
            "order": null,
            "_view_module_version": "1.2.0",
            "grid_template_areas": null,
            "object_position": null,
            "object_fit": null,
            "grid_auto_columns": null,
            "margin": null,
            "display": null,
            "left": null
          }
        },
        "d3e5a02c74ab423baacf66a2239e2e49": {
          "model_module": "@jupyter-widgets/controls",
          "model_name": "HBoxModel",
          "model_module_version": "1.5.0",
          "state": {
            "_view_name": "HBoxView",
            "_dom_classes": [],
            "_model_name": "HBoxModel",
            "_view_module": "@jupyter-widgets/controls",
            "_model_module_version": "1.5.0",
            "_view_count": null,
            "_view_module_version": "1.5.0",
            "box_style": "",
            "layout": "IPY_MODEL_cb9bfa74e4bf43f0baa9058290a17dd2",
            "_model_module": "@jupyter-widgets/controls",
            "children": [
              "IPY_MODEL_818fdaaea1754e45854b5d750a65600b",
              "IPY_MODEL_1caa7fa492dc4f478f7c5852a2c19109",
              "IPY_MODEL_f927fd9e1c4d47069e6eaa49dd87656f"
            ]
          }
        },
        "cb9bfa74e4bf43f0baa9058290a17dd2": {
          "model_module": "@jupyter-widgets/base",
          "model_name": "LayoutModel",
          "model_module_version": "1.2.0",
          "state": {
            "_view_name": "LayoutView",
            "grid_template_rows": null,
            "right": null,
            "justify_content": null,
            "_view_module": "@jupyter-widgets/base",
            "overflow": null,
            "_model_module_version": "1.2.0",
            "_view_count": null,
            "flex_flow": null,
            "width": null,
            "min_width": null,
            "border": null,
            "align_items": null,
            "bottom": null,
            "_model_module": "@jupyter-widgets/base",
            "top": null,
            "grid_column": null,
            "overflow_y": null,
            "overflow_x": null,
            "grid_auto_flow": null,
            "grid_area": null,
            "grid_template_columns": null,
            "flex": null,
            "_model_name": "LayoutModel",
            "justify_items": null,
            "grid_row": null,
            "max_height": null,
            "align_content": null,
            "visibility": null,
            "align_self": null,
            "height": null,
            "min_height": null,
            "padding": null,
            "grid_auto_rows": null,
            "grid_gap": null,
            "max_width": null,
            "order": null,
            "_view_module_version": "1.2.0",
            "grid_template_areas": null,
            "object_position": null,
            "object_fit": null,
            "grid_auto_columns": null,
            "margin": null,
            "display": null,
            "left": null
          }
        },
        "818fdaaea1754e45854b5d750a65600b": {
          "model_module": "@jupyter-widgets/controls",
          "model_name": "HTMLModel",
          "model_module_version": "1.5.0",
          "state": {
            "_view_name": "HTMLView",
            "style": "IPY_MODEL_27a1ca014eae4936be8f394e57c5bc4b",
            "_dom_classes": [],
            "description": "",
            "_model_name": "HTMLModel",
            "placeholder": "​",
            "_view_module": "@jupyter-widgets/controls",
            "_model_module_version": "1.5.0",
            "value": "Running Prediction: 100%",
            "_view_count": null,
            "_view_module_version": "1.5.0",
            "description_tooltip": null,
            "_model_module": "@jupyter-widgets/controls",
            "layout": "IPY_MODEL_597995dcd6df4488979270ae9b748438"
          }
        },
        "1caa7fa492dc4f478f7c5852a2c19109": {
          "model_module": "@jupyter-widgets/controls",
          "model_name": "FloatProgressModel",
          "model_module_version": "1.5.0",
          "state": {
            "_view_name": "ProgressView",
            "style": "IPY_MODEL_d0230e25fcc748799eb990efb35918e9",
            "_dom_classes": [],
            "description": "",
            "_model_name": "FloatProgressModel",
            "bar_style": "success",
            "max": 1,
            "_view_module": "@jupyter-widgets/controls",
            "_model_module_version": "1.5.0",
            "value": 1,
            "_view_count": null,
            "_view_module_version": "1.5.0",
            "orientation": "horizontal",
            "min": 0,
            "description_tooltip": null,
            "_model_module": "@jupyter-widgets/controls",
            "layout": "IPY_MODEL_e586302e6ea9471fabb0bd4a03a6ae0e"
          }
        },
        "f927fd9e1c4d47069e6eaa49dd87656f": {
          "model_module": "@jupyter-widgets/controls",
          "model_name": "HTMLModel",
          "model_module_version": "1.5.0",
          "state": {
            "_view_name": "HTMLView",
            "style": "IPY_MODEL_92e8c2c72e3849e5a15474efe2602b53",
            "_dom_classes": [],
            "description": "",
            "_model_name": "HTMLModel",
            "placeholder": "​",
            "_view_module": "@jupyter-widgets/controls",
            "_model_module_version": "1.5.0",
            "value": " 1/1 [00:00&lt;00:00, 17.47it/s]",
            "_view_count": null,
            "_view_module_version": "1.5.0",
            "description_tooltip": null,
            "_model_module": "@jupyter-widgets/controls",
            "layout": "IPY_MODEL_f9fc40be09c548459a7caeb4f74a2c46"
          }
        },
        "27a1ca014eae4936be8f394e57c5bc4b": {
          "model_module": "@jupyter-widgets/controls",
          "model_name": "DescriptionStyleModel",
          "model_module_version": "1.5.0",
          "state": {
            "_view_name": "StyleView",
            "_model_name": "DescriptionStyleModel",
            "description_width": "",
            "_view_module": "@jupyter-widgets/base",
            "_model_module_version": "1.5.0",
            "_view_count": null,
            "_view_module_version": "1.2.0",
            "_model_module": "@jupyter-widgets/controls"
          }
        },
        "597995dcd6df4488979270ae9b748438": {
          "model_module": "@jupyter-widgets/base",
          "model_name": "LayoutModel",
          "model_module_version": "1.2.0",
          "state": {
            "_view_name": "LayoutView",
            "grid_template_rows": null,
            "right": null,
            "justify_content": null,
            "_view_module": "@jupyter-widgets/base",
            "overflow": null,
            "_model_module_version": "1.2.0",
            "_view_count": null,
            "flex_flow": null,
            "width": null,
            "min_width": null,
            "border": null,
            "align_items": null,
            "bottom": null,
            "_model_module": "@jupyter-widgets/base",
            "top": null,
            "grid_column": null,
            "overflow_y": null,
            "overflow_x": null,
            "grid_auto_flow": null,
            "grid_area": null,
            "grid_template_columns": null,
            "flex": null,
            "_model_name": "LayoutModel",
            "justify_items": null,
            "grid_row": null,
            "max_height": null,
            "align_content": null,
            "visibility": null,
            "align_self": null,
            "height": null,
            "min_height": null,
            "padding": null,
            "grid_auto_rows": null,
            "grid_gap": null,
            "max_width": null,
            "order": null,
            "_view_module_version": "1.2.0",
            "grid_template_areas": null,
            "object_position": null,
            "object_fit": null,
            "grid_auto_columns": null,
            "margin": null,
            "display": null,
            "left": null
          }
        },
        "d0230e25fcc748799eb990efb35918e9": {
          "model_module": "@jupyter-widgets/controls",
          "model_name": "ProgressStyleModel",
          "model_module_version": "1.5.0",
          "state": {
            "_view_name": "StyleView",
            "_model_name": "ProgressStyleModel",
            "description_width": "",
            "_view_module": "@jupyter-widgets/base",
            "_model_module_version": "1.5.0",
            "_view_count": null,
            "_view_module_version": "1.2.0",
            "bar_color": null,
            "_model_module": "@jupyter-widgets/controls"
          }
        },
        "e586302e6ea9471fabb0bd4a03a6ae0e": {
          "model_module": "@jupyter-widgets/base",
          "model_name": "LayoutModel",
          "model_module_version": "1.2.0",
          "state": {
            "_view_name": "LayoutView",
            "grid_template_rows": null,
            "right": null,
            "justify_content": null,
            "_view_module": "@jupyter-widgets/base",
            "overflow": null,
            "_model_module_version": "1.2.0",
            "_view_count": null,
            "flex_flow": null,
            "width": null,
            "min_width": null,
            "border": null,
            "align_items": null,
            "bottom": null,
            "_model_module": "@jupyter-widgets/base",
            "top": null,
            "grid_column": null,
            "overflow_y": null,
            "overflow_x": null,
            "grid_auto_flow": null,
            "grid_area": null,
            "grid_template_columns": null,
            "flex": null,
            "_model_name": "LayoutModel",
            "justify_items": null,
            "grid_row": null,
            "max_height": null,
            "align_content": null,
            "visibility": null,
            "align_self": null,
            "height": null,
            "min_height": null,
            "padding": null,
            "grid_auto_rows": null,
            "grid_gap": null,
            "max_width": null,
            "order": null,
            "_view_module_version": "1.2.0",
            "grid_template_areas": null,
            "object_position": null,
            "object_fit": null,
            "grid_auto_columns": null,
            "margin": null,
            "display": null,
            "left": null
          }
        },
        "92e8c2c72e3849e5a15474efe2602b53": {
          "model_module": "@jupyter-widgets/controls",
          "model_name": "DescriptionStyleModel",
          "model_module_version": "1.5.0",
          "state": {
            "_view_name": "StyleView",
            "_model_name": "DescriptionStyleModel",
            "description_width": "",
            "_view_module": "@jupyter-widgets/base",
            "_model_module_version": "1.5.0",
            "_view_count": null,
            "_view_module_version": "1.2.0",
            "_model_module": "@jupyter-widgets/controls"
          }
        },
        "f9fc40be09c548459a7caeb4f74a2c46": {
          "model_module": "@jupyter-widgets/base",
          "model_name": "LayoutModel",
          "model_module_version": "1.2.0",
          "state": {
            "_view_name": "LayoutView",
            "grid_template_rows": null,
            "right": null,
            "justify_content": null,
            "_view_module": "@jupyter-widgets/base",
            "overflow": null,
            "_model_module_version": "1.2.0",
            "_view_count": null,
            "flex_flow": null,
            "width": null,
            "min_width": null,
            "border": null,
            "align_items": null,
            "bottom": null,
            "_model_module": "@jupyter-widgets/base",
            "top": null,
            "grid_column": null,
            "overflow_y": null,
            "overflow_x": null,
            "grid_auto_flow": null,
            "grid_area": null,
            "grid_template_columns": null,
            "flex": null,
            "_model_name": "LayoutModel",
            "justify_items": null,
            "grid_row": null,
            "max_height": null,
            "align_content": null,
            "visibility": null,
            "align_self": null,
            "height": null,
            "min_height": null,
            "padding": null,
            "grid_auto_rows": null,
            "grid_gap": null,
            "max_width": null,
            "order": null,
            "_view_module_version": "1.2.0",
            "grid_template_areas": null,
            "object_position": null,
            "object_fit": null,
            "grid_auto_columns": null,
            "margin": null,
            "display": null,
            "left": null
          }
        },
        "749672d0875b4ed2a25cf8c1213bcc4b": {
          "model_module": "@jupyter-widgets/controls",
          "model_name": "HBoxModel",
          "model_module_version": "1.5.0",
          "state": {
            "_view_name": "HBoxView",
            "_dom_classes": [],
            "_model_name": "HBoxModel",
            "_view_module": "@jupyter-widgets/controls",
            "_model_module_version": "1.5.0",
            "_view_count": null,
            "_view_module_version": "1.5.0",
            "box_style": "",
            "layout": "IPY_MODEL_3780e48eda534285b813c4206c92ec62",
            "_model_module": "@jupyter-widgets/controls",
            "children": [
              "IPY_MODEL_c604c86e74f24c2196daab716783f790",
              "IPY_MODEL_a9835d9ff82049a39d31b60b80d2741c",
              "IPY_MODEL_691860df891e434ea4644b0903a4833b"
            ]
          }
        },
        "3780e48eda534285b813c4206c92ec62": {
          "model_module": "@jupyter-widgets/base",
          "model_name": "LayoutModel",
          "model_module_version": "1.2.0",
          "state": {
            "_view_name": "LayoutView",
            "grid_template_rows": null,
            "right": null,
            "justify_content": null,
            "_view_module": "@jupyter-widgets/base",
            "overflow": null,
            "_model_module_version": "1.2.0",
            "_view_count": null,
            "flex_flow": null,
            "width": null,
            "min_width": null,
            "border": null,
            "align_items": null,
            "bottom": null,
            "_model_module": "@jupyter-widgets/base",
            "top": null,
            "grid_column": null,
            "overflow_y": null,
            "overflow_x": null,
            "grid_auto_flow": null,
            "grid_area": null,
            "grid_template_columns": null,
            "flex": null,
            "_model_name": "LayoutModel",
            "justify_items": null,
            "grid_row": null,
            "max_height": null,
            "align_content": null,
            "visibility": null,
            "align_self": null,
            "height": null,
            "min_height": null,
            "padding": null,
            "grid_auto_rows": null,
            "grid_gap": null,
            "max_width": null,
            "order": null,
            "_view_module_version": "1.2.0",
            "grid_template_areas": null,
            "object_position": null,
            "object_fit": null,
            "grid_auto_columns": null,
            "margin": null,
            "display": null,
            "left": null
          }
        },
        "c604c86e74f24c2196daab716783f790": {
          "model_module": "@jupyter-widgets/controls",
          "model_name": "HTMLModel",
          "model_module_version": "1.5.0",
          "state": {
            "_view_name": "HTMLView",
            "style": "IPY_MODEL_e68b03faaee74d87ad9c629126949172",
            "_dom_classes": [],
            "description": "",
            "_model_name": "HTMLModel",
            "placeholder": "​",
            "_view_module": "@jupyter-widgets/controls",
            "_model_module_version": "1.5.0",
            "value": "Downloading: 100%",
            "_view_count": null,
            "_view_module_version": "1.5.0",
            "description_tooltip": null,
            "_model_module": "@jupyter-widgets/controls",
            "layout": "IPY_MODEL_9ff5854d20794b3ca4584ac2a7bb716f"
          }
        },
        "a9835d9ff82049a39d31b60b80d2741c": {
          "model_module": "@jupyter-widgets/controls",
          "model_name": "FloatProgressModel",
          "model_module_version": "1.5.0",
          "state": {
            "_view_name": "ProgressView",
            "style": "IPY_MODEL_bff62f8b7f174e4180b3bf440db81f03",
            "_dom_classes": [],
            "description": "",
            "_model_name": "FloatProgressModel",
            "bar_style": "success",
            "max": 629,
            "_view_module": "@jupyter-widgets/controls",
            "_model_module_version": "1.5.0",
            "value": 629,
            "_view_count": null,
            "_view_module_version": "1.5.0",
            "orientation": "horizontal",
            "min": 0,
            "description_tooltip": null,
            "_model_module": "@jupyter-widgets/controls",
            "layout": "IPY_MODEL_7feea00a334247bc94d1181e79d15b06"
          }
        },
        "691860df891e434ea4644b0903a4833b": {
          "model_module": "@jupyter-widgets/controls",
          "model_name": "HTMLModel",
          "model_module_version": "1.5.0",
          "state": {
            "_view_name": "HTMLView",
            "style": "IPY_MODEL_f65a8db4e7754880a8e9eb76c0fad7bd",
            "_dom_classes": [],
            "description": "",
            "_model_name": "HTMLModel",
            "placeholder": "​",
            "_view_module": "@jupyter-widgets/controls",
            "_model_module_version": "1.5.0",
            "value": " 629/629 [00:00&lt;00:00, 18.6kB/s]",
            "_view_count": null,
            "_view_module_version": "1.5.0",
            "description_tooltip": null,
            "_model_module": "@jupyter-widgets/controls",
            "layout": "IPY_MODEL_9c0d8af94cca468fb911590461ae1e73"
          }
        },
        "e68b03faaee74d87ad9c629126949172": {
          "model_module": "@jupyter-widgets/controls",
          "model_name": "DescriptionStyleModel",
          "model_module_version": "1.5.0",
          "state": {
            "_view_name": "StyleView",
            "_model_name": "DescriptionStyleModel",
            "description_width": "",
            "_view_module": "@jupyter-widgets/base",
            "_model_module_version": "1.5.0",
            "_view_count": null,
            "_view_module_version": "1.2.0",
            "_model_module": "@jupyter-widgets/controls"
          }
        },
        "9ff5854d20794b3ca4584ac2a7bb716f": {
          "model_module": "@jupyter-widgets/base",
          "model_name": "LayoutModel",
          "model_module_version": "1.2.0",
          "state": {
            "_view_name": "LayoutView",
            "grid_template_rows": null,
            "right": null,
            "justify_content": null,
            "_view_module": "@jupyter-widgets/base",
            "overflow": null,
            "_model_module_version": "1.2.0",
            "_view_count": null,
            "flex_flow": null,
            "width": null,
            "min_width": null,
            "border": null,
            "align_items": null,
            "bottom": null,
            "_model_module": "@jupyter-widgets/base",
            "top": null,
            "grid_column": null,
            "overflow_y": null,
            "overflow_x": null,
            "grid_auto_flow": null,
            "grid_area": null,
            "grid_template_columns": null,
            "flex": null,
            "_model_name": "LayoutModel",
            "justify_items": null,
            "grid_row": null,
            "max_height": null,
            "align_content": null,
            "visibility": null,
            "align_self": null,
            "height": null,
            "min_height": null,
            "padding": null,
            "grid_auto_rows": null,
            "grid_gap": null,
            "max_width": null,
            "order": null,
            "_view_module_version": "1.2.0",
            "grid_template_areas": null,
            "object_position": null,
            "object_fit": null,
            "grid_auto_columns": null,
            "margin": null,
            "display": null,
            "left": null
          }
        },
        "bff62f8b7f174e4180b3bf440db81f03": {
          "model_module": "@jupyter-widgets/controls",
          "model_name": "ProgressStyleModel",
          "model_module_version": "1.5.0",
          "state": {
            "_view_name": "StyleView",
            "_model_name": "ProgressStyleModel",
            "description_width": "",
            "_view_module": "@jupyter-widgets/base",
            "_model_module_version": "1.5.0",
            "_view_count": null,
            "_view_module_version": "1.2.0",
            "bar_color": null,
            "_model_module": "@jupyter-widgets/controls"
          }
        },
        "7feea00a334247bc94d1181e79d15b06": {
          "model_module": "@jupyter-widgets/base",
          "model_name": "LayoutModel",
          "model_module_version": "1.2.0",
          "state": {
            "_view_name": "LayoutView",
            "grid_template_rows": null,
            "right": null,
            "justify_content": null,
            "_view_module": "@jupyter-widgets/base",
            "overflow": null,
            "_model_module_version": "1.2.0",
            "_view_count": null,
            "flex_flow": null,
            "width": null,
            "min_width": null,
            "border": null,
            "align_items": null,
            "bottom": null,
            "_model_module": "@jupyter-widgets/base",
            "top": null,
            "grid_column": null,
            "overflow_y": null,
            "overflow_x": null,
            "grid_auto_flow": null,
            "grid_area": null,
            "grid_template_columns": null,
            "flex": null,
            "_model_name": "LayoutModel",
            "justify_items": null,
            "grid_row": null,
            "max_height": null,
            "align_content": null,
            "visibility": null,
            "align_self": null,
            "height": null,
            "min_height": null,
            "padding": null,
            "grid_auto_rows": null,
            "grid_gap": null,
            "max_width": null,
            "order": null,
            "_view_module_version": "1.2.0",
            "grid_template_areas": null,
            "object_position": null,
            "object_fit": null,
            "grid_auto_columns": null,
            "margin": null,
            "display": null,
            "left": null
          }
        },
        "f65a8db4e7754880a8e9eb76c0fad7bd": {
          "model_module": "@jupyter-widgets/controls",
          "model_name": "DescriptionStyleModel",
          "model_module_version": "1.5.0",
          "state": {
            "_view_name": "StyleView",
            "_model_name": "DescriptionStyleModel",
            "description_width": "",
            "_view_module": "@jupyter-widgets/base",
            "_model_module_version": "1.5.0",
            "_view_count": null,
            "_view_module_version": "1.2.0",
            "_model_module": "@jupyter-widgets/controls"
          }
        },
        "9c0d8af94cca468fb911590461ae1e73": {
          "model_module": "@jupyter-widgets/base",
          "model_name": "LayoutModel",
          "model_module_version": "1.2.0",
          "state": {
            "_view_name": "LayoutView",
            "grid_template_rows": null,
            "right": null,
            "justify_content": null,
            "_view_module": "@jupyter-widgets/base",
            "overflow": null,
            "_model_module_version": "1.2.0",
            "_view_count": null,
            "flex_flow": null,
            "width": null,
            "min_width": null,
            "border": null,
            "align_items": null,
            "bottom": null,
            "_model_module": "@jupyter-widgets/base",
            "top": null,
            "grid_column": null,
            "overflow_y": null,
            "overflow_x": null,
            "grid_auto_flow": null,
            "grid_area": null,
            "grid_template_columns": null,
            "flex": null,
            "_model_name": "LayoutModel",
            "justify_items": null,
            "grid_row": null,
            "max_height": null,
            "align_content": null,
            "visibility": null,
            "align_self": null,
            "height": null,
            "min_height": null,
            "padding": null,
            "grid_auto_rows": null,
            "grid_gap": null,
            "max_width": null,
            "order": null,
            "_view_module_version": "1.2.0",
            "grid_template_areas": null,
            "object_position": null,
            "object_fit": null,
            "grid_auto_columns": null,
            "margin": null,
            "display": null,
            "left": null
          }
        },
        "05e971030dea43e38d01349b31ba59ff": {
          "model_module": "@jupyter-widgets/controls",
          "model_name": "HBoxModel",
          "model_module_version": "1.5.0",
          "state": {
            "_view_name": "HBoxView",
            "_dom_classes": [],
            "_model_name": "HBoxModel",
            "_view_module": "@jupyter-widgets/controls",
            "_model_module_version": "1.5.0",
            "_view_count": null,
            "_view_module_version": "1.5.0",
            "box_style": "",
            "layout": "IPY_MODEL_570638bd265f417ab4b46bf3bf686e98",
            "_model_module": "@jupyter-widgets/controls",
            "children": [
              "IPY_MODEL_138dcfc751c74dbeafb70c8fbe204bf8",
              "IPY_MODEL_5df463e9fa9844f9b16b162882ae974c",
              "IPY_MODEL_c71c2052876c4bd7b2a862993c60ec48"
            ]
          }
        },
        "570638bd265f417ab4b46bf3bf686e98": {
          "model_module": "@jupyter-widgets/base",
          "model_name": "LayoutModel",
          "model_module_version": "1.2.0",
          "state": {
            "_view_name": "LayoutView",
            "grid_template_rows": null,
            "right": null,
            "justify_content": null,
            "_view_module": "@jupyter-widgets/base",
            "overflow": null,
            "_model_module_version": "1.2.0",
            "_view_count": null,
            "flex_flow": null,
            "width": null,
            "min_width": null,
            "border": null,
            "align_items": null,
            "bottom": null,
            "_model_module": "@jupyter-widgets/base",
            "top": null,
            "grid_column": null,
            "overflow_y": null,
            "overflow_x": null,
            "grid_auto_flow": null,
            "grid_area": null,
            "grid_template_columns": null,
            "flex": null,
            "_model_name": "LayoutModel",
            "justify_items": null,
            "grid_row": null,
            "max_height": null,
            "align_content": null,
            "visibility": null,
            "align_self": null,
            "height": null,
            "min_height": null,
            "padding": null,
            "grid_auto_rows": null,
            "grid_gap": null,
            "max_width": null,
            "order": null,
            "_view_module_version": "1.2.0",
            "grid_template_areas": null,
            "object_position": null,
            "object_fit": null,
            "grid_auto_columns": null,
            "margin": null,
            "display": null,
            "left": null
          }
        },
        "138dcfc751c74dbeafb70c8fbe204bf8": {
          "model_module": "@jupyter-widgets/controls",
          "model_name": "HTMLModel",
          "model_module_version": "1.5.0",
          "state": {
            "_view_name": "HTMLView",
            "style": "IPY_MODEL_a4c1eb2428934637b3a8e8203c877753",
            "_dom_classes": [],
            "description": "",
            "_model_name": "HTMLModel",
            "placeholder": "​",
            "_view_module": "@jupyter-widgets/controls",
            "_model_module_version": "1.5.0",
            "value": "Downloading: 100%",
            "_view_count": null,
            "_view_module_version": "1.5.0",
            "description_tooltip": null,
            "_model_module": "@jupyter-widgets/controls",
            "layout": "IPY_MODEL_2d7e1a640d3c4e1780f9d377815f6d50"
          }
        },
        "5df463e9fa9844f9b16b162882ae974c": {
          "model_module": "@jupyter-widgets/controls",
          "model_name": "FloatProgressModel",
          "model_module_version": "1.5.0",
          "state": {
            "_view_name": "ProgressView",
            "style": "IPY_MODEL_300c0fa2f7a44e31a2c2ac7c0763bf2b",
            "_dom_classes": [],
            "description": "",
            "_model_name": "FloatProgressModel",
            "bar_style": "success",
            "max": 267844284,
            "_view_module": "@jupyter-widgets/controls",
            "_model_module_version": "1.5.0",
            "value": 267844284,
            "_view_count": null,
            "_view_module_version": "1.5.0",
            "orientation": "horizontal",
            "min": 0,
            "description_tooltip": null,
            "_model_module": "@jupyter-widgets/controls",
            "layout": "IPY_MODEL_f871198623294f49b228e13179002d32"
          }
        },
        "c71c2052876c4bd7b2a862993c60ec48": {
          "model_module": "@jupyter-widgets/controls",
          "model_name": "HTMLModel",
          "model_module_version": "1.5.0",
          "state": {
            "_view_name": "HTMLView",
            "style": "IPY_MODEL_ab2a95e210744b1a94edeacc75d5a9fd",
            "_dom_classes": [],
            "description": "",
            "_model_name": "HTMLModel",
            "placeholder": "​",
            "_view_module": "@jupyter-widgets/controls",
            "_model_module_version": "1.5.0",
            "value": " 268M/268M [00:05&lt;00:00, 55.2MB/s]",
            "_view_count": null,
            "_view_module_version": "1.5.0",
            "description_tooltip": null,
            "_model_module": "@jupyter-widgets/controls",
            "layout": "IPY_MODEL_da9fa0ca140b4a4e924c3d3e51ab8f0a"
          }
        },
        "a4c1eb2428934637b3a8e8203c877753": {
          "model_module": "@jupyter-widgets/controls",
          "model_name": "DescriptionStyleModel",
          "model_module_version": "1.5.0",
          "state": {
            "_view_name": "StyleView",
            "_model_name": "DescriptionStyleModel",
            "description_width": "",
            "_view_module": "@jupyter-widgets/base",
            "_model_module_version": "1.5.0",
            "_view_count": null,
            "_view_module_version": "1.2.0",
            "_model_module": "@jupyter-widgets/controls"
          }
        },
        "2d7e1a640d3c4e1780f9d377815f6d50": {
          "model_module": "@jupyter-widgets/base",
          "model_name": "LayoutModel",
          "model_module_version": "1.2.0",
          "state": {
            "_view_name": "LayoutView",
            "grid_template_rows": null,
            "right": null,
            "justify_content": null,
            "_view_module": "@jupyter-widgets/base",
            "overflow": null,
            "_model_module_version": "1.2.0",
            "_view_count": null,
            "flex_flow": null,
            "width": null,
            "min_width": null,
            "border": null,
            "align_items": null,
            "bottom": null,
            "_model_module": "@jupyter-widgets/base",
            "top": null,
            "grid_column": null,
            "overflow_y": null,
            "overflow_x": null,
            "grid_auto_flow": null,
            "grid_area": null,
            "grid_template_columns": null,
            "flex": null,
            "_model_name": "LayoutModel",
            "justify_items": null,
            "grid_row": null,
            "max_height": null,
            "align_content": null,
            "visibility": null,
            "align_self": null,
            "height": null,
            "min_height": null,
            "padding": null,
            "grid_auto_rows": null,
            "grid_gap": null,
            "max_width": null,
            "order": null,
            "_view_module_version": "1.2.0",
            "grid_template_areas": null,
            "object_position": null,
            "object_fit": null,
            "grid_auto_columns": null,
            "margin": null,
            "display": null,
            "left": null
          }
        },
        "300c0fa2f7a44e31a2c2ac7c0763bf2b": {
          "model_module": "@jupyter-widgets/controls",
          "model_name": "ProgressStyleModel",
          "model_module_version": "1.5.0",
          "state": {
            "_view_name": "StyleView",
            "_model_name": "ProgressStyleModel",
            "description_width": "",
            "_view_module": "@jupyter-widgets/base",
            "_model_module_version": "1.5.0",
            "_view_count": null,
            "_view_module_version": "1.2.0",
            "bar_color": null,
            "_model_module": "@jupyter-widgets/controls"
          }
        },
        "f871198623294f49b228e13179002d32": {
          "model_module": "@jupyter-widgets/base",
          "model_name": "LayoutModel",
          "model_module_version": "1.2.0",
          "state": {
            "_view_name": "LayoutView",
            "grid_template_rows": null,
            "right": null,
            "justify_content": null,
            "_view_module": "@jupyter-widgets/base",
            "overflow": null,
            "_model_module_version": "1.2.0",
            "_view_count": null,
            "flex_flow": null,
            "width": null,
            "min_width": null,
            "border": null,
            "align_items": null,
            "bottom": null,
            "_model_module": "@jupyter-widgets/base",
            "top": null,
            "grid_column": null,
            "overflow_y": null,
            "overflow_x": null,
            "grid_auto_flow": null,
            "grid_area": null,
            "grid_template_columns": null,
            "flex": null,
            "_model_name": "LayoutModel",
            "justify_items": null,
            "grid_row": null,
            "max_height": null,
            "align_content": null,
            "visibility": null,
            "align_self": null,
            "height": null,
            "min_height": null,
            "padding": null,
            "grid_auto_rows": null,
            "grid_gap": null,
            "max_width": null,
            "order": null,
            "_view_module_version": "1.2.0",
            "grid_template_areas": null,
            "object_position": null,
            "object_fit": null,
            "grid_auto_columns": null,
            "margin": null,
            "display": null,
            "left": null
          }
        },
        "ab2a95e210744b1a94edeacc75d5a9fd": {
          "model_module": "@jupyter-widgets/controls",
          "model_name": "DescriptionStyleModel",
          "model_module_version": "1.5.0",
          "state": {
            "_view_name": "StyleView",
            "_model_name": "DescriptionStyleModel",
            "description_width": "",
            "_view_module": "@jupyter-widgets/base",
            "_model_module_version": "1.5.0",
            "_view_count": null,
            "_view_module_version": "1.2.0",
            "_model_module": "@jupyter-widgets/controls"
          }
        },
        "da9fa0ca140b4a4e924c3d3e51ab8f0a": {
          "model_module": "@jupyter-widgets/base",
          "model_name": "LayoutModel",
          "model_module_version": "1.2.0",
          "state": {
            "_view_name": "LayoutView",
            "grid_template_rows": null,
            "right": null,
            "justify_content": null,
            "_view_module": "@jupyter-widgets/base",
            "overflow": null,
            "_model_module_version": "1.2.0",
            "_view_count": null,
            "flex_flow": null,
            "width": null,
            "min_width": null,
            "border": null,
            "align_items": null,
            "bottom": null,
            "_model_module": "@jupyter-widgets/base",
            "top": null,
            "grid_column": null,
            "overflow_y": null,
            "overflow_x": null,
            "grid_auto_flow": null,
            "grid_area": null,
            "grid_template_columns": null,
            "flex": null,
            "_model_name": "LayoutModel",
            "justify_items": null,
            "grid_row": null,
            "max_height": null,
            "align_content": null,
            "visibility": null,
            "align_self": null,
            "height": null,
            "min_height": null,
            "padding": null,
            "grid_auto_rows": null,
            "grid_gap": null,
            "max_width": null,
            "order": null,
            "_view_module_version": "1.2.0",
            "grid_template_areas": null,
            "object_position": null,
            "object_fit": null,
            "grid_auto_columns": null,
            "margin": null,
            "display": null,
            "left": null
          }
        },
        "e4c6e636ed8544e4aa795402a8e125e4": {
          "model_module": "@jupyter-widgets/controls",
          "model_name": "HBoxModel",
          "model_module_version": "1.5.0",
          "state": {
            "_view_name": "HBoxView",
            "_dom_classes": [],
            "_model_name": "HBoxModel",
            "_view_module": "@jupyter-widgets/controls",
            "_model_module_version": "1.5.0",
            "_view_count": null,
            "_view_module_version": "1.5.0",
            "box_style": "",
            "layout": "IPY_MODEL_539097e1a4fc468c912984d1aff8eb9c",
            "_model_module": "@jupyter-widgets/controls",
            "children": [
              "IPY_MODEL_d1a6ede7c5254a699f9f1eea9d53c9f2",
              "IPY_MODEL_945b1a01b3df48b9b0d425bb775d9b82",
              "IPY_MODEL_e29d0f580fde44d8b8df1acfe29523ed"
            ]
          }
        },
        "539097e1a4fc468c912984d1aff8eb9c": {
          "model_module": "@jupyter-widgets/base",
          "model_name": "LayoutModel",
          "model_module_version": "1.2.0",
          "state": {
            "_view_name": "LayoutView",
            "grid_template_rows": null,
            "right": null,
            "justify_content": null,
            "_view_module": "@jupyter-widgets/base",
            "overflow": null,
            "_model_module_version": "1.2.0",
            "_view_count": null,
            "flex_flow": null,
            "width": null,
            "min_width": null,
            "border": null,
            "align_items": null,
            "bottom": null,
            "_model_module": "@jupyter-widgets/base",
            "top": null,
            "grid_column": null,
            "overflow_y": null,
            "overflow_x": null,
            "grid_auto_flow": null,
            "grid_area": null,
            "grid_template_columns": null,
            "flex": null,
            "_model_name": "LayoutModel",
            "justify_items": null,
            "grid_row": null,
            "max_height": null,
            "align_content": null,
            "visibility": null,
            "align_self": null,
            "height": null,
            "min_height": null,
            "padding": null,
            "grid_auto_rows": null,
            "grid_gap": null,
            "max_width": null,
            "order": null,
            "_view_module_version": "1.2.0",
            "grid_template_areas": null,
            "object_position": null,
            "object_fit": null,
            "grid_auto_columns": null,
            "margin": null,
            "display": null,
            "left": null
          }
        },
        "d1a6ede7c5254a699f9f1eea9d53c9f2": {
          "model_module": "@jupyter-widgets/controls",
          "model_name": "HTMLModel",
          "model_module_version": "1.5.0",
          "state": {
            "_view_name": "HTMLView",
            "style": "IPY_MODEL_aabcc57cc64c420fa7658840cfe8a13f",
            "_dom_classes": [],
            "description": "",
            "_model_name": "HTMLModel",
            "placeholder": "​",
            "_view_module": "@jupyter-widgets/controls",
            "_model_module_version": "1.5.0",
            "value": "Downloading: 100%",
            "_view_count": null,
            "_view_module_version": "1.5.0",
            "description_tooltip": null,
            "_model_module": "@jupyter-widgets/controls",
            "layout": "IPY_MODEL_b860304c50e340738cf274d1400fa634"
          }
        },
        "945b1a01b3df48b9b0d425bb775d9b82": {
          "model_module": "@jupyter-widgets/controls",
          "model_name": "FloatProgressModel",
          "model_module_version": "1.5.0",
          "state": {
            "_view_name": "ProgressView",
            "style": "IPY_MODEL_009b2544efb5453e9a14b93f65463867",
            "_dom_classes": [],
            "description": "",
            "_model_name": "FloatProgressModel",
            "bar_style": "success",
            "max": 48,
            "_view_module": "@jupyter-widgets/controls",
            "_model_module_version": "1.5.0",
            "value": 48,
            "_view_count": null,
            "_view_module_version": "1.5.0",
            "orientation": "horizontal",
            "min": 0,
            "description_tooltip": null,
            "_model_module": "@jupyter-widgets/controls",
            "layout": "IPY_MODEL_2cc82b6f6043414597ebf3a10e09ce2a"
          }
        },
        "e29d0f580fde44d8b8df1acfe29523ed": {
          "model_module": "@jupyter-widgets/controls",
          "model_name": "HTMLModel",
          "model_module_version": "1.5.0",
          "state": {
            "_view_name": "HTMLView",
            "style": "IPY_MODEL_548e999d548e425d8e5aaac60da7549f",
            "_dom_classes": [],
            "description": "",
            "_model_name": "HTMLModel",
            "placeholder": "​",
            "_view_module": "@jupyter-widgets/controls",
            "_model_module_version": "1.5.0",
            "value": " 48.0/48.0 [00:00&lt;00:00, 1.18kB/s]",
            "_view_count": null,
            "_view_module_version": "1.5.0",
            "description_tooltip": null,
            "_model_module": "@jupyter-widgets/controls",
            "layout": "IPY_MODEL_8839f122a0aa4b4281427223f61319a9"
          }
        },
        "aabcc57cc64c420fa7658840cfe8a13f": {
          "model_module": "@jupyter-widgets/controls",
          "model_name": "DescriptionStyleModel",
          "model_module_version": "1.5.0",
          "state": {
            "_view_name": "StyleView",
            "_model_name": "DescriptionStyleModel",
            "description_width": "",
            "_view_module": "@jupyter-widgets/base",
            "_model_module_version": "1.5.0",
            "_view_count": null,
            "_view_module_version": "1.2.0",
            "_model_module": "@jupyter-widgets/controls"
          }
        },
        "b860304c50e340738cf274d1400fa634": {
          "model_module": "@jupyter-widgets/base",
          "model_name": "LayoutModel",
          "model_module_version": "1.2.0",
          "state": {
            "_view_name": "LayoutView",
            "grid_template_rows": null,
            "right": null,
            "justify_content": null,
            "_view_module": "@jupyter-widgets/base",
            "overflow": null,
            "_model_module_version": "1.2.0",
            "_view_count": null,
            "flex_flow": null,
            "width": null,
            "min_width": null,
            "border": null,
            "align_items": null,
            "bottom": null,
            "_model_module": "@jupyter-widgets/base",
            "top": null,
            "grid_column": null,
            "overflow_y": null,
            "overflow_x": null,
            "grid_auto_flow": null,
            "grid_area": null,
            "grid_template_columns": null,
            "flex": null,
            "_model_name": "LayoutModel",
            "justify_items": null,
            "grid_row": null,
            "max_height": null,
            "align_content": null,
            "visibility": null,
            "align_self": null,
            "height": null,
            "min_height": null,
            "padding": null,
            "grid_auto_rows": null,
            "grid_gap": null,
            "max_width": null,
            "order": null,
            "_view_module_version": "1.2.0",
            "grid_template_areas": null,
            "object_position": null,
            "object_fit": null,
            "grid_auto_columns": null,
            "margin": null,
            "display": null,
            "left": null
          }
        },
        "009b2544efb5453e9a14b93f65463867": {
          "model_module": "@jupyter-widgets/controls",
          "model_name": "ProgressStyleModel",
          "model_module_version": "1.5.0",
          "state": {
            "_view_name": "StyleView",
            "_model_name": "ProgressStyleModel",
            "description_width": "",
            "_view_module": "@jupyter-widgets/base",
            "_model_module_version": "1.5.0",
            "_view_count": null,
            "_view_module_version": "1.2.0",
            "bar_color": null,
            "_model_module": "@jupyter-widgets/controls"
          }
        },
        "2cc82b6f6043414597ebf3a10e09ce2a": {
          "model_module": "@jupyter-widgets/base",
          "model_name": "LayoutModel",
          "model_module_version": "1.2.0",
          "state": {
            "_view_name": "LayoutView",
            "grid_template_rows": null,
            "right": null,
            "justify_content": null,
            "_view_module": "@jupyter-widgets/base",
            "overflow": null,
            "_model_module_version": "1.2.0",
            "_view_count": null,
            "flex_flow": null,
            "width": null,
            "min_width": null,
            "border": null,
            "align_items": null,
            "bottom": null,
            "_model_module": "@jupyter-widgets/base",
            "top": null,
            "grid_column": null,
            "overflow_y": null,
            "overflow_x": null,
            "grid_auto_flow": null,
            "grid_area": null,
            "grid_template_columns": null,
            "flex": null,
            "_model_name": "LayoutModel",
            "justify_items": null,
            "grid_row": null,
            "max_height": null,
            "align_content": null,
            "visibility": null,
            "align_self": null,
            "height": null,
            "min_height": null,
            "padding": null,
            "grid_auto_rows": null,
            "grid_gap": null,
            "max_width": null,
            "order": null,
            "_view_module_version": "1.2.0",
            "grid_template_areas": null,
            "object_position": null,
            "object_fit": null,
            "grid_auto_columns": null,
            "margin": null,
            "display": null,
            "left": null
          }
        },
        "548e999d548e425d8e5aaac60da7549f": {
          "model_module": "@jupyter-widgets/controls",
          "model_name": "DescriptionStyleModel",
          "model_module_version": "1.5.0",
          "state": {
            "_view_name": "StyleView",
            "_model_name": "DescriptionStyleModel",
            "description_width": "",
            "_view_module": "@jupyter-widgets/base",
            "_model_module_version": "1.5.0",
            "_view_count": null,
            "_view_module_version": "1.2.0",
            "_model_module": "@jupyter-widgets/controls"
          }
        },
        "8839f122a0aa4b4281427223f61319a9": {
          "model_module": "@jupyter-widgets/base",
          "model_name": "LayoutModel",
          "model_module_version": "1.2.0",
          "state": {
            "_view_name": "LayoutView",
            "grid_template_rows": null,
            "right": null,
            "justify_content": null,
            "_view_module": "@jupyter-widgets/base",
            "overflow": null,
            "_model_module_version": "1.2.0",
            "_view_count": null,
            "flex_flow": null,
            "width": null,
            "min_width": null,
            "border": null,
            "align_items": null,
            "bottom": null,
            "_model_module": "@jupyter-widgets/base",
            "top": null,
            "grid_column": null,
            "overflow_y": null,
            "overflow_x": null,
            "grid_auto_flow": null,
            "grid_area": null,
            "grid_template_columns": null,
            "flex": null,
            "_model_name": "LayoutModel",
            "justify_items": null,
            "grid_row": null,
            "max_height": null,
            "align_content": null,
            "visibility": null,
            "align_self": null,
            "height": null,
            "min_height": null,
            "padding": null,
            "grid_auto_rows": null,
            "grid_gap": null,
            "max_width": null,
            "order": null,
            "_view_module_version": "1.2.0",
            "grid_template_areas": null,
            "object_position": null,
            "object_fit": null,
            "grid_auto_columns": null,
            "margin": null,
            "display": null,
            "left": null
          }
        },
        "6181593965324bf7896aead3aa49a9b2": {
          "model_module": "@jupyter-widgets/controls",
          "model_name": "HBoxModel",
          "model_module_version": "1.5.0",
          "state": {
            "_view_name": "HBoxView",
            "_dom_classes": [],
            "_model_name": "HBoxModel",
            "_view_module": "@jupyter-widgets/controls",
            "_model_module_version": "1.5.0",
            "_view_count": null,
            "_view_module_version": "1.5.0",
            "box_style": "",
            "layout": "IPY_MODEL_dac8fd536c79486896b87c1b935d98e6",
            "_model_module": "@jupyter-widgets/controls",
            "children": [
              "IPY_MODEL_e50014994c4446d49fcd213e638d6f16",
              "IPY_MODEL_c3d3a1c98eb448dcb2751a7dfedbf444",
              "IPY_MODEL_dbe5a3c0820645dd89025bbc6defbf87"
            ]
          }
        },
        "dac8fd536c79486896b87c1b935d98e6": {
          "model_module": "@jupyter-widgets/base",
          "model_name": "LayoutModel",
          "model_module_version": "1.2.0",
          "state": {
            "_view_name": "LayoutView",
            "grid_template_rows": null,
            "right": null,
            "justify_content": null,
            "_view_module": "@jupyter-widgets/base",
            "overflow": null,
            "_model_module_version": "1.2.0",
            "_view_count": null,
            "flex_flow": null,
            "width": null,
            "min_width": null,
            "border": null,
            "align_items": null,
            "bottom": null,
            "_model_module": "@jupyter-widgets/base",
            "top": null,
            "grid_column": null,
            "overflow_y": null,
            "overflow_x": null,
            "grid_auto_flow": null,
            "grid_area": null,
            "grid_template_columns": null,
            "flex": null,
            "_model_name": "LayoutModel",
            "justify_items": null,
            "grid_row": null,
            "max_height": null,
            "align_content": null,
            "visibility": null,
            "align_self": null,
            "height": null,
            "min_height": null,
            "padding": null,
            "grid_auto_rows": null,
            "grid_gap": null,
            "max_width": null,
            "order": null,
            "_view_module_version": "1.2.0",
            "grid_template_areas": null,
            "object_position": null,
            "object_fit": null,
            "grid_auto_columns": null,
            "margin": null,
            "display": null,
            "left": null
          }
        },
        "e50014994c4446d49fcd213e638d6f16": {
          "model_module": "@jupyter-widgets/controls",
          "model_name": "HTMLModel",
          "model_module_version": "1.5.0",
          "state": {
            "_view_name": "HTMLView",
            "style": "IPY_MODEL_4b0a374e7303497e96f6a572ef946870",
            "_dom_classes": [],
            "description": "",
            "_model_name": "HTMLModel",
            "placeholder": "​",
            "_view_module": "@jupyter-widgets/controls",
            "_model_module_version": "1.5.0",
            "value": "Downloading: 100%",
            "_view_count": null,
            "_view_module_version": "1.5.0",
            "description_tooltip": null,
            "_model_module": "@jupyter-widgets/controls",
            "layout": "IPY_MODEL_1ba7c02b93134aa38303cc401ab94c8a"
          }
        },
        "c3d3a1c98eb448dcb2751a7dfedbf444": {
          "model_module": "@jupyter-widgets/controls",
          "model_name": "FloatProgressModel",
          "model_module_version": "1.5.0",
          "state": {
            "_view_name": "ProgressView",
            "style": "IPY_MODEL_0e566ffa76384d1580fbc798aaa7d46b",
            "_dom_classes": [],
            "description": "",
            "_model_name": "FloatProgressModel",
            "bar_style": "success",
            "max": 231508,
            "_view_module": "@jupyter-widgets/controls",
            "_model_module_version": "1.5.0",
            "value": 231508,
            "_view_count": null,
            "_view_module_version": "1.5.0",
            "orientation": "horizontal",
            "min": 0,
            "description_tooltip": null,
            "_model_module": "@jupyter-widgets/controls",
            "layout": "IPY_MODEL_17b4dd0ceee8459fa087f0e960c7b18d"
          }
        },
        "dbe5a3c0820645dd89025bbc6defbf87": {
          "model_module": "@jupyter-widgets/controls",
          "model_name": "HTMLModel",
          "model_module_version": "1.5.0",
          "state": {
            "_view_name": "HTMLView",
            "style": "IPY_MODEL_821a75c4a7634c24b9b90116d90ea52a",
            "_dom_classes": [],
            "description": "",
            "_model_name": "HTMLModel",
            "placeholder": "​",
            "_view_module": "@jupyter-widgets/controls",
            "_model_module_version": "1.5.0",
            "value": " 232k/232k [00:00&lt;00:00, 608kB/s]",
            "_view_count": null,
            "_view_module_version": "1.5.0",
            "description_tooltip": null,
            "_model_module": "@jupyter-widgets/controls",
            "layout": "IPY_MODEL_3d5bd0eb704e46488cdbda47e43f12c1"
          }
        },
        "4b0a374e7303497e96f6a572ef946870": {
          "model_module": "@jupyter-widgets/controls",
          "model_name": "DescriptionStyleModel",
          "model_module_version": "1.5.0",
          "state": {
            "_view_name": "StyleView",
            "_model_name": "DescriptionStyleModel",
            "description_width": "",
            "_view_module": "@jupyter-widgets/base",
            "_model_module_version": "1.5.0",
            "_view_count": null,
            "_view_module_version": "1.2.0",
            "_model_module": "@jupyter-widgets/controls"
          }
        },
        "1ba7c02b93134aa38303cc401ab94c8a": {
          "model_module": "@jupyter-widgets/base",
          "model_name": "LayoutModel",
          "model_module_version": "1.2.0",
          "state": {
            "_view_name": "LayoutView",
            "grid_template_rows": null,
            "right": null,
            "justify_content": null,
            "_view_module": "@jupyter-widgets/base",
            "overflow": null,
            "_model_module_version": "1.2.0",
            "_view_count": null,
            "flex_flow": null,
            "width": null,
            "min_width": null,
            "border": null,
            "align_items": null,
            "bottom": null,
            "_model_module": "@jupyter-widgets/base",
            "top": null,
            "grid_column": null,
            "overflow_y": null,
            "overflow_x": null,
            "grid_auto_flow": null,
            "grid_area": null,
            "grid_template_columns": null,
            "flex": null,
            "_model_name": "LayoutModel",
            "justify_items": null,
            "grid_row": null,
            "max_height": null,
            "align_content": null,
            "visibility": null,
            "align_self": null,
            "height": null,
            "min_height": null,
            "padding": null,
            "grid_auto_rows": null,
            "grid_gap": null,
            "max_width": null,
            "order": null,
            "_view_module_version": "1.2.0",
            "grid_template_areas": null,
            "object_position": null,
            "object_fit": null,
            "grid_auto_columns": null,
            "margin": null,
            "display": null,
            "left": null
          }
        },
        "0e566ffa76384d1580fbc798aaa7d46b": {
          "model_module": "@jupyter-widgets/controls",
          "model_name": "ProgressStyleModel",
          "model_module_version": "1.5.0",
          "state": {
            "_view_name": "StyleView",
            "_model_name": "ProgressStyleModel",
            "description_width": "",
            "_view_module": "@jupyter-widgets/base",
            "_model_module_version": "1.5.0",
            "_view_count": null,
            "_view_module_version": "1.2.0",
            "bar_color": null,
            "_model_module": "@jupyter-widgets/controls"
          }
        },
        "17b4dd0ceee8459fa087f0e960c7b18d": {
          "model_module": "@jupyter-widgets/base",
          "model_name": "LayoutModel",
          "model_module_version": "1.2.0",
          "state": {
            "_view_name": "LayoutView",
            "grid_template_rows": null,
            "right": null,
            "justify_content": null,
            "_view_module": "@jupyter-widgets/base",
            "overflow": null,
            "_model_module_version": "1.2.0",
            "_view_count": null,
            "flex_flow": null,
            "width": null,
            "min_width": null,
            "border": null,
            "align_items": null,
            "bottom": null,
            "_model_module": "@jupyter-widgets/base",
            "top": null,
            "grid_column": null,
            "overflow_y": null,
            "overflow_x": null,
            "grid_auto_flow": null,
            "grid_area": null,
            "grid_template_columns": null,
            "flex": null,
            "_model_name": "LayoutModel",
            "justify_items": null,
            "grid_row": null,
            "max_height": null,
            "align_content": null,
            "visibility": null,
            "align_self": null,
            "height": null,
            "min_height": null,
            "padding": null,
            "grid_auto_rows": null,
            "grid_gap": null,
            "max_width": null,
            "order": null,
            "_view_module_version": "1.2.0",
            "grid_template_areas": null,
            "object_position": null,
            "object_fit": null,
            "grid_auto_columns": null,
            "margin": null,
            "display": null,
            "left": null
          }
        },
        "821a75c4a7634c24b9b90116d90ea52a": {
          "model_module": "@jupyter-widgets/controls",
          "model_name": "DescriptionStyleModel",
          "model_module_version": "1.5.0",
          "state": {
            "_view_name": "StyleView",
            "_model_name": "DescriptionStyleModel",
            "description_width": "",
            "_view_module": "@jupyter-widgets/base",
            "_model_module_version": "1.5.0",
            "_view_count": null,
            "_view_module_version": "1.2.0",
            "_model_module": "@jupyter-widgets/controls"
          }
        },
        "3d5bd0eb704e46488cdbda47e43f12c1": {
          "model_module": "@jupyter-widgets/base",
          "model_name": "LayoutModel",
          "model_module_version": "1.2.0",
          "state": {
            "_view_name": "LayoutView",
            "grid_template_rows": null,
            "right": null,
            "justify_content": null,
            "_view_module": "@jupyter-widgets/base",
            "overflow": null,
            "_model_module_version": "1.2.0",
            "_view_count": null,
            "flex_flow": null,
            "width": null,
            "min_width": null,
            "border": null,
            "align_items": null,
            "bottom": null,
            "_model_module": "@jupyter-widgets/base",
            "top": null,
            "grid_column": null,
            "overflow_y": null,
            "overflow_x": null,
            "grid_auto_flow": null,
            "grid_area": null,
            "grid_template_columns": null,
            "flex": null,
            "_model_name": "LayoutModel",
            "justify_items": null,
            "grid_row": null,
            "max_height": null,
            "align_content": null,
            "visibility": null,
            "align_self": null,
            "height": null,
            "min_height": null,
            "padding": null,
            "grid_auto_rows": null,
            "grid_gap": null,
            "max_width": null,
            "order": null,
            "_view_module_version": "1.2.0",
            "grid_template_areas": null,
            "object_position": null,
            "object_fit": null,
            "grid_auto_columns": null,
            "margin": null,
            "display": null,
            "left": null
          }
        }
      }
    }
  },
  "cells": [
    {
      "cell_type": "markdown",
      "metadata": {
        "id": "view-in-github",
        "colab_type": "text"
      },
      "source": [
        "<a href=\"https://colab.research.google.com/github/denizdolek/masterprojectdeniz/blob/main/yeniproje.ipynb\" target=\"_parent\"><img src=\"https://colab.research.google.com/assets/colab-badge.svg\" alt=\"Open In Colab\"/></a>"
      ]
    },
    {
      "cell_type": "code",
      "metadata": {
        "colab": {
          "base_uri": "https://localhost:8080/"
        },
        "id": "scRorjGz03Pr",
        "outputId": "d8906e02-98d1-4eaa-bcb2-665ea46d9657"
      },
      "source": [
        "gpu_info = !nvidia-smi\n",
        "gpu_info = '\\n'.join(gpu_info)\n",
        "if gpu_info.find('failed') >= 0:\n",
        "  print('Not connected to a GPU')\n",
        "else:\n",
        "  print(gpu_info)"
      ],
      "execution_count": 1,
      "outputs": [
        {
          "output_type": "stream",
          "name": "stdout",
          "text": [
            "Mon Sep  6 20:25:31 2021       \n",
            "+-----------------------------------------------------------------------------+\n",
            "| NVIDIA-SMI 470.63.01    Driver Version: 460.32.03    CUDA Version: 11.2     |\n",
            "|-------------------------------+----------------------+----------------------+\n",
            "| GPU  Name        Persistence-M| Bus-Id        Disp.A | Volatile Uncorr. ECC |\n",
            "| Fan  Temp  Perf  Pwr:Usage/Cap|         Memory-Usage | GPU-Util  Compute M. |\n",
            "|                               |                      |               MIG M. |\n",
            "|===============================+======================+======================|\n",
            "|   0  Tesla T4            Off  | 00000000:00:04.0 Off |                    0 |\n",
            "| N/A   39C    P8     9W /  70W |      0MiB / 15109MiB |      0%      Default |\n",
            "|                               |                      |                  N/A |\n",
            "+-------------------------------+----------------------+----------------------+\n",
            "                                                                               \n",
            "+-----------------------------------------------------------------------------+\n",
            "| Processes:                                                                  |\n",
            "|  GPU   GI   CI        PID   Type   Process name                  GPU Memory |\n",
            "|        ID   ID                                                   Usage      |\n",
            "|=============================================================================|\n",
            "|  No running processes found                                                 |\n",
            "+-----------------------------------------------------------------------------+\n"
          ]
        }
      ]
    },
    {
      "cell_type": "code",
      "metadata": {
        "colab": {
          "base_uri": "https://localhost:8080/"
        },
        "id": "5_J0KbrCW29e",
        "outputId": "88e04be4-6009-41f6-f2fa-8caf2e9a2104"
      },
      "source": [
        "!pip install ipython-autotime\n",
        "%load_ext autotime"
      ],
      "execution_count": 2,
      "outputs": [
        {
          "output_type": "stream",
          "name": "stdout",
          "text": [
            "Collecting ipython-autotime\n",
            "  Downloading ipython_autotime-0.3.1-py2.py3-none-any.whl (6.8 kB)\n",
            "Requirement already satisfied: ipython in /usr/local/lib/python3.7/dist-packages (from ipython-autotime) (7.27.0)\n",
            "Requirement already satisfied: matplotlib-inline in /usr/local/lib/python3.7/dist-packages (from ipython->ipython-autotime) (0.1.2)\n",
            "Requirement already satisfied: setuptools>=18.5 in /usr/local/lib/python3.7/dist-packages (from ipython->ipython-autotime) (57.4.0)\n",
            "Requirement already satisfied: pexpect>4.3 in /usr/local/lib/python3.7/dist-packages (from ipython->ipython-autotime) (4.8.0)\n",
            "Requirement already satisfied: prompt-toolkit!=3.0.0,!=3.0.1,<3.1.0,>=2.0.0 in /usr/local/lib/python3.7/dist-packages (from ipython->ipython-autotime) (3.0.20)\n",
            "Requirement already satisfied: decorator in /usr/local/lib/python3.7/dist-packages (from ipython->ipython-autotime) (4.4.2)\n",
            "Requirement already satisfied: pygments in /usr/local/lib/python3.7/dist-packages (from ipython->ipython-autotime) (2.6.1)\n",
            "Requirement already satisfied: backcall in /usr/local/lib/python3.7/dist-packages (from ipython->ipython-autotime) (0.2.0)\n",
            "Requirement already satisfied: traitlets>=4.2 in /usr/local/lib/python3.7/dist-packages (from ipython->ipython-autotime) (5.0.5)\n",
            "Requirement already satisfied: pickleshare in /usr/local/lib/python3.7/dist-packages (from ipython->ipython-autotime) (0.7.5)\n",
            "Requirement already satisfied: jedi>=0.16 in /usr/local/lib/python3.7/dist-packages (from ipython->ipython-autotime) (0.18.0)\n",
            "Requirement already satisfied: parso<0.9.0,>=0.8.0 in /usr/local/lib/python3.7/dist-packages (from jedi>=0.16->ipython->ipython-autotime) (0.8.2)\n",
            "Requirement already satisfied: ptyprocess>=0.5 in /usr/local/lib/python3.7/dist-packages (from pexpect>4.3->ipython->ipython-autotime) (0.7.0)\n",
            "Requirement already satisfied: wcwidth in /usr/local/lib/python3.7/dist-packages (from prompt-toolkit!=3.0.0,!=3.0.1,<3.1.0,>=2.0.0->ipython->ipython-autotime) (0.2.5)\n",
            "Requirement already satisfied: ipython-genutils in /usr/local/lib/python3.7/dist-packages (from traitlets>=4.2->ipython->ipython-autotime) (0.2.0)\n",
            "Installing collected packages: ipython-autotime\n",
            "Successfully installed ipython-autotime-0.3.1\n",
            "time: 353 µs (started: 2021-09-06 20:25:36 +00:00)\n"
          ]
        }
      ]
    },
    {
      "cell_type": "code",
      "metadata": {
        "colab": {
          "base_uri": "https://localhost:8080/"
        },
        "id": "ttY2qMDjONdi",
        "outputId": "7ffbc6a0-ddf7-4661-ca30-d528170edd27"
      },
      "source": [
        "!pip install simpletransformers\n"
      ],
      "execution_count": 3,
      "outputs": [
        {
          "output_type": "stream",
          "name": "stdout",
          "text": [
            "Requirement already satisfied: simpletransformers in /usr/local/lib/python3.7/dist-packages (0.61.13)\n",
            "Requirement already satisfied: scikit-learn in /usr/local/lib/python3.7/dist-packages (from simpletransformers) (0.22.2.post1)\n",
            "Requirement already satisfied: tensorboardx in /usr/local/lib/python3.7/dist-packages (from simpletransformers) (2.4)\n",
            "Requirement already satisfied: tokenizers in /usr/local/lib/python3.7/dist-packages (from simpletransformers) (0.10.3)\n",
            "Requirement already satisfied: seqeval in /usr/local/lib/python3.7/dist-packages (from simpletransformers) (1.2.2)\n",
            "Requirement already satisfied: pandas in /usr/local/lib/python3.7/dist-packages (from simpletransformers) (1.1.5)\n",
            "Requirement already satisfied: regex in /usr/local/lib/python3.7/dist-packages (from simpletransformers) (2019.12.20)\n",
            "Requirement already satisfied: numpy in /usr/local/lib/python3.7/dist-packages (from simpletransformers) (1.19.5)\n",
            "Requirement already satisfied: scipy in /usr/local/lib/python3.7/dist-packages (from simpletransformers) (1.4.1)\n",
            "Requirement already satisfied: datasets in /usr/local/lib/python3.7/dist-packages (from simpletransformers) (1.11.0)\n",
            "Requirement already satisfied: streamlit in /usr/local/lib/python3.7/dist-packages (from simpletransformers) (0.88.0)\n",
            "Requirement already satisfied: sentencepiece in /usr/local/lib/python3.7/dist-packages (from simpletransformers) (0.1.96)\n",
            "Requirement already satisfied: tqdm>=4.47.0 in /usr/local/lib/python3.7/dist-packages (from simpletransformers) (4.62.0)\n",
            "Requirement already satisfied: requests in /usr/local/lib/python3.7/dist-packages (from simpletransformers) (2.23.0)\n",
            "Requirement already satisfied: transformers>=4.2.0 in /usr/local/lib/python3.7/dist-packages (from simpletransformers) (4.10.0)\n",
            "Requirement already satisfied: wandb>=0.10.32 in /usr/local/lib/python3.7/dist-packages (from simpletransformers) (0.12.1)\n",
            "Requirement already satisfied: packaging in /usr/local/lib/python3.7/dist-packages (from transformers>=4.2.0->simpletransformers) (21.0)\n",
            "Requirement already satisfied: sacremoses in /usr/local/lib/python3.7/dist-packages (from transformers>=4.2.0->simpletransformers) (0.0.45)\n",
            "Requirement already satisfied: pyyaml>=5.1 in /usr/local/lib/python3.7/dist-packages (from transformers>=4.2.0->simpletransformers) (5.4.1)\n",
            "Requirement already satisfied: huggingface-hub>=0.0.12 in /usr/local/lib/python3.7/dist-packages (from transformers>=4.2.0->simpletransformers) (0.0.16)\n",
            "Requirement already satisfied: importlib-metadata in /usr/local/lib/python3.7/dist-packages (from transformers>=4.2.0->simpletransformers) (4.6.4)\n",
            "Requirement already satisfied: filelock in /usr/local/lib/python3.7/dist-packages (from transformers>=4.2.0->simpletransformers) (3.0.12)\n",
            "Requirement already satisfied: typing-extensions in /usr/local/lib/python3.7/dist-packages (from huggingface-hub>=0.0.12->transformers>=4.2.0->simpletransformers) (3.7.4.3)\n",
            "Requirement already satisfied: pyparsing>=2.0.2 in /usr/local/lib/python3.7/dist-packages (from packaging->transformers>=4.2.0->simpletransformers) (2.4.7)\n",
            "Requirement already satisfied: shortuuid>=0.5.0 in /usr/local/lib/python3.7/dist-packages (from wandb>=0.10.32->simpletransformers) (1.0.1)\n",
            "Requirement already satisfied: psutil>=5.0.0 in /usr/local/lib/python3.7/dist-packages (from wandb>=0.10.32->simpletransformers) (5.4.8)\n",
            "Requirement already satisfied: sentry-sdk>=1.0.0 in /usr/local/lib/python3.7/dist-packages (from wandb>=0.10.32->simpletransformers) (1.3.1)\n",
            "Requirement already satisfied: pathtools in /usr/local/lib/python3.7/dist-packages (from wandb>=0.10.32->simpletransformers) (0.1.2)\n",
            "Requirement already satisfied: GitPython>=1.0.0 in /usr/local/lib/python3.7/dist-packages (from wandb>=0.10.32->simpletransformers) (3.1.18)\n",
            "Requirement already satisfied: protobuf>=3.12.0 in /usr/local/lib/python3.7/dist-packages (from wandb>=0.10.32->simpletransformers) (3.17.3)\n",
            "Requirement already satisfied: configparser>=3.8.1 in /usr/local/lib/python3.7/dist-packages (from wandb>=0.10.32->simpletransformers) (5.0.2)\n",
            "Requirement already satisfied: python-dateutil>=2.6.1 in /usr/local/lib/python3.7/dist-packages (from wandb>=0.10.32->simpletransformers) (2.8.2)\n",
            "Requirement already satisfied: promise<3,>=2.0 in /usr/local/lib/python3.7/dist-packages (from wandb>=0.10.32->simpletransformers) (2.3)\n",
            "Requirement already satisfied: docker-pycreds>=0.4.0 in /usr/local/lib/python3.7/dist-packages (from wandb>=0.10.32->simpletransformers) (0.4.0)\n",
            "Requirement already satisfied: subprocess32>=3.5.3 in /usr/local/lib/python3.7/dist-packages (from wandb>=0.10.32->simpletransformers) (3.5.4)\n",
            "Requirement already satisfied: six>=1.13.0 in /usr/local/lib/python3.7/dist-packages (from wandb>=0.10.32->simpletransformers) (1.15.0)\n",
            "Requirement already satisfied: Click!=8.0.0,>=7.0 in /usr/local/lib/python3.7/dist-packages (from wandb>=0.10.32->simpletransformers) (7.1.2)\n",
            "Requirement already satisfied: gitdb<5,>=4.0.1 in /usr/local/lib/python3.7/dist-packages (from GitPython>=1.0.0->wandb>=0.10.32->simpletransformers) (4.0.7)\n",
            "Requirement already satisfied: smmap<5,>=3.0.1 in /usr/local/lib/python3.7/dist-packages (from gitdb<5,>=4.0.1->GitPython>=1.0.0->wandb>=0.10.32->simpletransformers) (4.0.0)\n",
            "Requirement already satisfied: idna<3,>=2.5 in /usr/local/lib/python3.7/dist-packages (from requests->simpletransformers) (2.10)\n",
            "Requirement already satisfied: chardet<4,>=3.0.2 in /usr/local/lib/python3.7/dist-packages (from requests->simpletransformers) (3.0.4)\n",
            "Requirement already satisfied: urllib3!=1.25.0,!=1.25.1,<1.26,>=1.21.1 in /usr/local/lib/python3.7/dist-packages (from requests->simpletransformers) (1.24.3)\n",
            "Requirement already satisfied: certifi>=2017.4.17 in /usr/local/lib/python3.7/dist-packages (from requests->simpletransformers) (2021.5.30)\n",
            "Requirement already satisfied: multiprocess in /usr/local/lib/python3.7/dist-packages (from datasets->simpletransformers) (0.70.12.2)\n",
            "Requirement already satisfied: fsspec>=2021.05.0 in /usr/local/lib/python3.7/dist-packages (from datasets->simpletransformers) (2021.8.1)\n",
            "Requirement already satisfied: pyarrow!=4.0.0,>=1.0.0 in /usr/local/lib/python3.7/dist-packages (from datasets->simpletransformers) (3.0.0)\n",
            "Requirement already satisfied: dill in /usr/local/lib/python3.7/dist-packages (from datasets->simpletransformers) (0.3.4)\n",
            "Requirement already satisfied: xxhash in /usr/local/lib/python3.7/dist-packages (from datasets->simpletransformers) (2.0.2)\n",
            "Requirement already satisfied: zipp>=0.5 in /usr/local/lib/python3.7/dist-packages (from importlib-metadata->transformers>=4.2.0->simpletransformers) (3.5.0)\n",
            "Requirement already satisfied: pytz>=2017.2 in /usr/local/lib/python3.7/dist-packages (from pandas->simpletransformers) (2018.9)\n",
            "Requirement already satisfied: joblib in /usr/local/lib/python3.7/dist-packages (from sacremoses->transformers>=4.2.0->simpletransformers) (1.0.1)\n",
            "Requirement already satisfied: tzlocal in /usr/local/lib/python3.7/dist-packages (from streamlit->simpletransformers) (1.5.1)\n",
            "Requirement already satisfied: pillow>=6.2.0 in /usr/local/lib/python3.7/dist-packages (from streamlit->simpletransformers) (7.1.2)\n",
            "Requirement already satisfied: toml in /usr/local/lib/python3.7/dist-packages (from streamlit->simpletransformers) (0.10.2)\n",
            "Requirement already satisfied: astor in /usr/local/lib/python3.7/dist-packages (from streamlit->simpletransformers) (0.8.1)\n",
            "Requirement already satisfied: blinker in /usr/local/lib/python3.7/dist-packages (from streamlit->simpletransformers) (1.4)\n",
            "Requirement already satisfied: pydeck>=0.1.dev5 in /usr/local/lib/python3.7/dist-packages (from streamlit->simpletransformers) (0.7.0)\n",
            "Requirement already satisfied: validators in /usr/local/lib/python3.7/dist-packages (from streamlit->simpletransformers) (0.18.2)\n",
            "Requirement already satisfied: watchdog in /usr/local/lib/python3.7/dist-packages (from streamlit->simpletransformers) (2.1.5)\n",
            "Requirement already satisfied: attrs in /usr/local/lib/python3.7/dist-packages (from streamlit->simpletransformers) (21.2.0)\n",
            "Requirement already satisfied: base58 in /usr/local/lib/python3.7/dist-packages (from streamlit->simpletransformers) (2.1.0)\n",
            "Requirement already satisfied: altair>=3.2.0 in /usr/local/lib/python3.7/dist-packages (from streamlit->simpletransformers) (4.1.0)\n",
            "Requirement already satisfied: tornado>=5.0 in /usr/local/lib/python3.7/dist-packages (from streamlit->simpletransformers) (5.1.1)\n",
            "Requirement already satisfied: cachetools>=4.0 in /usr/local/lib/python3.7/dist-packages (from streamlit->simpletransformers) (4.2.2)\n",
            "Requirement already satisfied: entrypoints in /usr/local/lib/python3.7/dist-packages (from altair>=3.2.0->streamlit->simpletransformers) (0.3)\n",
            "Requirement already satisfied: jinja2 in /usr/local/lib/python3.7/dist-packages (from altair>=3.2.0->streamlit->simpletransformers) (2.11.3)\n",
            "Requirement already satisfied: toolz in /usr/local/lib/python3.7/dist-packages (from altair>=3.2.0->streamlit->simpletransformers) (0.11.1)\n",
            "Requirement already satisfied: jsonschema in /usr/local/lib/python3.7/dist-packages (from altair>=3.2.0->streamlit->simpletransformers) (2.6.0)\n",
            "Requirement already satisfied: traitlets>=4.3.2 in /usr/local/lib/python3.7/dist-packages (from pydeck>=0.1.dev5->streamlit->simpletransformers) (5.0.5)\n",
            "Requirement already satisfied: ipykernel>=5.1.2 in /usr/local/lib/python3.7/dist-packages (from pydeck>=0.1.dev5->streamlit->simpletransformers) (6.3.1)\n",
            "Requirement already satisfied: ipywidgets>=7.0.0 in /usr/local/lib/python3.7/dist-packages (from pydeck>=0.1.dev5->streamlit->simpletransformers) (7.6.3)\n",
            "Requirement already satisfied: jupyter-client<8.0 in /usr/local/lib/python3.7/dist-packages (from ipykernel>=5.1.2->pydeck>=0.1.dev5->streamlit->simpletransformers) (5.3.5)\n",
            "Requirement already satisfied: ipython-genutils in /usr/local/lib/python3.7/dist-packages (from ipykernel>=5.1.2->pydeck>=0.1.dev5->streamlit->simpletransformers) (0.2.0)\n",
            "Requirement already satisfied: debugpy<2.0,>=1.0.0 in /usr/local/lib/python3.7/dist-packages (from ipykernel>=5.1.2->pydeck>=0.1.dev5->streamlit->simpletransformers) (1.0.0)\n",
            "Requirement already satisfied: ipython<8.0,>=7.23.1 in /usr/local/lib/python3.7/dist-packages (from ipykernel>=5.1.2->pydeck>=0.1.dev5->streamlit->simpletransformers) (7.27.0)\n",
            "Requirement already satisfied: matplotlib-inline<0.2.0,>=0.1.0 in /usr/local/lib/python3.7/dist-packages (from ipykernel>=5.1.2->pydeck>=0.1.dev5->streamlit->simpletransformers) (0.1.2)\n",
            "Requirement already satisfied: argcomplete>=1.12.3 in /usr/local/lib/python3.7/dist-packages (from ipykernel>=5.1.2->pydeck>=0.1.dev5->streamlit->simpletransformers) (1.12.3)\n",
            "Requirement already satisfied: jedi>=0.16 in /usr/local/lib/python3.7/dist-packages (from ipython<8.0,>=7.23.1->ipykernel>=5.1.2->pydeck>=0.1.dev5->streamlit->simpletransformers) (0.18.0)\n",
            "Requirement already satisfied: pickleshare in /usr/local/lib/python3.7/dist-packages (from ipython<8.0,>=7.23.1->ipykernel>=5.1.2->pydeck>=0.1.dev5->streamlit->simpletransformers) (0.7.5)\n",
            "Requirement already satisfied: prompt-toolkit!=3.0.0,!=3.0.1,<3.1.0,>=2.0.0 in /usr/local/lib/python3.7/dist-packages (from ipython<8.0,>=7.23.1->ipykernel>=5.1.2->pydeck>=0.1.dev5->streamlit->simpletransformers) (3.0.20)\n",
            "Requirement already satisfied: pygments in /usr/local/lib/python3.7/dist-packages (from ipython<8.0,>=7.23.1->ipykernel>=5.1.2->pydeck>=0.1.dev5->streamlit->simpletransformers) (2.6.1)\n",
            "Requirement already satisfied: pexpect>4.3 in /usr/local/lib/python3.7/dist-packages (from ipython<8.0,>=7.23.1->ipykernel>=5.1.2->pydeck>=0.1.dev5->streamlit->simpletransformers) (4.8.0)\n",
            "Requirement already satisfied: backcall in /usr/local/lib/python3.7/dist-packages (from ipython<8.0,>=7.23.1->ipykernel>=5.1.2->pydeck>=0.1.dev5->streamlit->simpletransformers) (0.2.0)\n",
            "Requirement already satisfied: setuptools>=18.5 in /usr/local/lib/python3.7/dist-packages (from ipython<8.0,>=7.23.1->ipykernel>=5.1.2->pydeck>=0.1.dev5->streamlit->simpletransformers) (57.4.0)\n",
            "Requirement already satisfied: decorator in /usr/local/lib/python3.7/dist-packages (from ipython<8.0,>=7.23.1->ipykernel>=5.1.2->pydeck>=0.1.dev5->streamlit->simpletransformers) (4.4.2)\n",
            "Requirement already satisfied: widgetsnbextension~=3.5.0 in /usr/local/lib/python3.7/dist-packages (from ipywidgets>=7.0.0->pydeck>=0.1.dev5->streamlit->simpletransformers) (3.5.1)\n",
            "Requirement already satisfied: jupyterlab-widgets>=1.0.0 in /usr/local/lib/python3.7/dist-packages (from ipywidgets>=7.0.0->pydeck>=0.1.dev5->streamlit->simpletransformers) (1.0.0)\n",
            "Requirement already satisfied: nbformat>=4.2.0 in /usr/local/lib/python3.7/dist-packages (from ipywidgets>=7.0.0->pydeck>=0.1.dev5->streamlit->simpletransformers) (5.1.3)\n",
            "Requirement already satisfied: parso<0.9.0,>=0.8.0 in /usr/local/lib/python3.7/dist-packages (from jedi>=0.16->ipython<8.0,>=7.23.1->ipykernel>=5.1.2->pydeck>=0.1.dev5->streamlit->simpletransformers) (0.8.2)\n",
            "Requirement already satisfied: MarkupSafe>=0.23 in /usr/local/lib/python3.7/dist-packages (from jinja2->altair>=3.2.0->streamlit->simpletransformers) (2.0.1)\n",
            "Requirement already satisfied: jupyter-core>=4.6.0 in /usr/local/lib/python3.7/dist-packages (from jupyter-client<8.0->ipykernel>=5.1.2->pydeck>=0.1.dev5->streamlit->simpletransformers) (4.7.1)\n",
            "Requirement already satisfied: pyzmq>=13 in /usr/local/lib/python3.7/dist-packages (from jupyter-client<8.0->ipykernel>=5.1.2->pydeck>=0.1.dev5->streamlit->simpletransformers) (22.2.1)\n",
            "Requirement already satisfied: ptyprocess>=0.5 in /usr/local/lib/python3.7/dist-packages (from pexpect>4.3->ipython<8.0,>=7.23.1->ipykernel>=5.1.2->pydeck>=0.1.dev5->streamlit->simpletransformers) (0.7.0)\n",
            "Requirement already satisfied: wcwidth in /usr/local/lib/python3.7/dist-packages (from prompt-toolkit!=3.0.0,!=3.0.1,<3.1.0,>=2.0.0->ipython<8.0,>=7.23.1->ipykernel>=5.1.2->pydeck>=0.1.dev5->streamlit->simpletransformers) (0.2.5)\n",
            "Requirement already satisfied: notebook>=4.4.1 in /usr/local/lib/python3.7/dist-packages (from widgetsnbextension~=3.5.0->ipywidgets>=7.0.0->pydeck>=0.1.dev5->streamlit->simpletransformers) (5.3.1)\n",
            "Requirement already satisfied: Send2Trash in /usr/local/lib/python3.7/dist-packages (from notebook>=4.4.1->widgetsnbextension~=3.5.0->ipywidgets>=7.0.0->pydeck>=0.1.dev5->streamlit->simpletransformers) (1.8.0)\n",
            "Requirement already satisfied: nbconvert in /usr/local/lib/python3.7/dist-packages (from notebook>=4.4.1->widgetsnbextension~=3.5.0->ipywidgets>=7.0.0->pydeck>=0.1.dev5->streamlit->simpletransformers) (5.6.1)\n",
            "Requirement already satisfied: terminado>=0.8.1 in /usr/local/lib/python3.7/dist-packages (from notebook>=4.4.1->widgetsnbextension~=3.5.0->ipywidgets>=7.0.0->pydeck>=0.1.dev5->streamlit->simpletransformers) (0.11.0)\n",
            "Requirement already satisfied: testpath in /usr/local/lib/python3.7/dist-packages (from nbconvert->notebook>=4.4.1->widgetsnbextension~=3.5.0->ipywidgets>=7.0.0->pydeck>=0.1.dev5->streamlit->simpletransformers) (0.5.0)\n",
            "Requirement already satisfied: bleach in /usr/local/lib/python3.7/dist-packages (from nbconvert->notebook>=4.4.1->widgetsnbextension~=3.5.0->ipywidgets>=7.0.0->pydeck>=0.1.dev5->streamlit->simpletransformers) (4.0.0)\n",
            "Requirement already satisfied: defusedxml in /usr/local/lib/python3.7/dist-packages (from nbconvert->notebook>=4.4.1->widgetsnbextension~=3.5.0->ipywidgets>=7.0.0->pydeck>=0.1.dev5->streamlit->simpletransformers) (0.7.1)\n",
            "Requirement already satisfied: mistune<2,>=0.8.1 in /usr/local/lib/python3.7/dist-packages (from nbconvert->notebook>=4.4.1->widgetsnbextension~=3.5.0->ipywidgets>=7.0.0->pydeck>=0.1.dev5->streamlit->simpletransformers) (0.8.4)\n",
            "Requirement already satisfied: pandocfilters>=1.4.1 in /usr/local/lib/python3.7/dist-packages (from nbconvert->notebook>=4.4.1->widgetsnbextension~=3.5.0->ipywidgets>=7.0.0->pydeck>=0.1.dev5->streamlit->simpletransformers) (1.4.3)\n",
            "Requirement already satisfied: webencodings in /usr/local/lib/python3.7/dist-packages (from bleach->nbconvert->notebook>=4.4.1->widgetsnbextension~=3.5.0->ipywidgets>=7.0.0->pydeck>=0.1.dev5->streamlit->simpletransformers) (0.5.1)\n",
            "time: 3.32 s (started: 2021-09-06 20:25:36 +00:00)\n"
          ]
        }
      ]
    },
    {
      "cell_type": "code",
      "metadata": {
        "colab": {
          "base_uri": "https://localhost:8080/"
        },
        "id": "cmsw0k24Grxo",
        "outputId": "8d0cde01-b026-4d1d-f684-4a3fa3057713"
      },
      "source": [
        "import pandas as pd\n",
        "from sklearn.preprocessing import LabelEncoder\n",
        "from sklearn.model_selection import train_test_split\n",
        "from sklearn.metrics import accuracy_score\n",
        "import matplotlib.pyplot as plt\n",
        "import seaborn as sns\n",
        "import re\n",
        "from collections import Counter\n",
        "import numpy as np\n",
        "import itertools\n",
        "import numpy as np\n"
      ],
      "execution_count": 4,
      "outputs": [
        {
          "output_type": "stream",
          "name": "stdout",
          "text": [
            "time: 661 ms (started: 2021-09-06 20:25:40 +00:00)\n"
          ]
        }
      ]
    },
    {
      "cell_type": "code",
      "metadata": {
        "colab": {
          "base_uri": "https://localhost:8080/"
        },
        "id": "zExyt431G_gy",
        "outputId": "0a5925d2-0eae-4085-d2de-2324d0198556"
      },
      "source": [
        "from simpletransformers.ner import NERModel,NERArgs\n"
      ],
      "execution_count": 5,
      "outputs": [
        {
          "output_type": "stream",
          "name": "stdout",
          "text": [
            "time: 4.64 s (started: 2021-09-06 20:25:40 +00:00)\n"
          ]
        }
      ]
    },
    {
      "cell_type": "markdown",
      "metadata": {
        "id": "K-7E4whlHDOg"
      },
      "source": [
        "Load important libraries"
      ]
    },
    {
      "cell_type": "code",
      "metadata": {
        "colab": {
          "base_uri": "https://localhost:8080/"
        },
        "id": "swWZW2z0HHlB",
        "outputId": "ab915463-c5e8-4b4b-ac95-0bb15db0b24d"
      },
      "source": [
        "data = pd.read_csv(\"ner_dataset.csv\",encoding=\"latin1\" )"
      ],
      "execution_count": 6,
      "outputs": [
        {
          "output_type": "stream",
          "name": "stdout",
          "text": [
            "time: 432 ms (started: 2021-09-06 20:25:45 +00:00)\n"
          ]
        }
      ]
    },
    {
      "cell_type": "code",
      "metadata": {
        "colab": {
          "base_uri": "https://localhost:8080/",
          "height": 971
        },
        "id": "n6oaEi6kP_L_",
        "outputId": "df9635d9-4ff7-421e-ec92-2f7a98c08da5"
      },
      "source": [
        "data.head(30)"
      ],
      "execution_count": 7,
      "outputs": [
        {
          "output_type": "execute_result",
          "data": {
            "text/html": [
              "<div>\n",
              "<style scoped>\n",
              "    .dataframe tbody tr th:only-of-type {\n",
              "        vertical-align: middle;\n",
              "    }\n",
              "\n",
              "    .dataframe tbody tr th {\n",
              "        vertical-align: top;\n",
              "    }\n",
              "\n",
              "    .dataframe thead th {\n",
              "        text-align: right;\n",
              "    }\n",
              "</style>\n",
              "<table border=\"1\" class=\"dataframe\">\n",
              "  <thead>\n",
              "    <tr style=\"text-align: right;\">\n",
              "      <th></th>\n",
              "      <th>Sentence #</th>\n",
              "      <th>Word</th>\n",
              "      <th>POS</th>\n",
              "      <th>Tag</th>\n",
              "    </tr>\n",
              "  </thead>\n",
              "  <tbody>\n",
              "    <tr>\n",
              "      <th>0</th>\n",
              "      <td>Sentence: 1</td>\n",
              "      <td>Thousands</td>\n",
              "      <td>NNS</td>\n",
              "      <td>O</td>\n",
              "    </tr>\n",
              "    <tr>\n",
              "      <th>1</th>\n",
              "      <td>NaN</td>\n",
              "      <td>of</td>\n",
              "      <td>IN</td>\n",
              "      <td>O</td>\n",
              "    </tr>\n",
              "    <tr>\n",
              "      <th>2</th>\n",
              "      <td>NaN</td>\n",
              "      <td>demonstrators</td>\n",
              "      <td>NNS</td>\n",
              "      <td>O</td>\n",
              "    </tr>\n",
              "    <tr>\n",
              "      <th>3</th>\n",
              "      <td>NaN</td>\n",
              "      <td>have</td>\n",
              "      <td>VBP</td>\n",
              "      <td>O</td>\n",
              "    </tr>\n",
              "    <tr>\n",
              "      <th>4</th>\n",
              "      <td>NaN</td>\n",
              "      <td>marched</td>\n",
              "      <td>VBN</td>\n",
              "      <td>O</td>\n",
              "    </tr>\n",
              "    <tr>\n",
              "      <th>5</th>\n",
              "      <td>NaN</td>\n",
              "      <td>through</td>\n",
              "      <td>IN</td>\n",
              "      <td>O</td>\n",
              "    </tr>\n",
              "    <tr>\n",
              "      <th>6</th>\n",
              "      <td>NaN</td>\n",
              "      <td>London</td>\n",
              "      <td>NNP</td>\n",
              "      <td>B-geo</td>\n",
              "    </tr>\n",
              "    <tr>\n",
              "      <th>7</th>\n",
              "      <td>NaN</td>\n",
              "      <td>to</td>\n",
              "      <td>TO</td>\n",
              "      <td>O</td>\n",
              "    </tr>\n",
              "    <tr>\n",
              "      <th>8</th>\n",
              "      <td>NaN</td>\n",
              "      <td>protest</td>\n",
              "      <td>VB</td>\n",
              "      <td>O</td>\n",
              "    </tr>\n",
              "    <tr>\n",
              "      <th>9</th>\n",
              "      <td>NaN</td>\n",
              "      <td>the</td>\n",
              "      <td>DT</td>\n",
              "      <td>O</td>\n",
              "    </tr>\n",
              "    <tr>\n",
              "      <th>10</th>\n",
              "      <td>NaN</td>\n",
              "      <td>war</td>\n",
              "      <td>NN</td>\n",
              "      <td>O</td>\n",
              "    </tr>\n",
              "    <tr>\n",
              "      <th>11</th>\n",
              "      <td>NaN</td>\n",
              "      <td>in</td>\n",
              "      <td>IN</td>\n",
              "      <td>O</td>\n",
              "    </tr>\n",
              "    <tr>\n",
              "      <th>12</th>\n",
              "      <td>NaN</td>\n",
              "      <td>Iraq</td>\n",
              "      <td>NNP</td>\n",
              "      <td>B-geo</td>\n",
              "    </tr>\n",
              "    <tr>\n",
              "      <th>13</th>\n",
              "      <td>NaN</td>\n",
              "      <td>and</td>\n",
              "      <td>CC</td>\n",
              "      <td>O</td>\n",
              "    </tr>\n",
              "    <tr>\n",
              "      <th>14</th>\n",
              "      <td>NaN</td>\n",
              "      <td>demand</td>\n",
              "      <td>VB</td>\n",
              "      <td>O</td>\n",
              "    </tr>\n",
              "    <tr>\n",
              "      <th>15</th>\n",
              "      <td>NaN</td>\n",
              "      <td>the</td>\n",
              "      <td>DT</td>\n",
              "      <td>O</td>\n",
              "    </tr>\n",
              "    <tr>\n",
              "      <th>16</th>\n",
              "      <td>NaN</td>\n",
              "      <td>withdrawal</td>\n",
              "      <td>NN</td>\n",
              "      <td>O</td>\n",
              "    </tr>\n",
              "    <tr>\n",
              "      <th>17</th>\n",
              "      <td>NaN</td>\n",
              "      <td>of</td>\n",
              "      <td>IN</td>\n",
              "      <td>O</td>\n",
              "    </tr>\n",
              "    <tr>\n",
              "      <th>18</th>\n",
              "      <td>NaN</td>\n",
              "      <td>British</td>\n",
              "      <td>JJ</td>\n",
              "      <td>B-gpe</td>\n",
              "    </tr>\n",
              "    <tr>\n",
              "      <th>19</th>\n",
              "      <td>NaN</td>\n",
              "      <td>troops</td>\n",
              "      <td>NNS</td>\n",
              "      <td>O</td>\n",
              "    </tr>\n",
              "    <tr>\n",
              "      <th>20</th>\n",
              "      <td>NaN</td>\n",
              "      <td>from</td>\n",
              "      <td>IN</td>\n",
              "      <td>O</td>\n",
              "    </tr>\n",
              "    <tr>\n",
              "      <th>21</th>\n",
              "      <td>NaN</td>\n",
              "      <td>that</td>\n",
              "      <td>DT</td>\n",
              "      <td>O</td>\n",
              "    </tr>\n",
              "    <tr>\n",
              "      <th>22</th>\n",
              "      <td>NaN</td>\n",
              "      <td>country</td>\n",
              "      <td>NN</td>\n",
              "      <td>O</td>\n",
              "    </tr>\n",
              "    <tr>\n",
              "      <th>23</th>\n",
              "      <td>NaN</td>\n",
              "      <td>.</td>\n",
              "      <td>.</td>\n",
              "      <td>O</td>\n",
              "    </tr>\n",
              "    <tr>\n",
              "      <th>24</th>\n",
              "      <td>Sentence: 2</td>\n",
              "      <td>Families</td>\n",
              "      <td>NNS</td>\n",
              "      <td>O</td>\n",
              "    </tr>\n",
              "    <tr>\n",
              "      <th>25</th>\n",
              "      <td>NaN</td>\n",
              "      <td>of</td>\n",
              "      <td>IN</td>\n",
              "      <td>O</td>\n",
              "    </tr>\n",
              "    <tr>\n",
              "      <th>26</th>\n",
              "      <td>NaN</td>\n",
              "      <td>soldiers</td>\n",
              "      <td>NNS</td>\n",
              "      <td>O</td>\n",
              "    </tr>\n",
              "    <tr>\n",
              "      <th>27</th>\n",
              "      <td>NaN</td>\n",
              "      <td>killed</td>\n",
              "      <td>VBN</td>\n",
              "      <td>O</td>\n",
              "    </tr>\n",
              "    <tr>\n",
              "      <th>28</th>\n",
              "      <td>NaN</td>\n",
              "      <td>in</td>\n",
              "      <td>IN</td>\n",
              "      <td>O</td>\n",
              "    </tr>\n",
              "    <tr>\n",
              "      <th>29</th>\n",
              "      <td>NaN</td>\n",
              "      <td>the</td>\n",
              "      <td>DT</td>\n",
              "      <td>O</td>\n",
              "    </tr>\n",
              "  </tbody>\n",
              "</table>\n",
              "</div>"
            ],
            "text/plain": [
              "     Sentence #           Word  POS    Tag\n",
              "0   Sentence: 1      Thousands  NNS      O\n",
              "1           NaN             of   IN      O\n",
              "2           NaN  demonstrators  NNS      O\n",
              "3           NaN           have  VBP      O\n",
              "4           NaN        marched  VBN      O\n",
              "5           NaN        through   IN      O\n",
              "6           NaN         London  NNP  B-geo\n",
              "7           NaN             to   TO      O\n",
              "8           NaN        protest   VB      O\n",
              "9           NaN            the   DT      O\n",
              "10          NaN            war   NN      O\n",
              "11          NaN             in   IN      O\n",
              "12          NaN           Iraq  NNP  B-geo\n",
              "13          NaN            and   CC      O\n",
              "14          NaN         demand   VB      O\n",
              "15          NaN            the   DT      O\n",
              "16          NaN     withdrawal   NN      O\n",
              "17          NaN             of   IN      O\n",
              "18          NaN        British   JJ  B-gpe\n",
              "19          NaN         troops  NNS      O\n",
              "20          NaN           from   IN      O\n",
              "21          NaN           that   DT      O\n",
              "22          NaN        country   NN      O\n",
              "23          NaN              .    .      O\n",
              "24  Sentence: 2       Families  NNS      O\n",
              "25          NaN             of   IN      O\n",
              "26          NaN       soldiers  NNS      O\n",
              "27          NaN         killed  VBN      O\n",
              "28          NaN             in   IN      O\n",
              "29          NaN            the   DT      O"
            ]
          },
          "metadata": {},
          "execution_count": 7
        },
        {
          "output_type": "stream",
          "name": "stdout",
          "text": [
            "time: 29.3 ms (started: 2021-09-06 20:25:46 +00:00)\n"
          ]
        }
      ]
    },
    {
      "cell_type": "markdown",
      "metadata": {
        "id": "fRamk1PwzPxJ"
      },
      "source": [
        "We notice that there are many NaN values in ‘Sentence #” column, and we fill NaN by preceding values."
      ]
    },
    {
      "cell_type": "code",
      "metadata": {
        "colab": {
          "base_uri": "https://localhost:8080/"
        },
        "id": "4c9TC4ZHQDT9",
        "outputId": "4839a99d-2e76-43f4-c27d-c4491c7887c7"
      },
      "source": [
        "data =data.fillna(method =\"ffill\")"
      ],
      "execution_count": 8,
      "outputs": [
        {
          "output_type": "stream",
          "name": "stdout",
          "text": [
            "time: 162 ms (started: 2021-09-06 20:25:46 +00:00)\n"
          ]
        }
      ]
    },
    {
      "cell_type": "markdown",
      "metadata": {
        "id": "l4d-GfCgQoJB"
      },
      "source": [
        "method='ffill': Ffill or forward-fill propagates the last observed non-null value forward until another non-null value is encountered"
      ]
    },
    {
      "cell_type": "code",
      "metadata": {
        "colab": {
          "base_uri": "https://localhost:8080/"
        },
        "id": "k62VwaZSx-m9",
        "outputId": "304e8bc0-fb87-4e8d-a835-7e5be3fa502c"
      },
      "source": [
        "data['Sentence #'].nunique(), data.Word.nunique(), data.Tag.nunique()\n"
      ],
      "execution_count": 9,
      "outputs": [
        {
          "output_type": "execute_result",
          "data": {
            "text/plain": [
              "(47959, 35178, 17)"
            ]
          },
          "metadata": {},
          "execution_count": 9
        },
        {
          "output_type": "stream",
          "name": "stdout",
          "text": [
            "time: 175 ms (started: 2021-09-06 20:25:46 +00:00)\n"
          ]
        }
      ]
    },
    {
      "cell_type": "markdown",
      "metadata": {
        "id": "1yQf70b6zMDZ"
      },
      "source": [
        "There are 47959 sentences that contain 35178 unique words and tagged by 17 tags.\n",
        "The tags are not evenly distributed."
      ]
    },
    {
      "cell_type": "code",
      "metadata": {
        "colab": {
          "base_uri": "https://localhost:8080/",
          "height": 578
        },
        "id": "J5D6xzh7yPSl",
        "outputId": "bb8e663e-1400-414f-c9d7-60fba095def2"
      },
      "source": [
        "data.groupby('Tag').size().reset_index(name='counts')\n"
      ],
      "execution_count": 10,
      "outputs": [
        {
          "output_type": "execute_result",
          "data": {
            "text/html": [
              "<div>\n",
              "<style scoped>\n",
              "    .dataframe tbody tr th:only-of-type {\n",
              "        vertical-align: middle;\n",
              "    }\n",
              "\n",
              "    .dataframe tbody tr th {\n",
              "        vertical-align: top;\n",
              "    }\n",
              "\n",
              "    .dataframe thead th {\n",
              "        text-align: right;\n",
              "    }\n",
              "</style>\n",
              "<table border=\"1\" class=\"dataframe\">\n",
              "  <thead>\n",
              "    <tr style=\"text-align: right;\">\n",
              "      <th></th>\n",
              "      <th>Tag</th>\n",
              "      <th>counts</th>\n",
              "    </tr>\n",
              "  </thead>\n",
              "  <tbody>\n",
              "    <tr>\n",
              "      <th>0</th>\n",
              "      <td>B-art</td>\n",
              "      <td>402</td>\n",
              "    </tr>\n",
              "    <tr>\n",
              "      <th>1</th>\n",
              "      <td>B-eve</td>\n",
              "      <td>308</td>\n",
              "    </tr>\n",
              "    <tr>\n",
              "      <th>2</th>\n",
              "      <td>B-geo</td>\n",
              "      <td>37644</td>\n",
              "    </tr>\n",
              "    <tr>\n",
              "      <th>3</th>\n",
              "      <td>B-gpe</td>\n",
              "      <td>15870</td>\n",
              "    </tr>\n",
              "    <tr>\n",
              "      <th>4</th>\n",
              "      <td>B-nat</td>\n",
              "      <td>201</td>\n",
              "    </tr>\n",
              "    <tr>\n",
              "      <th>5</th>\n",
              "      <td>B-org</td>\n",
              "      <td>20143</td>\n",
              "    </tr>\n",
              "    <tr>\n",
              "      <th>6</th>\n",
              "      <td>B-per</td>\n",
              "      <td>16990</td>\n",
              "    </tr>\n",
              "    <tr>\n",
              "      <th>7</th>\n",
              "      <td>B-tim</td>\n",
              "      <td>20333</td>\n",
              "    </tr>\n",
              "    <tr>\n",
              "      <th>8</th>\n",
              "      <td>I-art</td>\n",
              "      <td>297</td>\n",
              "    </tr>\n",
              "    <tr>\n",
              "      <th>9</th>\n",
              "      <td>I-eve</td>\n",
              "      <td>253</td>\n",
              "    </tr>\n",
              "    <tr>\n",
              "      <th>10</th>\n",
              "      <td>I-geo</td>\n",
              "      <td>7414</td>\n",
              "    </tr>\n",
              "    <tr>\n",
              "      <th>11</th>\n",
              "      <td>I-gpe</td>\n",
              "      <td>198</td>\n",
              "    </tr>\n",
              "    <tr>\n",
              "      <th>12</th>\n",
              "      <td>I-nat</td>\n",
              "      <td>51</td>\n",
              "    </tr>\n",
              "    <tr>\n",
              "      <th>13</th>\n",
              "      <td>I-org</td>\n",
              "      <td>16784</td>\n",
              "    </tr>\n",
              "    <tr>\n",
              "      <th>14</th>\n",
              "      <td>I-per</td>\n",
              "      <td>17251</td>\n",
              "    </tr>\n",
              "    <tr>\n",
              "      <th>15</th>\n",
              "      <td>I-tim</td>\n",
              "      <td>6528</td>\n",
              "    </tr>\n",
              "    <tr>\n",
              "      <th>16</th>\n",
              "      <td>O</td>\n",
              "      <td>887908</td>\n",
              "    </tr>\n",
              "  </tbody>\n",
              "</table>\n",
              "</div>"
            ],
            "text/plain": [
              "      Tag  counts\n",
              "0   B-art     402\n",
              "1   B-eve     308\n",
              "2   B-geo   37644\n",
              "3   B-gpe   15870\n",
              "4   B-nat     201\n",
              "5   B-org   20143\n",
              "6   B-per   16990\n",
              "7   B-tim   20333\n",
              "8   I-art     297\n",
              "9   I-eve     253\n",
              "10  I-geo    7414\n",
              "11  I-gpe     198\n",
              "12  I-nat      51\n",
              "13  I-org   16784\n",
              "14  I-per   17251\n",
              "15  I-tim    6528\n",
              "16      O  887908"
            ]
          },
          "metadata": {},
          "execution_count": 10
        },
        {
          "output_type": "stream",
          "name": "stdout",
          "text": [
            "time: 77.2 ms (started: 2021-09-06 20:25:46 +00:00)\n"
          ]
        }
      ]
    },
    {
      "cell_type": "code",
      "metadata": {
        "colab": {
          "base_uri": "https://localhost:8080/",
          "height": 971
        },
        "id": "Cltv2gunQpPD",
        "outputId": "33f07cdd-4198-4c45-eb43-c71bf6ea1ffb"
      },
      "source": [
        "data.head(30)"
      ],
      "execution_count": 11,
      "outputs": [
        {
          "output_type": "execute_result",
          "data": {
            "text/html": [
              "<div>\n",
              "<style scoped>\n",
              "    .dataframe tbody tr th:only-of-type {\n",
              "        vertical-align: middle;\n",
              "    }\n",
              "\n",
              "    .dataframe tbody tr th {\n",
              "        vertical-align: top;\n",
              "    }\n",
              "\n",
              "    .dataframe thead th {\n",
              "        text-align: right;\n",
              "    }\n",
              "</style>\n",
              "<table border=\"1\" class=\"dataframe\">\n",
              "  <thead>\n",
              "    <tr style=\"text-align: right;\">\n",
              "      <th></th>\n",
              "      <th>Sentence #</th>\n",
              "      <th>Word</th>\n",
              "      <th>POS</th>\n",
              "      <th>Tag</th>\n",
              "    </tr>\n",
              "  </thead>\n",
              "  <tbody>\n",
              "    <tr>\n",
              "      <th>0</th>\n",
              "      <td>Sentence: 1</td>\n",
              "      <td>Thousands</td>\n",
              "      <td>NNS</td>\n",
              "      <td>O</td>\n",
              "    </tr>\n",
              "    <tr>\n",
              "      <th>1</th>\n",
              "      <td>Sentence: 1</td>\n",
              "      <td>of</td>\n",
              "      <td>IN</td>\n",
              "      <td>O</td>\n",
              "    </tr>\n",
              "    <tr>\n",
              "      <th>2</th>\n",
              "      <td>Sentence: 1</td>\n",
              "      <td>demonstrators</td>\n",
              "      <td>NNS</td>\n",
              "      <td>O</td>\n",
              "    </tr>\n",
              "    <tr>\n",
              "      <th>3</th>\n",
              "      <td>Sentence: 1</td>\n",
              "      <td>have</td>\n",
              "      <td>VBP</td>\n",
              "      <td>O</td>\n",
              "    </tr>\n",
              "    <tr>\n",
              "      <th>4</th>\n",
              "      <td>Sentence: 1</td>\n",
              "      <td>marched</td>\n",
              "      <td>VBN</td>\n",
              "      <td>O</td>\n",
              "    </tr>\n",
              "    <tr>\n",
              "      <th>5</th>\n",
              "      <td>Sentence: 1</td>\n",
              "      <td>through</td>\n",
              "      <td>IN</td>\n",
              "      <td>O</td>\n",
              "    </tr>\n",
              "    <tr>\n",
              "      <th>6</th>\n",
              "      <td>Sentence: 1</td>\n",
              "      <td>London</td>\n",
              "      <td>NNP</td>\n",
              "      <td>B-geo</td>\n",
              "    </tr>\n",
              "    <tr>\n",
              "      <th>7</th>\n",
              "      <td>Sentence: 1</td>\n",
              "      <td>to</td>\n",
              "      <td>TO</td>\n",
              "      <td>O</td>\n",
              "    </tr>\n",
              "    <tr>\n",
              "      <th>8</th>\n",
              "      <td>Sentence: 1</td>\n",
              "      <td>protest</td>\n",
              "      <td>VB</td>\n",
              "      <td>O</td>\n",
              "    </tr>\n",
              "    <tr>\n",
              "      <th>9</th>\n",
              "      <td>Sentence: 1</td>\n",
              "      <td>the</td>\n",
              "      <td>DT</td>\n",
              "      <td>O</td>\n",
              "    </tr>\n",
              "    <tr>\n",
              "      <th>10</th>\n",
              "      <td>Sentence: 1</td>\n",
              "      <td>war</td>\n",
              "      <td>NN</td>\n",
              "      <td>O</td>\n",
              "    </tr>\n",
              "    <tr>\n",
              "      <th>11</th>\n",
              "      <td>Sentence: 1</td>\n",
              "      <td>in</td>\n",
              "      <td>IN</td>\n",
              "      <td>O</td>\n",
              "    </tr>\n",
              "    <tr>\n",
              "      <th>12</th>\n",
              "      <td>Sentence: 1</td>\n",
              "      <td>Iraq</td>\n",
              "      <td>NNP</td>\n",
              "      <td>B-geo</td>\n",
              "    </tr>\n",
              "    <tr>\n",
              "      <th>13</th>\n",
              "      <td>Sentence: 1</td>\n",
              "      <td>and</td>\n",
              "      <td>CC</td>\n",
              "      <td>O</td>\n",
              "    </tr>\n",
              "    <tr>\n",
              "      <th>14</th>\n",
              "      <td>Sentence: 1</td>\n",
              "      <td>demand</td>\n",
              "      <td>VB</td>\n",
              "      <td>O</td>\n",
              "    </tr>\n",
              "    <tr>\n",
              "      <th>15</th>\n",
              "      <td>Sentence: 1</td>\n",
              "      <td>the</td>\n",
              "      <td>DT</td>\n",
              "      <td>O</td>\n",
              "    </tr>\n",
              "    <tr>\n",
              "      <th>16</th>\n",
              "      <td>Sentence: 1</td>\n",
              "      <td>withdrawal</td>\n",
              "      <td>NN</td>\n",
              "      <td>O</td>\n",
              "    </tr>\n",
              "    <tr>\n",
              "      <th>17</th>\n",
              "      <td>Sentence: 1</td>\n",
              "      <td>of</td>\n",
              "      <td>IN</td>\n",
              "      <td>O</td>\n",
              "    </tr>\n",
              "    <tr>\n",
              "      <th>18</th>\n",
              "      <td>Sentence: 1</td>\n",
              "      <td>British</td>\n",
              "      <td>JJ</td>\n",
              "      <td>B-gpe</td>\n",
              "    </tr>\n",
              "    <tr>\n",
              "      <th>19</th>\n",
              "      <td>Sentence: 1</td>\n",
              "      <td>troops</td>\n",
              "      <td>NNS</td>\n",
              "      <td>O</td>\n",
              "    </tr>\n",
              "    <tr>\n",
              "      <th>20</th>\n",
              "      <td>Sentence: 1</td>\n",
              "      <td>from</td>\n",
              "      <td>IN</td>\n",
              "      <td>O</td>\n",
              "    </tr>\n",
              "    <tr>\n",
              "      <th>21</th>\n",
              "      <td>Sentence: 1</td>\n",
              "      <td>that</td>\n",
              "      <td>DT</td>\n",
              "      <td>O</td>\n",
              "    </tr>\n",
              "    <tr>\n",
              "      <th>22</th>\n",
              "      <td>Sentence: 1</td>\n",
              "      <td>country</td>\n",
              "      <td>NN</td>\n",
              "      <td>O</td>\n",
              "    </tr>\n",
              "    <tr>\n",
              "      <th>23</th>\n",
              "      <td>Sentence: 1</td>\n",
              "      <td>.</td>\n",
              "      <td>.</td>\n",
              "      <td>O</td>\n",
              "    </tr>\n",
              "    <tr>\n",
              "      <th>24</th>\n",
              "      <td>Sentence: 2</td>\n",
              "      <td>Families</td>\n",
              "      <td>NNS</td>\n",
              "      <td>O</td>\n",
              "    </tr>\n",
              "    <tr>\n",
              "      <th>25</th>\n",
              "      <td>Sentence: 2</td>\n",
              "      <td>of</td>\n",
              "      <td>IN</td>\n",
              "      <td>O</td>\n",
              "    </tr>\n",
              "    <tr>\n",
              "      <th>26</th>\n",
              "      <td>Sentence: 2</td>\n",
              "      <td>soldiers</td>\n",
              "      <td>NNS</td>\n",
              "      <td>O</td>\n",
              "    </tr>\n",
              "    <tr>\n",
              "      <th>27</th>\n",
              "      <td>Sentence: 2</td>\n",
              "      <td>killed</td>\n",
              "      <td>VBN</td>\n",
              "      <td>O</td>\n",
              "    </tr>\n",
              "    <tr>\n",
              "      <th>28</th>\n",
              "      <td>Sentence: 2</td>\n",
              "      <td>in</td>\n",
              "      <td>IN</td>\n",
              "      <td>O</td>\n",
              "    </tr>\n",
              "    <tr>\n",
              "      <th>29</th>\n",
              "      <td>Sentence: 2</td>\n",
              "      <td>the</td>\n",
              "      <td>DT</td>\n",
              "      <td>O</td>\n",
              "    </tr>\n",
              "  </tbody>\n",
              "</table>\n",
              "</div>"
            ],
            "text/plain": [
              "     Sentence #           Word  POS    Tag\n",
              "0   Sentence: 1      Thousands  NNS      O\n",
              "1   Sentence: 1             of   IN      O\n",
              "2   Sentence: 1  demonstrators  NNS      O\n",
              "3   Sentence: 1           have  VBP      O\n",
              "4   Sentence: 1        marched  VBN      O\n",
              "5   Sentence: 1        through   IN      O\n",
              "6   Sentence: 1         London  NNP  B-geo\n",
              "7   Sentence: 1             to   TO      O\n",
              "8   Sentence: 1        protest   VB      O\n",
              "9   Sentence: 1            the   DT      O\n",
              "10  Sentence: 1            war   NN      O\n",
              "11  Sentence: 1             in   IN      O\n",
              "12  Sentence: 1           Iraq  NNP  B-geo\n",
              "13  Sentence: 1            and   CC      O\n",
              "14  Sentence: 1         demand   VB      O\n",
              "15  Sentence: 1            the   DT      O\n",
              "16  Sentence: 1     withdrawal   NN      O\n",
              "17  Sentence: 1             of   IN      O\n",
              "18  Sentence: 1        British   JJ  B-gpe\n",
              "19  Sentence: 1         troops  NNS      O\n",
              "20  Sentence: 1           from   IN      O\n",
              "21  Sentence: 1           that   DT      O\n",
              "22  Sentence: 1        country   NN      O\n",
              "23  Sentence: 1              .    .      O\n",
              "24  Sentence: 2       Families  NNS      O\n",
              "25  Sentence: 2             of   IN      O\n",
              "26  Sentence: 2       soldiers  NNS      O\n",
              "27  Sentence: 2         killed  VBN      O\n",
              "28  Sentence: 2             in   IN      O\n",
              "29  Sentence: 2            the   DT      O"
            ]
          },
          "metadata": {},
          "execution_count": 11
        },
        {
          "output_type": "stream",
          "name": "stdout",
          "text": [
            "time: 18.6 ms (started: 2021-09-06 20:25:46 +00:00)\n"
          ]
        }
      ]
    },
    {
      "cell_type": "code",
      "metadata": {
        "colab": {
          "base_uri": "https://localhost:8080/"
        },
        "id": "NI_1agKGtQ1r",
        "outputId": "dc6771cc-9599-4d63-a0ce-e64fd0ee2980"
      },
      "source": [
        "data.shape\n"
      ],
      "execution_count": 12,
      "outputs": [
        {
          "output_type": "execute_result",
          "data": {
            "text/plain": [
              "(1048575, 4)"
            ]
          },
          "metadata": {},
          "execution_count": 12
        },
        {
          "output_type": "stream",
          "name": "stdout",
          "text": [
            "time: 2.72 ms (started: 2021-09-06 20:25:46 +00:00)\n"
          ]
        }
      ]
    },
    {
      "cell_type": "code",
      "metadata": {
        "colab": {
          "base_uri": "https://localhost:8080/"
        },
        "id": "DfpNhhIztWvE",
        "outputId": "609eccdf-8470-4efe-d93f-335563315cfd"
      },
      "source": [
        "words = list(set(data[\"Word\"].values))\n",
        "n_words = len(words)\n",
        "print(\"Number of words in the dataset: \", n_words)\n",
        "maxlen = max([len(s) for s in set(data[\"Word\"].values)])\n",
        "print ('Maximum sentence length:', maxlen)"
      ],
      "execution_count": 13,
      "outputs": [
        {
          "output_type": "stream",
          "name": "stdout",
          "text": [
            "Number of words in the dataset:  35178\n",
            "Maximum sentence length: 64\n",
            "time: 129 ms (started: 2021-09-06 20:25:46 +00:00)\n"
          ]
        }
      ]
    },
    {
      "cell_type": "code",
      "metadata": {
        "colab": {
          "base_uri": "https://localhost:8080/"
        },
        "id": "E_QW2AK7tqQm",
        "outputId": "8cfa138c-832e-45ec-944d-5e2763e3d192"
      },
      "source": [
        "sns.set(color_codes=True)\n",
        "sns.set(font_scale=1)"
      ],
      "execution_count": 14,
      "outputs": [
        {
          "output_type": "stream",
          "name": "stdout",
          "text": [
            "time: 2.87 ms (started: 2021-09-06 20:25:46 +00:00)\n"
          ]
        }
      ]
    },
    {
      "cell_type": "code",
      "metadata": {
        "colab": {
          "base_uri": "https://localhost:8080/",
          "height": 283
        },
        "id": "7TTqsPnCtrQY",
        "outputId": "8207531f-e9cd-4c3b-f781-fed7f35e7637"
      },
      "source": [
        "plt.style.use(\"ggplot\")\n",
        "plt.hist([len(s) for s in set(data[\"Word\"].values)], bins=50)\n",
        "plt.show()"
      ],
      "execution_count": 15,
      "outputs": [
        {
          "output_type": "display_data",
          "data": {
            "image/png": "[encoded data removed]",
            "text/plain": [
              "<Figure size 432x288 with 1 Axes>"
            ]
          },
          "metadata": {}
        },
        {
          "output_type": "stream",
          "name": "stdout",
          "text": [
            "time: 360 ms (started: 2021-09-06 20:25:46 +00:00)\n"
          ]
        }
      ]
    },
    {
      "cell_type": "code",
      "metadata": {
        "colab": {
          "base_uri": "https://localhost:8080/"
        },
        "id": "t8fYkw4muyeB",
        "outputId": "0832d52a-dd3b-4211-abff-4c64936b67f0"
      },
      "source": [
        "data.loc[data['Tag'] == 'B-org', 'Word'].head()"
      ],
      "execution_count": 16,
      "outputs": [
        {
          "output_type": "execute_result",
          "data": {
            "text/plain": [
              "97             Labor\n",
              "154    International\n",
              "215             IAEA\n",
              "234         European\n",
              "248             U.N.\n",
              "Name: Word, dtype: object"
            ]
          },
          "metadata": {},
          "execution_count": 16
        },
        {
          "output_type": "stream",
          "name": "stdout",
          "text": [
            "time: 68.6 ms (started: 2021-09-06 20:25:47 +00:00)\n"
          ]
        }
      ]
    },
    {
      "cell_type": "code",
      "metadata": {
        "colab": {
          "base_uri": "https://localhost:8080/"
        },
        "id": "3haVBrcRu5lF",
        "outputId": "8e8fb77a-4dce-4190-b86c-ffeedf27fc80"
      },
      "source": [
        "data.loc[data['Tag'] == 'B-per', 'Word'].head()"
      ],
      "execution_count": 17,
      "outputs": [
        {
          "output_type": "execute_result",
          "data": {
            "text/plain": [
              "42          Bush\n",
              "270    President\n",
              "331       Thomas\n",
              "443    President\n",
              "965      Prophet\n",
              "Name: Word, dtype: object"
            ]
          },
          "metadata": {},
          "execution_count": 17
        },
        {
          "output_type": "stream",
          "name": "stdout",
          "text": [
            "time: 66 ms (started: 2021-09-06 20:25:47 +00:00)\n"
          ]
        }
      ]
    },
    {
      "cell_type": "code",
      "metadata": {
        "colab": {
          "base_uri": "https://localhost:8080/",
          "height": 437
        },
        "id": "_-eFrVTfvAZ-",
        "outputId": "0276fa51-87cb-4e4d-fa5e-0f4e82900686"
      },
      "source": [
        "plt.figure(figsize=(15, 5))\n",
        "ax = sns.countplot('Tag', data=data)\n",
        "ax.set_xticklabels(ax.get_xticklabels(), rotation=90, ha=\"center\")\n",
        "plt.tight_layout()\n",
        "plt.show()"
      ],
      "execution_count": 18,
      "outputs": [
        {
          "output_type": "stream",
          "name": "stderr",
          "text": [
            "/usr/local/lib/python3.7/dist-packages/seaborn/_decorators.py:43: FutureWarning: Pass the following variable as a keyword arg: x. From version 0.12, the only valid positional argument will be `data`, and passing other arguments without an explicit keyword will result in an error or misinterpretation.\n",
            "  FutureWarning\n"
          ]
        },
        {
          "output_type": "display_data",
          "data": {
            "image/png": "[encoded data removed]",
            "text/plain": [
              "<Figure size 1080x360 with 1 Axes>"
            ]
          },
          "metadata": {}
        },
        {
          "output_type": "stream",
          "name": "stdout",
          "text": [
            "time: 834 ms (started: 2021-09-06 20:25:47 +00:00)\n"
          ]
        }
      ]
    },
    {
      "cell_type": "markdown",
      "metadata": {
        "id": "9ck2zrf5WMxj"
      },
      "source": [
        "These words can be considered as fillers and their presence might impact the classifier performance as well."
      ]
    },
    {
      "cell_type": "code",
      "metadata": {
        "colab": {
          "base_uri": "https://localhost:8080/",
          "height": 437
        },
        "id": "nS6hIde_vTxh",
        "outputId": "1d0a7dc0-865a-4d89-b974-c2a3d7586a33"
      },
      "source": [
        "plt.figure(figsize=(15, 5))\n",
        "ax = sns.countplot('Tag', data=data.loc[data['Tag'] != 'O'])\n",
        "ax.set_xticklabels(ax.get_xticklabels(), rotation=90, ha=\"center\")\n",
        "plt.tight_layout()\n",
        "plt.show()"
      ],
      "execution_count": 19,
      "outputs": [
        {
          "output_type": "stream",
          "name": "stderr",
          "text": [
            "/usr/local/lib/python3.7/dist-packages/seaborn/_decorators.py:43: FutureWarning: Pass the following variable as a keyword arg: x. From version 0.12, the only valid positional argument will be `data`, and passing other arguments without an explicit keyword will result in an error or misinterpretation.\n",
            "  FutureWarning\n"
          ]
        },
        {
          "output_type": "display_data",
          "data": {
            "image/png": "[encoded data removed]",
            "text/plain": [
              "<Figure size 1080x360 with 1 Axes>"
            ]
          },
          "metadata": {}
        },
        {
          "output_type": "stream",
          "name": "stdout",
          "text": [
            "time: 527 ms (started: 2021-09-06 20:25:48 +00:00)\n"
          ]
        }
      ]
    },
    {
      "cell_type": "markdown",
      "metadata": {
        "id": "-BE7dq1eWHNm"
      },
      "source": [
        "So our dataset mostly contains words related to geographical locations, geopolitical entities and person names.\n",
        "\n"
      ]
    },
    {
      "cell_type": "code",
      "metadata": {
        "colab": {
          "base_uri": "https://localhost:8080/"
        },
        "id": "ak938lrxQujo",
        "outputId": "7d0d6b44-e469-4803-b2b1-47fdd7fa8422"
      },
      "source": [
        "data[\"Sentence #\"] = LabelEncoder().fit_transform(data[\"Sentence #\"] )\n"
      ],
      "execution_count": 20,
      "outputs": [
        {
          "output_type": "stream",
          "name": "stdout",
          "text": [
            "time: 221 ms (started: 2021-09-06 20:25:48 +00:00)\n"
          ]
        }
      ]
    },
    {
      "cell_type": "markdown",
      "metadata": {
        "id": "hI6047SUTjmk"
      },
      "source": [
        "Fit label encoder and return encoded labels.\n",
        "\n"
      ]
    },
    {
      "cell_type": "code",
      "metadata": {
        "colab": {
          "base_uri": "https://localhost:8080/"
        },
        "id": "JerQKXovTH0r",
        "outputId": "c39502bf-6e11-4957-e389-fb63fcbf0ddc"
      },
      "source": [
        "data.rename(columns={\"Sentence #\":\"sentence_id\",\"Word\":\"words\",\"Tag\":\"labels\"}, inplace =True)\n"
      ],
      "execution_count": 21,
      "outputs": [
        {
          "output_type": "stream",
          "name": "stdout",
          "text": [
            "time: 1.01 ms (started: 2021-09-06 20:25:48 +00:00)\n"
          ]
        }
      ]
    },
    {
      "cell_type": "code",
      "metadata": {
        "colab": {
          "base_uri": "https://localhost:8080/"
        },
        "id": "ZlfSI3b6qO2G",
        "outputId": "9a06f901-a318-4485-a283-db6d17373aaf"
      },
      "source": [
        "data[\"labels\"] = data[\"labels\"].str.upper()"
      ],
      "execution_count": 22,
      "outputs": [
        {
          "output_type": "stream",
          "name": "stdout",
          "text": [
            "time: 321 ms (started: 2021-09-06 20:25:48 +00:00)\n"
          ]
        }
      ]
    },
    {
      "cell_type": "code",
      "metadata": {
        "colab": {
          "base_uri": "https://localhost:8080/"
        },
        "id": "BKnglr1gqRzz",
        "outputId": "ae3301d7-d09e-4950-e051-c391434cfe57"
      },
      "source": [
        "X= data[[\"sentence_id\",\"words\"]]\n",
        "Y =data[\"labels\"]"
      ],
      "execution_count": 23,
      "outputs": [
        {
          "output_type": "stream",
          "name": "stdout",
          "text": [
            "time: 15.4 ms (started: 2021-09-06 20:25:49 +00:00)\n"
          ]
        }
      ]
    },
    {
      "cell_type": "code",
      "metadata": {
        "colab": {
          "base_uri": "https://localhost:8080/"
        },
        "id": "5RBRIutBSAw3",
        "outputId": "d29caf70-9ea7-42e8-93fb-c75b5bc3bd24"
      },
      "source": [
        "print(X)"
      ],
      "execution_count": 24,
      "outputs": [
        {
          "output_type": "stream",
          "name": "stdout",
          "text": [
            "         sentence_id          words\n",
            "0                  0      Thousands\n",
            "1                  0             of\n",
            "2                  0  demonstrators\n",
            "3                  0           have\n",
            "4                  0        marched\n",
            "...              ...            ...\n",
            "1048570        42177           they\n",
            "1048571        42177      responded\n",
            "1048572        42177             to\n",
            "1048573        42177            the\n",
            "1048574        42177         attack\n",
            "\n",
            "[1048575 rows x 2 columns]\n",
            "time: 9.09 ms (started: 2021-09-06 20:25:49 +00:00)\n"
          ]
        }
      ]
    },
    {
      "cell_type": "code",
      "metadata": {
        "colab": {
          "base_uri": "https://localhost:8080/"
        },
        "id": "cbT0HRUJYzb6",
        "outputId": "c6532799-38ff-4c1d-8cf7-dbc3b5210d99"
      },
      "source": [
        "x_train, x_test, y_train, y_test = train_test_split(X,Y, test_size =0.2)\n"
      ],
      "execution_count": 25,
      "outputs": [
        {
          "output_type": "stream",
          "name": "stdout",
          "text": [
            "time: 213 ms (started: 2021-09-06 20:25:49 +00:00)\n"
          ]
        }
      ]
    },
    {
      "cell_type": "code",
      "metadata": {
        "colab": {
          "base_uri": "https://localhost:8080/"
        },
        "id": "dEBaz9a9oZBK",
        "outputId": "5943ef1c-f433-4530-d0a0-e205d6d6a793"
      },
      "source": [
        "train_data = pd.DataFrame({\"sentence_id\":x_train[\"sentence_id\"],\"words\":x_train[\"words\"],\"labels\":y_train})\n",
        "test_data = pd.DataFrame({\"sentence_id\":x_test[\"sentence_id\"],\"words\":x_test[\"words\"],\"labels\":y_test})"
      ],
      "execution_count": 26,
      "outputs": [
        {
          "output_type": "stream",
          "name": "stdout",
          "text": [
            "time: 56.7 ms (started: 2021-09-06 20:25:49 +00:00)\n"
          ]
        }
      ]
    },
    {
      "cell_type": "code",
      "metadata": {
        "colab": {
          "base_uri": "https://localhost:8080/",
          "height": 425
        },
        "id": "UWO5EOmyoe2N",
        "outputId": "d161cae3-05d7-4c70-c590-23ebd0cbf7e3"
      },
      "source": [
        "train_data\n"
      ],
      "execution_count": 27,
      "outputs": [
        {
          "output_type": "execute_result",
          "data": {
            "text/html": [
              "<div>\n",
              "<style scoped>\n",
              "    .dataframe tbody tr th:only-of-type {\n",
              "        vertical-align: middle;\n",
              "    }\n",
              "\n",
              "    .dataframe tbody tr th {\n",
              "        vertical-align: top;\n",
              "    }\n",
              "\n",
              "    .dataframe thead th {\n",
              "        text-align: right;\n",
              "    }\n",
              "</style>\n",
              "<table border=\"1\" class=\"dataframe\">\n",
              "  <thead>\n",
              "    <tr style=\"text-align: right;\">\n",
              "      <th></th>\n",
              "      <th>sentence_id</th>\n",
              "      <th>words</th>\n",
              "      <th>labels</th>\n",
              "    </tr>\n",
              "  </thead>\n",
              "  <tbody>\n",
              "    <tr>\n",
              "      <th>395854</th>\n",
              "      <td>8991</td>\n",
              "      <td>,</td>\n",
              "      <td>O</td>\n",
              "    </tr>\n",
              "    <tr>\n",
              "      <th>421280</th>\n",
              "      <td>10265</td>\n",
              "      <td>militants</td>\n",
              "      <td>O</td>\n",
              "    </tr>\n",
              "    <tr>\n",
              "      <th>986016</th>\n",
              "      <td>38981</td>\n",
              "      <td>capital</td>\n",
              "      <td>O</td>\n",
              "    </tr>\n",
              "    <tr>\n",
              "      <th>212993</th>\n",
              "      <td>47698</td>\n",
              "      <td>to</td>\n",
              "      <td>O</td>\n",
              "    </tr>\n",
              "    <tr>\n",
              "      <th>228394</th>\n",
              "      <td>504</td>\n",
              "      <td>all</td>\n",
              "      <td>O</td>\n",
              "    </tr>\n",
              "    <tr>\n",
              "      <th>...</th>\n",
              "      <td>...</td>\n",
              "      <td>...</td>\n",
              "      <td>...</td>\n",
              "    </tr>\n",
              "    <tr>\n",
              "      <th>148356</th>\n",
              "      <td>44357</td>\n",
              "      <td>'s</td>\n",
              "      <td>O</td>\n",
              "    </tr>\n",
              "    <tr>\n",
              "      <th>1003592</th>\n",
              "      <td>39883</td>\n",
              "      <td>first</td>\n",
              "      <td>O</td>\n",
              "    </tr>\n",
              "    <tr>\n",
              "      <th>316392</th>\n",
              "      <td>4980</td>\n",
              "      <td>aid</td>\n",
              "      <td>O</td>\n",
              "    </tr>\n",
              "    <tr>\n",
              "      <th>102963</th>\n",
              "      <td>40901</td>\n",
              "      <td>.</td>\n",
              "      <td>O</td>\n",
              "    </tr>\n",
              "    <tr>\n",
              "      <th>669500</th>\n",
              "      <td>22877</td>\n",
              "      <td>,</td>\n",
              "      <td>O</td>\n",
              "    </tr>\n",
              "  </tbody>\n",
              "</table>\n",
              "<p>838860 rows × 3 columns</p>\n",
              "</div>"
            ],
            "text/plain": [
              "         sentence_id      words labels\n",
              "395854          8991          ,      O\n",
              "421280         10265  militants      O\n",
              "986016         38981    capital      O\n",
              "212993         47698         to      O\n",
              "228394           504        all      O\n",
              "...              ...        ...    ...\n",
              "148356         44357         's      O\n",
              "1003592        39883      first      O\n",
              "316392          4980        aid      O\n",
              "102963         40901          .      O\n",
              "669500         22877          ,      O\n",
              "\n",
              "[838860 rows x 3 columns]"
            ]
          },
          "metadata": {},
          "execution_count": 27
        },
        {
          "output_type": "stream",
          "name": "stdout",
          "text": [
            "time: 16.4 ms (started: 2021-09-06 20:25:49 +00:00)\n"
          ]
        }
      ]
    },
    {
      "cell_type": "code",
      "metadata": {
        "colab": {
          "base_uri": "https://localhost:8080/"
        },
        "id": "pD2mT6okojHl",
        "outputId": "799fb193-d9c9-4c60-864f-d27503e0fb10"
      },
      "source": [
        "label = data[\"labels\"].unique().tolist()"
      ],
      "execution_count": 28,
      "outputs": [
        {
          "output_type": "stream",
          "name": "stdout",
          "text": [
            "time: 50.8 ms (started: 2021-09-06 20:25:49 +00:00)\n"
          ]
        }
      ]
    },
    {
      "cell_type": "code",
      "metadata": {
        "colab": {
          "base_uri": "https://localhost:8080/"
        },
        "id": "j7VtgR3Monr9",
        "outputId": "e0e67f01-ff72-437e-e9c2-b0371f9c9e5e"
      },
      "source": [
        "label"
      ],
      "execution_count": 29,
      "outputs": [
        {
          "output_type": "execute_result",
          "data": {
            "text/plain": [
              "['O',\n",
              " 'B-GEO',\n",
              " 'B-GPE',\n",
              " 'B-PER',\n",
              " 'I-GEO',\n",
              " 'B-ORG',\n",
              " 'I-ORG',\n",
              " 'B-TIM',\n",
              " 'B-ART',\n",
              " 'I-ART',\n",
              " 'I-PER',\n",
              " 'I-GPE',\n",
              " 'I-TIM',\n",
              " 'B-NAT',\n",
              " 'B-EVE',\n",
              " 'I-EVE',\n",
              " 'I-NAT']"
            ]
          },
          "metadata": {},
          "execution_count": 29
        },
        {
          "output_type": "stream",
          "name": "stdout",
          "text": [
            "time: 2.16 ms (started: 2021-09-06 20:25:49 +00:00)\n"
          ]
        }
      ]
    },
    {
      "cell_type": "code",
      "metadata": {
        "colab": {
          "base_uri": "https://localhost:8080/"
        },
        "id": "SeP4GQrZopMe",
        "outputId": "d9e5ccd0-7fd7-4a6f-efcf-03f3e1c2c3c1"
      },
      "source": [
        "args = NERArgs()\n",
        "args.num_train_epochs = 2\n",
        "args.learning_rate = 5e-5\n",
        "args.overwrite_output_dir =True\n",
        "\n",
        "args.train_batch_size = 64\n",
        "args.eval_batch_size = 64\n",
        "args.max_seq_length = 128"
      ],
      "execution_count": 30,
      "outputs": [
        {
          "output_type": "stream",
          "name": "stdout",
          "text": [
            "time: 1.01 ms (started: 2021-09-06 20:25:49 +00:00)\n"
          ]
        }
      ]
    },
    {
      "cell_type": "markdown",
      "metadata": {
        "id": "DCyLg621Hz8y"
      },
      "source": [
        "Default Parameters:\n",
        "\"fp16\": True,\n",
        "\"fp16_opt_level\": \"O1\",\n",
        "\"max_seq_length\": 128,\n",
        "\"train_batch_size\": 8,\n",
        "\"gradient_accumulation_steps\": 1,\n",
        "\"eval_batch_size\": 8,\n",
        "\"num_train_epochs\": 1,\n",
        "\"weight_decay\": 0,\n",
        "\"learning_rate\": 4e-5,\n",
        "\"adam_epsilon\": 1e-8,\n",
        "\"warmup_ratio\": 0.06,\n",
        "\"warmup_steps\": 0,\n",
        "\"max_grad_norm\": 1.0,\n",
        "\"logging_steps\": 50,\n",
        "\"save_steps\": 2000\n"
      ]
    },
    {
      "cell_type": "code",
      "metadata": {
        "colab": {
          "base_uri": "https://localhost:8080/"
        },
        "id": "MDoPKxECHtLf",
        "outputId": "663cc084-1353-44f8-fee1-d57fe4c55904"
      },
      "source": [
        "import torch, gc\n",
        "\n",
        "gc.collect()\n",
        "torch.cuda.empty_cache()"
      ],
      "execution_count": 31,
      "outputs": [
        {
          "output_type": "stream",
          "name": "stdout",
          "text": [
            "time: 153 ms (started: 2021-09-06 20:25:49 +00:00)\n"
          ]
        }
      ]
    },
    {
      "cell_type": "markdown",
      "metadata": {
        "id": "ODNB0ailIHBr"
      },
      "source": [
        "Cleanin the cache."
      ]
    },
    {
      "cell_type": "code",
      "metadata": {
        "colab": {
          "base_uri": "https://localhost:8080/",
          "height": 293,
          "referenced_widgets": [
            "f4c6830c5e134335be1f29673d86d012",
            "27f13d5a31054c65a2de8203078b226a",
            "9023e99ad35c40a7b0eabfffcf82174f",
            "50d0d7b3b24c447bbc81844123aa2a7b",
            "4eb33b833db646deaa45de4827e2ba74",
            "c80b82e8d28a4b34b90f8593aebdfd77",
            "47d479235b1e44f191c1830daadc95e4",
            "20f7862c6fd349d1bff9b05a10ba8088",
            "46dfa74acb79407893cfdd7c06d1201c",
            "ad1dc4104cd44ef2874f5635beaf34e9",
            "dc2709463ab44ff4aa0049c8c67ee054",
            "11235299a3c04b1782ccf07755fbfc54",
            "312020baef604d05994baea85c85c327",
            "b24fa824a09f49b4bcb6bd81a499fbb5",
            "694a13c2748148fdb8d36213c56c3f4c",
            "0574ee14d9074c028e42bcc287f9e305",
            "bd8f729e9c4746ffb3b660ea7703ac7c",
            "6b9cd9be8c6243119af41acde3c3a2bd",
            "6fb8b985df11466b9f329797b1c2c0f5",
            "58425ea1265c4a22a975c12f1f387a0d",
            "7dee6277d2244e5b8e935b74992135e8",
            "bcd0775833964dd4bb98493e5a70245e",
            "5e4dab9b85ce4ef08cfb52892b4d298a",
            "4477420d60504f1eacd7b64453ca49b3",
            "aa90efd248cf47569dd8a00d423f801c",
            "184e8908f02749e89a116c2bf64c23dd",
            "552ae4c991f245adafb67b79c4744433",
            "42295282a96046669733506ff1217a70",
            "2281f28a56fb4bdab20f400e18a26e1d",
            "0a0432b3b9824a479ac8b7423c2a0269",
            "51243eeb4ba744a18701de1f041d7d92",
            "2cd6b78951fb43c1baa2552020dd4864",
            "58a408bdc67d4a25acd779e65d1d4403",
            "61410a9864764e41a3edf48a49f993d2",
            "58b2523833c34bcd90abb38d1031e45f",
            "ae477977a17849c3aed8e0ff526d76f6",
            "a4bfb6d83cf749028b7e5b0b7f4fcfeb",
            "5dfb9ee46187444b8073a1b9a7e5bd6d",
            "40ea77c63dff4987a79de39b83926fab",
            "a829d95d2af34444b00f5ea0f830cfaf",
            "64ea1338b62f4977879d6ac891bd8221",
            "e2df610874d74cd6a31e5d776bc7a79c",
            "e7cbfa8c059040158f5eb4b4c16ffdc2",
            "939a0ac06b1543d68987d5fb0bb0e22c",
            "a5bd95591d5c488c82d33c7c584f28e9",
            "d1b719d03bbb43de90e81f238a789a07",
            "a55a095858b1434f9c344cb4dfa1444c",
            "00884f945f8e42eab644964d43cc755f",
            "1dbc613e97d6446e8519662049bfb1a8",
            "1b16693a9b9e4dac9c0e12b76dd1883a",
            "4aa7d183ea9f4474b37ee0b9f67f73d4",
            "c305c122b6984cbdbce5708e11bee8ad",
            "0fc1133f99da43caac23cfc6b505ba0e",
            "2e20c1287dda4c2e89fee1859ddcbbe1",
            "96c73771b4734fdc9d3691ad2644eb3c"
          ]
        },
        "id": "wDh-M8h6IJz3",
        "outputId": "047291b7-324f-4dbf-ff22-28dc28e4af5a"
      },
      "source": [
        "model = NERModel('bert', 'bert-base-cased',labels=label,args =args)\n"
      ],
      "execution_count": 32,
      "outputs": [
        {
          "output_type": "display_data",
          "data": {
            "application/vnd.jupyter.widget-view+json": {
              "model_id": "f4c6830c5e134335be1f29673d86d012",
              "version_minor": 0,
              "version_major": 2
            },
            "text/plain": [
              "Downloading:   0%|          | 0.00/570 [00:00<?, ?B/s]"
            ]
          },
          "metadata": {}
        },
        {
          "output_type": "display_data",
          "data": {
            "application/vnd.jupyter.widget-view+json": {
              "model_id": "11235299a3c04b1782ccf07755fbfc54",
              "version_minor": 0,
              "version_major": 2
            },
            "text/plain": [
              "Downloading:   0%|          | 0.00/436M [00:00<?, ?B/s]"
            ]
          },
          "metadata": {}
        },
        {
          "output_type": "stream",
          "name": "stderr",
          "text": [
            "Some weights of the model checkpoint at bert-base-cased were not used when initializing BertForTokenClassification: ['cls.predictions.transform.dense.weight', 'cls.predictions.transform.LayerNorm.bias', 'cls.predictions.bias', 'cls.seq_relationship.weight', 'cls.predictions.decoder.weight', 'cls.predictions.transform.dense.bias', 'cls.predictions.transform.LayerNorm.weight', 'cls.seq_relationship.bias']\n",
            "- This IS expected if you are initializing BertForTokenClassification from the checkpoint of a model trained on another task or with another architecture (e.g. initializing a BertForSequenceClassification model from a BertForPreTraining model).\n",
            "- This IS NOT expected if you are initializing BertForTokenClassification from the checkpoint of a model that you expect to be exactly identical (initializing a BertForSequenceClassification model from a BertForSequenceClassification model).\n",
            "Some weights of BertForTokenClassification were not initialized from the model checkpoint at bert-base-cased and are newly initialized: ['classifier.bias', 'classifier.weight']\n",
            "You should probably TRAIN this model on a down-stream task to be able to use it for predictions and inference.\n"
          ]
        },
        {
          "output_type": "display_data",
          "data": {
            "application/vnd.jupyter.widget-view+json": {
              "model_id": "5e4dab9b85ce4ef08cfb52892b4d298a",
              "version_minor": 0,
              "version_major": 2
            },
            "text/plain": [
              "Downloading:   0%|          | 0.00/213k [00:00<?, ?B/s]"
            ]
          },
          "metadata": {}
        },
        {
          "output_type": "display_data",
          "data": {
            "application/vnd.jupyter.widget-view+json": {
              "model_id": "61410a9864764e41a3edf48a49f993d2",
              "version_minor": 0,
              "version_major": 2
            },
            "text/plain": [
              "Downloading:   0%|          | 0.00/29.0 [00:00<?, ?B/s]"
            ]
          },
          "metadata": {}
        },
        {
          "output_type": "display_data",
          "data": {
            "application/vnd.jupyter.widget-view+json": {
              "model_id": "a5bd95591d5c488c82d33c7c584f28e9",
              "version_minor": 0,
              "version_major": 2
            },
            "text/plain": [
              "Downloading:   0%|          | 0.00/436k [00:00<?, ?B/s]"
            ]
          },
          "metadata": {}
        },
        {
          "output_type": "stream",
          "name": "stdout",
          "text": [
            "time: 14.6 s (started: 2021-09-06 20:25:49 +00:00)\n"
          ]
        }
      ]
    },
    {
      "cell_type": "markdown",
      "metadata": {
        "id": "xgIo0ZkNQQIw"
      },
      "source": [
        "bert-base-cased: 12-layer, 768-hidden, 12-heads, 109M parameters.\n",
        "Trained on cased English text."
      ]
    },
    {
      "cell_type": "code",
      "metadata": {
        "colab": {
          "base_uri": "https://localhost:8080/",
          "height": 246,
          "referenced_widgets": [
            "9e5cba8b71ce4002bafce0a296719233",
            "cfdb532029c548929304f27a4e8b7164",
            "b8459df511ae437aac7be9fa6fec5ca4",
            "97998d99b08d498caf192f215d801cc3",
            "a25eb4f9ae4a425eb490551541c243ee",
            "316e5bd57e7043eca0c75d6d76d08f66",
            "6063011704e44cdfab2c8821c89a4ef2",
            "82d2dced124142f79bc6993197636879",
            "0d6216453557485facb805c1a79b7b17",
            "5bf067fd3fef4ae2a7ae02b532c42247",
            "673f8cd9132c496b83a1e31cb4751564",
            "5df698dba7a347f296d338a4b0c12ce9",
            "58e9e6a4162b43b78d318d3bca6f9bf7",
            "ef1e1bccd2774d9fb7caa54bbb12604c",
            "4475780800f240b5a29131e98a2d4694",
            "855c80c280034c2fbbb6c5a78be3a129",
            "58a3422ed3df4ae2a6d175b990bc9c2b",
            "b6aa4782052e425ead1cce53ee9b541c",
            "7438ad2f244f41f08c89735ffa0db6b5",
            "af99b82eb0af413bbcd3aef195a81a88",
            "47e80782749441cea9a9bab270a5f0e8",
            "c52b825b8324449f87bd2b98fc65570c",
            "cc85f69ede0447cb9739a0da65209feb",
            "8e2237902c9d4bc58f8d3b292a5cdf83",
            "acd806de0b834afb8fdc9a774b97b914",
            "8de6bf83ece941ac8d544a65d886a579",
            "0ed8fe5bce6a4c178d947e8f8bdbeaac",
            "6db140d2366e4a159fdf9090745db1f0",
            "8b744d024d8544d39550cb4104f0afc0",
            "97f4c107b3454cd2baecae7b4080f861",
            "80f23a6c6470471d9c5bdb2ec6c3c121",
            "94d54acaab0a424bb820d2904a96e2e5",
            "af3df54d222e4e63a60aa2b607893d12",
            "048c10729dcf4933a5d181de830075d8",
            "8033474a543a49e1ae09a8e921e1de07",
            "db95c3e7c84a4944a9e6504075c7528f",
            "26518be6ccb54c1891851ced5be6216e",
            "bcf6ed4a8aac43d0822db9b41516e840",
            "cff10783bbcc4dbeac20ca0453ba4f71",
            "8bf9685377f94df7ab68f682de8ea1c8",
            "66ae73d279dc43489f7ea5ef50f5ba96",
            "8e0839d5aef54c39811035d5692cb418",
            "1172aa63ffb442709af3d3ea50790af0",
            "a83a31036bf8409990d6c7f061c01a7b"
          ]
        },
        "id": "xt_x9gE0hwJd",
        "outputId": "ec9f1248-9b9a-4aa2-d80d-701f3f92db8a"
      },
      "source": [
        "model.train_model(train_data,eval_data = test_data,acc=accuracy_score)"
      ],
      "execution_count": 33,
      "outputs": [
        {
          "output_type": "display_data",
          "data": {
            "application/vnd.jupyter.widget-view+json": {
              "model_id": "9e5cba8b71ce4002bafce0a296719233",
              "version_minor": 0,
              "version_major": 2
            },
            "text/plain": [
              "  0%|          | 0/3 [00:00<?, ?it/s]"
            ]
          },
          "metadata": {}
        },
        {
          "output_type": "display_data",
          "data": {
            "application/vnd.jupyter.widget-view+json": {
              "model_id": "5df698dba7a347f296d338a4b0c12ce9",
              "version_minor": 0,
              "version_major": 2
            },
            "text/plain": [
              "Epoch:   0%|          | 0/2 [00:00<?, ?it/s]"
            ]
          },
          "metadata": {}
        },
        {
          "output_type": "display_data",
          "data": {
            "application/vnd.jupyter.widget-view+json": {
              "model_id": "cc85f69ede0447cb9739a0da65209feb",
              "version_minor": 0,
              "version_major": 2
            },
            "text/plain": [
              "Running Epoch 0 of 2:   0%|          | 0/750 [00:00<?, ?it/s]"
            ]
          },
          "metadata": {}
        },
        {
          "output_type": "stream",
          "name": "stderr",
          "text": [
            "/usr/local/lib/python3.7/dist-packages/simpletransformers/ner/ner_model.py:775: FutureWarning: Non-finite norm encountered in torch.nn.utils.clip_grad_norm_; continuing anyway. Note that the default behavior will change in a future release to error out if a non-finite total norm is encountered. At that point, setting error_if_nonfinite=false will be required to retain the old behavior.\n",
            "  model.parameters(), args.max_grad_norm\n",
            "/usr/local/lib/python3.7/dist-packages/torch/optim/lr_scheduler.py:134: UserWarning: Detected call of `lr_scheduler.step()` before `optimizer.step()`. In PyTorch 1.1.0 and later, you should call them in the opposite order: `optimizer.step()` before `lr_scheduler.step()`.  Failure to do this will result in PyTorch skipping the first value of the learning rate schedule. See more details at https://pytorch.org/docs/stable/optim.html#how-to-adjust-learning-rate\n",
            "  \"https://pytorch.org/docs/stable/optim.html#how-to-adjust-learning-rate\", UserWarning)\n"
          ]
        },
        {
          "output_type": "display_data",
          "data": {
            "application/vnd.jupyter.widget-view+json": {
              "model_id": "048c10729dcf4933a5d181de830075d8",
              "version_minor": 0,
              "version_major": 2
            },
            "text/plain": [
              "Running Epoch 1 of 2:   0%|          | 0/750 [00:00<?, ?it/s]"
            ]
          },
          "metadata": {}
        },
        {
          "output_type": "execute_result",
          "data": {
            "text/plain": [
              "(1500, 0.19039853477478028)"
            ]
          },
          "metadata": {},
          "execution_count": 33
        },
        {
          "output_type": "stream",
          "name": "stdout",
          "text": [
            "time: 12min 54s (started: 2021-09-06 20:26:04 +00:00)\n"
          ]
        }
      ]
    },
    {
      "cell_type": "code",
      "metadata": {
        "colab": {
          "base_uri": "https://localhost:8080/",
          "height": 97,
          "referenced_widgets": [
            "e0712b1d8a634061a2ad6dee139eaeda",
            "d62acbc4a1644cab8e99fbd5b38d7380",
            "469fd3a41a5e46529d360127e52471d7",
            "c40a2d34c801472fbb771033e6c2ed65",
            "0c2bef71b5114bb1af6b3784df33f473",
            "19b73ec4e90c43f99a985a1c659355e8",
            "63d341da598b4e6db910fb7978349226",
            "9f71734a2b904c2c8349e6bb92b73474",
            "e818a7f978eb49f0a3644a46e743854f",
            "ddcb492a10fa482caa09bd9e0f2f7f3a",
            "5f95b8b71e8c4359a01b1fb56c63ed6a",
            "abc6b3561f3146aaa017c23d93b5f6ec",
            "7e7fddc4d7e445eb9e9d8d328e0b2779",
            "acd8633564b14805851389fd4fc2a3c9",
            "82f735e2e296407686d4880d992383bd",
            "9efa83a140d8485da6f7345962055cc8",
            "baf88cc9d2734561b8cd42bc31f3a01f",
            "df976a847fd947488d8bf5bd733537c0",
            "48b989fa8cff42abab6ddf6bf7f2cc9c",
            "084c7ac44f8d467ca8b9a090a93ed5b9",
            "c80eae69c77944e38bcdc034c8f23cc6",
            "12abf7dd94c94328bd02645e8bfacdcf"
          ]
        },
        "id": "H_4LeBAFIL80",
        "outputId": "a17cec56-c1f0-4b89-b8b3-167f1a6baee7"
      },
      "source": [
        "result, model_outputs, preds_list = model.eval_model(test_data)\n"
      ],
      "execution_count": 34,
      "outputs": [
        {
          "output_type": "display_data",
          "data": {
            "application/vnd.jupyter.widget-view+json": {
              "model_id": "e0712b1d8a634061a2ad6dee139eaeda",
              "version_minor": 0,
              "version_major": 2
            },
            "text/plain": [
              "  0%|          | 0/2 [00:00<?, ?it/s]"
            ]
          },
          "metadata": {}
        },
        {
          "output_type": "display_data",
          "data": {
            "application/vnd.jupyter.widget-view+json": {
              "model_id": "abc6b3561f3146aaa017c23d93b5f6ec",
              "version_minor": 0,
              "version_major": 2
            },
            "text/plain": [
              "Running Evaluation:   0%|          | 0/730 [00:00<?, ?it/s]"
            ]
          },
          "metadata": {}
        },
        {
          "output_type": "stream",
          "name": "stdout",
          "text": [
            "time: 3min 15s (started: 2021-09-06 20:38:59 +00:00)\n"
          ]
        }
      ]
    },
    {
      "cell_type": "code",
      "metadata": {
        "colab": {
          "base_uri": "https://localhost:8080/"
        },
        "id": "9evMp6O-IQ6c",
        "outputId": "0e60b99d-08de-4cea-dc82-a099536c00ad"
      },
      "source": [
        "result"
      ],
      "execution_count": 35,
      "outputs": [
        {
          "output_type": "execute_result",
          "data": {
            "text/plain": [
              "{'eval_loss': 0.17626673736392634,\n",
              " 'precision': 0.8241655076495132,\n",
              " 'recall': 0.7572117688400473,\n",
              " 'f1_score': 0.78927126517157}"
            ]
          },
          "metadata": {},
          "execution_count": 35
        },
        {
          "output_type": "stream",
          "name": "stdout",
          "text": [
            "time: 3.95 ms (started: 2021-09-06 20:42:14 +00:00)\n"
          ]
        }
      ]
    },
    {
      "cell_type": "code",
      "metadata": {
        "colab": {
          "base_uri": "https://localhost:8080/"
        },
        "id": "ZKHlgp3XITpp",
        "outputId": "daddeb04-c3fc-4e3f-ae31-3aa2afc4574b"
      },
      "source": [
        "df = pd.read_csv(\"AWD_data.csv\")"
      ],
      "execution_count": 36,
      "outputs": [
        {
          "output_type": "stream",
          "name": "stdout",
          "text": [
            "time: 30.1 ms (started: 2021-09-06 20:42:14 +00:00)\n"
          ]
        }
      ]
    },
    {
      "cell_type": "code",
      "metadata": {
        "colab": {
          "base_uri": "https://localhost:8080/"
        },
        "id": "nuyyJSavJAV-",
        "outputId": "3b9e6c67-466e-4d25-81ff-003c95c0a475"
      },
      "source": [
        "text = df[\"Text\"]"
      ],
      "execution_count": 37,
      "outputs": [
        {
          "output_type": "stream",
          "name": "stdout",
          "text": [
            "time: 1.04 ms (started: 2021-09-06 20:42:14 +00:00)\n"
          ]
        }
      ]
    },
    {
      "cell_type": "code",
      "metadata": {
        "colab": {
          "base_uri": "https://localhost:8080/"
        },
        "id": "sC9iWvOp7spP",
        "outputId": "a7ac8169-37a9-4482-c725-89cd0032dc64"
      },
      "source": [
        "words = list(text)\n",
        "n_words = len(words)\n",
        "print(\"Number of days in the dataset: \", n_words)\n"
      ],
      "execution_count": 38,
      "outputs": [
        {
          "output_type": "stream",
          "name": "stdout",
          "text": [
            "Number of days in the dataset:  2024\n",
            "time: 2.42 ms (started: 2021-09-06 20:42:14 +00:00)\n"
          ]
        }
      ]
    },
    {
      "cell_type": "code",
      "metadata": {
        "colab": {
          "base_uri": "https://localhost:8080/"
        },
        "id": "t0LDUJnEJEEJ",
        "outputId": "c848ef0c-ea42-4ec6-aaa8-19c65ffeb868"
      },
      "source": [
        "text.head(5)"
      ],
      "execution_count": 39,
      "outputs": [
        {
          "output_type": "execute_result",
          "data": {
            "text/plain": [
              "0    Went to Halston's birthday dinner for Victor a...\n",
              "1    I had to meet Miguel Bose (cab $6). He came to...\n",
              "2    Henry Geldzahler came by to talk about me doin...\n",
              "3    I was reading the Margaret Trudeau book. She w...\n",
              "4    We photographed the street people in front of ...\n",
              "Name: Text, dtype: object"
            ]
          },
          "metadata": {},
          "execution_count": 39
        },
        {
          "output_type": "stream",
          "name": "stdout",
          "text": [
            "time: 4 ms (started: 2021-09-06 20:42:14 +00:00)\n"
          ]
        }
      ]
    },
    {
      "cell_type": "code",
      "metadata": {
        "colab": {
          "base_uri": "https://localhost:8080/"
        },
        "id": "h9HnwM3e8UAb",
        "outputId": "10143e93-d10d-4ca6-cab6-fb690acdd8ce"
      },
      "source": [
        "count = 0\n",
        "for totalwords in text:\n",
        "    count += len(totalwords)\n",
        "\n",
        "print('Total Words : ', count)"
      ],
      "execution_count": 40,
      "outputs": [
        {
          "output_type": "stream",
          "name": "stdout",
          "text": [
            "Total Words :  2246989\n",
            "time: 2.44 ms (started: 2021-09-06 20:42:14 +00:00)\n"
          ]
        }
      ]
    },
    {
      "cell_type": "code",
      "metadata": {
        "colab": {
          "base_uri": "https://localhost:8080/",
          "height": 132
        },
        "id": "KcHVC_O0JFY9",
        "outputId": "d4a46468-f3cf-4473-809e-a4de8ddab3d3"
      },
      "source": [
        "day1 = text[0]\n",
        "day1"
      ],
      "execution_count": 41,
      "outputs": [
        {
          "output_type": "execute_result",
          "data": {
            "application/vnd.google.colaboratory.intrinsic+json": {
              "type": "string"
            },
            "text/plain": [
              "'Went to Halston\\'s birthday dinner for Victor at Pearl\\'s he did not want to do a big thing at the house. Joe Eula was there. And Aly Kaiser. She has two bodyguards now because of her Greek husband that she is divorcing-she has one bodyguard driving her and one at home. She had as a present for Victor a bag of Hawaiian marijuana that a couple of fag friends who have a ranch there mailed to her in a box of perfumed shirts so you would not smell the marijuana. She said she gave some to one of her bodyguards and he was passed out at home. She says she will let me take pictures of her as soon as she gets her divorce. Before it was \"as soon as I get the plastic in my face from Dr. Orentreich.\" I talked to Dr. Giller he seems so sensible. He said that only fish and chicken and fresh vegetables were good for you even though he himself liked Chinese food. He told Mrs. Kaiser where she could get fresh chickens kosher on the Lower East Side and she said she would send one of her bodyguards down for some she is been sending him out to do her shopping. She was wearing twenty carats on each ear and a diamond bracelet too. she is really nice. She had a car out front too with her dog who wears the chauffeur\\'s cap.'"
            ]
          },
          "metadata": {},
          "execution_count": 41
        },
        {
          "output_type": "stream",
          "name": "stdout",
          "text": [
            "time: 2.21 ms (started: 2021-09-06 20:42:14 +00:00)\n"
          ]
        }
      ]
    },
    {
      "cell_type": "code",
      "metadata": {
        "colab": {
          "base_uri": "https://localhost:8080/"
        },
        "id": "oAikqvmlsfnZ",
        "outputId": "f6100d64-5f13-4bfb-ef82-74da76a044f9"
      },
      "source": [
        "abridgment = {'Dr.': 'doctor', 'Mr.': 'mister', 'bro.': 'brother', 'bro': 'brother', \n",
        "              'Mrs.': 'mistress', 'Ms.': 'miss', 'jr.': 'junior', 'sr.': 'senior', 'i.e.': 'for example', 'e.g.': 'for example', \n",
        "              'vs.': 'versus', 'Prof.': 'prof', 'A.M.': 'am','P.M.': 'pm', 'U.S.A.': 'USA', 'U.K.': 'UK'}\n",
        "closers = ['.', '!', '?', '?']\n",
        "wrappers = ['\"', \"'\", ')', ']', '}']\n",
        "\n"
      ],
      "execution_count": 42,
      "outputs": [
        {
          "output_type": "stream",
          "name": "stdout",
          "text": [
            "time: 1.71 ms (started: 2021-09-06 20:42:14 +00:00)\n"
          ]
        }
      ]
    },
    {
      "cell_type": "code",
      "metadata": {
        "colab": {
          "base_uri": "https://localhost:8080/"
        },
        "id": "WGXL8rb5wIgl",
        "outputId": "e9480664-c363-4c46-92d2-1e0186bc8d48"
      },
      "source": [
        "def findall(a_str, sub):\n",
        "    start = 0\n",
        "    while True:\n",
        "        start = a_str.find(sub, start)\n",
        "        if start == -1:\n",
        "            return\n",
        "        yield start\n",
        "        start += len(sub)"
      ],
      "execution_count": 43,
      "outputs": [
        {
          "output_type": "stream",
          "name": "stdout",
          "text": [
            "time: 947 µs (started: 2021-09-06 20:42:14 +00:00)\n"
          ]
        }
      ]
    },
    {
      "cell_type": "code",
      "metadata": {
        "colab": {
          "base_uri": "https://localhost:8080/"
        },
        "id": "biUBZwgSwJRR",
        "outputId": "97f8b623-8bf3-4ed2-d9a9-96c57f2b3379"
      },
      "source": [
        "def endofsentence(textpredict):\n",
        "    [possible_endings, contraction_locations] = [[], []]\n",
        "    contractions = abridgment.keys()\n",
        "    sentence_closers = closers + [closer + wrapper for wrapper in wrappers for closer in closers]\n",
        "    \n",
        "    for sentence_closer in sentence_closers:\n",
        "        t_indices = list(findall(textpredict, sentence_closer))\n",
        "        possible_endings.extend(([] if not len(t_indices) else [[i, len(sentence_closer)] for i in t_indices]))\n",
        "    \n",
        "    for contraction in contractions:\n",
        "        c_indices = list(findall(textpredict, contraction))\n",
        "        contraction_locations.extend(([] if not len(c_indices) else [i + len(contraction) for i in c_indices]))\n",
        "    possible_endings = [pe for pe in possible_endings \n",
        "                        if pe[0] + pe[1] not in contraction_locations]\n",
        "    if len(textpredict) in [pe[0] + pe[1] for pe in possible_endings]:\n",
        "        max_end_start = max([pe[0] for pe in possible_endings])\n",
        "        possible_endings = [pe for pe in possible_endings \n",
        "                            if pe[0] != max_end_start]\n",
        "    \n",
        "    possible_endings = [pe[0] + pe[1] for pe in possible_endings \n",
        "                        if sum(pe) > len(textpredict) or (sum(pe) < len(textpredict) and textpredict[sum(pe)] == ' ')]\n",
        "    end = (-1 if not len(possible_endings) else max(possible_endings))\n",
        "    return end\n"
      ],
      "execution_count": 44,
      "outputs": [
        {
          "output_type": "stream",
          "name": "stdout",
          "text": [
            "time: 3.25 ms (started: 2021-09-06 20:42:14 +00:00)\n"
          ]
        }
      ]
    },
    {
      "cell_type": "code",
      "metadata": {
        "colab": {
          "base_uri": "https://localhost:8080/"
        },
        "id": "sOBYTQyao95D",
        "outputId": "08978478-398a-4068-a155-24ed8b1f2d0f"
      },
      "source": [
        "def getsentence(textpredict):\n",
        "   end = True\n",
        "   sentences = []\n",
        "   while end > -1:\n",
        "       end = endofsentence(textpredict)\n",
        "       if end > -1:\n",
        "           sentences.append(textpredict[end:].strip())\n",
        "           textpredict = textpredict[:end]\n",
        "   sentences.append(textpredict)\n",
        "   sentences.reverse()\n",
        "   return sentences"
      ],
      "execution_count": 45,
      "outputs": [
        {
          "output_type": "stream",
          "name": "stdout",
          "text": [
            "time: 1.2 ms (started: 2021-09-06 20:42:14 +00:00)\n"
          ]
        }
      ]
    },
    {
      "cell_type": "code",
      "metadata": {
        "colab": {
          "base_uri": "https://localhost:8080/"
        },
        "id": "rnPMGAG4pAku",
        "outputId": "935e8957-2400-4cce-d521-981c7e1101fa"
      },
      "source": [
        "day1pred = getsentence(day1)"
      ],
      "execution_count": 46,
      "outputs": [
        {
          "output_type": "stream",
          "name": "stdout",
          "text": [
            "time: 2.79 ms (started: 2021-09-06 20:42:14 +00:00)\n"
          ]
        }
      ]
    },
    {
      "cell_type": "code",
      "metadata": {
        "colab": {
          "base_uri": "https://localhost:8080/"
        },
        "id": "_RlIiQFbI4Az",
        "outputId": "2ebc35ce-6824-479e-bb7e-f8273471315a"
      },
      "source": [
        "day1pred"
      ],
      "execution_count": 47,
      "outputs": [
        {
          "output_type": "execute_result",
          "data": {
            "text/plain": [
              "[\"Went to Halston's birthday dinner for Victor at Pearl's he did not want to do a big thing at the house.\",\n",
              " 'Joe Eula was there.',\n",
              " 'And Aly Kaiser.',\n",
              " 'She has two bodyguards now because of her Greek husband that she is divorcing-she has one bodyguard driving her and one at home.',\n",
              " 'She had as a present for Victor a bag of Hawaiian marijuana that a couple of fag friends who have a ranch there mailed to her in a box of perfumed shirts so you would not smell the marijuana.',\n",
              " 'She said she gave some to one of her bodyguards and he was passed out at home.',\n",
              " 'She says she will let me take pictures of her as soon as she gets her divorce.',\n",
              " 'Before it was \"as soon as I get the plastic in my face from Dr. Orentreich.\"',\n",
              " 'I talked to Dr. Giller he seems so sensible.',\n",
              " 'He said that only fish and chicken and fresh vegetables were good for you even though he himself liked Chinese food.',\n",
              " 'He told Mrs. Kaiser where she could get fresh chickens kosher on the Lower East Side and she said she would send one of her bodyguards down for some she is been sending him out to do her shopping.',\n",
              " 'She was wearing twenty carats on each ear and a diamond bracelet too.',\n",
              " 'she is really nice.',\n",
              " \"She had a car out front too with her dog who wears the chauffeur's cap.\"]"
            ]
          },
          "metadata": {},
          "execution_count": 47
        },
        {
          "output_type": "stream",
          "name": "stdout",
          "text": [
            "time: 3.14 ms (started: 2021-09-06 20:42:14 +00:00)\n"
          ]
        }
      ]
    },
    {
      "cell_type": "code",
      "metadata": {
        "colab": {
          "base_uri": "https://localhost:8080/"
        },
        "id": "FWEYD7JK1r-c",
        "outputId": "bdb84285-f041-4225-8689-30bcf97f57a9"
      },
      "source": [
        "all = []\n",
        "for day in text:\n",
        "  sentences = getsentence(day)\n",
        "  for sentence in sentences:\n",
        "    all.append(sentence)"
      ],
      "execution_count": 49,
      "outputs": [
        {
          "output_type": "stream",
          "name": "stdout",
          "text": [
            "time: 1.98 s (started: 2021-09-06 20:45:52 +00:00)\n"
          ]
        }
      ]
    },
    {
      "cell_type": "code",
      "metadata": {
        "colab": {
          "base_uri": "https://localhost:8080/",
          "height": 97,
          "referenced_widgets": [
            "43330053013d4a3990b533620848a876",
            "363ce3841fe8493f849ee468f02de97f",
            "4799388e0912402185075626abe2fb7d",
            "4032f77ffb8a48688e5c2761e53a5690",
            "ac38e778e3584ccda97b00f4ac20fd7f",
            "a5b1dc22502d485bb6c8381ffda82cbd",
            "b7688b2ad8744cbd99d23d35feec9742",
            "96e8fe86137f406c996a4fd280aef304",
            "8f74d25001ba4c549330581b32f3c4b2",
            "532ae7f261d548efa0f2c8a9dd9b4613",
            "9bc0cc8330d54ca8ad523e6705cc4d06",
            "ec3d0c05f1a94c53ad81ecf4b64875a3",
            "2079b3efed184ce587f748a70e706ba9",
            "39e0696ecc064c71ad7853b4842856e8",
            "314778f83959493f9a98a917381b58c0",
            "c47ee1522ff44d3fb62f237365f8c035",
            "a13c5d74c5144879883b5e67b159ae59",
            "b8171618fc14482c8853de4b6ebc0e59",
            "63c0cf9919be4dc089444b2ab692bf87",
            "f9ea5e40f93a4510a50c5e7cb94537d1",
            "18de7076300f40b397ffe94fa98da5eb",
            "dccc5ddc37494a11a3e27b59bd1b7735"
          ]
        },
        "id": "wpGdczHe4Mcp",
        "outputId": "301a27fc-97a2-4c9b-afe5-f6754bf47f64"
      },
      "source": [
        "predictiontest, model_output3 = model.predict(all)"
      ],
      "execution_count": 50,
      "outputs": [
        {
          "output_type": "display_data",
          "data": {
            "application/vnd.jupyter.widget-view+json": {
              "model_id": "43330053013d4a3990b533620848a876",
              "version_minor": 0,
              "version_major": 2
            },
            "text/plain": [
              "  0%|          | 0/3 [00:00<?, ?it/s]"
            ]
          },
          "metadata": {}
        },
        {
          "output_type": "display_data",
          "data": {
            "application/vnd.jupyter.widget-view+json": {
              "model_id": "ec3d0c05f1a94c53ad81ecf4b64875a3",
              "version_minor": 0,
              "version_major": 2
            },
            "text/plain": [
              "Running Prediction:   0%|          | 0/437 [00:00<?, ?it/s]"
            ]
          },
          "metadata": {}
        },
        {
          "output_type": "stream",
          "name": "stdout",
          "text": [
            "time: 1min 59s (started: 2021-09-06 20:46:01 +00:00)\n"
          ]
        }
      ]
    },
    {
      "cell_type": "code",
      "metadata": {
        "colab": {
          "base_uri": "https://localhost:8080/"
        },
        "id": "a2Z6WjKZ6kJ5",
        "outputId": "feb2f38b-4d3e-4293-be2f-592441647f3e"
      },
      "source": [
        "predictiontest[0]"
      ],
      "execution_count": 51,
      "outputs": [
        {
          "output_type": "execute_result",
          "data": {
            "text/plain": [
              "[{'Went': 'O'},\n",
              " {'to': 'O'},\n",
              " {\"Halston's\": 'I-PER'},\n",
              " {'birthday': 'O'},\n",
              " {'dinner': 'O'},\n",
              " {'for': 'O'},\n",
              " {'Victor': 'B-PER'},\n",
              " {'at': 'O'},\n",
              " {\"Pearl's\": 'B-GEO'},\n",
              " {'he': 'O'},\n",
              " {'did': 'O'},\n",
              " {'not': 'O'},\n",
              " {'want': 'O'},\n",
              " {'to': 'O'},\n",
              " {'do': 'O'},\n",
              " {'a': 'O'},\n",
              " {'big': 'O'},\n",
              " {'thing': 'O'},\n",
              " {'at': 'O'},\n",
              " {'the': 'O'},\n",
              " {'house.': 'O'}]"
            ]
          },
          "metadata": {},
          "execution_count": 51
        },
        {
          "output_type": "stream",
          "name": "stdout",
          "text": [
            "time: 3.8 ms (started: 2021-09-06 20:48:00 +00:00)\n"
          ]
        }
      ]
    },
    {
      "cell_type": "code",
      "metadata": {
        "colab": {
          "base_uri": "https://localhost:8080/"
        },
        "id": "rw-f8Zjq8x9E",
        "outputId": "ba5a3da9-2ba6-402a-e85c-d7ccaf08b70c"
      },
      "source": [
        "peoplelistnotpair=[]\n",
        "for elem in predictiontest:\n",
        "  for elem2 in elem:\n",
        "    for word, value in elem2.items():\n",
        "      if value == 'B-PER' or value == 'I-PER' :\n",
        "        peoplelistnotpair.append(word)\n"
      ],
      "execution_count": 52,
      "outputs": [
        {
          "output_type": "stream",
          "name": "stdout",
          "text": [
            "time: 167 ms (started: 2021-09-06 20:48:00 +00:00)\n"
          ]
        }
      ]
    },
    {
      "cell_type": "code",
      "metadata": {
        "colab": {
          "base_uri": "https://localhost:8080/"
        },
        "id": "hNoCMttCzSJs",
        "outputId": "48a3a623-17df-40f0-e746-9b6ddd6d5679"
      },
      "source": [
        "peoplelistnotpair[:5]"
      ],
      "execution_count": 53,
      "outputs": [
        {
          "output_type": "execute_result",
          "data": {
            "text/plain": [
              "[\"Halston's\", 'Victor', 'Joe', 'Eula', 'Aly']"
            ]
          },
          "metadata": {},
          "execution_count": 53
        },
        {
          "output_type": "stream",
          "name": "stdout",
          "text": [
            "time: 2.3 ms (started: 2021-09-06 20:48:00 +00:00)\n"
          ]
        }
      ]
    },
    {
      "cell_type": "code",
      "metadata": {
        "colab": {
          "base_uri": "https://localhost:8080/"
        },
        "id": "zd9A-u3UzgNX",
        "outputId": "310860ac-6996-4287-b4a1-cd927dd6df1f"
      },
      "source": [
        "len(peoplelistnotpair)"
      ],
      "execution_count": 54,
      "outputs": [
        {
          "output_type": "execute_result",
          "data": {
            "text/plain": [
              "30568"
            ]
          },
          "metadata": {},
          "execution_count": 54
        },
        {
          "output_type": "stream",
          "name": "stdout",
          "text": [
            "time: 2.02 ms (started: 2021-09-06 20:48:00 +00:00)\n"
          ]
        }
      ]
    },
    {
      "cell_type": "code",
      "metadata": {
        "colab": {
          "base_uri": "https://localhost:8080/"
        },
        "id": "aijF6RFXeHUL",
        "outputId": "64d0606c-8eb8-4a60-ab61-2149e102fdf3"
      },
      "source": [
        "peoplelistnotpairset = set(peoplelistnotpair)"
      ],
      "execution_count": 55,
      "outputs": [
        {
          "output_type": "stream",
          "name": "stdout",
          "text": [
            "time: 5.24 ms (started: 2021-09-06 20:48:00 +00:00)\n"
          ]
        }
      ]
    },
    {
      "cell_type": "code",
      "metadata": {
        "colab": {
          "base_uri": "https://localhost:8080/"
        },
        "id": "uqAhfy_GieED",
        "outputId": "a55c91bc-ed41-4472-e2f5-b1080566ad03"
      },
      "source": [
        "print(peoplelistnotpairset)"
      ],
      "execution_count": 56,
      "outputs": [
        {
          "output_type": "stream",
          "name": "stdout",
          "text": [
            "{'Fraser-Morris', 'Norris', 'Nenna.', 'Kabler', 'Lumet.', 'Oz', 'Denton', 'David', 'Julio.', 'Bella.', 'Holzer.', 'Powers.', 'Sophie', 'Larry', \"Mortimer's\", 'Abbott', 'Pinter.', 'Hans.', 'Bufman', 'Plimpton?', 'Carter-he', 'Mustique.', 'Hodes', 'Arman', 'Tina', 'Ruskin', 'den', 'Soren', \"Streisand's\", \"Trump's\", 'Monique', 'Mickey.\"', \"Armstrong's\", 'Bates.', \"Klein's\", 'Galan', \"Fergie's\", \"Max's\", 'Hans', 'Etting', 'Samanna!', 'Weiss', 'Beard.', 'Marsha', 'McFadden.\"', \"Starbuck's\", \"Regine's\", 'Vic', 'Jagger.', 'Aurora', 'Ozbek', 'Jo', 'Horst', \"Scavullo's.\", 'Margaret', 'Bruce', 'Scull.', 'Camilla', 'Malleray', 'Dizzy', 'Tennant!', 'Chen', 'Sire', 'Cote', 'Diller', 'Mahler', 'Stait.', \"Aurora's\", 'Cerf', 'Bernet', 'Warhol\"', 'Larsen', \"Tiegs's\", 'Pilar', 'Grahame.', 'Winger.', 'McKellen', 'Holland', 'Dana', 'Nadja', 'Kenzo', 'Farmanfarmian-Chris', 'Jerry', \"Jasper's\", 'Lancaster', 'Andy\"-and', \"Benton's\", \"Marder's\", \"Doyle's\", 'Mitfords', \"David's\", 'DeVito', 'Knoll', 'Leo.', 'Fierstein', \"Garcia's\", 'Bernadine', 'Oprah', 'Rosenquist', 'Sargent', 'Alain', 'Mehle-\"Suzy\"-did', 'Whoopi', 'Huston-how', \"Mapplethorpe's\", 'Gerard', 'Noguchi.', \"Gaetana's\", \"Sharon's.\", 'Beverly', 'Spacek', 'Niro.', 'Kenyon', \"Wilson's\", 'Mitzi', 'Copley.', 'Jade', 'Joanna', 'Fitzgerald.', 'Basil.', 'Erickson', 'Jakobson-all', \"Iglesias's\", \"Gleason's.\", 'Norell', \"Joe's\", 'Nico!', \"Copley's\", 'Brassai.', 'Jakobson.', 'Sabrina.', 'Salome', 'Boone-she', 'Dickens', 'Goldenson\"', 'Denison', 'Evangeline', 'Fischer', 'Close', 'Helen.', 'Mann', 'Dunlap', 'Berry', 'Caan.', 'Donovan', \"Plato's.\", 'Rybar', \"Pope's\", 'Taurus\"', \"Victor's\", \"Camilla's\", 'Perrier', 'Gloria', 'Nelson.', 'Carlos', 'Loo.\"', 'Maxwell', \"Eastman's\", 'Atkins', 'Chrissy', 'Lambert', 'Bing', 'Clara', 'Sherry-Lehmann', 'Valentino.', 'Cagney', 'Aly', 'Savage', 'Claire', 'Dolly', 'Taryn', 'Truman!', \"Chrissy's\", \"Bianca's.\", 'Cott', 'Deco', \"Castelli's\", 'Day', 'Bransford', 'Talley.', 'Little', 'Darling.', \"Richardson's\", 'Holmes', 'Vito', 'Dooley.', 'Anjelica', \"Rosa's\", \"Mekas's\", \"Thatcher's\", \"Ayres's\", 'Dubin', 'D.D.', \"Hans's\", 'Hesketh', 'Winnie.', 'Rosenman', 'Ellis.', 'Gere', \"Heinz's\", \"Kemp's\", 'Hugh', \"Liberman's\", 'Jagger?', 'Pepe', 'Tereba.', 'Woodlawn', \"Birch's\", \"Loulou's\", 'Pile', 'Sidney', 'Cadmus', 'Chip', 'Nin', 'Eric', 'Helmsley', \"Peggy's\", 'Blondie.', 'Duck.', 'Seiyoken', 'Misha', 'Johnny.', 'Regine.', 'Kennedy.\"', 'Rhodes', 'Rockwell', 'Mudd', 'Rox', 'Tanzi', 'Madonnas', \"Shields's\", 'Buchwald.', 'Melman', 'Lama', 'Payson', 'Moynihan.', 'Wyatt.', 'Poitier', 'Clay', 'Mott', 'Yablans', 'LeFrak', 'Weinstein', 'Guardia', 'Black', 'Leandro', 'Cisneroses.', \"O'Neill\", 'Hermann', 'Laroche.', 'Karl', 'Havadtoy', 'Arianna', 'Midler.', 'Dickinson', 'Geddes.', 'Giancarlo', 'Sonia', 'Rockburn', 'Spyro', \"Finn'd\", 'Carey', 'Bastion', 'Bonds', 'Gaultney.', 'Burroughs', 'Marie.', \"Niro's\", \"Heather's\", 'Perkins', 'Nathan', 'Trash', \"Johannes's\", 'Tinguely', 'Wenner.', 'Kleiser', 'Sylbert', 'Robinson', 'Mort', 'Stevie', 'Chong', 'Merrill.', \"Sachs's\", 'Fonteyn', 'Mitterrand.', \"Wintour's\", 'Liberace', 'Rizzoli', 'Teuscher', 'Meredith', 'Wanger', 'Laura', 'Lajeski', 'Paulette', 'Perry.', 'Ast.', 'Hardin', 'Murdoch', 'Austin', 'Victor', 'Rockefeller.\"', \"Kligman's\", 'Beam.', 'Hornsbee', \"Reese's\", 'Thornton', 'Dorfman.', \"Bianca's\", 'Sasha', \"D'Estainville's\", 'Doris', 'Freddy', 'Geffen.', 'Fairfield', 'Bulow', 'Tatiana', 'Hearst', 'Nixon', 'Wyeth', \"Selznick's\", 'Pierrot', 'Ziegfeld', \"Chia's\", 'Bowes-Lyons.', 'Susie', 'Felt', 'Sedgwick', 'Nureyev', 'Cartier', 'Viva', 'Shivas', 'McKinley.', 'Nan', 'Blass', 'Domonkos.', 'Fairchild', 'Bazaar.', \"Andrea's\", 'III', 'Marita', 'Agosto', 'Anna', 'Alf', 'Brigid.', 'Barrows', 'Stockwell', 'Gael.', \"McKeon's\", 'Aminl', \"Darling's\", 'Gibbon', \"Travolta's\", 'Haupt-everybody', 'Haoui', \"Chow's.\", 'Miller.', 'Whips.', \"Angelo's\", 'Byrnes.', 'Ford-affiliated', 'Curtis-type', 'Benedetta', 'Rosenquists.', 'Plesch-was', 'Quentin', \"Spelling's\", 'Lauder.', 'Blanche', 'Neel.', 'Gotti', \"Mellen's\", \"Taylor's\", 'Bernsohn.', \"Dunne's\", 'Schlumberger', \"Hammond's-called\", 'Carters', \"Carson's\", 'Greenberg', 'Dwan', \"Baryshnikov's\", 'Stretch.', 'Juan', 'Radziwill.', 'Burden-all', 'Mirabelle', 'Claudette', \"Kurt's\", \"Chapin's\", 'Polanski', 'Venturi.', 'Carol.', 'Kim', 'Gurley', 'Garland', 'Felix', 'Feldman', 'Allison', \"Egon's\", 'Grenfell.', 'Kathryn', 'Armani.', 'Neiman-Marcus', 'Campbell', 'Sam', 'Abraham', 'Junot', 'Dena', 'Cohn', \"Curley's\", 'Woronov.', 'Victor-on', 'Moritz', 'Diahann', 'Garfunkel', \"Duchamp's\", \"Gallin's\", 'Chamberlain', 'Horowitz?', 'Towne.', 'Furstenberg.', \"Brant's\", 'Suzy?', 'Balenciagas', 'Max\"', 'Fauchon', 'Barnes', 'Olivier', 'Channing', 'Holm', 'Greta', 'Bob.', \"Love's\", 'Frowick', 'Coady.', \"Maria's\", 'Pignatelli', 'Reed.', 'Disney.', 'Salter', \"Heiner's\", 'Antonelli\"', 'Mork\"', 'Hamill', \"Clarke's.\", 'McGovern', 'Corinne', 'Papp', 'Chessy', 'Schlossberg', 'Ric', 'Cicogna.', 'Greg', 'Morrissey.', 'Montana', 'Noland', 'Harkness', 'Cesar', 'Rhinestone', \"Simon's\", 'Constantin', 'Rockefeller-he', 'Murphy', 'Bobby.', \"Monroe's\", 'Condotti', 'Marina', 'Lance', \"Sweeney's.\", 'Naomi', 'Minnie', 'Sandra', 'Diane.', 'Love', 'Karen', 'Abzug', 'Stephen', 'Angelo', 'Bates', 'Reagan', 'Hate.\"', 'Mason.', 'Beaubourg', 'Haywire', \"Klein's.\", 'Cooper.', \"B'nai\", 'Mansfield.', 'Erskine', 'Warner', 'Carole', 'Klineman.', 'Perry', 'Larissa', \"Ira's\", 'Polk', \"Ono's\", 'Wenner', 'Mork', 'Jarring.', 'Evelyn', 'Warhol.\"', 'Hurrells', 'Buzz', 'Lerman', \"Victor's.\", 'Vooren.', 'Randall', 'Stevie.', \"Lowell's\", 'Schnabel', 'Cole', 'Donina', 'Lilly', 'Tom', 'Phil', 'Kluge', \"Plato's\", 'Chagalls', 'Weitz', 'Margaret.', 'Claiborne', 'Adela', 'Warhola', 'J.', 'Rourke', 'Wanzenberg-I', 'Cantinori', 'Basquiat?\"', 'Cezanne.', 'Mathis', 'Pele', 'Lorna', 'Pei.', 'Carimatis', 'Orentreich.', 'Simpson.', 'Sheen', 'Pacino', 'Cassidy', 'Breitenbacher', 'Hick', 'Frick', 'Mineo.', 'Ron', 'Jedd', 'Onassis', \"Andre's.\", 'Kent', 'Reeve', 'Orentreich', 'Henderson', 'Venturi', 'Donald.', 'Lucie', 'Jim', \"Branson's.\", 'Jessica', 'Duchins.', 'Berle', 'Matt', 'Beaumont', 'Pearlsteins.', 'Gerald', \"Castel's.\", 'Money', 'Katharine', 'Amaya', 'Gres.', 'Carroll', \"Archie's\", 'Shalit', 'Dylan.', 'Debra', 'Darryl', 'Kaiser', 'Fon', 'Lommel', 'Weisman\"', 'Warchol', 'Holliday.', \"Oliver's\", 'Blondie', 'Sanda', 'Francoise', 'Kidde.', 'Saltzman', 'Borg.', 'Ivy-Ingrid', 'Chita', 'Kidde', 'Tatum', 'Madelaine', 'Mel', 'Dennis.', 'Audrey', 'Beatty', 'Zadora', 'Steinberg', 'Weiner', 'Li.', 'Kent!', 'Seymour', 'Silva.', 'Ginsburg', 'Wyeths', 'Lalique.', 'Hemphill', \"Marc's\", \"Lennon's\", 'Finkelstein', 'Ron.', 'Schwarzenegger', 'Cesar.', \"O'Neal.\", 'Dietrich', 'Maharis!', \"Marylou's\", 'Stickley.', 'Scharf.', 'Amelio.', 'McNichol', \"Castellano's\", 'McCleary', 'Vera', 'Rothschild.', \"Bartlett's\", 'Bass', 'Bill.\"', \"James's\", 'Hebe', 'Perrine', \"Martindale's\", 'Teorema', 'Hopper', 'Byron?\"', \"Suzie's\", 'Koch', 'Evita', 'Xenon', 'Donna', 'Lunden', 'Cahan', \"Landau's\", 'Consuelo', \"Jimmy'z.\", 'Mellon-he', 'Carson-type', 'Magno', 'Nielsen', 'Moore', 'Ned', 'Gorman', 'Rums', 'Betty', 'Leif', 'Johns.', 'McDonald', 'Gilda', 'Bischofberger', 'Levin!', 'Egon', \"Kelly's\", 'Goldfarb', 'Lenny', \"Summers's\", 'Dyan', \"Christie's.\", 'Curley-it', 'Dorothea', 'Spinks', 'Oswald', 'Len', 'Ira', 'Cristina', 'Ferrat', 'Cutrone', 'Brokaw', 'Valerian', 'Joanne.', 'Bryan', 'Ork', 'Coelho', \"Maclean's\", 'Beauvau-and', 'Benton', 'Allen?\"', 'Wynn', 'Eartha', 'Doumanian.', 'Millie', 'Greene', 'de', 'Balanchine', 'Melvin', 'Huston', 'Rothschild', 'Celeste', \"Gershwin's\", 'Pitchford', 'Carlisle.', 'Solanis?\"', 'Rogers', \"Blahnik's\", 'Ringo.', 'Guggenheim.', 'White', 'Samuels', 'Crone', 'McCarthy', 'Clark', 'Maude.', 'Coca', 'Mimi', 'Hayes.', 'Jaquine-and', 'Hollander', 'Bastion-about', \"D'Alessio\", 'Frederika', 'Picasso-Chagall', 'Amina', 'Paige', 'Bennett', 'Vadis.', 'Jobs.\"', \"Kobal's\", \"Andy's\", 'Ritt', 'Kaiserman', 'Cab', \"Shand's\", 'Paley.', 'Harry', \"Huston's\", 'Rebecca.', \"Galella's\", \"Lambton's\", 'Malle', 'Prince.', 'Crewe', \"Link's\", 'Tharp', 'Sean', 'Jaquine', 'Vivian', 'Kidder', 'Oldenburg', 'Steiger-they', 'McCluskey', 'Garson', 'Mario', 'Lincoln', 'Bergen', 'Mick.', 'Laurent', 'Quinn.', 'Sylvia', \"Michael's\", 'Mommie', 'Berra', 'Sopher', 'Cavett-and', 'Buckley.', 'Paepcke.', 'Gibson', 'Kinski', 'Rolston', 'Lewises', \"Fred's.\", \"Liberace's\", 'Liz', 'Rayner', \"Davis's\", \"Cipriani's\", 'Arlen.', \"Burroughs's\", 'Katie', 'Apollonia', 'Janis', 'Daniela', 'Sajid', 'Ashton', \"Josie's\", 'Trigere', 'Capricorn', 'Oswald.', \"Roon's.\", \"Capone's\", 'Rudy', 'Russell', 'Donovan.', 'Holzer-why', 'Hayward.', 'Jean-Paul', \"Stein's\", 'Elisabeth', 'Weisman.', \"Mengers's\", 'Allen.', 'Terry', 'Bassey', 'Morera', \"Gagosian's\", 'Robert', 'Sam.', 'Letterman', 'Ross.', 'Dali\"', 'Colacello.\"', 'Herrera', 'Delia', 'Carson', 'Harve', 'Priscilla', \"Kim's\", 'Zilkha', 'Antonia', 'Ryan', 'Azzedine', \"Gandhi's\", 'Pivar', 'Ono.\"', 'Marcos.', 'Condo', 'mignon', 'Bogart.', 'Frankenthaler', 'Basque', 'Sweetheart-and', 'Cristal', 'Cecilia', 'Faithfull', 'Kramerbooks', 'Jacobs', 'Claude', 'Mengers.', 'Tufo.', 'Hausman', \"Letterman's\", 'Adelson', \"Boris's\", 'Gilles', 'Shawn', 'Jones', 'Lloyd', 'Anka', \"Wyeth's\", \"John's\", 'Graziella', 'Tyrrell', 'Winger', 'Selleck.', 'Talley', 'Boman', 'Dolly.', 'Guest', 'Lex', \"Wyatt's\", 'Kafka', 'Nikki', 'Bulgari-Nicola-wanted', 'Cy', \"Simons'\", \"Hammond's\", 'Agnes', 'Anouk', 'Jaclyn', \"Wendy'd\", \"Kinski's\", 'Cynthia', 'Depardieu', 'Catholic', 'Sean?\"', 'Power', 'Vreeland', 'Milliken', 'Cathy', 'RAPE.\"', 'Lennon.', 'Charles.', 'Chia', 'Judy', \"Clemente's.\", 'Bunuel', 'Rocky', 'Lieberman', 'Warhol-Wyeth', 'Cliff', \"Dali's\", 'Guglielmi', 'Sandy-and', 'Foster', 'Tiegs', 'Marlon', \"Canastel's\", \"Ballato's.\", 'Viner', 'caballero', 'Andersen', 'Sharkey.', \"Marcos's\", \"McCarthy's\", 'Kosinski', 'Felker.', 'Wayne', 'Aronson', 'Nichols', 'Bellini', 'Barzini.', 'Jacksons.', \"O'Brien's\", 'Achille', \"Liza'd\", 'Martinelli', 'Balet.', 'Roxanne\"', \"Scorsese's\", 'Gisela', \"Elaine's\", \"Angelina's\", 'Johnses', 'Walters', 'Isa.', 'Destino', 'Hiro.', 'Kathleen', \"Dylan's.\", 'Blond', 'Powell.', \"Lane's\", 'Natalie', 'Bunker', 'Golightly', 'Capote', 'Agosto.', 'Boyle', 'Dickstein', 'Aronson.', \"Menil's\", 'Furstenberg', 'Berge.', \"Ross's\", \"Shafrazi's\", \"D'Alessio's\", 'Ginsberg', 'Ran', 'Pearlstein', 'Hickey', 'McQueen', 'Green', 'Andrew', 'Bronfman', 'Risko', 'Dallesandro.', 'Tune', 'Christoffersen', 'Channon', 'Bater', \"Buccellati's\", 'Henri', 'Denison.', \"Ertegun's\", \"Isham's\", 'Kirstein', \"O'Connor\", 'Buddy', 'Pryor.', 'Tink', \"Gilman's\", 'Blum-Helman.', 'Weinberg', 'Liza-he', 'Leos', 'Scalia', 'Greenberg-he', 'Ballard', \"Tatum's\", 'Stein', 'Basquiat', 'Crisman', 'Will', 'Ginger', 'Lanvin', 'Hunter', 'Bergman.', 'Stefano', 'Blackwell', 'Lurie', 'Sao', 'Gerard.', 'Xenon.', \"Rupert's\", \"Fierstein's\", 'MacBride.', 'Basque.', 'Thurn', 'Denver', 'Maret', 'Chase', 'Dugan.', 'Shields', 'Manny', 'Stapleton', 'Candy', 'IV', 'Pitt-he', 'Paloma.', \"Ronnie's\", 'Garet.', 'Eva', 'Taylor\"', \"Cooper's\", 'Heuvel', 'Sonny.', \"Rod's\", 'Allen-I', \"Diahnne's\", 'Mae', 'Gilbert', 'Stephanie', 'Berry.', 'Dylan', \"D'Amato.\", 'Walden', 'Issey', 'Russell.', \"Eula's\", 'Reagan.', 'Qutayba', 'Mariel', 'Rance', \"Yoko's\", 'MacBride', 'Goddard', 'Rags', 'Philip.', \"Gifford's\", \"Cukor's\", 'Lollobrigida', 'Doc', 'Ringo', 'Redcap', 'Marisol', 'Babe', 'Irene.', \"Stieglitz's\", 'Kris', \"Rorem's\", 'Ulrick', 'Cipriani', 'Roman', 'Malkenson', 'Mori', 'Diller.', \"Morgan's\", 'Begley', 'Brinkley', \"Johnson's\", 'Sklar', 'Berge', 'Marilyn', \"Weissmuller's\", 'McGovern\"', \"Paul's.\", \"Bono's\", \"Allen's\", 'Baldwin', 'Dorsey', 'Bandy', 'Yves', 'Blum', \"Makos's\", 'Ramme', \"Birley's\", \"LaBrie's\", 'Jacques', 'Springsteen', 'Peck', 'Hyannis', \"Evans's.\", 'Jay', 'Platt', 'Leary.', 'John-', 'Burnett', 'Shriver-Schwarzenegger', \"Ahmet's\", 'Bacall', 'Roberto', 'Barbi', 'Bill', 'Carlyle.', 'Lalanne', 'Adler', 'Dara', \"DeLy's\", \"Bonwit's\", 'Westheimer', 'Thadee', 'Georgette\"', \"Laurentiis's\", 'Ulrik', 'Abbott.', 'Getty', 'Boris', 'Smith\"', 'Zappa', 'Roma', 'Lennon-she', 'Erich', 'Farrah', \"Rolston's\", 'Ellsworth', 'Christie', 'Milinaire', \"Donna's\", 'Liston.', 'Casablancas', 'Cerutti', 'Marder', 'Gelsey', \"Marion's\", 'M.', 'Vanderbilt', 'Lana', \"Asen's\", 'Hackman', 'Maura', 'Presley', \"Martha's.\", 'Dukes', 'Pauling', \"Pont's\", \"Beauregard's\", 'Minskoff', 'Kellogg', 'Katt', 'Bard', 'Jan', 'Julie.', 'Victor-Fred', 'Rivers.', 'Revlon.', 'Sarah', 'Neuwirth', 'Larkin.', \"Mansfield's\", 'Gramercy', 'Clemente', 'Sly.', 'Anton.', 'Gracie', 'Beauregard', 'Buffett', 'Bailey', 'Henley.', \"Marino's\", \"Agosto's\", 'Letterman.', 'Kent.', 'Dolder', 'Cale!', 'Flo-Jean', \"Schwab's\", 'Whitney-Philip', 'Avedon', 'Suzie.', 'Blum.', \"Freddy's\", 'Garrett.', 'West', 'Raffin.', 'Nico-everything', 'Helmut', 'Susan', 'Dunne', \"Martha's\", 'Gregory.', 'Doug', 'Basinger', \"Heizer's\", 'Cockburn', 'Jon', 'Hyannis.\"', 'Waters', 'Lowe.', 'Graves', 'Goethe', 'Wilding', 'Graham', 'Miguel', 'Cardinal', \"Goya's\", 'Kimball-he', 'Soto', 'Deb', 'Cyril', 'Johannes.', 'Prisione', \"O'Keeffe.\", 'Graves.', 'Steve-oh', 'Padgett.', 'Steve-he', 'Gish', 'Lucille', 'Hagman', \"D'Amatos\", \"Sprouse's\", 'Wylie', 'Morrison', 'Werner', 'Bianca-paintings', 'Crispo', 'Segal', 'St.', 'Tufo', \"Madonna's\", 'Coppard', 'Cyndy', 'Nenna', \"Antonio's.\", 'Tatiana.', 'Clobber', 'Walken', 'Cory', 'Michael', 'Natasha', 'Khashoggi', \"Barbetta's\", 'Kosinski.', 'Marita.', 'Berrigan', 'Coffman', 'Giorgio.', 'Judith', 'Westwood', 'Trudeau.', 'Arledge.', 'Osborne', \"Castel's\", 'Laurance', 'Chastity', 'Braniff', \"Cramer's\", 'Sacklers.', 'Warhol', 'Grant.', 'Botticelli', \"MacBride's\", 'Spence', 'Stanley', 'Jennifer.', 'Bochicchio', 'Joe.', \"Violet's\", 'Janet', 'Katt.', \"Woolworth's\", 'Teresa.', 'Foxe', 'Julianne', \"Jackie's\", 'Jonathan', \"Guccione's\", \"Giorgio's-and\", 'Pollock', 'Vreeland\"', 'Carol', 'Frankie.', 'Gere?', \"Murdoch's\", 'Klemesrud', 'Nicklaus.', 'Boheme.', 'Doherty.', \"Antolotti's.\", 'Javits', \"Guggenheim's\", 'Seabra', 'Ephron-did', 'Pivar.', 'Mancuso', 'Madeline', 'Stone.', 'Holtzman', 'DiLazzaro-at', 'Nima', 'Jed.', 'Barish', 'Marsh', 'Lansbury.', 'Bose', 'Ram.', 'Ming', \"Averil's\", 'Ponti', 'Ira.', 'Lana.', \"Natalie's\", \"Jones's\", 'Newman', 'Bernhard', \"Ludlam's\", 'Benjamin', \"Arman's\", 'Duran', 'Luce', 'Kevin.', 'Stanfill', 'Jeffrey', 'Sickles', 'Loewy!', 'Grosset', 'Moynihan', 'Bernsohn', 'matzoh', 'Munsel', \"Tom's\", 'Erteguns', 'Lester', 'Clement', \"Pivar's\", 'Swanson', 'Mueller', 'Lawson-Johnston', \"Lorna's\", 'Flintstones', 'Bob-Bob', 'Fassbinder.', \"Pia's\", \"Enders's\", 'Fox', 'Parks', 'Tip', 'Ungaro', \"Gilley's\", 'Lebowitz', 'Jackson-like', \"Gere's\", \"Patrick's\", 'Dillon.', \"Boone's.\", 'Kimbell', \"Annenberg's\", 'Ward', 'Phillips.', \"Dani's\", 'Herreras', 'Merrick.', 'Joanne', \"Schenley's\", 'Prizzis', 'Todd', 'Newton', 'Bettie', 'Wilhemina', 'Logan', \"Vic's.\", 'Shirley', \"Cerf's\", 'Johansen.', 'Lebowitz-like', 'Cherie\"-he', 'Cheryl', 'England', 'Ondine', \"Falaise's\", 'Lawford.', 'Porter', 'Phillips', 'famosa', 'Grenouille.', 'Mehle-\"Suzy\"-and', 'Kazan', 'Dali', 'Goncalves', 'Matty!', 'Doon', 'Paulette.', 'Billie', 'Russie.', 'Merman', 'Grunwald', 'Siu', 'Anjelica.', \"Brooks's\", 'Mellon', 'Spiegel', 'Crespi', 'Buttermilk.', 'Li', 'Delsener', 'Ricard.', 'Frank', 'Mathilda', \"Vanderbilt's.\", 'Sat', 'Sarkin.', 'Sprouse.', 'Ford', 'Twyla', 'Eric.', 'Winters.', 'Lacoste', 'Kimiko', \"Rees's\", 'Cavett', 'Scavullo.', \"Holbrook's.\", 'Louis', 'Perignon', 'Max.', 'Shenge-this', 'Bonjour', 'Pauley', \"Bailey's\", \"Imelda's\", 'Pacino.', 'Lalique', \"Sr.'s\", 'Neal', 'Donahue', \"Jon's\", 'Vadim', 'Wunsche', 'Shelly.', 'Joel', 'Pop.', 'Baird', 'Bianca-I', 'Hildegarde', 'Rense', 'Bochner', 'Evgenia', 'Ritts', 'Edie-she', 'Malkenson.', 'Rona.', 'Madonna.', 'Dodd', 'Elkann', 'Grace', 'Sellars', \"LeFrak's\", 'Kaiser.', 'Hyler.', \"D'Arbanville\", 'Kissinger', 'Zandra', 'Alan', 'Farley', 'Luft', 'Machado', 'Fischl', 'Ala', \"Payne's\", 'Mavroleon.', 'Warhol!\"', 'Hermione', \"Wendy's\", 'Julian', \"D'Arbanville-but\", \"Delsener's\", 'Cox.', \"L'Amour.\", 'Rivera', \"Kimiko's\", 'Adriana', 'Marsia', 'Gibbs', 'Hartz-Mountain', 'Catroux', 'Adolfo.', 'Cohn.', 'Ruth', 'Grimes', \"Daniel's.\", 'Madonna', 'Landau', 'Catherine?\"', 'Kissingers', 'Patcevitch', \"Pierre's\", \"Luger's\", \"Welch's\", 'Coronet', 'Aileen', 'Farrow', 'Lang', \"Chow's\", 'Arias', 'Boaz', 'MacKenzie', 'Scarlett.', 'Martin-New', 'Rydell.\"', 'Morris', \"Yanna's\", 'Trujillo', 'Heinzes.', 'Tony.', 'Vadis', 'Chaplin', \"Vic's\", 'Linda.', 'Jane.', \"Murphy's\", \"Jed's.\", 'Mercedes', 'Sal', 'Burroughs.', 'Carly', \"Burt's\", 'Bergman', 'Martha', 'Kiss.', 'Basquiat?', 'Hawn', \"Jezebel's\", 'Fitzgerald', 'Kilgallen.', 'Llewellyn.', 'Cary', 'Molly', 'Fawcett', 'Mondrian.', 'Tuna', 'Dunleavy', 'Trapnell', 'Serge', \"Barbra's\", 'Kristy', 'Dunn', 'Frampton', 'Dennis\"', 'Rees', 'Julia.', \"Picasso's\", 'Baryshnikov-it', 'McLuhan', 'Fiorucci.', \"Luger's.\", 'Bunty', 'Elaine\\'s.\"', \"Stark's\", 'Maxtone', 'Rivers', \"Jed's\", 'Pratts', 'Syne\"', 'Rosenberg', 'Willard', 'Shiva.', 'Dino', 'Francis', 'Jack.', 'Pecker', 'Johnson', 'Baby', 'Wood.', 'Pitt', 'McGuane.', 'Doria', 'Nicky', 'Karp', 'Ludovic', \"Bette's\", 'Fereydoun', 'Bluhdorn', 'Combemale-her', 'Princess', 'Regina', 'Jack', 'Valerie', 'Sting', \"Maxwell's\", 'Silva', 'Rex', \"Sanchez's\", 'Maura.', 'Everett', 'Stanwyck', 'Klossowski', 'Arquette', 'George.', 'Troy', 'George', 'Diana', 'Fondas.', \"Petty's\", 'Malanga.', \"Ian's\", 'Elvis!', 'J.P.', 'Dannenberg', 'Count', 'Klinghoffers', 'Mortimer', 'Basquiat-I', 'Cook', 'Domonkos', 'Fortuny.\"', 'Deborah', 'Patrick', 'Mason.\"', 'Pop', 'Fields', 'Bob-they', 'Neile', 'Calvin.', 'Gigolo', 'Jodie', 'Welch.', 'Nicholson.', \"Hall's\", 'Annenberg', 'Cerone', 'Hilary', 'Bruno.', \"Claude's\", \"Dubrow's\", 'Blake', 'Randall.', 'Marlborough.', \"Sylbert's\", 'Gaultney', 'Archipenko', 'LeRoy', \"Parton's\", 'Laurence', \"Horne's\", 'Pickford', 'Anjelica-she', 'Buckley', 'O.', 'Chessy.', 'Perrier.', 'Oatsie', 'Toni.', 'Bonny', 'Bluttal', 'Nicola', 'Pallenberg', 'Kincaid.', 'Morrissey', \"Winship's\", 'Jennifer', 'Jonas', 'LeBon', \"Lucio's\", 'Carpenter', 'Silver', 'Tisch', 'Rivers?\"', 'Peter.', 'Ross', 'Rachel', 'Ben', \"Doge's\", 'Bernard', 'Pei', 'Firooz', 'Myers', 'Columbus', 'Breslin', 'Swanson!', 'Saw', 'Waldheim', 'Soltilis', 'Danielli', 'Wyeth.', 'Gordy', 'Keith-he', 'Shelly', \"Brentano's\", 'Ricci', 'Cappy', 'Noguchi', 'Cartier.', 'Forbes!', \"Katy's.\", 'Gifford.', 'Wim', 'Sukey', 'Yvonne', 'Hinckley', 'Beatty.', 'Jermaine', 'Pressman', 'Flack.', 'Henry', 'Treat', 'Altman', 'Bernstein', 'Helene', \"Sedgwick's\", 'Branigan', 'Grable', 'Boite', 'Diego', 'Brad', 'Hesse', 'Rudolph', 'Kosuth', 'Goldwyn', 'Collins.', \"Warner's\", \"Vasarely's\", \"Bruno's\", 'Solanis.', 'Menil', \"Fischer's\", 'Rodgers', 'Steve?', 'Abbie', 'Vauze.', 'Ertegun.', 'Delancey', 'Iman', 'Yorgan', 'Seurat', 'Gordon.', 'Guinness', 'Day-Glo', \"Ethel's\", 'Keyes', 'Watts', 'Nolan', 'Rebus', 'Renta', \"Andrew's\", 'Holly', 'Barbie.', 'Paulina', 'Netherland', 'Honey', 'McQueen\"', 'McGraths.', \"Debbie's.\", 'Haskell', \"Thomas's\", 'Henry-who', 'Bernardin', 'Brooke', \"Earl's\", 'Sonny', 'Hall!', 'Wilde', 'Enid', 'Cheekwood.', 'Restanay', 'ANDY', 'Liberman', \"Moro's\", \"Brants'\", 'Loden-thirty', 'Shand', 'Connors', \"Elaine's?\", 'Niro', 'Isabelle', 'Hackett', 'Woolworth', 'Hulten', 'Rockefeller.', 'Christos', 'Snow', 'Roy', \"Clara's\", 'Nedda', 'Hitler', 'Jon.', 'Sirio-and', 'Fassbinder', 'Duchamp', 'Rydell.', \"Jagger's\", \"Murjani's\", 'Rykiel', 'Robertson', 'LaGuardia', \"Pallenberg's\", 'Emily', 'Stockard', \"Smith's\", 'Goldberg', \"Sonny's\", 'Nona', 'Ghostley.', 'Irving', \"Buckley's\", 'Al-Adwani-have', 'Lehman.', 'Ritz', 'Edwin', 'Fabrizzi', \"Beatty's\", 'J.C.', 'Weidenfeld-had', 'Buber?', 'Cope', 'Schell', 'Leo', 'Pincus', 'Sybil', 'Mulcahy.', 'Starks', 'Byrne', 'Roeg', \"Friendly's\", \"Altman's\", 'Minnelli.\"', 'Stait', 'Peretti.', 'Mickey', 'Poll', \"Baker's\", 'Chuck', 'Julia', 'Wright', 'Balet', 'Liz.', \"Kaiser's\", 'McMullan', 'McNeil', \"Charles's\", 'Esme', 'Kelly.', \"Bowie's\", 'Blahnik', 'Jon-into', 'Preminger', 'Beuyses.', 'Amy.', 'Ziegfeld.', \"Berenson's\", \"Reginette's\", \"Beard's.\", 'Lindsay', 'Herring.', \"Morrissey's\", 'Berger', 'Kirkland', 'Einstein.', 'Feldman.', 'Bikel', 'Cosby', 'Tony', 'Iso', 'Don', 'Curley', 'Goodman', 'Daniel.', 'Grinberg', 'Senator', 'Cashin', 'Picabia', 'Lange', 'Williamson', 'Marianne', 'Deux', 'Ry.', 'Cher.', 'Kennedy?\"', \"Carr's.\", 'Falaise', 'Duka', 'Mehle-and', \"Lyon's\", 'Gifford', 'Mulcahy', 'Bert', 'Revson', 'Tommy', 'Oxenberg', 'Dough', 'Feiden', 'Cavett.', 'Weberman', 'Vadis-Margaret', \"Mork's\", 'Remarque', \"Cicogna's\", 'Charlie', \"McCartney's\", \"Lanne's\", 'Paul.', 'Cullen', 'Gaynor.', 'Kirk', \"Caroline's\", 'Beard', 'Sink', 'Sly', 'Brigitte', 'Jacksons', 'Cohn.\"', 'Orson', 'DIRECTOR', 'C.Z.', 'Shaffer', \"Arnold's\", 'Neidpath.', \"Erwitt's\", 'Callaghan', \"Orsini's\", \"Winnie's\", \"Patti's\", 'Genevieve', 'Eileen', 'Klineman', 'Amin', 'Hermann.', 'Wyman', 'Kluge.', 'Vidor', 'Salinger', \"Fox's\", 'Diana.', \"Wesselmann's\", 'Parrish.', 'Patty', 'Whitney.', 'Joyce', 'Gogh', 'Young', \"Hamilton's\", 'Zahedi.', \"Jackson's\", 'Brando.', 'Netherland-she', 'Odom', 'Schwartz', 'Horii', 'Brill\"', \"Sedaka's\", 'Asen', 'Hofsiss', \"Rauschenberg's\", 'Joan', 'Nesbit', 'Alda', 'Dunaway', \"Pilar's\", 'Pashun', 'Silvana', 'Caterine', 'Finch', \"Steinem's\", 'Trinder', 'Glaser', 'Cybill', 'Eastwood\"', 'Herb', 'Willi', 'Lisa', 'Sarandon', 'Nilsson', 'Hartman-200', 'Peretti', \"Philip's\", 'Kerry', \"O'Shea!\", 'Travolta', 'Rosenblum', 'Modigliani', 'Liv', 'Fraser.', 'Marino', 'Milinaire.', \"Swanson's\", 'Andy?\"', 'Pont', 'Flamingo', 'Halston-that', 'Rob', 'Ina', 'Sedaka', 'Furstenberg-brand', 'Sheppard', 'Bush', 'Mansfield', 'Irving.\"', 'Rumbough', 'Brooke.', \"Holzer's\", 'Johnny', 'Liz-she', \"Kron's\", 'Duvall.', 'McKechnie', \"Diller's\", 'Saint', 'Vincent\"', 'Max', 'Rhodes.', 'Ono', 'Miss', \"Luft's\", 'Patricia', \"Herrera's\", 'Teresa-got', \"Cohn's\", 'Cocteau-beauties', 'Cox', 'Ayres?\"', 'Dine', 'Bach', 'Nixon.', \"Maugham's\", 'Neil.', 'Robbins', 'Rydell', 'Donghia', 'Bergitte', 'Hamlisch', \"Irene's\", \"Robyn's\", \"Nolte's\", 'Regis', 'Webb', 'Cheyne', 'Bottomly-International', 'Gallin.', 'Bose.', 'Kennedy', \"Lawrenson's\", \"Jackie's.\", 'Kaufman', \"Moynihan's\", 'Du', 'Sharpe.', 'Cramer', 'Lehman', 'Reagans', 'Luciano', 'Hubert', 'Montauk', 'Burt', 'Klarwein', 'Cage', 'Warhol.', 'Herzog', 'Lunden-type', 'Bernadette', 'Hurrell', 'Forsythe', 'Thin.', 'Daisy', 'Musto.', 'Lupo', 'Auden', 'Clifton.', 'Gingold', 'Janis.', 'Travolta.', 'Joey', \"Geddes's\", 'Latosha', 'Jerry.', 'Heller', \"Li'l\", 'Marisa', 'Brando', 'Gaetana', 'Schrager', \"Catherine's\", \"Pearl's\", 'Kurt', \"Richard's\", 'Laughlin', 'Coop.', 'Lewis', 'Turbeville.', \"Tavel's\", 'Patti-these', 'Amesbury', \"Larry's\", \"Prince's\", 'Tinkerbelle', 'Bridges.', 'Loring', 'Christ.', 'Oh', \"Ron's\", 'Hank', \"Lewises'\", 'Zoli', 'Francesco', 'Jenkins', 'Mame', 'Kabuki', 'du', 'John-John', \"Eizo's\", 'Jagger?\"', 'Jr.', 'Pink', 'Katy', 'Mondrian', 'Latour', 'Florence', 'O.D.', \"Miles's\", 'Potamkin', 'Patti', 'Marcello', 'Werblin', 'Elia', 'Rainer', 'Vietor', 'Foxcroft.', 'Dubin-she', 'Reinhold', 'Dallesandro', 'Chayevsky', 'Andrea', 'Susan?\"', 'Carney.', 'Sebastian.', 'Marcel', 'Namuth', \"Shore's\", \"Rizzoli's\", 'Anne', 'Cassidy.', 'Seurat\"', 'Francois', 'Mcllhenny', \"Ric's\", 'Connie', \"Magnuson's\", 'Corman', \"Avedon's\", 'Pillsbury', 'Hori', 'Gould-I', 'Rivers-great', 'Neil', 'Nell', \"Lichtenstein's\", 'Rivera?', 'Williams', \"Halston's\", \"Peter's\", 'Homme.', 'Anne.', 'Guy', 'Pam', 'Michaele', 'Ella', 'Neiman', \"L'Ermitage\", \"Nona's\", \"Dick's\", 'Felsen', 'Ru-bell', 'Traub', \"Finch's\", 'Rocky!\"', \"Marion's.\", \"Barry's\", 'Manolo', \"Bill's\", 'Ronnie-Gigi-Spyro', 'Carter', \"Beard's\", 'Ashley', \"Dustin's\", 'Owen', \"Chamberlain's\", \"Matty's\", \"Cyrinda's\", 'Philippa', 'Lopez.', \"Guinness's\", 'Cher\"', 'Baker', 'Ernst', 'Robert-and', \"Bob's\", \"Radziwill's\", 'Govinda', \"Jermyn's\", \"Grey's\", 'Halston', 'Elliot', \"Jr.'s\", 'Paige.', 'Valachi', 'Arlene', 'Moline.', 'Brynner', 'Peck.', 'Evangeline-came', 'Feldman-Mickey', 'Byrnes', 'Oyl.', 'Lawford', 'Roux', \"Elsa's\", 'Edwige.', 'Ross\"', 'Bregman', 'Dr.', \"Sant'Angelo\", 'Richards', 'Blandford', \"Shelly's\", 'Westbury', 'Marianne.', 'Steele', 'Beame.', 'Milos', \"Sieff's\", 'Frances.\"', 'Haden-Guest', 'Pollack', 'Silvinha.', \"Amos's\", 'Bambi', 'Grimes.', 'Winston', 'Andon.', \"Polly's\", 'Sabrina', 'Tower', 'Ossie', 'Calvert', 'Hall?\"', \"Bendel's\", 'Garbo:', 'Hartz', 'Pfeiffer', 'Cooke', 'Ammann', 'Robbie', 'Allen?', \"Sandy's\", 'Cheetah', 'Simmons', 'Marion.', 'Ballard.', 'Edie\"', 'Peter', 'Anderson', 'Mary\"', 'Rupert', 'Job', 'Radner', 'DeSapio.', 'Siegel', 'Belle', 'Boothe', 'Veronica', \"Burke's\", \"Diane's\", 'Caan', 'Silvano.', 'Persky', 'Marc-he', 'Thomas', 'Bianca.', 'Ava', \"Clarke's\", 'Dorsey.', \"Craig'd\", 'Cliburn.', 'Warhol!', 'Sessums.', 'Schmuck.\"', 'Ann', 'Johnson.', 'Starr', 'Morillon', 'Abe', 'Nicklaus', 'Katy.', 'Hoffman', 'Christophe', 'Karole', \"Perkins's\", \"Mailer's\", \"Jimmy's\", \"Monique's\", \"Sean's\", 'Norma', \"Stan's\", 'Hess', 'Holliday', 'Doda', 'Horne', 'Samuels.', 'Shelly?', 'Barker.', 'Debbie.', 'Randal', 'Jarvis', 'Navona', 'Hughes', 'Jane\"', 'Roberts', \"Steven's\", 'Bernet.', 'Wolfe', 'Rauschenberg-David', 'Hazel', 'Chambers', 'McIntyre', \"Sedakas'\", 'Fawcett.', 'Danielle.', 'Alo', 'Aeyung', 'Haydock.', 'Gunther', 'Holzer', \"O'Keeffe\", 'Stone', \"Ann's\", 'Philip', 'Clarissa', 'Sonnier', 'Heinz', 'Zero', 'Echavarria', 'Della', 'Valli', \"Teresa's\", 'Donahue.', 'Mary.\"', 'Manuela', \"Glenn's\", 'Perrich', 'Hustler', 'Mona', 'Haley', 'Zahedi', 'Julio', 'Perelman.', 'Carimati', 'Hirsch', 'Woody', 'Peter-it', 'Victor/Victoria-he', 'Rattazzi', 'Goddard.\"', 'Peters', 'Boy', 'Houston', 'Bess', 'Bardot', 'Grant', 'Vuitton', 'Keith.', 'Stewart.', 'Jamie', 'Schiano.', 'Watson', 'Kenneth', 'Adolph', 'Larson', 'Gerry', \"Bonnier's\", \"Lazar's\", 'Savitt', 'Aldo', 'Maureen', 'Parsons', 'Brenda', 'Tom.', \"Vreeland's\", 'Mame.', 'Steinberg\"', 'Ronstadt', 'Claes', 'Christina-they', \"Poitier's\", \"Max's.\", 'Stuart', 'Radcliffe', \"Vreeland's.\", 'Weld-type', 'Littman', 'Kahn-she', 'Edie.', 'Dickerson', 'Ronnie-I', 'Pan', 'Cantinori.', 'Picassos.', 'Forbes', 'Cockburn.', 'Landau.', 'Theodora.', \"Nelson's\", 'Dicky', 'Van', 'Baryshnikov.', 'Bockris', 'Orentreich.\"', 'Stallone.', 'Hiram', 'Richard.', 'Pollock-and', \"Fuller's\", 'Freud', 'Carson.', 'Gaines', 'Imogene', 'Conde', 'Valentine', 'Franco', 'Wintersteen', 'Llewellyn', 'Hart', 'Hofstra', 'Leslie.', 'Rona', 'Biret', 'Vaccaro', 'Mike', 'Sharon', 'Hitchcock', \"Miranda's\", 'Astor', 'Crisp', 'Tennessee', \"Zeffirelli's\", 'Boy.', \"Bart's.\", 'Peter!\"', 'Lidija', 'Weismans', 'Harrison.', \"Forbes's\", 'Basquiat.', 'Gaultier', \"Huston-Jack's\", \"O'Neal\", 'IV.', 'Wendy', 'Navarro.', 'Bosley', \"Marisol's\", 'Stefanie', 'Mehta', 'Chris', 'Fredericks', \"Branson's\", 'Ronee', 'Timothy', 'Turley', 'Robb', 'Sparling', 'Rossellini', 'Domingo', 'Kanin', 'Stockwell/Samuels', 'Gruen', 'Mayor', 'Gargia', 'Hitler.', 'Marcus', 'Gail', 'Rugoff', 'Stellan', 'Welch', 'Skitch', 'Cecil', 'Reed.\"', 'Vitas', 'Eletha.', 'Curtis.', 'Wolf', 'Bud', 'Shavers.', 'Enders', 'Paulette-just', 'Jackson', 'Wetson', 'Taylors', 'Marino.', \"Furstenberg's.\", 'Steve', \"Shenge's\", \"Stern's.\", 'Martina', 'Kimberly', 'Jackie.', \"Shafrazi's.\", 'Porter.', 'Linda', 'Adolfo', 'Elliott', \"Jade's\", 'Kirkpatrick', 'Stern', 'DeNoyer', 'Ricard-her', 'Lorraine', \"Stuart's\", 'Mickey.', 'Cecile', \"Janssen's.\", 'Borchgrave', 'McCrady', \"Dalton's\", 'Arnold', 'Linus', 'Forman', \"Meyer's\", \"Lynn's\", \"O'Brien\", 'Hale.\"', 'Caesar', 'Liddy', 'Milton', 'Sadder', 'Allure.', 'Feldon', \"Lennon's.\", 'Pratt', \"Guest's\", 'Craig.', \"Castelli's.\", 'McLaren', 'Lena', 'Schary', 'Timmy', 'Tesh', 'Goldwater', 'Kooning', 'Lagerfeld', 'Perris', \"Nubila's.\", 'Quaalude.\"', 'Florinda.', 'Pryor', \"Newhouse's\", 'James.', 'Rubin', \"Ludlam's.\", 'Arthur', 'Alfred', 'Giles', 'Niven', 'Fitzcarraldo.', 'Hammerstein.', \"Sardi's.\", 'Pfeiffer.', 'Bourdon', \"Jay's.\", 'Geddes!', 'di', 'Ric-', \"O'Hara's\", 'Woods', \"Jamie's\", 'Peter?', 'Weymouth', 'Keller', 'Greenberg.', 'Fowler', 'Helen', 'Robin', 'Giller.', 'Cornelia.', 'Jervis', 'Slim', 'Cher', 'Mr.', 'Ramos', 'Papatakis', 'Paul]', \"Kitty's\", 'Wick', \"Lumet's\", 'Meryl', 'Sean.', 'Sullivan.', 'Childs', 'Gael', \"Diana's.\", 'Mellon.', 'Dustin', 'Frankfurt', \"Aronson's\", 'Ball', 'Edwards', 'Lionel', 'Naguib', 'Raymond', 'Kitty', \"Malle's\", 'Mailer.', 'Scarlett', 'Steding.', 'Warrick', 'McCartney', 'Berenson', \"Beuys's\", 'Welles', 'Loewenstein.', \"Samuels's\", 'Simeon', 'Joseph', 'Heston', 'Chow\\'s.\"', 'Wachtmeister', \"Gosman's\", 'Coco', 'Pell', 'Rambo.', 'Goode', 'Rupert.', 'Fernando', 'Robinson.', \"Greenberg's\", 'Collingwood', 'Philbin', 'Doll', 'Reese', 'Bettina.', 'Saatchi', 'Ghaferi.', \"Orso's\", 'Bob', 'Galella', 'Stella', 'Kroll', 'Wayne.', 'Mercedes.', 'Walsh', \"Lambert's\", 'Morningstar.', 'Scull', \"Mayer's\", \"Reinhold's\", 'Fivar', 'Jean.', 'Velcro', 'Vuitton.', 'McGinley', 'Cuomo', \"Ginsburg's\", 'Parsons.', 'Semana', 'Eddie', 'Cale', 'Meyer', 'Andy\"', 'Nicholson.\"', 'Marie', 'Kissinger-and', \"Power's\", \"Peretti's\", 'Bushes', 'Sutherland', 'Goldie', 'Slonim', 'Hemphill.', 'Gero', 'Weber', 'Leroy', 'Jenny', 'Salvador', 'Sellers', 'Ole', 'Pontus', \"Bergdorf's\", 'Albee', 'Bowes-Lyon', 'Sant', 'Coupole', 'Nile', 'Carrie', 'Madonna?\"', 'Elton', 'Kotter', \"Steding's\", \"Daine's\", 'Golub', 'Hammett', 'Tereba', 'Roxanne', 'Cisneros', 'Gaye', \"Papp's\", 'Charlotte', 'Delano.', 'Elsa', 'Fortune', \"Karen's\", 'Rocky.', 'Wertmuller', 'Weegee', \"Walter's\", 'Etkin', \"Green's\", 'Ramon', 'Eula', 'Fab', 'Galella!', 'Fleishman', 'Defarge', 'Melrose.', 'Leo-and', 'Holder', 'Jams', 'Taki-have', 'Papatakis.', 'II:', 'Gould', 'Turkel', \"Pele's\", 'Burgoyne', \"Cartier's.\", 'Konica', 'Kiley', 'Malcolm', 'Milquetoast', 'Janowitz', 'Enrico', 'Stanhope', 'Vidal', 'Iris', 'Bacon', 'Defarge.', 'Nick', \"Winston's\", 'Mantle', 'Auersperg', \"Ryan's\", 'Zivian', 'Neuhaus.', 'Stockwell\"', 'Potamkin-Luba-who', 'Lidija.', 'Williams?', 'Kurt.\"', 'Diener', \"LaMotta's\", 'Bosh-in-eck-shinsk.', 'Lillian.', 'Beuys.', \"Sharpe's\", 'Flore', 'Glen', 'McIntyre.', 'Ivana', \"Foster's\", 'Adjani', \"Alexander's\", 'Coe', 'Lucky', \"Jasmin's\", 'Grahams', 'Name', 'Spitz', \"Hayes's\", 'Quaalude', 'Billy', \"Carter's\", 'Fontaine', 'Fisher', 'Neidpath', 'Fawcett-Majors.', 'Basie', 'Anger', \"Vincent's.\", 'Tyler', 'Pops.', 'Shepherd', 'Jean', 'Imelda', \"Woody's\", 'Armani', 'Gina', 'Trojaborg', 'Kramer', 'Swaggart', 'Suren', 'Mackie', 'Dakota.', 'Dreyfuss!', 'Grenfell-Zeffirelli', 'Margaux', 'King', 'Jake', 'Gretzky', 'Minskoff.', 'Franzen', \"Furstenberg's\", 'Bass.', 'Anton', 'Larsens', 'Goodspeed', 'Mason', 'Matsuda', 'Mama', 'Junot.', 'Rick', 'Ocasek.', 'Haber', 'Roma.', 'Kelly', 'Gore', 'Mia.', 'Reno', 'Mays', 'Eckhardt', 'Bo', 'Rof', 'Michelle', 'Soul', \"Rish's\", 'Robyn', 'Eleanor', \"Gilbert's\", 'Cort', 'Prince', 'Penney\"', 'Tune.', 'Kerr', 'Maria', 'Charisse', 'Firth', \"Paul's\", 'Elizabeth.', 'Martins', \"Lillian's\", 'P.R.', 'McEnroe.', 'Garbos', 'Barrett', 'Hawkins.', 'Mouse', 'Liza', 'Close.', 'Jesse', 'Gere!', 'Gardner-they', 'Belushi', 'Stassinopoulos', 'Claus', 'Jerzy', 'Mick', 'Colonna', 'Cousteau', 'Lundgren.', \"Hofsiss's\", 'Brizzi', 'Querelle', 'Andy', 'Graham.', 'Raynes', 'Paulie', 'Lichtenstein.', \"Isabella's\", 'Walter', 'Popeye', 'Lyon', 'Zipkin', 'Madame', 'Livia', 'Colbert', 'James', 'Rubell.', \"Warhol's\", \"Benjamin's\", 'Lane-type', 'Sutherland.', 'Paley-I', 'Katz', 'Jetson', 'Taylor', 'Reynolds.', 'Ellen', 'Granger', 'Levin', 'Brant.', 'Mahoney', 'Stark', 'Gable', 'Isabel-I', 'Gilmans', 'Milinaire-they', 'Marjorie', 'McKinley', 'Dionne', 'Pickens', 'Marvin', 'Elizabeth', \"Basquiat's.\", 'Mayfair', \"Balet's\", 'Trash-ier.', 'Page', 'Picasso', 'Braun.', 'Mehle.', 'Sharon.', \"McGrath's\", 'Grinda', 'Ted', 'Landau!', 'Lauren', 'Amory', 'Schwarz', \"Eartha's\", \"Roy's\", 'Hertz.', \"Douglas's\", 'Sissy', \"Nicholson's\", 'Flower', 'Reese.', 'Grenfell', \"Eric-from-Area's-sister\", 'Matty.', 'Raga', 'Sylvia-she', \"Norman's\", 'Pompidou', 'Rock', 'Kenny', 'Beulah', 'Wanzenberg', 'Faye', 'Ingrassia', 'Geddes', \"D'Urso.\", 'Sears', 'Penn-and', \"Paley's.\", 'Sanders', 'Strong.', 'Bianca', \"Varsi's\", 'Silkwood', \"Christian's\", 'Adams.', 'Ellis', \"Maura's\", 'Vandross', 'Kathy', \"Donovan's\", 'Connery', \"Alana's\", 'Preach\"', 'Cooney-Holmes', \"Sartin's\", 'Ray', 'Reed', 'Friedrich', 'Manuela-do', 'Hugo.', 'Mengers', \"Bernsohn's.\", \"Wenner's\", \"Lambert's.\", 'Cruise', 'Mitterrand', 'Leigh.', 'Carter.', 'Read', 'Rifat', 'Giorgio', \"Niarchos's\", 'Steve.\"', 'Jenkins.', 'Mollie', 'Rauschenberg', \"Corman's\", 'Todd.', \"Nastase's\", 'Tiegs.', \"Firyal's\", 'Onassis.', 'Kirshner', 'Laroche', 'Daniel', 'Christo', \"Richardson's.\", 'Barbara', 'Wilfredo', 'Berendt', 'Scavullo', 'Alice', 'Took', \"Kane's\", 'Sirio', 'Keating', 'Chu', 'Ferraro', 'Robert?\"', 'Martin.', 'McKuen', 'Bell', \"Gurney's\", 'Crocker', 'Sullivan', 'Piccard', 'Harry-was', 'Spielberg', 'Philippe', 'Muhammad', 'Jed-we', 'Osborn', 'Monroe.', 'Loulou.', 'Ertegun', 'Eve', 'Hamnett', 'Johnson-she', 'Winters', 'Teri', 'Burton', 'Stolichnaya.', \"Howard's\", \"Codognato's\", 'Joel.', 'Gertrude', 'Glenn', 'Polly', 'Kevin', 'Steding', \"Cashin's\", 'Paul', 'Gabel', \"Ray's\", 'Clare', 'MacArthur', 'Francois.', 'Albee.', 'Estevez', 'Blowjob', 'Antonelli', 'Ermoyan', \"Wyeths'\", 'Taylor.', 'Guinness.', 'Lou', 'Head', 'Laurentiis.', 'Buchwald', 'Kellogg.', 'Liza.', \"Stait's\", 'Mesinger', 'Selznick', 'Andy.\"', 'Ethel', 'Paloma', 'Darling', 'Fizdale', \"Francois's\", 'Sally.', 'Toni', 'Moko', 'Brassai!!!', 'Newhouse', 'Nast', 'Jones.', \"Chris's\", \"Burgoyne's\", 'York.', 'Vooren', 'Stevie.]', 'Chanel', 'Horowitz', 'Mitzi.', 'Dean.', 'Nando', 'Radziwill', 'Colacello.', 'Bradshaw', \"D'Estainville\", \"Evans's\", 'Jackson-type', 'Christina', 'Keaton', 'Mick\\'s?\"', \"Vooren's\", 'Beaton.', 'Lachman', 'Wells', 'Dick', 'Dugan', 'Esther.', 'Bisset.', 'Buck', 'Massimo', 'Luft.\"', 'Bolton', 'Aldrin', 'Vonnegut', \"Aquino's\", 'Oberon', 'Cap', 'Geffen', 'Ammann.', 'Kennerly', 'Kienholz', 'la', 'Schippers', 'Pigozzi', 'Amos', 'Streisand.\"', 'Abner', 'Morley', 'Christiansen', 'Ephron', 'Ara', 'Costner', \"Ghanin's\", \"Shaffer's\", 'Pryor?', 'Castelli', 'Cooper', 'Pablo', \"Dionne's\", 'Springsteen-I', 'Revlon', \"O'Donoghue\", 'Gloria.', 'Ocasek', 'Curley-he', \"Phyllis's\", 'Statler', 'Polk?', 'Jason', 'Long', \"Dylan's\", 'Ivy', 'Miranda-and', 'Conried', 'Minnelli.', 'DePalma', 'Tricky', 'Leiber', 'Mineo', 'Hammond', \"Reagan's\", 'Becky', 'Cabot', 'Coveri', 'Gandhi', 'Law', 'Alana.', \"Alba's\", 'Nichols-but', 'Vauze\"', 'Shand.', \"Ponti's\", \"Tang's\", 'Gainsborough', 'Yves:', \"Cavett's.\", 'Berlitz', 'Gilman', 'Bouguereaus', 'Rorschach', 'Garfunkel.', 'Heinrici.', 'Jade.', 'Yolanda', \"Dino's\", 'Scorsese.', 'Ferry.', 'McFadden.', 'Gerulaitis.', 'Charlton', \"Antolotti's\", 'Richie', \"Sinatra's\", 'Sylvia.', 'Davies', 'Hayworth', 'Zipkin.', 'Flick.', \"Buffett's\", 'Pierre.', \"Colacello's\", 'Arnaz.', 'Horida.', 'Stassinopoulos.\"', 'Sylvester', 'Pee-Wee', 'Dubini!', 'Smith', 'Hanson', 'Somers', 'Rockefeller', 'MacLaine.', \"Winnie-Halston'd\", 'Sandro', 'Mondale', 'Suni', 'Nicholas', 'Superman', 'Monica', 'Redgrave', 'Rae', 'Amanda', 'Frankie', 'Stan', \"Wachtmeister's\", 'Frances', 'Barocco', 'Cunningham.', 'Schepps', 'Merle', 'Riklis', 'Guggenheim', 'Patino', 'Deerfield', 'Sutton', 'Murjani', 'Petty', 'Bowes-Lyons', 'Mapplethorpe', 'Ungaro.', \"Peabody's\", 'Warhol?', 'Miles', 'Rubell', \"Paige's\", 'Wilfredo.\"', 'Padgett', 'Amos.', \"Lou's\", 'Ahmad', 'Halston\\'s?\"', \"O'Rourke\", 'Rudolf', 'Glimcher', 'Herbert', 'Lila', 'Torres', 'Mick-he', 'Tama.', 'Heinrici', 'Pace', 'Sinatra', \"Robert's\", 'Wood', 'Geraldine', 'Pagliai', 'Amy', 'Couri', 'Sir', \"Feldman's\", 'Keiko', 'Gardella', 'Hudson', 'Bianca:', 'Heskeths', 'Schumacher.', \"Annabel's.\", 'Franklin', 'Chrissie', 'Magnuson.', 'Rehme', 'Mathers', 'Nureyev.', 'Walton', 'Dominick', 'Yul', 'Le', 'Curry', \"Vonnegut's\", 'Marshall', 'Steven', 'Calvin-Steve', 'Cunningham', 'Eduardo', 'Berenson-they', 'Jock', 'Fuller', 'Plesch-Ettie', 'Blanchette', 'Edmund', 'Schnabel.', 'Reinhold.', 'Edgar', 'Montgomery', 'Malanga', 'Hochman', 'Miles.', 'Morton', 'Isabel', 'Mull', 'Susan.', 'Hisae', 'Michaels', 'Dillon', 'Christopher', 'Pino', 'Iacocca', 'Tallmer.', 'Jenney.', 'Madison', 'Stein.', 'Stanislavsky.', 'Penelope', 'LaFosse', 'Shah', 'Samaras', 'Went', 'Scott', 'Chaplin.', 'Bouguereau', 'Chadds', \"Hawkins's\", 'Jose', 'Caine.', 'Allman', 'Bruno-the', 'Blass?', 'Theodoracopulos', 'Versace', 'Lucy.', 'Gordon', \"Ammann's\", 'MacDonald', 'Harold', 'Borg', \"Nenna's\", 'Hilton', 'Jayne', 'Lucy', 'Dalton', 'Arma', 'Cyndi', 'Stavros', 'Wenders', 'Dalai', 'Hoveydas', 'Myerson', 'Moreno', 'Randy.', 'Felker', 'Kate', 'Tim.', 'Ganay', 'Thorsen.', 'Trax', \"Paddy's\", 'Gallant', 'Portago', 'Charley', 'Garbo.', 'Turner', 'Lauro', \"Julia's\", \"Shiva's\", 'Capote\"', \"Leroy's\", 'Tree', 'Carl', 'Sills', \"Basquiat's\", 'Gagosian', 'Englehard', 'Heather', \"Katz's\", 'G.', 'Bouche', 'Jordan', 'Fosse', 'Lebowitz.', 'Carole-all', 'Elvis.', 'Hales', 'Sullivan-how', \"Balducci's\", 'Mancini', 'Margo.', 'Halstons', 'Carlo', 'Jimmy.\"', 'Rona-type.', \"Richards's\", \"Bernsohn's-he\", 'Leigh', 'DeSapio', 'Gilman-she', 'Pope', \"Kate's\", 'Wooster', 'Cooper-Hewitt', 'Goodson', 'Taurus', 'Corcoran', 'Coll.', \"Money's\", 'Hoffman.', 'Rusty', 'Grayson.', \"Stallone's\", 'Fonssgrives.', 'Elsie', 'Sarandon.', 'Worth.', 'Gardner-or', 'Wilfredo.', \"Adler's\", \"Kellogg's\", 'Loden', 'Tessa', 'Wise', 'Duane', \"Cavett's\", \"Persky's\", 'Gil', 'Abudi', 'Bayless', 'Carlisle', 'Hutton.', 'Hutton', 'Ronstadt.', 'Antenor', \"Paloma's\", 'Brakhage', 'Geldzahler.', 'Satyricon.', 'Doody', 'Adams', 'Muggy.', 'Ondine.', 'Painter.', 'Dallas', 'Laurie', 'Penn.', \"Steve's\", 'McKendry.', 'Goldstein', 'Shields.', 'Kohner', 'Cowles.', 'Jared', 'Krishna', 'Bonwit', 'Allan', 'Gardner', 'Charivari', 'Levine', 'Thelma', 'Fran', 'Volney', 'Goldman', 'Khan', \"Beauvau's\", 'der', 'Nevins', 'Stuart.', 'Powers', 'Kamali', 'Vauze', \"Burke's.\", 'Roz', 'Tate', 'Siegel.', 'Aykroyd', 'Angela', 'Ryan.', \"Lidija's\", 'Claus.', 'Chandon', 'Rode', 'Luther', \"Scharf's\", \"Ronson's\", \"Twombly's\", 'Leibovitz', 'Jasper', 'Imee', \"Truman's\", 'Trudeau.\"', 'Moet', 'Leticia', 'Gauguin', 'Dornan', \"Morton's.\", 'Fred', 'Auchincloss-her', \"Edie's\", 'Derek-style', 'Beatty\"', 'Howar.', 'Averil', 'Gluck', 'Annie', \"Nathan's\", 'Spence.', 'Sartre', 'Perelman', \"Liz's\", 'Rourke.', \"Nevelson's.\", 'Dakota', 'Harcourt', 'Bowie.', 'Hayes', 'Pollock.', 'Elizabeth-I', \"Bernsohn's\", 'Grenouille', \"Dallesandro's.\", 'Marion', 'Roddy', 'Thoreau', 'Thomas.', 'Andrews', 'Glueck', 'Nora', 'Flintstone', 'Lumet', \"Kenny's.\", 'Melions', 'McNally', \"Booth's\", 'Luft.', 'Emlen', \"Johns's\", 'Marcia', \"Thaw's\", \"Susan's\", 'Tucker', 'Jermyn.', 'Dean!\"', 'Aznavour.', 'Burstyn', 'Frolic', \"Blum's\", \"Bianca-at-Halston's\", 'Ted.', 'Robertson.', 'Mills.', 'Anita', 'Gale', 'Rauschenbergs.', 'Merry', 'Ivory', 'Painter', 'Luft-the', 'Mondo', 'Rammellzee', 'Hester.', \"Littman's\", 'Arnaz', 'North', 'Elle.', 'Ladd', 'Andre', 'Castellano', \"Gidal's\", 'Hope', 'Moro', 'Gower', \"Elisabeth's\", \"Keith's\", 'Fendi', \"Rossi's\", 'Sprouse', \"Welles's\", 'Cucci.', 'Gita', 'Davis', 'Brace', 'Hauser', 'Marcos', 'Lily', 'Peters.', \"Redford's\", 'Lane', 'Toye', 'Tinter', 'Albert', \"Barbara's\", 'Block.', 'Firyal', 'Dia', 'Raphaelson', 'Kron', 'Bassirio', 'Theodore', 'Powell', 'Horn', 'Mussolini.', 'Denise', 'Benedetti', \"Nell's\", 'McGrath', 'Henrik', \"George's\", 'Milquetoast.', 'Marisol.', 'F.', 'Shepard', 'President', \"Wilfredo's\", 'Archie', 'Vincent', \"Marty's\", \"Tyrrell's\", \"Halston's-they\", 'Mao', 'Marion.\"', 'Grey.', 'Dunphy', 'Ronnie.', 'Way', 'Lieberson', 'Wagstaff', 'al', 'Gary', 'Kwiatkowski', \"Xuerbe's\", 'Bellamy', \"Field's\", 'Tama-\"We', 'Sammy', 'Hall', 'Vicky', 'Roth.', 'Saul', 'Jackie', 'Suzanne', 'Shirley?', 'Coleman', 'Christopher.', 'Guardino', 'Amelio', 'Bette', 'Conan', 'Hyde', 'Fritz', 'Vivien', 'Clarke.', \"Edmund's\", 'Halston-he', 'Hall.', 'Ford-New', \"Haring's\", 'Antony', 'Mohammed', \"Claire's\", 'Mellen', 'Holden', 'Weintraub', 'bernard', 'Edna', 'Pells', 'Hopkins', 'Albrizzi', 'Jermyn', 'Gilmore', 'Manhasset', 'Marie-Jose', 'Yoko', \"Wyeth's.\", \"Tiffany's\", \"Hoveyda's\", 'Indira', 'Hassim', 'Curtis', 'Vreeland.', 'Grossman', 'Bowie', 'Stellas', 'Mery', \"Buffett's.\", 'Estee', \"Goldfarb's\", 'Kaye', 'Chaplin?\"', 'Giller', \"Doherty's\", 'Cher-ie', 'Gerulaitis', \"Paulette's\", 'Woodward', 'Cates.', 'Ferry', 'Blakley', 'Musto', \"Yul's\", 'Flick', 'Bowes-Lyon.', 'Isham', 'Ricard', 'Blondie-Debbie', 'Duran.', 'Kahn', \"Crosby's\", 'Mick!', 'Grenvilles', 'Jimmy', 'Federico', 'Gualtieri', 'Morgan', \"Grace's\", \"Rydell's\", 'Fellini', \"Dryer's\", 'Cal-the', 'Capote.', 'Waldon', 'Love.', 'Sr.', 'Vicki', 'Cannonball', 'Ambrose', 'Lambton', 'Garr', 'Clyde', 'Patrice', 'Villella', 'Aysie', 'Springer', 'Kit', 'Austin.', 'Thurber', 'Desilu', 'Ayres', 'Curry.', 'Brigid', 'Javits.', 'Downs', \"Antonio's\", \"Turner's\", 'Bernstein.', 'Hoveyda', 'Hockney-Raymond', \"Adler's.\", 'Fraser', 'Oakley', 'Roberta', 'Duke', 'Onassis.\"', \"Christie's\", \"Li's\", 'Rene', \"Jerry's\", 'Eva.', 'W.H.', 'Johnses.', \"Mick's\", 'Elizinha', 'Smothers', \"Reed's\", 'Halstons.', 'Cruise.', 'Kay', \"O'Riley\", \"Penn's\", 'Dani', 'Pete', 'Lady', 'Leon', \"Kenny's\", 'Klein', \"Claudia's\", 'Curtis-he', 'Goodson.', 'Jay.', 'Ullmann.', \"Linda's\", 'Fonda', 'Cosell', 'Benjamin:', 'Kligman', 'Crawford', 'Roast\"', \"Weisman's\", 'Newman.', \"Mildred's\", 'Edit', \"Neil's\", 'Haig', 'Slattery', 'Marilyn.', 'Roger.', 'Allie', 'Ingrid', 'Shezan', 'Catholic?\"', 'Keaton....', 'Silvano', \"Sissy's\", 'Lew', 'JFK', \"Fiorucci's\", 'Odom.', 'Duchin', 'Aspen.', 'Tunney', \"Belushi's\", 'Stutz', 'Beaton', 'Stanton', 'Bendel', 'Waite', \"D'Estainville.\", 'Hayworth.', 'Ed', 'Jacqueline.', 'Rebecca', 'Orlovsky.', \"Jimmy'z\", 'Barry', 'Rocksavage', \"Cruz's\", 'Bridges', 'Smith!', 'Judson?\"', 'Duke.', 'Lally', 'Squier', \"Cook's\", 'Fortabat', \"Alfred's\", \"Harry's\", \"D'Urso\", 'Lorne', 'Tab', 'Piserchio', \"Hinton's\", 'Nevelson', 'Crawford.', 'Ken.', 'Aspen', 'Hansen', 'Arias.', 'Angelina.', 'Koper.', \"Jean-Michel's\", \"Doyle's.\", 'Irene', 'Harvey', \"Munroe's\", 'Teresa', 'Means', 'Doyle', 'Mrs.', 'Eugene', 'Ali', 'Byron', 'Williams.', 'Marquis', 'Bloomfield', 'Shrivers', 'Grinda.', 'Tama', 'Nancy', 'Angie', 'Caligula.', \"Catherine's.\", 'Adam', \"Aimee's\", 'Champion', 'Weissberger', 'Mulane', 'Clint', 'Chelsea', 'Kluver', \"Schiaparelli's\", 'Copleys', 'Trump\"', \"Kerry's\", 'Hustlerl', 'Ruby', 'Spilsbury', \"Kroll's\", \"Stephen's\", 'Pia', \"Julio's\", 'Bonham', 'Schrecker', 'Wise.', \"Coleman's\", \"Galante's.\", 'Presson', 'Dior.', 'Tyrone', 'Zoli.', \"Harper's\", 'Hugo', 'Johnny-one', \"Hedy's\", 'Sonnabend', 'Evans.', 'Kempner.', 'Picwood', 'Lucas', \"Klineman's\", \"Viva's\", \"Fran's\", 'Oscar', 'Arne', \"Holzer's.\", 'Mica', 'Hayward', \"Hackett's\", 'Jed', 'Kitt', \"McCall's\", \"Schnabel's.\", \"Gaines's\", 'Ingeborg', 'Parke', 'Monroe?\"', 'Vincent.', 'Mosley', 'Bourke-White', 'La', 'Mosley.', 'Nastassia', 'Ciao', 'Rorem', 'Grease.', 'Taylor-Richard', 'Sondra', 'Perkins-paying', 'Geri', 'Xavier.', 'Loulou', 'John', 'Baring', 'Seaver', 'Wyatt', 'Stringfellow', 'Rochas', 'Truman', \"Stevie's\", \"Mary's\", 'Georgia', \"Jennifer's\", 'Syne.\"', 'Dudley', 'Hannah', 'Beauvau.', 'Yogi', 'Dorothy', 'Bland-ford', 'Weisman', 'Zanuck', 'Adler.', 'Frankfurts.', 'Palance', 'Fiorucci', 'Truman?', \"Doria's\", \"Miller's\", 'Dabbous.', 'Hepburn.', 'Cutrone.', 'Eugenia', 'Eizo', 'Kiki', 'Esposito', 'Olsen', 'LaTrelle', 'Gere.', 'Curtin', 'Mead', 'Aline', 'Loewenstein', \"Dallesandro's\", 'Carolina', 'Piggy', \"Daniel's\", 'Griffin', 'McEnroe', 'Ate', 'Novak.', 'Rosenquist.', 'Brady.\"', 'Vaughn', 'Mello', \"D'Offay\", 'Merce', \"O'Shea\", 'Harris', \"Caroline's.\", 'Lois', \"Valentino's\", 'Nico', 'Kellerman', 'Dryer', 'Radziwill-they', \"Warrick's\", 'Farley.', 'Walt', \"Philippe's\", 'Sally', 'Kieselstein-Cord', 'Bryant.', \"Johnson's.\", 'Kane.', \"Glennie's\", 'Roone', 'Ivan', 'Lasker', \"Calvin's\", 'II', 'Calvin?\"', \"Ingrid's\", \"Morton's\", 'Hooker', \"Phipps's\", 'Brodovich....', 'Yoyo', \"Tony's\", 'Klarwein.', 'Tim', 'Bolton.', 'Phyllis', 'Jarmusch', 'Malave', \"Weymouth's\", 'Norwich\"', 'Calmette.', 'Roxy', 'Vicious', 'Barbara.', 'Isabella', 'Ast', \"Blakley's\", 'Warhol?\"', 'Rainier', \"Billy's\", 'Rosalynn', 'Lazar', 'Dobbs', 'Diahnne', 'Toscanini.', 'Bergen!\"', 'Robert.', 'Jacuzzi', 'Sterling', 'Petit', 'Bessman', 'Gino', 'Mattel.', \"Isherwood's\", 'Emmerich', 'Bayoud', 'Boone', 'Balderago', 'Tubbs', \"Iris's\", \"Kennedy's\", 'Sartin', 'Sid', 'Gilman.', 'Battcock', 'Yoko.', \"Rob's\", 'Hepburn', 'Cummings', 'McQueen.', \"Ocasek's\", 'Christian', 'Ono.', 'Novak', 'Trump.', 'Woronov', 'Friendly', 'Heinz.', 'Jill', 'Swift', 'Combemale', 'Catherine-just', 'GUILTY!', 'Shriver-I', 'Rosenquists!', \"Mohammed's\", 'Flack', 'Annenbergs', 'Peppo', 'Donald', 'Puck', 'Hamilton', 'Manuela.', 'Liu', \"Brady's\", 'Dey', 'Stander', \"Cowles's\", 'Aidan', 'Gave', \"Elaine's.\", 'Allen', \"Jeanie's\", 'Balazs', 'Dan', 'Samuels-\"especially', 'Neel', 'Kastner', 'Santos', \"Friedrich's\", 'Quinn', \"Walden's.\", 'Niarchos.', \"Zandra's\", \"Bouche's\", \"Lebowitz's\", 'DeMille', 'Dom', 'Fonda.', 'Yorks', 'Sophia.', \"Regine's.\", 'Fink.', 'Boeuf.', \"Blond's\", 'Blackstone', 'Clive', 'Deco.', \"Neel's\", 'Colonna.', 'Silvinha', 'Scribner', \"Feiden's\", 'Beuys', 'Delfina', 'Gallin', 'Calvin-I', 'Margot', \"Scavullo's\", 'Marella', 'Aaron', 'Caulfield.', 'Bea', 'Summers', 'Weissberger.', \"Nureyev's\", 'Pitt.', 'Iglesias', 'Artschwager', 'Mia', \"Greco's\", 'Brian', 'castrati', 'Sendak', 'Rubicam', 'Blondell', 'Schlesinger', 'Herta', 'Vechten', 'Friedkin', 'Shaun', \"England's\", 'Otto', 'Paulette?\"', 'Ricky', 'Eula.', 'Richardson.', \"Pat's\", \"Kevin's\", 'Heiner', 'Heizer', 'Alba', 'Sweetheart', 'Paige!', 'Ogel', 'Murray', 'Jodie.', 'Dumont', 'Lyons', 'Grace.', 'Scarfiotti', 'Bastion.', 'Erhard', 'Miller', 'Andress', 'Kiko', 'Cashin.', 'Pierre', 'Rossellini.', 'Flanders', \"Geldzahler's\", 'Mary.', 'Smith.', 'Herrera.', 'Robards', 'Polacks', 'B.', 'Alana', 'Street', 'Brown', 'Frances?\"', 'Marley', 'Cyd', \"O.'s\", 'Duck', 'Schneider-they', 'Monroe\"', 'Frederickson', 'Michel', 'Becker', 'Ansel', \"Cerutti's\", 'Calvin', 'Hanks', 'Goldenson.', 'Spago', \"Adams's\", \"Leo's\", 'Verdura', 'Payson-you', 'Randy', \"Campbell's\", \"Gallin's.\", 'Brainard.', 'Vanini', 'Andy!', \"Julianne's\", \"Rubell's\", \"Frederick's\", 'Jeane', 'Parton.', 'Protas', 'Fatso', \"Debbie's\", 'Lancome', 'Lightfoot', 'Derek', 'Lichtenstein', 'Rod', 'Dusty', 'Forrest', 'Cartier.\"', 'Charlie.', \"Marjorie's\", 'Makos', 'Rich', 'Shriver', 'Link', 'Lauper', 'Edd', 'Jourdan', 'Laverne', 'Burgess', 'Rose.', 'Shafrazi', 'Hunt', 'Lansburys', 'Laveme', 'Dennis', 'Pearl', 'Clarence', 'Frey', \"Liza's.\", 'Green.', 'Mastroianni', \"D'Abo\", 'McFadden', 'Lamaze', 'Scorsese', 'Bludhorn', 'Cocteau', 'Fred\"', 'Cobb', 'Dior', 'Brearley', 'Sophia', 'Cassandre', 'Anais', 'Wallowitch', 'Lanin', 'Joey.', 'Ripps', 'Mattel', \"Henry's\", 'Markell', 'Anselmino', 'Merrick', 'Mark.', 'Duguay', 'Norman', 'Cisco', \"Shriver's\", 'Maxfield', 'Kempner', \"Hay's\", 'Jakobson', 'Jabara.', 'J.D.', 'Buber.', 'Whitman.', 'Jennifer-and', 'Rabe', 'Autillo', 'Destin', 'Tomkins', \"Sharon's\", 'General', \"Jay's\", 'Badrutt.', 'Dawn', 'Malraux', \"Schnabel's\", 'Picasso.', 'Geraldo', \"Florian's\", \"Leacock's\", 'Sperone', 'Twiggy', 'Leachman', 'Hockney', 'Ronnie', \"Cruise's\", 'Kinski.', 'Mailer', 'Brodovich', \"Cornelia's\", 'Brassner', \"Hudson's\", 'Nolte', 'Andy!\"', 'Marlowe.', 'Hutton.\"', \"Giallo's\", 'Morris.', 'Penney', 'Crespi.', \"Abzug's\", 'Leiber-Stoller', \"Carr's\", 'Lee', 'Shirley.', 'Lawrenson', 'Esther', 'Diana-she', 'Maxime', \"Montgomery's\", 'McGrath.', 'Blair', 'Hunter.', \"Lee's\", 'Gray-Gaultney', 'Andreas', 'Matty', 'Collins', \"Mondales'\", 'Reese-for', 'Tannhauser', 'Makarova-she', 'Brandon', 'Converse', 'McKeon', 'Heusen', 'Sondes.', 'Beauvau', 'Calloway', 'Gruen-Peter', 'Potassa', 'Janklow', 'Wintour', 'Zarem', 'Frederic', 'Mercedes-it', 'Allure', \"Carroll's\", 'Dracula.', 'Palevsky', 'Brooks/Halston', 'Patowsky', 'Coquelin', 'Werblin.', 'McCleary.', 'Ronnie-she', \"O'Higgins\", 'Maximilian', 'Scharf', \"Bernstein's\", 'Craig', \"Cher's\", 'Ribicoff', \"Victor's-at-Halston's.\", 'Gitano', 'Debbie', 'Nyack', \"Vincent's\", 'McGraw', \"Sackler's\", 'Merrill', \"Holmes's\", 'Peabody', 'Toiny', \"O'Brien.\", 'Schreiber', 'Dmitri', 'Annette', \"Zabar's\", 'Ralph', 'Pallenberg.', 'Suzie', 'Rader', 'Trevor', 'Danilo-she', \"Wendy's.\", \"Albee's.\", \"Gallagher's\", 'Antonio', \"Graham's\", 'Bella', 'Bjorn', 'Schrader', 'Colacello-thought', 'Rivera.', 'Lovelace', 'Berlin', \"Halston's.\", 'Cowles', 'Stewart', 'Ace', 'Truman.', \"Hammond's.\", \"Blau's\", 'Solomon', 'Allyson', 'Schmuck', 'Cornelia', 'Amadeus.', 'Bisset', 'Whitney', 'Dagny', 'Jones.\"', 'Sondes', 'Wahl', 'von', 'P.J.', 'Calmette', 'O.J.', 'Barbara\"-in', 'Ritchard', 'Coffman?', 'Polanski.', \"Desi's\", \"Addison's\", 'Greene.', \"Alan's\", 'Edwige', 'Douglas', 'Harrington.', 'Sargents.\"', 'Violet', 'Brillo', 'Elaine', 'Monsieur', 'Ahmet', 'Elliott.', 'Diane', 'Laurentiis', 'Nastase', 'Salle', 'Auchincloss.', 'Coleman.', 'Johns', 'Nelson', \"Rosenquist's\", 'Leighton', \"Monaco's\", 'Hermes', 'Praeger', 'Quaaludes', 'Begelman', 'Jillian', 'Murphy.', 'Cassidy\"', 'Bobby', \"Dennis's\", 'Genet.', 'Doheny', 'Hart.', 'Rasta', 'Cosima', 'Rosanna', \"Felker's\", 'Saltzman.', 'Moviola.\"', 'Caulfield', 'Vladimir', 'Dina', 'Marcovicci', \"Fortuny's\", 'Chow', \"Robinson's\", 'Norton', \"Pamela's\", \"Armstrong's-it\", 'Fahad', 'Weidenfeld', 'Goodbar', 'Martin', 'Edward', \"Dean's\", 'Richard', \"Brown's\", 'Tippin', 'Levin.', \"Mueller's\", 'Jamie.', 'Penney.', 'Ursula', 'Warren', \"Oxenberg's\", 'Monroe', \"Patty's\", \"Mark's\", 'Corky', 'Abdul-Jabbar.', 'Sedgwick.', 'Hemingway', \"Cukor's.\", 'Heartburn', 'Schwartz.', 'Dianne', 'Lou.', 'Keith', 'John.', 'Salles', 'Tonawanda', 'Dragoti', \"Carey's\", 'Geldzahler', 'Redford', 'Placido', 'Bruce.', 'Gene', 'Bachardy', \"Jack's\", 'Miller!', 'Tooker', \"Nichols's\", 'Eartha!', \"Cohen's\", 'Maud', 'Ryskamp.', 'Morandi', 'Zara', 'Edie', \"Valerie's\", 'Hyland', 'Mayer', 'Idi', 'Schrager.', 'Webster', 'Alex', 'Altovise.', 'June', 'Gee.', \"Hernando's\", 'Mazursky', \"Ballato's\", \"Bea's\", \"Ward's\", 'Christiansen.', 'Ingels.', 'Flynt', \"Bergen's\", \"Giorgio's\", 'Nicholson-she', 'Marguerite', 'Rita', 'Cloris', 'Carmen', 'Garry', 'Eunice', 'Laird', 'Carmine', 'Mick.\"', \"Zarem's\", \"Bruce's\", \"Jon's.\", 'Kessler', \"Chris's.\", 'Jeff', 'Trow', \"Paige'd\", 'Vanessa', 'Parton', 'Cohen.', 'Grease', 'Briggle', 'Lane-I', 'Gilot.', 'Harrington', 'Picasso\\'s?\"', 'Ken', 'Tailer', 'Alexis', 'Mehle', \"Erteguns'\", 'Spano', 'Osbourne', 'Mulder', 'Sue', 'Claudia', \"Orentreich's\", 'Gross', 'Gaetana-he', 'Susie\"', 'Rauschenbergs', 'Popism', 'Murdoch.', 'Drake', 'Hendryx', 'Armstrong', 'Sinatra.', 'Earl', 'Brady', \"Robin's\", 'Mademoiselle', 'Springsteen.', 'Caine', 'Oates', 'Biddle', \"Myerson's\", 'Bob-this', 'Friedman', 'Fane', 'Edie-when', 'Peggy', 'Dotson', 'Cardin', 'Nicholson', 'Axton', 'Gay', 'Tropez', 'Ballato', 'Oreo', 'Ludwig', 'Halston.', 'Dore', 'Clemente.', 'John\"', 'Michael.', \"Westergaard's\", \"Raoul's\", 'Halston-just', 'deAk', \"Schiano's\", 'Presnell', 'Bow', \"Hemingway's\", 'Rhonda.', 'Clarisse', 'Flo-Jean\"', 'Norman.\"', 'Stallone', 'Juliette', 'Caroline', 'Al', 'Mati', 'Rish', 'Hay', 'Renata', 'Haring', 'Beefheart.', 'Keitel', 'Barbra', 'Landro', 'Robata', 'Jackson.', 'Vice', \"Willie's\", 'Rosemary.', 'Cheryl.', 'Crosby', 'Chris.', 'Tomlin', 'Rose', 'Elizabeth.\"', 'Lacey', \"Peppo's\", 'Emerson.', 'Lowe', 'DeHaven\"', \"Jill's.\", \"Ford's\", 'Schiaparelli', 'Cohen', 'Blass.', 'Mayer.', 'Brolin', 'Guccione', 'Herman', 'Kennedy.', 'Snyder', 'Bergen.', \"Hector's\", 'Brant', 'Iolas', \"Christopher's\", 'Ludlam', 'Jane\\'s.\"', \"Janowitz's\", 'Demi', 'Farrell', 'VanDam', 'Warwick', 'Bobo', 'Cannon', \"Black's\", 'Siegfried', 'Mary', 'Ned.', 'Mangano', 'Ambroeus.', 'McKendry', \"Roger's\", \"Vollbracht's\", 'Radcliffe.', 'Bleecker', 'Flavin', 'Coppola', 'Foxes', 'Jody', \"Hopper's\", 'Benton.', \"Getty's\", 'Andon', 'Davies.\"', 'Danny', 'Mathis.', 'Bohan.', \"Malkenson's\", 'Bird', 'Jacqueline', 'Florinda', 'Fred.', 'Bouguereaus.', 'Humphrey.\"', \"Berle's\", 'McDermott-McGough', 'Ruscha.', 'Cris', 'Copley', 'Twiggy.', 'Jagger', 'Gigi!', 'Lillian', 'Joe', 'Carnegie', 'Hamilton.', 'Warhols', 'Lina', \"Clark's.\", 'Bulow.', 'Greville', 'Loren', 'Teaneck', 'Sickle', 'Ian', 'Luders', \"Ruskin's\", 'Baum', 'Raphael', \"Heinz's.\", 'Jezebel', \"Crawford's\", 'Ruscha', \"Heinzes'.\", 'Carey.', 'Warhol-I', 'LaChapelle', 'Ozzy', 'Nicholson-Ara', 'Von', 'Marty.', 'Jenette', 'Knowles', 'Intervieni\"', 'Bottomly', 'Renny', 'Ringwald', 'Corice', 'Trudeau', 'Sade', 'MacLaine', 'Parton/Sandy', 'Glorious', 'Plummer', 'Agnelli.', 'Netter', 'Bettina', 'Montauk.', 'Plimpton', \"Hayden's\", \"Gero's\", 'Solanis', 'Garbo', 'Fred.\"', \"Brigid's\", 'Morgan.', 'Manson', 'Walker', 'Lyndon', 'Burns-who', 'Emilio', 'Ian.', 'Pont\"', 'Caffe', \"Rivers's\", \"Agnelli's\", 'Cleef', \"Firth's\", 'Canby', 'Cyrinda', 'Nichols.', 'Byron.', 'Philips.\"', 'Dangerfield', 'Stevens.', 'Gerard-they', 'Glebe', 'Cooney', 'Marks.', 'Feelgood.\"', 'Jacques\"', 'Freeberg', 'Stefania', \"Camerino's\", 'Kemps', 'Cushing', \"Jodie's\", 'Alessandro', 'Alexandra', 'Rollin', 'Pele.', 'Scorsese-Robertson', 'Joshua', 'Auchincloss', 'Fairbanks', 'Pompidou.', 'Kareem', 'Cal', 'Pat', 'Coff-man', \"Levin's\", 'Tarzan', \"Bud's\", 'Soto.', \"Tama's\", 'Deneuve', 'Beame', 'Zev', \"Gimbel's\", 'Buckminster', 'Walters\"', 'Landon', 'Bradley', 'Sarko', 'Wanzenberg.', 'DeLorean', 'Coleco', 'Motherwell.', \"Poll's\", 'Wagner', 'Callas', \"Bronfman's\", 'Dreyfuss?', 'Shoemaker', 'Gianni', 'Hale', \"Kirk's\", 'Haslam', 'Marciano', 'Quo', 'Catherine', 'Wagner.', 'of', 'Ashford', 'Rosemary', 'Mark', 'Ara.', \"Bass's\", 'Teddy', 'Clarke', \"Martins's\", 'Castellani', 'Villard', 'Leacock', 'Stockwell-that', 'Walters:', 'Browne.', 'Avedon.', 'Bono', \"Sue's\", 'Neuhaus', 'Mafioso', 'Hartman\"', 'Bronson', 'Lynda', \"Giller's\", 'Catherine.', 'Rice', 'Hellman', 'Sosenko', \"Cox's\", 'Nate', 'Punk.', 'Magnani.', 'Lord', 'Clapton', \"Ali's\", \"Kirstein's\", 'Agenoux.\"', 'Havadtoy.', 'Larissa.', 'Harlow', \"Curtis's\", \"Emanon's\", 'Wright.', 'Paley', \"Shaun's\", 'Winnie', 'Loos', 'Oliver', 'Navratilova', 'Grump.', 'Pauline', 'Baxter', \"Christy's\", 'Moritz-what', 'Julie', 'Addie', \"Graziella's\", 'Kritsick', 'Marc', 'Winship', 'Mierers', 'Foster.', 'Roosevelt', \"Florence's\", \"Moore's\", 'Streisand', \"Maxime's\", 'Patterson', 'Ethel.', 'Harry.', \"Mao's\", \"Doug's\", 'Annina', 'Regine', 'Beatty?\"', 'Balton', 'Shadow', \"Saban's\", 'Miyake', 'Maugham', 'Musker', 'Candice', 'Haydock', 'Kelloggs', 'Cronkite', \"Melhado's.\", 'Justin', 'Cogan', 'Desi', 'Cafferty', \"Stella's\", 'Fuller-Bob', 'Miranda', 'McAllister\"', 'Eastwood.', 'Midler', 'Willie.', 'Matthew', 'Samuels-John', 'Sandy', 'Bulgari', 'Tracy', 'Fortuny\"', \"Paulina's\", 'Hackett/Marsha', 'Lynn', 'LeBruin', \"Armitage's\", 'Bogart', 'Schiff.', 'Betsy', 'Dillon!', 'Derringer', 'Condotti.', 'Simon', \"Jane's\", 'Heizer.', 'Weymouth-Kenny', 'Weld', 'Peabody.', 'Amesbury.', 'Carlyle', 'Wilson', 'Bette.', 'Kassebaum', 'Cortez', 'Richardson', 'De', \"Shah's\", 'Leslie', 'Gould.', 'Leo\"', \"Clemente's\", 'Lowell.', \"Koch's\", 'Schjeldahl', 'Bosley.', 'Kristofferson', 'Coady', 'Coppet', 'Harriet.\"', 'Cass', 'Popistn', 'Twombly.', 'Mildred', \"Marie's\", 'Dunnock', 'Shields\"', 'Bishop', 'Queen', 'Ann.', \"Cutrone's\", 'Geoffrey', 'Piss', 'Maurice', 'Silver.', 'Sakowitz', 'Vieille', \"Woodward's\", 'Victoria', 'Henry.', 'Dee-Tuesday', 'Reginette', 'Perris.', 'Klinton', 'Wilhelmina', 'DeCarlo', 'Art', 'Hudson.', 'Bonnie', 'Rodney', 'Brenner', 'Joan.', 'Makos.', 'Fred!', \"Bourdon's\", 'Marcie', \"Mostel's\", 'Landers', 'Nina', \"Martin's\", 'Drue', 'Godunov', 'Principe', 'Begelmans', 'Robyn.', 'Serra.', 'Floyd', 'Halston.\"', 'Parnis', 'Baryshnikov', 'Roger', 'Bianca?\"', 'Matt.', \"Liza's\", \"Marie-Jose's\", 'Natalie.', \"Washington's\", 'Gillespie!', 'Bridges!', 'Victor.', 'Simon.', 'Ulli', 'Motherwell', 'Taki', 'Mazor', 'Hooper', 'Pamela', 'Laurentiises', \"Donald's\", 'Wilson.', 'Feld', 'Harriet', 'Berenson.', \"Bulow's\", 'Fillmore', 'Deitch', 'Gigi.', 'Eberstadt', 'Leary', 'Da', 'Rox.', 'Forth', 'Sisi', 'Nena', 'Crispie', 'Hof', 'Shand!', 'Hefner', 'Bernhardt.', 'JOB', 'Schmo\"', 'Judd', 'Emanon', 'Howard', 'Melba', 'Beekman', 'Jack?\"', 'Francesca', \"Pile's\", 'Tammy', 'Belle.', 'Missoni', 'Strasberg', \"Gleason's\", \"Gaye's\", 'Fergie', \"Vanderbilt's\", \"Shirley's\", 'Woolworth-and', 'Dominique', 'Herrings', 'Johansen', 'McCreedy', 'Marina.', 'Miz', 'Sykes', \"Whitney's\", 'Jane', \"Charivari's.\", 'Worth', 'Tootsie.', 'Midgette', 'Gayfryd', 'Louise', 'Springer.', 'Elle', 'Lurie-she', 'Shenge', 'Shirlee', \"Marisa's\", 'Summer', \"Fischl's\", 'Lane.', 'Botticelli.', 'Anthony', 'Boggs', \"Joan's\", 'Milton.', 'Mortimer?', \"Eastwood's\", 'T.T.', 'Branson', 'Hal', 'Agnelli', 'Mekas', \"Duchin's\", 'Dolph', \"Julian's\", 'Eastwood', 'Tareyton', 'Cates', 'LuPone', 'Harrison', 'lolas', 'Ahmet.', \"Stringfellow's\", 'Lucio', 'Bartow', 'Barbie', 'Sherry', 'Schiano', 'Cindy', 'Kane', \"Lester's\", 'Mitchell', \"Sullivan's\", 'Lennon!', 'Lynley.', 'Hammond.', 'Goulet', 'Sanchez', \"Jill's\", 'Clifton', 'Beard-he', \"Maria's.\", 'Jean\"', \"Jaffee's\", 'Jann', 'Valentino', 'Colacello', \"C.Z.'s\", 'Elvis', 'Ileana', 'Hyler', 'Johanna', 'Gee', 'Joplin', \"Sam's\", 'Chester', 'Gres', 'Woolworth.', 'Goude', 'Risa', 'Twombly', 'Minnelli', \"Stone's\", 'Nixon-', 'Astaire-although', 'Guccione.', 'Cassini', 'Bowles.', \"Brandolinis'\", 'Sedakas', 'Bruno', 'Lennon', 'Reynolds', 'Hemingway.', 'Reggie', 'Inge.', 'Streep', 'Bill.', 'Winfrey', 'Paddy', 'Burke', 'Zanetta', 'Magnuson', 'Gregory', 'Freddie', 'Niarchos', 'Willie', \"Holly's\", 'Kline', 'Napoleon', 'Captain', 'William', \"O'Sullivan\", 'Suzy', 'Rie', 'Leonard', 'Britt', 'David.', 'Cicogna', 'Frankenstein', 'Ramrod', \"Nell's.\", 'Lear', 'Giannini', \"Grinda's\", 'Weslow', \"d'Offay\", 'Trump', 'Walters.', 'Benjamin.', 'Gigi', 'Hohenlohe', 'Nickleby', \"Hurrah's\", 'Lauder', \"Eddie's\", 'Tinkerbelle.', 'Humphrey', 'Lansbury', 'Cockette', 'Fabio', 'Anselmino.', 'Steenburgen', 'Emerson', 'Rooney', 'Tryon', 'Swifty', 'Alexander', 'Jasmin', 'Phoebe', 'Picasso?', 'Elijah', 'Bianca.\"', 'Dean', \"Palevsky's\", \"O'Shea.\", 'Jerome', 'Bolkan', 'Flo', 'Warren.', 'Carr', \"Vera's\", 'Margrit', 'Short', \"Harmsworth's\", 'Leba', 'Si', 'Tootsie', 'Lerner', 'Sullivan-she', \"Etkin's\", 'Hershey', \"Andre's\", 'Bouquet', 'Jenrette', 'Shiatsu', \"Volpi's\", 'Kuraoka', 'II.', \"Trudeau's\", 'Manhasset.', 'Evert', 'Shelley', 'Unseld', 'Griffith', 'Raquel', 'Ullmann', 'Tere', \"Nevill's\", 'Brian.', 'Sam-called', 'Ferrer.', 'Brill', 'Charles', 'Merman.', 'Riley.', 'Steve.', 'Haring.', 'Jaggers', 'Hedy', 'Nosei', 'Balthus', 'Elaine\\'s\"', \"Reginette's.\", 'Lil', 'Penn', \"Sarge's\", 'Portanovas', 'Ekland', 'Munroe', \"Iolas's\", 'Shea.', 'Jovanovich', \"Winters's\", \"Lunden's\", 'Sam.\"', 'Pussy', 'Moyne', 'Harvey.', 'Brooks', 'Augustus', 'Towne', 'Hughes.', 'Locke.', 'Mae.', 'DeGaulle', \"Jean's\", 'Collyer', 'Ronald', \"Utrillo's\", \"Fred's\", 'Irving.', \"Leighton's.\", 'Evans', 'Auder-she', 'Marty', 'Simpson'}\n",
            "time: 2.98 ms (started: 2021-09-06 20:48:00 +00:00)\n"
          ]
        }
      ]
    },
    {
      "cell_type": "code",
      "metadata": {
        "colab": {
          "base_uri": "https://localhost:8080/"
        },
        "id": "NVO1cYK8jLI_",
        "outputId": "81faa1fd-f478-432c-cac8-489c009b4452"
      },
      "source": [
        "len(peoplelistnotpairset)"
      ],
      "execution_count": 57,
      "outputs": [
        {
          "output_type": "execute_result",
          "data": {
            "text/plain": [
              "5371"
            ]
          },
          "metadata": {},
          "execution_count": 57
        },
        {
          "output_type": "stream",
          "name": "stdout",
          "text": [
            "time: 2.29 ms (started: 2021-09-06 20:48:00 +00:00)\n"
          ]
        }
      ]
    },
    {
      "cell_type": "code",
      "metadata": {
        "colab": {
          "base_uri": "https://localhost:8080/"
        },
        "id": "oos-NOLL26gI",
        "outputId": "42a2e323-ee63-4f5c-93f9-bc96d8774a88"
      },
      "source": [
        "Counter(peoplelistnotpair).most_common(10)"
      ],
      "execution_count": 58,
      "outputs": [
        {
          "output_type": "execute_result",
          "data": {
            "text/plain": [
              "[('Bob', 553),\n",
              " ('Fred', 543),\n",
              " ('John', 378),\n",
              " ('Halston', 320),\n",
              " ('Jean', 319),\n",
              " ('Bianca', 311),\n",
              " ('Michel', 280),\n",
              " ('Victor', 260),\n",
              " ('Chris', 256),\n",
              " ('Jon', 255)]"
            ]
          },
          "metadata": {},
          "execution_count": 58
        },
        {
          "output_type": "stream",
          "name": "stdout",
          "text": [
            "time: 21.3 ms (started: 2021-09-06 20:48:00 +00:00)\n"
          ]
        }
      ]
    },
    {
      "cell_type": "code",
      "metadata": {
        "colab": {
          "base_uri": "https://localhost:8080/"
        },
        "id": "wOnRWCP0QILw",
        "outputId": "ff654b53-db29-45c5-bab1-9a60422010a2"
      },
      "source": [
        "prevalue=\"\" \n",
        "preword=\"\"\n",
        "peoplepair=[]\n",
        "for elem in predictiontest:\n",
        "  for elem2 in elem:\n",
        "\n",
        "    for word, value in elem2.items():\n",
        "\n",
        "      newstring=\"\"\n",
        "      if value == 'B-PER' or value == 'I-PER' :\n",
        "        if value == 'I-PER' and prevalue == 'B-PER':\n",
        "          newstring = str(preword) + \" \" + str(word)\n",
        "          del peoplepair[-1]\n",
        "        else:\n",
        "          newstring=word\n",
        "        peoplepair.append(newstring)\n",
        "        prevalue=value\n",
        "        preword=word"
      ],
      "execution_count": 59,
      "outputs": [
        {
          "output_type": "stream",
          "name": "stdout",
          "text": [
            "time: 202 ms (started: 2021-09-06 20:48:00 +00:00)\n"
          ]
        }
      ]
    },
    {
      "cell_type": "code",
      "metadata": {
        "colab": {
          "base_uri": "https://localhost:8080/"
        },
        "id": "0LQ5Y5hvQhRA",
        "outputId": "0a0beef7-3007-455c-e05c-84a9d5519e13"
      },
      "source": [
        "peoplepair[:50]"
      ],
      "execution_count": 60,
      "outputs": [
        {
          "output_type": "execute_result",
          "data": {
            "text/plain": [
              "[\"Halston's\",\n",
              " 'Victor',\n",
              " 'Joe Eula',\n",
              " 'Aly Kaiser.',\n",
              " 'Victor',\n",
              " 'Dr. Orentreich.\"',\n",
              " 'Dr. Giller',\n",
              " 'Mrs. Kaiser',\n",
              " 'Miguel Bose',\n",
              " 'Joe MacDonald',\n",
              " 'Joe',\n",
              " 'Veronica',\n",
              " 'Muhammad Ali',\n",
              " 'Ronnie Levin',\n",
              " 'Muhammad',\n",
              " 'Henry Geldzahler',\n",
              " 'Fred',\n",
              " 'Henry',\n",
              " 'Henry',\n",
              " 'Ellsworth',\n",
              " 'Kelly',\n",
              " 'Ellsworth',\n",
              " 'Kelly',\n",
              " 'Mayor Koch',\n",
              " 'Rupert',\n",
              " 'Ron Feldman',\n",
              " 'Rock',\n",
              " 'Harcourt',\n",
              " 'Jackie Curtis',\n",
              " 'Jovanovich',\n",
              " 'Margaret Trudeau',\n",
              " 'Viva Mork',\n",
              " 'Robin Williams.',\n",
              " \"Jed's\",\n",
              " \"Susan Mork's\",\n",
              " 'Sherry',\n",
              " 'Lucie Arnaz',\n",
              " 'Mork',\n",
              " 'Jon Woods',\n",
              " 'Richard Weisman',\n",
              " 'Howard Cosell',\n",
              " \"Reggie Jackson's\",\n",
              " \"Averil Meyer's\",\n",
              " 'Mrs. Payson',\n",
              " 'Averil',\n",
              " 'Yogi',\n",
              " 'Berra',\n",
              " 'Mickey Mantle',\n",
              " 'Howard Cosell',\n",
              " 'Richard']"
            ]
          },
          "metadata": {},
          "execution_count": 60
        },
        {
          "output_type": "stream",
          "name": "stdout",
          "text": [
            "time: 3.64 ms (started: 2021-09-06 20:48:01 +00:00)\n"
          ]
        }
      ]
    },
    {
      "cell_type": "code",
      "metadata": {
        "colab": {
          "base_uri": "https://localhost:8080/"
        },
        "id": "tuZ81A--pghZ",
        "outputId": "200e023d-196e-49e3-e04b-a493f1eab8e0"
      },
      "source": [
        "len(peoplepair)"
      ],
      "execution_count": 61,
      "outputs": [
        {
          "output_type": "execute_result",
          "data": {
            "text/plain": [
              "21585"
            ]
          },
          "metadata": {},
          "execution_count": 61
        },
        {
          "output_type": "stream",
          "name": "stdout",
          "text": [
            "time: 2.2 ms (started: 2021-09-06 20:48:01 +00:00)\n"
          ]
        }
      ]
    },
    {
      "cell_type": "code",
      "metadata": {
        "colab": {
          "base_uri": "https://localhost:8080/"
        },
        "id": "Y7RV72-Jqtcs",
        "outputId": "c6e75101-c7a9-46cc-9691-9ae4214bb6a6"
      },
      "source": [
        "Counter(peoplepair).most_common(10)"
      ],
      "execution_count": 62,
      "outputs": [
        {
          "output_type": "execute_result",
          "data": {
            "text/plain": [
              "[('Fred', 475),\n",
              " ('Bob', 364),\n",
              " ('Jean Michel', 272),\n",
              " ('Bianca', 256),\n",
              " ('Basquiat', 236),\n",
              " ('Paige', 209),\n",
              " ('Brigid', 201),\n",
              " ('Jon', 199),\n",
              " ('Halston', 197),\n",
              " ('Catherine', 193)]"
            ]
          },
          "metadata": {},
          "execution_count": 62
        },
        {
          "output_type": "stream",
          "name": "stdout",
          "text": [
            "time: 11.7 ms (started: 2021-09-06 20:48:01 +00:00)\n"
          ]
        }
      ]
    },
    {
      "cell_type": "code",
      "metadata": {
        "colab": {
          "base_uri": "https://localhost:8080/"
        },
        "id": "3K4_rfA2MwuI",
        "outputId": "13ff9d00-da8b-4156-da50-173678e21cd4"
      },
      "source": [
        "from statistics import mean\n",
        "  \n",
        "def Average(lst):\n",
        "    return mean(lst)"
      ],
      "execution_count": 63,
      "outputs": [
        {
          "output_type": "stream",
          "name": "stdout",
          "text": [
            "time: 3.62 ms (started: 2021-09-06 20:48:01 +00:00)\n"
          ]
        }
      ]
    },
    {
      "cell_type": "code",
      "metadata": {
        "colab": {
          "base_uri": "https://localhost:8080/"
        },
        "id": "jO8c-UYR-6mV",
        "outputId": "16bbcf86-0aa5-4cb1-f203-a6d425d7a3f3"
      },
      "source": [
        "def list_duplicates_of(seq,item):\n",
        "    start_at = -1\n",
        "    locs = []\n",
        "    while True:\n",
        "        try:\n",
        "            loc = seq.index(item,start_at+1)\n",
        "        except ValueError:\n",
        "            break\n",
        "        else:\n",
        "            locs.append(loc)\n",
        "            start_at = loc\n",
        "    return locs\n"
      ],
      "execution_count": 64,
      "outputs": [
        {
          "output_type": "stream",
          "name": "stdout",
          "text": [
            "time: 1.69 ms (started: 2021-09-06 20:48:01 +00:00)\n"
          ]
        }
      ]
    },
    {
      "cell_type": "code",
      "metadata": {
        "colab": {
          "base_uri": "https://localhost:8080/"
        },
        "id": "uIJ6l6zGKqfO",
        "outputId": "5f4052e0-b132-4e77-8773-f65fd36fb6d3"
      },
      "source": [
        "fredfrequence = list_duplicates_of(peoplelistnotpair, 'Fred')\n",
        "print(list_duplicates_of(peoplelistnotpair, 'Fred'))\n",
        "print(len(fredfrequence))\n",
        "print(\"Position of Fred =\", round(Average(fredfrequence), 2))\n"
      ],
      "execution_count": 65,
      "outputs": [
        {
          "output_type": "stream",
          "name": "stdout",
          "text": [
            "[26, 78, 85, 87, 146, 294, 296, 298, 481, 503, 540, 632, 698, 726, 773, 840, 969, 1125, 1128, 1192, 1262, 1264, 1440, 1470, 1519, 1533, 1625, 1647, 1720, 1868, 2057, 2060, 2093, 2195, 2198, 2215, 2240, 2256, 2267, 2272, 2273, 2328, 2343, 2365, 2425, 2426, 2437, 2454, 2561, 2599, 2600, 2607, 2608, 2609, 2647, 2650, 2683, 2725, 2938, 3004, 3005, 3199, 3233, 3236, 3237, 3242, 3286, 3321, 3372, 3374, 3377, 3388, 3475, 3480, 3487, 3667, 3681, 3722, 3725, 3727, 3957, 4015, 4023, 4213, 4340, 4624, 4671, 4674, 4677, 4732, 4738, 4742, 4783, 4784, 4795, 4796, 4800, 4843, 4860, 4901, 5128, 5169, 5222, 5227, 5306, 5309, 5363, 5425, 5539, 5678, 5724, 5750, 5893, 5908, 5918, 5919, 6008, 6026, 6116, 6212, 6215, 6217, 6299, 6362, 6375, 6404, 6414, 6497, 6543, 6684, 6685, 6686, 6704, 6707, 6743, 6744, 6777, 6871, 7339, 7367, 7368, 7505, 7520, 7522, 7637, 7646, 7648, 7705, 7921, 7940, 8284, 8299, 8307, 8381, 8408, 8528, 8560, 8565, 8573, 8856, 8858, 8859, 9169, 9384, 9406, 9552, 9933, 10090, 10240, 10241, 10356, 10362, 10365, 10435, 10462, 10590, 10657, 10775, 10788, 10794, 10838, 10972, 11033, 11119, 11141, 11226, 11469, 11484, 11506, 11545, 11735, 11751, 11769, 11791, 11797, 11837, 11936, 11944, 11969, 11971, 12000, 12004, 12021, 12052, 12124, 12192, 12316, 12384, 12447, 12451, 12566, 12618, 12839, 12849, 12850, 12851, 12923, 12952, 12957, 13108, 13136, 13192, 13212, 13398, 13422, 13436, 13542, 13618, 13704, 13737, 13754, 13756, 13826, 13964, 14045, 14088, 14161, 14324, 14327, 14478, 14614, 14698, 14722, 15094, 15120, 15229, 15267, 15317, 15405, 15406, 15408, 15543, 15570, 15644, 15763, 15773, 15780, 15804, 15822, 15825, 15826, 15827, 15830, 15997, 16066, 16107, 16126, 16180, 16340, 16359, 16443, 16529, 16571, 16716, 16757, 16776, 16780, 16783, 16820, 16959, 16971, 17068, 17083, 17238, 17266, 17269, 17309, 17336, 17432, 17435, 17437, 17587, 17782, 17801, 17809, 17815, 17818, 17828, 17845, 17991, 17995, 18055, 18056, 18417, 18421, 18423, 18490, 18641, 18816, 18836, 18915, 18929, 19029, 19041, 19110, 19111, 19190, 19193, 19207, 19329, 19420, 19480, 19576, 19751, 19768, 19811, 19853, 19939, 19948, 19949, 20302, 20306, 20312, 20575, 20584, 20737, 20755, 20769, 20793, 20945, 21040, 21119, 21135, 21136, 21169, 21309, 21419, 21523, 21529, 21636, 21871, 21903, 21929, 22077, 22079, 22080, 22082, 22088, 22152, 22153, 22241, 22255, 22340, 22402, 22442, 22488, 22501, 22511, 22640, 22809, 22844, 22880, 23039, 23062, 23104, 23306, 23309, 23371, 23447, 23616, 23628, 23678, 23683, 23692, 23698, 23741, 23855, 23856, 23871, 23921, 23934, 23971, 23974, 24036, 24105, 24106, 24158, 24176, 24199, 24512, 24534, 24568, 24608, 24611, 24774, 24789, 24981, 25020, 25072, 25099, 25290, 25439, 25502, 25539, 25542, 25548, 25571, 25580, 25683, 25696, 25760, 25765, 25773, 25774, 25775, 25777, 25785, 25837, 25964, 26062, 26065, 26067, 26072, 26074, 26075, 26076, 26079, 26162, 26164, 26165, 26167, 26230, 26238, 26283, 26286, 26287, 26289, 26403, 26444, 26449, 26518, 26540, 26555, 26677, 26695, 26696, 26697, 26698, 26699, 26702, 26729, 26734, 26748, 26749, 26751, 26815, 26816, 26886, 27122, 27159, 27285, 27312, 27329, 27334, 27434, 27450, 27570, 27643, 27654, 27682, 27689, 27717, 27838, 27933, 28047, 28050, 28052, 28163, 28170, 28247, 28272, 28281, 28288, 28378, 28434, 28437, 28451, 28452, 28622, 28692, 28773, 28806, 28809, 28817, 28819, 28876, 28931, 28946, 28950, 29419, 29474, 29515, 29598, 29603, 29708, 29717, 29718, 29720, 29721, 29723, 29738, 29744, 29745, 29747, 29859, 29860, 29869, 29905, 30011, 30071, 30073, 30212, 30297, 30335, 30341, 30344, 30363, 30373, 30417, 30482, 30492, 30493, 30555]\n",
            "543\n",
            "Position of Fred = 16014.73\n",
            "time: 9.54 ms (started: 2021-09-06 20:48:01 +00:00)\n"
          ]
        }
      ]
    },
    {
      "cell_type": "code",
      "metadata": {
        "colab": {
          "base_uri": "https://localhost:8080/"
        },
        "id": "L2u7EglfMrAQ",
        "outputId": "8e95ac09-884f-402e-9bcf-af9ca81e59c3"
      },
      "source": [
        "Jonfrequence = list_duplicates_of(peoplelistnotpair, 'Jon')\n",
        "print(list_duplicates_of(peoplelistnotpair, 'Jon'))\n",
        "print(len(Jonfrequence))\n",
        "print(\"Position of Jon =\", round(Average(Jonfrequence), 2))"
      ],
      "execution_count": 66,
      "outputs": [
        {
          "output_type": "stream",
          "name": "stdout",
          "text": [
            "[56, 335, 345, 414, 570, 752, 853, 859, 865, 867, 1102, 1103, 1109, 1133, 1220, 1307, 1705, 1708, 1822, 1825, 1903, 1913, 2224, 2400, 2591, 2645, 2911, 3022, 3204, 3206, 3207, 3220, 3756, 3975, 4293, 4413, 4686, 4781, 4782, 5175, 5414, 5623, 5747, 5975, 6120, 6180, 6194, 6284, 6285, 6754, 7084, 7089, 7117, 7319, 7320, 7408, 7414, 7422, 7425, 7429, 8377, 8503, 8505, 8728, 9031, 9122, 9123, 9124, 9125, 9129, 9387, 9450, 9496, 9497, 9686, 9692, 9697, 9821, 9824, 9825, 9830, 9965, 9970, 10024, 10027, 10619, 10787, 10808, 10810, 10941, 10951, 10962, 11416, 11430, 11432, 11435, 11437, 11452, 11665, 11724, 11897, 11972, 11975, 12007, 12008, 12027, 12084, 12093, 12099, 12108, 12174, 12324, 12338, 12482, 12525, 12788, 12789, 12993, 13295, 13397, 13483, 13539, 13562, 13610, 13696, 13703, 13718, 13810, 13994, 13996, 13997, 13999, 14000, 14001, 14165, 14227, 14230, 14288, 14298, 14302, 14414, 14538, 15014, 15015, 15092, 15210, 15243, 15375, 15384, 15386, 15391, 15392, 15403, 15506, 15516, 15519, 15653, 15657, 15669, 15784, 15791, 15856, 15884, 15935, 16221, 16225, 16356, 16360, 16565, 16719, 17364, 17365, 17552, 17917, 18625, 19014, 19046, 19277, 19292, 19296, 19608, 19648, 19810, 19901, 20103, 20157, 20261, 20936, 21052, 21098, 21300, 21393, 21410, 21646, 22109, 22130, 22134, 22772, 23010, 23204, 23301, 23450, 23451, 23454, 23461, 23572, 23791, 24166, 24169, 24170, 24217, 24306, 24346, 24374, 24377, 24378, 24581, 24590, 24593, 24634, 24737, 24744, 24764, 25422, 25445, 25470, 25634, 26213, 26274, 26279, 26609, 26675, 26825, 26826, 27005, 27376, 27852, 27942, 28144, 28146, 28147, 28231, 28465, 28505, 28631, 28715, 28718, 28719, 28967, 29055, 29190, 29297, 29306, 29488, 30177]\n",
            "255\n",
            "Position of Jon = 14394.34\n",
            "time: 5.82 ms (started: 2021-09-06 20:48:01 +00:00)\n"
          ]
        }
      ]
    },
    {
      "cell_type": "code",
      "metadata": {
        "colab": {
          "base_uri": "https://localhost:8080/"
        },
        "id": "_drnKPH3NdC0",
        "outputId": "0bfabe2a-53dc-4f36-f14d-e2265c1f2aec"
      },
      "source": [
        "xfrequence = list_duplicates_of(peoplelistnotpair, 'Brigid')\n",
        "print(list_duplicates_of(peoplelistnotpair, 'Brigid'))\n",
        "print(len(xfrequence))\n",
        "print(\"Position of x =\", round(Average(xfrequence), 2))"
      ],
      "execution_count": 67,
      "outputs": [
        {
          "output_type": "stream",
          "name": "stdout",
          "text": [
            "[156, 164, 395, 489, 665, 792, 833, 949, 971, 974, 1193, 1717, 1845, 1860, 2022, 2155, 2751, 3358, 3442, 3682, 3685, 3720, 3994, 4031, 4124, 4334, 4360, 4506, 4688, 4773, 4780, 4802, 4823, 4948, 4965, 4966, 4967, 4974, 4976, 4977, 5181, 5725, 6157, 6163, 6318, 6487, 6574, 6594, 7150, 7391, 7488, 7493, 7731, 8488, 8787, 8788, 8789, 9377, 9390, 9562, 9818, 10864, 11015, 11997, 12693, 12894, 12991, 13393, 13885, 13887, 14606, 14705, 14947, 15211, 15280, 15315, 15316, 15318, 15462, 15489, 15821, 15841, 15876, 15879, 16049, 16205, 16208, 16550, 16568, 16577, 16580, 16909, 16984, 17058, 17458, 18081, 18422, 18430, 18435, 18526, 18826, 18827, 18831, 18832, 18834, 18843, 18848, 18849, 18854, 18855, 18860, 18861, 18864, 18868, 18871, 18933, 19009, 19042, 19043, 19486, 19487, 19803, 19886, 19904, 20462, 20684, 20689, 20894, 20924, 20928, 21069, 21195, 21479, 21498, 21648, 21742, 21877, 21891, 22366, 22428, 22475, 22479, 22861, 22915, 22982, 23000, 23001, 23002, 23092, 23495, 24129, 24131, 24180, 24699, 25426, 25579, 25691, 25704, 25714, 25759, 26210, 26467, 26468, 26578, 26622, 26633, 26823, 27068, 27151, 27156, 27274, 27333, 27391, 27395, 27429, 27596, 27734, 27767, 27791, 27999, 28038, 28518, 28524, 28525, 28528, 28529, 28531, 28532, 28534, 28536, 28537, 28538, 28539, 28704, 28785, 28917, 29195, 29357, 29376, 30027, 30035, 30037, 30038, 30039, 30040, 30048, 30050, 30052, 30053, 30054, 30060, 30174, 30292]\n",
            "213\n",
            "Position of x = 17244.19\n",
            "time: 6.67 ms (started: 2021-09-06 20:48:01 +00:00)\n"
          ]
        }
      ]
    },
    {
      "cell_type": "code",
      "metadata": {
        "colab": {
          "base_uri": "https://localhost:8080/",
          "height": 672,
          "referenced_widgets": [
            "3c19b66e31144442bfad8ff6be0597a2",
            "bb5119854c414a5c92a622548151afc5",
            "1a00349fecdf404998d6658bb2e999cb",
            "37bd4a5eb3d449afb2f7e2f4b8ff68c2",
            "b2565253441e4741b2b2ac77eb76af82",
            "825400058b564d81a6fe70788ec39a31",
            "c890cf75fb1d4e588d5281af462d9e8a",
            "7fabe97b40d749588fa47500d73979fe",
            "1e796d97de02462f9765a911beb937cf",
            "1c0514c4575d47099e57eacbf07f21eb",
            "d44f0d9c642f48dfb7d7645c61ae2aa7",
            "2bb72cab247f450597762a7405cb6ac8",
            "1e677953efe04da88cdb49c6f9cabadf",
            "3e3a142fb1ba40fa94bf2b18abf32f92",
            "d291df34b7624dcc810bfb9b9b5e672b",
            "d342dd5380af41269539d889b8bbbb01",
            "8e073fc8f9ee4db29483112c7a3638a5",
            "21af0a5fed7f4b608815e313e9c42546",
            "9fecb6283e194b98aaba2fdd2950b3e9",
            "4f0ba5d2ef3842edbd82ca032e2e6470",
            "8f7c7f7b5a6e4dd48936c38655482e23",
            "8b85556015e2453e88427d153b0b99fc",
            "a4c80929948c4f5a80cc83241d3e984f",
            "ad64c428d34444bfa82ae82f307c8883",
            "10225786a11b47159cc89dba058ba555",
            "2150088e1e30475599baab7e6e06848c",
            "26077e6f7a424f749da7912ddf0f7bed",
            "10bfb15d4e804e4cbda49eae0923b1d1",
            "ab40c55637da4bb9b29e65b307a39af3",
            "534f08e13a6443d3aad1014dc5998122",
            "8a1339ac2a9d4092bc97aea94c5d9663",
            "4b718d35c43f4bc5be00dd3d4fc0c06c",
            "4998e8a9ce11457cb88872abc3eb572c",
            "aac61550d925428d81401f09f60b43b8",
            "e98607a8e5544bf3824751a8e4550955",
            "bbfc487958164fbebfa094f607e9812b",
            "76516f4afcc7447787d5b8fa28cb3175",
            "eee209f37d2b4b1cbdc2091765232945",
            "9945375e41ae47e58cacd411e5bfdf7a",
            "4dbe1b83ae1e4177bd61312f74e13d0f",
            "4c45888375b342988c7bb31fcfadbc11",
            "e068f5c4ecd64265a879bfb9d52abc34",
            "0ba29442268644a68f9390cb75c9180c",
            "238f410073e3407c8d7e1ae80cfc7073",
            "48880bdf38114f658ee8975915f47a67",
            "ecdfb9c280f2419daeacb8880df3dd87",
            "ffe37b65bfa9440c9ce8f200357e0569",
            "577a06875b5346579d2ffc5513537fbb",
            "b2406e0804c54fc0b9ddff2fe7b34975",
            "f6d1c62278fc4cc8a5dc97bfc75ee3ad",
            "e1338aaa414546f580e5254b74a62bd7",
            "389a257eb0a445238999de14886c84dd",
            "3a288172aef94b3db8c36c0ac9f72b82",
            "10fd157818bf42de97b58ac62faeb4b3",
            "cd5028e3357243f099ae94ff90673eaa",
            "ef7a3fd219d14195bc7ec7c05beb3293",
            "baf91b281f1c455c88ff3916724602ed",
            "3d908ea874ea41ccab8746229a6c1994",
            "f1b5599859d0454bb2603900f9c5d01b",
            "15f3b84a70ef4f1d9c2a57cefb6e7187",
            "3cfc15f5322948478e24486af9c73123",
            "5af45b5acc6f4badb6bb0742305502ee",
            "f67e82f562c14b60b79890431f66cde7",
            "b022bda475e542e4af6d5cd06d3b8c67",
            "f6cb50f067184abc9791c83b505dad11",
            "810b293193a74cebb1e502d897e940f0",
            "1deb07748f744e06a08478b9d54edf55",
            "c154b22410a848d09668139c828ca165",
            "1d05903a8d2648a288e3e823015a0b94",
            "b8058bca2eac45e387a55190ddfd6cca",
            "c740af546ae147589d1756027ff9cc71",
            "5fd1f648727b4a758e1488d3795bb41e",
            "95cf39dfc0bc444291a40a3b5d40a1ba",
            "d64b0d5f21c942a996b849c1eaed7c1c",
            "3b78b59a1d904484a61fcb25c4ed4565",
            "cf951b1067264aed954abea1a0178f3b",
            "3f90e870282c4d388e9a818865468f48",
            "0462287c16d64879aba6279b9dc4c875",
            "8a5093643e4348ecac1b1a8a0a3e4069",
            "bf2bf8f77e67412eadd947748e1a833f",
            "12ba0f96562840d0abd0e1721b246b0c",
            "ea0df7085f4a45ca9890147d4a490154",
            "532d59ff9dc54e628488e287f321d034",
            "7cd81edb75454875b2b27a113aaddd4e",
            "096100e661be4c8e80c948646b85d524",
            "228d18826f3e497893568640ab1a2e32",
            "2bb90f080ddc464c98b84754f542cde5",
            "eb7b5ec8f2bb45068a58a51f4e6b57c6",
            "e9fd74b2679a4f84904d1b48cd5c1947",
            "11c612ad5827472287d6b4930a22624a",
            "413d11dbbe1e40d7a021fb6be8b133b2",
            "0d0893e962a24b69a20e561ab7fdbfee",
            "ec5090cd83ac4f4784135f92e2b6c100",
            "5fec4ac6988944cc93643ae103afeade",
            "3251167ee6ff48fdba2fafff9f4564fd",
            "be2709c939ed4a358e05fabf7f9b5b8d",
            "8fbfba4126264bee80a7d0f7a191605d",
            "a135b15b7e81424391409b7c56ae1383",
            "79cf38a6cf614678a7c500edf3900d2c",
            "622449352d3b441f81bb2409060ee749",
            "50ecf2abf653457e96f00270e627acca",
            "18966ee221b448468bffced223ff65d3",
            "86671c531a234835940e9d3b38e1b303",
            "f9751acb32894892bf7e6c227441a05f",
            "8646dc01492540b482e51b815fdf044c",
            "6f788f60892645c4aca189d0928488d4",
            "396d85a0c9254a0f8ca692c4f6f325fb",
            "92a9ebb1eaa24946939e883eb87f7e82",
            "513d68b1236b44b89adad03bc8e9704d",
            "b2ffe9223872484dba4726b9857aabc2",
            "4cf5484105e04b8585e074a4c5da6ce4",
            "39530f56a0b84419a63aa479f47a082d",
            "d2763f8bc99140f8b391dd87d8655b25",
            "5c8d377dcb0a41c693b54cf10bf7db5e",
            "d15606592bea4e94b4d772a6b359122c",
            "cdce13257ebd467d993ce77c207685c5",
            "9e7dc3bd186444dd97bb366d3f9cea40",
            "c00fbc3479054ebaa99523da05626009",
            "64227b1eaafc496fb1bf67006c078a6b",
            "f6b62aab5d924db3a9d54596c3e92002",
            "a9ab0ee68d994915a637d9ed616a8300",
            "1335fe0b8e00448bbcc1148d297e6a72",
            "af21781cd38a4415a9878df14b83ab8c",
            "7ea41d832c964ca787e15c5cd1bbad44",
            "4abcbfdea8d54896b6be21f12685e933",
            "7506ff6c45f24c18b1ea2999ded261cd",
            "9f08acf0e4594b5fa89ec1ecf5fffda3",
            "28ffb68d932c43c98d65cef059c18e3a",
            "73cdbf00cb8f4f629a2156aa58b310a6",
            "6ca9d3085f7c4fa39d7f6ce5c30d75d7",
            "3df4b3d329844ed19c97805728870119",
            "9e272e047713477a8bed795a35cfdc36",
            "462ea970ea424074ab26955a600a82f8",
            "f92c2d7eb7134858aeec15859ec3ce23",
            "630fa19b5ce44a3f8e9fde9d8cfdbdf6",
            "8b9820725328437bb07cc2901261ec1d",
            "cffdd891a535498db751508b054a6999",
            "2e8338de17c84ec1a568e6c4824a4750",
            "6ea017b2b1a24f8186f11127f80a608c",
            "3c7cf9a1a8474c4b8b0a5f1fd2006369",
            "cd379c0ec4684ccaaef20a7acc17e579",
            "efb23c20df29486880cedca1f72f3a0e",
            "6b6280328b71474596ca2566c5eb6a74",
            "9be005f322794f15875f9778fe7e8277",
            "543c06d3bff24c508d5ab80829a66d8a",
            "06967224ab25436d8e2f075151696b7d",
            "efca4cd73ddc4263b1f0eebcfe253e8d",
            "e61bc46f5a964c7db24e7b8d9f915e0b",
            "1da1c66743094459b62969babe78dc76",
            "08091babea63442fa2e2e6b11242cf0c",
            "885cf104b306442c98423270cc998da1",
            "1e42b0655f3049e29a505fe60a996d68",
            "0e429273aaf94d659b69316ce3be1df4",
            "109934fe45784c42b8e6f89662293ff5",
            "4a44438330e648dc97939f4548bfd1cb",
            "bb6ea033ecc442b494cfc1337bf47cb8",
            "cec1c8cb018c4bfabccb1027ff548bb4",
            "76f465837a1649d9bb341a10efdaba7f",
            "983cb74942fb4af280bb68a1dec1885b",
            "eb55e02e48c747ed8f37f00aec436528",
            "64280bed3dea40b0b74d41506a66d050",
            "c426a818730448949cc92326fc657fec",
            "69645a1c53834960b4c98f13124fa49a",
            "20d283019a5e4fbd8caea624a15ce6eb",
            "6fefe8c090074567b8aadd9d3b4ca66f",
            "ea010ec177a94549b60bf6ac96209a9a",
            "b81fa0908ca047db83cb03b40a872540",
            "c3213a5f4f114b5fbe91a8cff611d7ec",
            "4e60577dabcd41bea2b67537aba08b44",
            "74fd1a2ec6d641ca8441870c64fe30e6",
            "1052e155372c41af993e36d55c8e5974",
            "71ffa1a2ac3f46d8bd91d107b721000b",
            "a9c02ed3162b4483902aca74ed4e7a6f",
            "074263bbf97e4fb3aed27234e34a8dac",
            "2eeb57dda4bb4143b7d672996297148a",
            "43a5e67f622a4c2d85e91b1f845cce19",
            "9f387d5c2f6843bc95887f8ea2721ed6",
            "1d2deb983e14432e82a632e25ae9f12b",
            "443df35f4c2f4bb0b068296f03d1d21c",
            "00e5debfcdaa4db09e7007602722ad55",
            "683b5736b7f248b3961baf075709a716",
            "70b9ecbbc80d4d7e8b5feba5b3cb2d12",
            "4de4a0a5b7a04f3f8e0c811e56bcce8c",
            "cefd8b9e1fc149d9966cf256daa293d4",
            "e8c91a25780c4a8f8ff672bf41e2fccf",
            "61c0257d6b7f4bc29a373bd2aff7fa61",
            "c24153d3a6d648af88308586a93ff7c0",
            "67392ea5966742f08c6a9e111acbbea2",
            "e633399b26e543308bb562cff9544858",
            "f062302843c946cb90890f9dd5203cdb",
            "11b80dc3411a4482a766194481233e19",
            "6b1ee413f0894409824fdef4bcd6c864",
            "c05aaa114bb94dfba05cb91d644ebd2b",
            "3ae710056ecd4a7fbcf501c592f8c912",
            "6aa27567178d473bb6d358471dfcf635",
            "2b9c404b2c344d799a9ec73ff29b6562",
            "f39f23f7707746948b3c09cc0cd9cf1d",
            "b3141595bb3a4b5a99c7099f77010d44",
            "227f23118e5145db850594c124601707",
            "20393c4e2ef7426c951624c07f84737a",
            "4e2cfa4606134df7becea22824eee9ca",
            "d4a92f3b6a69423183a6fcb520d4af61",
            "af4326ba004e4de0be297a55cf7e6747",
            "875874169abc461196d36b0f702d51f3",
            "33c8b5054aea41868247551980df9e42",
            "e45be35dbc67431c9069110d7f2430ec",
            "6183102a18d2411d9c833c2f8eb7777d",
            "59e32fd8fd754d25b628dc2275f95c20",
            "4246e4574f264f16a652f05c45e5275d",
            "d3e5a02c74ab423baacf66a2239e2e49",
            "cb9bfa74e4bf43f0baa9058290a17dd2",
            "818fdaaea1754e45854b5d750a65600b",
            "1caa7fa492dc4f478f7c5852a2c19109",
            "f927fd9e1c4d47069e6eaa49dd87656f",
            "27a1ca014eae4936be8f394e57c5bc4b",
            "597995dcd6df4488979270ae9b748438",
            "d0230e25fcc748799eb990efb35918e9",
            "e586302e6ea9471fabb0bd4a03a6ae0e",
            "92e8c2c72e3849e5a15474efe2602b53",
            "f9fc40be09c548459a7caeb4f74a2c46"
          ]
        },
        "id": "EOcpP-Z10MT8",
        "outputId": "30681438-0faa-49db-d43e-a99e8bcf730a"
      },
      "source": [
        "dayslist=[]\n",
        "predictlist=[]\n",
        "for days in text[:10]:\n",
        "  predictionpeople, model_output3 = model.predict([days])\n",
        "  predictlist.append(predictionpeople)\n",
        "  prevalue=\"\" \n",
        "  preword=\"\"\n",
        "  peoplelist=[]\n",
        "  for elem in predictionpeople:\n",
        "    for elem2 in elem:\n",
        "\n",
        "      for word, value in elem2.items():\n",
        "\n",
        "        newstring=\"\"\n",
        "        if value == 'B-PER' or value == 'I-PER' :\n",
        "          if value == 'I-PER' and prevalue == 'B-PER':\n",
        "            newstring = str(preword) + \" \" + str(word)\n",
        "\n",
        "            del peoplelist[-1]\n",
        "          else:\n",
        "            newstring=word\n",
        "          peoplelist.append(newstring)\n",
        "          prevalue=value\n",
        "          preword=word\n",
        "  dayslist.append(peoplelist)"
      ],
      "execution_count": 68,
      "outputs": [
        {
          "output_type": "display_data",
          "data": {
            "application/vnd.jupyter.widget-view+json": {
              "model_id": "3c19b66e31144442bfad8ff6be0597a2",
              "version_minor": 0,
              "version_major": 2
            },
            "text/plain": [
              "  0%|          | 0/1 [00:00<?, ?it/s]"
            ]
          },
          "metadata": {}
        },
        {
          "output_type": "display_data",
          "data": {
            "application/vnd.jupyter.widget-view+json": {
              "model_id": "2bb72cab247f450597762a7405cb6ac8",
              "version_minor": 0,
              "version_major": 2
            },
            "text/plain": [
              "Running Prediction:   0%|          | 0/1 [00:00<?, ?it/s]"
            ]
          },
          "metadata": {}
        },
        {
          "output_type": "display_data",
          "data": {
            "application/vnd.jupyter.widget-view+json": {
              "model_id": "a4c80929948c4f5a80cc83241d3e984f",
              "version_minor": 0,
              "version_major": 2
            },
            "text/plain": [
              "  0%|          | 0/1 [00:00<?, ?it/s]"
            ]
          },
          "metadata": {}
        },
        {
          "output_type": "display_data",
          "data": {
            "application/vnd.jupyter.widget-view+json": {
              "model_id": "aac61550d925428d81401f09f60b43b8",
              "version_minor": 0,
              "version_major": 2
            },
            "text/plain": [
              "Running Prediction:   0%|          | 0/1 [00:00<?, ?it/s]"
            ]
          },
          "metadata": {}
        },
        {
          "output_type": "display_data",
          "data": {
            "application/vnd.jupyter.widget-view+json": {
              "model_id": "48880bdf38114f658ee8975915f47a67",
              "version_minor": 0,
              "version_major": 2
            },
            "text/plain": [
              "  0%|          | 0/1 [00:00<?, ?it/s]"
            ]
          },
          "metadata": {}
        },
        {
          "output_type": "display_data",
          "data": {
            "application/vnd.jupyter.widget-view+json": {
              "model_id": "ef7a3fd219d14195bc7ec7c05beb3293",
              "version_minor": 0,
              "version_major": 2
            },
            "text/plain": [
              "Running Prediction:   0%|          | 0/1 [00:00<?, ?it/s]"
            ]
          },
          "metadata": {}
        },
        {
          "output_type": "display_data",
          "data": {
            "application/vnd.jupyter.widget-view+json": {
              "model_id": "1deb07748f744e06a08478b9d54edf55",
              "version_minor": 0,
              "version_major": 2
            },
            "text/plain": [
              "  0%|          | 0/1 [00:00<?, ?it/s]"
            ]
          },
          "metadata": {}
        },
        {
          "output_type": "display_data",
          "data": {
            "application/vnd.jupyter.widget-view+json": {
              "model_id": "0462287c16d64879aba6279b9dc4c875",
              "version_minor": 0,
              "version_major": 2
            },
            "text/plain": [
              "Running Prediction:   0%|          | 0/1 [00:00<?, ?it/s]"
            ]
          },
          "metadata": {}
        },
        {
          "output_type": "display_data",
          "data": {
            "application/vnd.jupyter.widget-view+json": {
              "model_id": "e9fd74b2679a4f84904d1b48cd5c1947",
              "version_minor": 0,
              "version_major": 2
            },
            "text/plain": [
              "  0%|          | 0/1 [00:00<?, ?it/s]"
            ]
          },
          "metadata": {}
        },
        {
          "output_type": "display_data",
          "data": {
            "application/vnd.jupyter.widget-view+json": {
              "model_id": "622449352d3b441f81bb2409060ee749",
              "version_minor": 0,
              "version_major": 2
            },
            "text/plain": [
              "Running Prediction:   0%|          | 0/1 [00:00<?, ?it/s]"
            ]
          },
          "metadata": {}
        },
        {
          "output_type": "display_data",
          "data": {
            "application/vnd.jupyter.widget-view+json": {
              "model_id": "4cf5484105e04b8585e074a4c5da6ce4",
              "version_minor": 0,
              "version_major": 2
            },
            "text/plain": [
              "  0%|          | 0/1 [00:00<?, ?it/s]"
            ]
          },
          "metadata": {}
        },
        {
          "output_type": "display_data",
          "data": {
            "application/vnd.jupyter.widget-view+json": {
              "model_id": "1335fe0b8e00448bbcc1148d297e6a72",
              "version_minor": 0,
              "version_major": 2
            },
            "text/plain": [
              "Running Prediction:   0%|          | 0/1 [00:00<?, ?it/s]"
            ]
          },
          "metadata": {}
        },
        {
          "output_type": "display_data",
          "data": {
            "application/vnd.jupyter.widget-view+json": {
              "model_id": "462ea970ea424074ab26955a600a82f8",
              "version_minor": 0,
              "version_major": 2
            },
            "text/plain": [
              "  0%|          | 0/1 [00:00<?, ?it/s]"
            ]
          },
          "metadata": {}
        },
        {
          "output_type": "display_data",
          "data": {
            "application/vnd.jupyter.widget-view+json": {
              "model_id": "9be005f322794f15875f9778fe7e8277",
              "version_minor": 0,
              "version_major": 2
            },
            "text/plain": [
              "Running Prediction:   0%|          | 0/1 [00:00<?, ?it/s]"
            ]
          },
          "metadata": {}
        },
        {
          "output_type": "display_data",
          "data": {
            "application/vnd.jupyter.widget-view+json": {
              "model_id": "4a44438330e648dc97939f4548bfd1cb",
              "version_minor": 0,
              "version_major": 2
            },
            "text/plain": [
              "  0%|          | 0/1 [00:00<?, ?it/s]"
            ]
          },
          "metadata": {}
        },
        {
          "output_type": "display_data",
          "data": {
            "application/vnd.jupyter.widget-view+json": {
              "model_id": "ea010ec177a94549b60bf6ac96209a9a",
              "version_minor": 0,
              "version_major": 2
            },
            "text/plain": [
              "Running Prediction:   0%|          | 0/1 [00:00<?, ?it/s]"
            ]
          },
          "metadata": {}
        },
        {
          "output_type": "display_data",
          "data": {
            "application/vnd.jupyter.widget-view+json": {
              "model_id": "9f387d5c2f6843bc95887f8ea2721ed6",
              "version_minor": 0,
              "version_major": 2
            },
            "text/plain": [
              "  0%|          | 0/1 [00:00<?, ?it/s]"
            ]
          },
          "metadata": {}
        },
        {
          "output_type": "display_data",
          "data": {
            "application/vnd.jupyter.widget-view+json": {
              "model_id": "67392ea5966742f08c6a9e111acbbea2",
              "version_minor": 0,
              "version_major": 2
            },
            "text/plain": [
              "Running Prediction:   0%|          | 0/1 [00:00<?, ?it/s]"
            ]
          },
          "metadata": {}
        },
        {
          "output_type": "display_data",
          "data": {
            "application/vnd.jupyter.widget-view+json": {
              "model_id": "227f23118e5145db850594c124601707",
              "version_minor": 0,
              "version_major": 2
            },
            "text/plain": [
              "  0%|          | 0/1 [00:00<?, ?it/s]"
            ]
          },
          "metadata": {}
        },
        {
          "output_type": "display_data",
          "data": {
            "application/vnd.jupyter.widget-view+json": {
              "model_id": "d3e5a02c74ab423baacf66a2239e2e49",
              "version_minor": 0,
              "version_major": 2
            },
            "text/plain": [
              "Running Prediction:   0%|          | 0/1 [00:00<?, ?it/s]"
            ]
          },
          "metadata": {}
        },
        {
          "output_type": "stream",
          "name": "stdout",
          "text": [
            "time: 4.3 s (started: 2021-09-06 20:48:01 +00:00)\n"
          ]
        }
      ]
    },
    {
      "cell_type": "code",
      "metadata": {
        "colab": {
          "base_uri": "https://localhost:8080/"
        },
        "id": "dWi351YUvV8D",
        "outputId": "f629b5aa-44e2-478f-f33f-c73feca3dced"
      },
      "source": [
        "dayslist"
      ],
      "execution_count": 69,
      "outputs": [
        {
          "output_type": "execute_result",
          "data": {
            "text/plain": [
              "[[\"Halston's\", 'Victor', \"Pearl's\", 'Joe Eula', 'Aly Kaiser.', 'Victor'],\n",
              " ['Miguel Bose',\n",
              "  'Joe MacDonald',\n",
              "  'Joe',\n",
              "  'Veronica',\n",
              "  'Muhammad Ali',\n",
              "  'Ronnie Levin'],\n",
              " ['Henry Geldzahler',\n",
              "  'Fred',\n",
              "  'Henry',\n",
              "  'Henry Ellsworth',\n",
              "  'Kelly',\n",
              "  'Ellsworth',\n",
              "  'Kelly',\n",
              "  'Mayor Koch'],\n",
              " ['Margaret Trudeau',\n",
              "  'Mork',\n",
              "  'Robin Williams.',\n",
              "  \"Jed's\",\n",
              "  \"Susan Mork's\",\n",
              "  'Sherry',\n",
              "  'Lucie Arnaz',\n",
              "  'Mork'],\n",
              " ['Jon Woods'],\n",
              " ['Richard Weisman',\n",
              "  'Howard Cosell',\n",
              "  \"Reggie Jackson's\",\n",
              "  \"Averil Meyer's\",\n",
              "  'Mrs. Payson',\n",
              "  'Averil',\n",
              "  'Yogi Berra'],\n",
              " ['Coffman',\n",
              "  'Pork',\n",
              "  'Tony Coffman?',\n",
              "  'Diana Vreeland',\n",
              "  'Bob',\n",
              "  'Michael',\n",
              "  'Pat York.',\n",
              "  'Carole Rogers',\n",
              "  'Sally'],\n",
              " [],\n",
              " ['Moynihan', 'Maura', 'Dominique Sanda', 'Moynihan', 'Chris'],\n",
              " ['Dr.', \"Reese Bernsohn's-he\", 'Reese', 'Reese', 'Reese']]"
            ]
          },
          "metadata": {},
          "execution_count": 69
        },
        {
          "output_type": "stream",
          "name": "stdout",
          "text": [
            "time: 6.12 ms (started: 2021-09-06 20:48:05 +00:00)\n"
          ]
        }
      ]
    },
    {
      "cell_type": "code",
      "metadata": {
        "colab": {
          "base_uri": "https://localhost:8080/"
        },
        "id": "oAMj_JYivja1",
        "outputId": "02b03d63-65d1-46d6-8ddf-60ab711588ef"
      },
      "source": [
        "dayslist[0]"
      ],
      "execution_count": 70,
      "outputs": [
        {
          "output_type": "execute_result",
          "data": {
            "text/plain": [
              "[\"Halston's\", 'Victor', \"Pearl's\", 'Joe Eula', 'Aly Kaiser.', 'Victor']"
            ]
          },
          "metadata": {},
          "execution_count": 70
        },
        {
          "output_type": "stream",
          "name": "stdout",
          "text": [
            "time: 3.6 ms (started: 2021-09-06 20:48:05 +00:00)\n"
          ]
        }
      ]
    },
    {
      "cell_type": "code",
      "metadata": {
        "colab": {
          "base_uri": "https://localhost:8080/"
        },
        "id": "Sq6GUJktms1A",
        "outputId": "b78ad75a-efef-4c79-b0e1-171bd6b00cd0"
      },
      "source": [
        "geonotpair=[]\n",
        "for elem in predictiontest:\n",
        "  for elem2 in elem:\n",
        "    for word, value in elem2.items():\n",
        "      if value == 'B-GEO' or value == 'I-GEO' :\n",
        "        geonotpair.append(word)"
      ],
      "execution_count": 71,
      "outputs": [
        {
          "output_type": "stream",
          "name": "stdout",
          "text": [
            "time: 186 ms (started: 2021-09-06 20:48:05 +00:00)\n"
          ]
        }
      ]
    },
    {
      "cell_type": "code",
      "metadata": {
        "colab": {
          "base_uri": "https://localhost:8080/"
        },
        "id": "K_vyG-TG1mqp",
        "outputId": "dc1592f9-e17c-4f53-d60c-29645246ba63"
      },
      "source": [
        "geonotpair[:5]"
      ],
      "execution_count": 72,
      "outputs": [
        {
          "output_type": "execute_result",
          "data": {
            "text/plain": [
              "[\"Pearl's\", 'Lower', 'East', 'Side', 'Spain']"
            ]
          },
          "metadata": {},
          "execution_count": 72
        },
        {
          "output_type": "stream",
          "name": "stdout",
          "text": [
            "time: 2.06 ms (started: 2021-09-06 20:48:05 +00:00)\n"
          ]
        }
      ]
    },
    {
      "cell_type": "code",
      "metadata": {
        "colab": {
          "base_uri": "https://localhost:8080/"
        },
        "id": "d1ld0LbI12ZU",
        "outputId": "d67351c9-c957-4e6e-b606-2ecfb699bbf9"
      },
      "source": [
        "len(geonotpair)"
      ],
      "execution_count": 73,
      "outputs": [
        {
          "output_type": "execute_result",
          "data": {
            "text/plain": [
              "4247"
            ]
          },
          "metadata": {},
          "execution_count": 73
        },
        {
          "output_type": "stream",
          "name": "stdout",
          "text": [
            "time: 1.9 ms (started: 2021-09-06 20:48:05 +00:00)\n"
          ]
        }
      ]
    },
    {
      "cell_type": "code",
      "metadata": {
        "colab": {
          "base_uri": "https://localhost:8080/"
        },
        "id": "E7MaFwBK3D67",
        "outputId": "f02be441-c773-4c5a-8391-a76f4860e6f8"
      },
      "source": [
        "Counter(geonotpair).most_common(10)"
      ],
      "execution_count": 74,
      "outputs": [
        {
          "output_type": "execute_result",
          "data": {
            "text/plain": [
              "[('New', 295),\n",
              " ('York', 248),\n",
              " ('L.A.', 82),\n",
              " ('East', 77),\n",
              " ('Park', 70),\n",
              " ('Madison', 69),\n",
              " ('California', 62),\n",
              " ('St.', 55),\n",
              " ('York.', 50),\n",
              " ('Square', 49)]"
            ]
          },
          "metadata": {},
          "execution_count": 74
        },
        {
          "output_type": "stream",
          "name": "stdout",
          "text": [
            "time: 4.8 ms (started: 2021-09-06 20:48:05 +00:00)\n"
          ]
        }
      ]
    },
    {
      "cell_type": "code",
      "metadata": {
        "colab": {
          "base_uri": "https://localhost:8080/"
        },
        "id": "Fj3Dlm6tq72X",
        "outputId": "258ec8b1-1dab-4218-cb69-e95739bf60bd"
      },
      "source": [
        "prevalue=\"\" \n",
        "preword=\"\"\n",
        "geopair=[]\n",
        "for elem in predictiontest:\n",
        "  for elem2 in elem:\n",
        "\n",
        "    for word, value in elem2.items():\n",
        "\n",
        "      newstring=\"\"\n",
        "      if value == 'B-GEO' or value == 'I-GEO' :\n",
        "        if value == 'I-GEO' and prevalue == 'B-GEO':\n",
        "          newstring = str(preword) + \" \" + str(word)\n",
        "\n",
        "          del geopair[-1]\n",
        "        else:\n",
        "          newstring=word\n",
        "        geopair.append(newstring)\n",
        "        prevalue=value\n",
        "        preword=word"
      ],
      "execution_count": 75,
      "outputs": [
        {
          "output_type": "stream",
          "name": "stdout",
          "text": [
            "time: 179 ms (started: 2021-09-06 20:48:05 +00:00)\n"
          ]
        }
      ]
    },
    {
      "cell_type": "code",
      "metadata": {
        "colab": {
          "base_uri": "https://localhost:8080/"
        },
        "id": "NeAqHdpnrVnj",
        "outputId": "fb6f9786-d2d2-4332-dddc-8b548c34a8a1"
      },
      "source": [
        "geopair[:5]"
      ],
      "execution_count": 76,
      "outputs": [
        {
          "output_type": "execute_result",
          "data": {
            "text/plain": [
              "[\"Pearl's\", 'Lower East', 'Side', 'Spain', 'Beverly Hills']"
            ]
          },
          "metadata": {},
          "execution_count": 76
        },
        {
          "output_type": "stream",
          "name": "stdout",
          "text": [
            "time: 4.74 ms (started: 2021-09-06 20:48:05 +00:00)\n"
          ]
        }
      ]
    },
    {
      "cell_type": "code",
      "metadata": {
        "colab": {
          "base_uri": "https://localhost:8080/"
        },
        "id": "7QU_7PVqrN3t",
        "outputId": "7e4fdc7a-e2a0-4245-c387-5c6d785f7e2b"
      },
      "source": [
        "len(geopair)"
      ],
      "execution_count": 77,
      "outputs": [
        {
          "output_type": "execute_result",
          "data": {
            "text/plain": [
              "3323"
            ]
          },
          "metadata": {},
          "execution_count": 77
        },
        {
          "output_type": "stream",
          "name": "stdout",
          "text": [
            "time: 4.25 ms (started: 2021-09-06 20:48:05 +00:00)\n"
          ]
        }
      ]
    },
    {
      "cell_type": "code",
      "metadata": {
        "colab": {
          "base_uri": "https://localhost:8080/"
        },
        "id": "drex0DxBrbNe",
        "outputId": "bbc38de2-429e-4a7c-84c2-c34527bdf88a"
      },
      "source": [
        "Counter(geopair).most_common(10)"
      ],
      "execution_count": 78,
      "outputs": [
        {
          "output_type": "execute_result",
          "data": {
            "text/plain": [
              "[('New York', 168),\n",
              " ('L.A.', 73),\n",
              " ('California', 55),\n",
              " ('St.', 49),\n",
              " ('New York.', 48),\n",
              " ('Madison', 43),\n",
              " ('Christmas', 41),\n",
              " ('York', 40),\n",
              " ('Paris', 35),\n",
              " ('Broadway', 34)]"
            ]
          },
          "metadata": {},
          "execution_count": 78
        },
        {
          "output_type": "stream",
          "name": "stdout",
          "text": [
            "time: 4.18 ms (started: 2021-09-06 20:48:06 +00:00)\n"
          ]
        }
      ]
    },
    {
      "cell_type": "code",
      "metadata": {
        "colab": {
          "base_uri": "https://localhost:8080/"
        },
        "id": "rXH5Q-lPM2JU",
        "outputId": "60d5e593-2637-4f3c-9ba6-758ac0886bb2"
      },
      "source": [
        "gpenotpair=[]\n",
        "for elem in predictiontest:\n",
        "  for elem2 in elem:\n",
        "    for word, value in elem2.items():\n",
        "      if value == 'B-GPE' or value == 'I-GPE' :\n",
        "        gpenotpair.append(word)"
      ],
      "execution_count": 79,
      "outputs": [
        {
          "output_type": "stream",
          "name": "stdout",
          "text": [
            "time: 170 ms (started: 2021-09-06 20:48:06 +00:00)\n"
          ]
        }
      ]
    },
    {
      "cell_type": "code",
      "metadata": {
        "colab": {
          "base_uri": "https://localhost:8080/"
        },
        "id": "tuMohxjANKhp",
        "outputId": "6ce956a5-d2e0-426f-df91-afb9d5011ee6"
      },
      "source": [
        "Counter(gpenotpair).most_common(10)"
      ],
      "execution_count": 80,
      "outputs": [
        {
          "output_type": "execute_result",
          "data": {
            "text/plain": [
              "[('American', 55),\n",
              " ('English', 52),\n",
              " ('Italian', 42),\n",
              " ('French', 40),\n",
              " ('Chinese', 36),\n",
              " ('Japanese', 31),\n",
              " ('Indian', 22),\n",
              " ('Greek', 20),\n",
              " ('Iranian', 20),\n",
              " ('German', 20)]"
            ]
          },
          "metadata": {},
          "execution_count": 80
        },
        {
          "output_type": "stream",
          "name": "stdout",
          "text": [
            "time: 3.38 ms (started: 2021-09-06 20:48:06 +00:00)\n"
          ]
        }
      ]
    },
    {
      "cell_type": "code",
      "metadata": {
        "id": "koqNFA1QP1iQ",
        "colab": {
          "base_uri": "https://localhost:8080/"
        },
        "outputId": "44fe5bc7-6236-46fb-ecba-6ecd996840f0"
      },
      "source": [
        "natnotpair=[]\n",
        "for elem in predictiontest:\n",
        "  for elem2 in elem:\n",
        "    for word, value in elem2.items():\n",
        "      if value == 'B-TIM' or value == 'I-TIM' :\n",
        "        natnotpair.append(word)\n",
        "\n",
        "Counter(natnotpair).most_common(10)"
      ],
      "execution_count": 82,
      "outputs": [
        {
          "output_type": "execute_result",
          "data": {
            "text/plain": [
              "[('night', 206),\n",
              " ('morning', 124),\n",
              " ('two', 83),\n",
              " ('later', 75),\n",
              " ('afternoon', 72),\n",
              " ('night.', 55),\n",
              " ('three', 54),\n",
              " ('afternoon.', 50),\n",
              " ('54', 50),\n",
              " ('Christmas', 47)]"
            ]
          },
          "metadata": {},
          "execution_count": 82
        },
        {
          "output_type": "stream",
          "name": "stdout",
          "text": [
            "time: 174 ms (started: 2021-09-06 20:48:06 +00:00)\n"
          ]
        }
      ]
    },
    {
      "cell_type": "code",
      "metadata": {
        "colab": {
          "base_uri": "https://localhost:8080/"
        },
        "id": "tU-jGJ8eXGr7",
        "outputId": "44edf48e-12c2-4d82-e2ee-c064525c812b"
      },
      "source": [
        "from transformers import pipeline"
      ],
      "execution_count": 91,
      "outputs": [
        {
          "output_type": "stream",
          "name": "stdout",
          "text": [
            "time: 570 µs (started: 2021-09-06 20:59:41 +00:00)\n"
          ]
        }
      ]
    },
    {
      "cell_type": "code",
      "metadata": {
        "colab": {
          "base_uri": "https://localhost:8080/"
        },
        "id": "8uebvCLGXKAc",
        "outputId": "6d70f19e-64c6-4de6-c7ef-dcaba18845bf"
      },
      "source": [
        "from transformers import AutoTokenizer, AutoModelForSequenceClassification"
      ],
      "execution_count": 92,
      "outputs": [
        {
          "output_type": "stream",
          "name": "stdout",
          "text": [
            "time: 1.85 ms (started: 2021-09-06 20:59:41 +00:00)\n"
          ]
        }
      ]
    },
    {
      "cell_type": "code",
      "metadata": {
        "colab": {
          "base_uri": "https://localhost:8080/",
          "height": 161,
          "referenced_widgets": [
            "749672d0875b4ed2a25cf8c1213bcc4b",
            "3780e48eda534285b813c4206c92ec62",
            "c604c86e74f24c2196daab716783f790",
            "a9835d9ff82049a39d31b60b80d2741c",
            "691860df891e434ea4644b0903a4833b",
            "e68b03faaee74d87ad9c629126949172",
            "9ff5854d20794b3ca4584ac2a7bb716f",
            "bff62f8b7f174e4180b3bf440db81f03",
            "7feea00a334247bc94d1181e79d15b06",
            "f65a8db4e7754880a8e9eb76c0fad7bd",
            "9c0d8af94cca468fb911590461ae1e73",
            "05e971030dea43e38d01349b31ba59ff",
            "570638bd265f417ab4b46bf3bf686e98",
            "138dcfc751c74dbeafb70c8fbe204bf8",
            "5df463e9fa9844f9b16b162882ae974c",
            "c71c2052876c4bd7b2a862993c60ec48",
            "a4c1eb2428934637b3a8e8203c877753",
            "2d7e1a640d3c4e1780f9d377815f6d50",
            "300c0fa2f7a44e31a2c2ac7c0763bf2b",
            "f871198623294f49b228e13179002d32",
            "ab2a95e210744b1a94edeacc75d5a9fd",
            "da9fa0ca140b4a4e924c3d3e51ab8f0a",
            "e4c6e636ed8544e4aa795402a8e125e4",
            "539097e1a4fc468c912984d1aff8eb9c",
            "d1a6ede7c5254a699f9f1eea9d53c9f2",
            "945b1a01b3df48b9b0d425bb775d9b82",
            "e29d0f580fde44d8b8df1acfe29523ed",
            "aabcc57cc64c420fa7658840cfe8a13f",
            "b860304c50e340738cf274d1400fa634",
            "009b2544efb5453e9a14b93f65463867",
            "2cc82b6f6043414597ebf3a10e09ce2a",
            "548e999d548e425d8e5aaac60da7549f",
            "8839f122a0aa4b4281427223f61319a9",
            "6181593965324bf7896aead3aa49a9b2",
            "dac8fd536c79486896b87c1b935d98e6",
            "e50014994c4446d49fcd213e638d6f16",
            "c3d3a1c98eb448dcb2751a7dfedbf444",
            "dbe5a3c0820645dd89025bbc6defbf87",
            "4b0a374e7303497e96f6a572ef946870",
            "1ba7c02b93134aa38303cc401ab94c8a",
            "0e566ffa76384d1580fbc798aaa7d46b",
            "17b4dd0ceee8459fa087f0e960c7b18d",
            "821a75c4a7634c24b9b90116d90ea52a",
            "3d5bd0eb704e46488cdbda47e43f12c1"
          ]
        },
        "id": "OvxSx88eXP8O",
        "outputId": "b522c4d2-196e-48a2-e121-a3a3a69f9397"
      },
      "source": [
        "newmodel = \"distilbert-base-uncased-finetuned-sst-2-english\"\n",
        "modelforsent = AutoModelForSequenceClassification.from_pretrained(newmodel)\n",
        "tokenizerforsent = AutoTokenizer.from_pretrained(newmodel)"
      ],
      "execution_count": 93,
      "outputs": [
        {
          "output_type": "display_data",
          "data": {
            "application/vnd.jupyter.widget-view+json": {
              "model_id": "749672d0875b4ed2a25cf8c1213bcc4b",
              "version_minor": 0,
              "version_major": 2
            },
            "text/plain": [
              "Downloading:   0%|          | 0.00/629 [00:00<?, ?B/s]"
            ]
          },
          "metadata": {}
        },
        {
          "output_type": "display_data",
          "data": {
            "application/vnd.jupyter.widget-view+json": {
              "model_id": "05e971030dea43e38d01349b31ba59ff",
              "version_minor": 0,
              "version_major": 2
            },
            "text/plain": [
              "Downloading:   0%|          | 0.00/268M [00:00<?, ?B/s]"
            ]
          },
          "metadata": {}
        },
        {
          "output_type": "display_data",
          "data": {
            "application/vnd.jupyter.widget-view+json": {
              "model_id": "e4c6e636ed8544e4aa795402a8e125e4",
              "version_minor": 0,
              "version_major": 2
            },
            "text/plain": [
              "Downloading:   0%|          | 0.00/48.0 [00:00<?, ?B/s]"
            ]
          },
          "metadata": {}
        },
        {
          "output_type": "display_data",
          "data": {
            "application/vnd.jupyter.widget-view+json": {
              "model_id": "6181593965324bf7896aead3aa49a9b2",
              "version_minor": 0,
              "version_major": 2
            },
            "text/plain": [
              "Downloading:   0%|          | 0.00/232k [00:00<?, ?B/s]"
            ]
          },
          "metadata": {}
        },
        {
          "output_type": "stream",
          "name": "stdout",
          "text": [
            "time: 10.9 s (started: 2021-09-06 20:59:41 +00:00)\n"
          ]
        }
      ]
    },
    {
      "cell_type": "code",
      "metadata": {
        "colab": {
          "base_uri": "https://localhost:8080/"
        },
        "id": "_blVV8B0XUaM",
        "outputId": "8dc5f4ca-670b-49f8-ec61-5e9e4ba94f0f"
      },
      "source": [
        "classifier = pipeline(\"sentiment-analysis\", model=modelforsent, tokenizer=tokenizerforsent)"
      ],
      "execution_count": 94,
      "outputs": [
        {
          "output_type": "stream",
          "name": "stdout",
          "text": [
            "time: 69.3 ms (started: 2021-09-06 20:59:52 +00:00)\n"
          ]
        }
      ]
    },
    {
      "cell_type": "code",
      "metadata": {
        "colab": {
          "base_uri": "https://localhost:8080/"
        },
        "id": "lbaSgtN8EICZ",
        "outputId": "e2d2b33c-2ab6-443c-c1ad-f8ba3c883d00"
      },
      "source": [
        "results = classifier([\"We are very happy to show you the 🤗 Transformers library.\",\n",
        "           \"We hope you don't hate it.\"])\n",
        "for result in results:\n",
        "    print(f\"label: {result['label']}, with score: {round(result['score'], 2)}\")"
      ],
      "execution_count": 95,
      "outputs": [
        {
          "output_type": "stream",
          "name": "stdout",
          "text": [
            "label: POSITIVE, with score: 1.0\n",
            "label: NEGATIVE, with score: 0.53\n",
            "time: 158 ms (started: 2021-09-06 20:59:52 +00:00)\n"
          ]
        }
      ]
    },
    {
      "cell_type": "code",
      "metadata": {
        "colab": {
          "base_uri": "https://localhost:8080/"
        },
        "id": "I2Jzac92yW9N",
        "outputId": "b5af8015-9df8-406b-fbf9-af5637cd23c7"
      },
      "source": [
        "classifier(day1)"
      ],
      "execution_count": 96,
      "outputs": [
        {
          "output_type": "execute_result",
          "data": {
            "text/plain": [
              "[{'label': 'POSITIVE', 'score': 0.8292303681373596}]"
            ]
          },
          "metadata": {},
          "execution_count": 96
        },
        {
          "output_type": "stream",
          "name": "stdout",
          "text": [
            "time: 446 ms (started: 2021-09-06 20:59:52 +00:00)\n"
          ]
        }
      ]
    },
    {
      "cell_type": "code",
      "metadata": {
        "colab": {
          "base_uri": "https://localhost:8080/"
        },
        "id": "66mr76c36N45",
        "outputId": "13f58bd7-b77e-477b-d834-1738e4132a9e"
      },
      "source": [
        "classifier(text[27],truncation=True)"
      ],
      "execution_count": 97,
      "outputs": [
        {
          "output_type": "execute_result",
          "data": {
            "text/plain": [
              "[{'label': 'NEGATIVE', 'score': 0.9982399940490723}]"
            ]
          },
          "metadata": {},
          "execution_count": 97
        },
        {
          "output_type": "stream",
          "name": "stdout",
          "text": [
            "time: 226 ms (started: 2021-09-06 20:59:53 +00:00)\n"
          ]
        }
      ]
    },
    {
      "cell_type": "code",
      "metadata": {
        "colab": {
          "base_uri": "https://localhost:8080/"
        },
        "id": "AKOSIdOsy-3j",
        "outputId": "eafdf3d3-d88e-4983-dcc9-f8e6e0c04fe0"
      },
      "source": [
        "day1sentiment = classifier(day1pred)"
      ],
      "execution_count": 98,
      "outputs": [
        {
          "output_type": "stream",
          "name": "stdout",
          "text": [
            "time: 715 ms (started: 2021-09-06 20:59:53 +00:00)\n"
          ]
        }
      ]
    },
    {
      "cell_type": "code",
      "metadata": {
        "colab": {
          "base_uri": "https://localhost:8080/"
        },
        "id": "dxxZUv56-zdG",
        "outputId": "3e512ff5-4b3d-4106-ab9d-17e980ab686c"
      },
      "source": [
        "day1pred"
      ],
      "execution_count": 99,
      "outputs": [
        {
          "output_type": "execute_result",
          "data": {
            "text/plain": [
              "[\"Went to Halston's birthday dinner for Victor at Pearl's he did not want to do a big thing at the house.\",\n",
              " 'Joe Eula was there.',\n",
              " 'And Aly Kaiser.',\n",
              " 'She has two bodyguards now because of her Greek husband that she is divorcing-she has one bodyguard driving her and one at home.',\n",
              " 'She had as a present for Victor a bag of Hawaiian marijuana that a couple of fag friends who have a ranch there mailed to her in a box of perfumed shirts so you would not smell the marijuana.',\n",
              " 'She said she gave some to one of her bodyguards and he was passed out at home.',\n",
              " 'She says she will let me take pictures of her as soon as she gets her divorce.',\n",
              " 'Before it was \"as soon as I get the plastic in my face from Dr. Orentreich.\"',\n",
              " 'I talked to Dr. Giller he seems so sensible.',\n",
              " 'He said that only fish and chicken and fresh vegetables were good for you even though he himself liked Chinese food.',\n",
              " 'He told Mrs. Kaiser where she could get fresh chickens kosher on the Lower East Side and she said she would send one of her bodyguards down for some she is been sending him out to do her shopping.',\n",
              " 'She was wearing twenty carats on each ear and a diamond bracelet too.',\n",
              " 'she is really nice.',\n",
              " \"She had a car out front too with her dog who wears the chauffeur's cap.\"]"
            ]
          },
          "metadata": {},
          "execution_count": 99
        },
        {
          "output_type": "stream",
          "name": "stdout",
          "text": [
            "time: 2.8 ms (started: 2021-09-06 20:59:54 +00:00)\n"
          ]
        }
      ]
    },
    {
      "cell_type": "code",
      "metadata": {
        "colab": {
          "base_uri": "https://localhost:8080/"
        },
        "id": "jDD1DQGj1EhL",
        "outputId": "bd4bbced-f45c-4b6f-e034-3738a6033e53"
      },
      "source": [
        "day1sentiment"
      ],
      "execution_count": 100,
      "outputs": [
        {
          "output_type": "execute_result",
          "data": {
            "text/plain": [
              "[{'label': 'NEGATIVE', 'score': 0.9944120049476624},\n",
              " {'label': 'POSITIVE', 'score': 0.9985529780387878},\n",
              " {'label': 'POSITIVE', 'score': 0.9982966780662537},\n",
              " {'label': 'NEGATIVE', 'score': 0.9773987531661987},\n",
              " {'label': 'NEGATIVE', 'score': 0.9892184138298035},\n",
              " {'label': 'NEGATIVE', 'score': 0.9994540810585022},\n",
              " {'label': 'NEGATIVE', 'score': 0.9250572919845581},\n",
              " {'label': 'NEGATIVE', 'score': 0.998023509979248},\n",
              " {'label': 'POSITIVE', 'score': 0.9977026581764221},\n",
              " {'label': 'NEGATIVE', 'score': 0.9916772842407227},\n",
              " {'label': 'NEGATIVE', 'score': 0.9986087679862976},\n",
              " {'label': 'POSITIVE', 'score': 0.9962480664253235},\n",
              " {'label': 'POSITIVE', 'score': 0.9998703002929688},\n",
              " {'label': 'NEGATIVE', 'score': 0.9959911704063416}]"
            ]
          },
          "metadata": {},
          "execution_count": 100
        },
        {
          "output_type": "stream",
          "name": "stdout",
          "text": [
            "time: 3.84 ms (started: 2021-09-06 20:59:54 +00:00)\n"
          ]
        }
      ]
    },
    {
      "cell_type": "code",
      "metadata": {
        "colab": {
          "base_uri": "https://localhost:8080/"
        },
        "id": "-TkI52ffOne4",
        "outputId": "317250e7-755f-434d-e54c-5b26e192f066"
      },
      "source": [
        "myvalues = [i['label'] for i in day1sentiment if 'label' in i]\n",
        "myvalues"
      ],
      "execution_count": 101,
      "outputs": [
        {
          "output_type": "execute_result",
          "data": {
            "text/plain": [
              "['NEGATIVE',\n",
              " 'POSITIVE',\n",
              " 'POSITIVE',\n",
              " 'NEGATIVE',\n",
              " 'NEGATIVE',\n",
              " 'NEGATIVE',\n",
              " 'NEGATIVE',\n",
              " 'NEGATIVE',\n",
              " 'POSITIVE',\n",
              " 'NEGATIVE',\n",
              " 'NEGATIVE',\n",
              " 'POSITIVE',\n",
              " 'POSITIVE',\n",
              " 'NEGATIVE']"
            ]
          },
          "metadata": {},
          "execution_count": 101
        },
        {
          "output_type": "stream",
          "name": "stdout",
          "text": [
            "time: 2.94 ms (started: 2021-09-06 20:59:54 +00:00)\n"
          ]
        }
      ]
    },
    {
      "cell_type": "code",
      "metadata": {
        "colab": {
          "base_uri": "https://localhost:8080/"
        },
        "id": "337LEV90sHII",
        "outputId": "a5f9ecb9-2039-4213-b384-5b13315c83bf"
      },
      "source": [
        "Counter(myvalues).most_common(2)"
      ],
      "execution_count": 102,
      "outputs": [
        {
          "output_type": "execute_result",
          "data": {
            "text/plain": [
              "[('NEGATIVE', 9), ('POSITIVE', 5)]"
            ]
          },
          "metadata": {},
          "execution_count": 102
        },
        {
          "output_type": "stream",
          "name": "stdout",
          "text": [
            "time: 2.37 ms (started: 2021-09-06 20:59:54 +00:00)\n"
          ]
        }
      ]
    },
    {
      "cell_type": "code",
      "metadata": {
        "id": "XZumKoldZLc9",
        "colab": {
          "base_uri": "https://localhost:8080/"
        },
        "outputId": "35dd0680-1d08-4954-9f23-0d04bd47c9c9"
      },
      "source": [
        "x = len(list(filter(lambda item: item['label'] == 'POSITIVE', day1sentiment)))-len(list(filter(lambda item: item['label'] == 'NEGATIVE', day1sentiment)))\n",
        "\n",
        "if x > 0:\n",
        "   print(\"Day is POSITIVE\")\n",
        "else:\n",
        "   print(\"Day is NEGATIVE\")\n",
        "\n"
      ],
      "execution_count": 103,
      "outputs": [
        {
          "output_type": "stream",
          "name": "stdout",
          "text": [
            "Day is NEGATIVE\n",
            "time: 1.51 ms (started: 2021-09-06 20:59:54 +00:00)\n"
          ]
        }
      ]
    },
    {
      "cell_type": "code",
      "metadata": {
        "colab": {
          "base_uri": "https://localhost:8080/"
        },
        "id": "HpyxfXg0he3Q",
        "outputId": "1f0fb4cb-53f7-4e6e-b956-429b0957dcb8"
      },
      "source": [
        "daysentiment = []\n",
        "\n",
        "for i in range(len(text)):\n",
        "    sentiment = classifier(text[i], truncation=True)\n",
        "    daysentiment.append(sentiment)"
      ],
      "execution_count": 104,
      "outputs": [
        {
          "output_type": "stream",
          "name": "stdout",
          "text": [
            "time: 10min 29s (started: 2021-09-06 20:59:54 +00:00)\n"
          ]
        }
      ]
    },
    {
      "cell_type": "code",
      "metadata": {
        "colab": {
          "base_uri": "https://localhost:8080/"
        },
        "id": "p2nRfy1EjBcB",
        "outputId": "70b22bc6-5cf9-4e74-9dc8-e6f6ff669691"
      },
      "source": [
        "daysentiment[:10]"
      ],
      "execution_count": 105,
      "outputs": [
        {
          "output_type": "execute_result",
          "data": {
            "text/plain": [
              "[[{'label': 'POSITIVE', 'score': 0.8292303681373596}],\n",
              " [{'label': 'NEGATIVE', 'score': 0.9951279163360596}],\n",
              " [{'label': 'NEGATIVE', 'score': 0.9992353916168213}],\n",
              " [{'label': 'POSITIVE', 'score': 0.9986928105354309}],\n",
              " [{'label': 'POSITIVE', 'score': 0.9863670468330383}],\n",
              " [{'label': 'NEGATIVE', 'score': 0.9987137317657471}],\n",
              " [{'label': 'NEGATIVE', 'score': 0.995424211025238}],\n",
              " [{'label': 'POSITIVE', 'score': 0.9998289346694946}],\n",
              " [{'label': 'NEGATIVE', 'score': 0.9992287158966064}],\n",
              " [{'label': 'POSITIVE', 'score': 0.597669780254364}]]"
            ]
          },
          "metadata": {},
          "execution_count": 105
        },
        {
          "output_type": "stream",
          "name": "stdout",
          "text": [
            "time: 3.35 ms (started: 2021-09-06 21:10:23 +00:00)\n"
          ]
        }
      ]
    },
    {
      "cell_type": "code",
      "metadata": {
        "colab": {
          "base_uri": "https://localhost:8080/"
        },
        "id": "wC_an6KAo5Q0",
        "outputId": "a5bfa13f-3ee8-4093-d8bd-d993822a0720"
      },
      "source": [
        "daysentiment[150]"
      ],
      "execution_count": 106,
      "outputs": [
        {
          "output_type": "execute_result",
          "data": {
            "text/plain": [
              "[{'label': 'NEGATIVE', 'score': 0.6932352781295776}]"
            ]
          },
          "metadata": {},
          "execution_count": 106
        },
        {
          "output_type": "stream",
          "name": "stdout",
          "text": [
            "time: 2.33 ms (started: 2021-09-06 21:10:24 +00:00)\n"
          ]
        }
      ]
    },
    {
      "cell_type": "code",
      "metadata": {
        "colab": {
          "base_uri": "https://localhost:8080/"
        },
        "id": "46TAh7UVpXPV",
        "outputId": "6441fb01-4f40-43c7-d8c7-53e6cddce007"
      },
      "source": [
        "daysentiment[2023]"
      ],
      "execution_count": 107,
      "outputs": [
        {
          "output_type": "execute_result",
          "data": {
            "text/plain": [
              "[{'label': 'NEGATIVE', 'score': 0.994627058506012}]"
            ]
          },
          "metadata": {},
          "execution_count": 107
        },
        {
          "output_type": "stream",
          "name": "stdout",
          "text": [
            "time: 2.43 ms (started: 2021-09-06 21:10:24 +00:00)\n"
          ]
        }
      ]
    },
    {
      "cell_type": "code",
      "metadata": {
        "colab": {
          "base_uri": "https://localhost:8080/"
        },
        "id": "yNvM-ddOpomv",
        "outputId": "1f5dc291-8139-4f63-d215-0121eed1d375"
      },
      "source": [
        "len(daysentiment)"
      ],
      "execution_count": 108,
      "outputs": [
        {
          "output_type": "execute_result",
          "data": {
            "text/plain": [
              "2024"
            ]
          },
          "metadata": {},
          "execution_count": 108
        },
        {
          "output_type": "stream",
          "name": "stdout",
          "text": [
            "time: 1.99 ms (started: 2021-09-06 21:10:24 +00:00)\n"
          ]
        }
      ]
    },
    {
      "cell_type": "code",
      "metadata": {
        "colab": {
          "base_uri": "https://localhost:8080/"
        },
        "id": "gj_z1Fu2qwvE",
        "outputId": "46674c09-c1da-49ff-de55-ff29dd4e0f5c"
      },
      "source": [
        "totalsentiment=[]\n",
        "for elem in daysentiment[:2023]:\n",
        " basic_sentiment = [i['label'] for i in elem if 'label' in i]\n",
        " totalsentiment.append(basic_sentiment)\n",
        "\n",
        "\n",
        "print(totalsentiment[:10])\n"
      ],
      "execution_count": 109,
      "outputs": [
        {
          "output_type": "stream",
          "name": "stdout",
          "text": [
            "[['POSITIVE'], ['NEGATIVE'], ['NEGATIVE'], ['POSITIVE'], ['POSITIVE'], ['NEGATIVE'], ['NEGATIVE'], ['POSITIVE'], ['NEGATIVE'], ['POSITIVE']]\n",
            "time: 3.84 ms (started: 2021-09-06 21:10:24 +00:00)\n"
          ]
        }
      ]
    },
    {
      "cell_type": "code",
      "metadata": {
        "colab": {
          "base_uri": "https://localhost:8080/"
        },
        "id": "Rdy4YrScOzIV",
        "outputId": "efd3438e-3264-406e-f926-0dda8c4b030e"
      },
      "source": [
        "mergedtotalsentiment = list(itertools.chain(*totalsentiment))"
      ],
      "execution_count": 110,
      "outputs": [
        {
          "output_type": "stream",
          "name": "stdout",
          "text": [
            "time: 767 µs (started: 2021-09-06 21:10:24 +00:00)\n"
          ]
        }
      ]
    },
    {
      "cell_type": "code",
      "metadata": {
        "colab": {
          "base_uri": "https://localhost:8080/"
        },
        "id": "ehKLEXoEO5VV",
        "outputId": "25ee4b0d-1640-40fd-f293-f91137c7dc49"
      },
      "source": [
        "mergedtotalsentiment[:10]"
      ],
      "execution_count": 111,
      "outputs": [
        {
          "output_type": "execute_result",
          "data": {
            "text/plain": [
              "['POSITIVE',\n",
              " 'NEGATIVE',\n",
              " 'NEGATIVE',\n",
              " 'POSITIVE',\n",
              " 'POSITIVE',\n",
              " 'NEGATIVE',\n",
              " 'NEGATIVE',\n",
              " 'POSITIVE',\n",
              " 'NEGATIVE',\n",
              " 'POSITIVE']"
            ]
          },
          "metadata": {},
          "execution_count": 111
        },
        {
          "output_type": "stream",
          "name": "stdout",
          "text": [
            "time: 2.44 ms (started: 2021-09-06 21:10:24 +00:00)\n"
          ]
        }
      ]
    },
    {
      "cell_type": "code",
      "metadata": {
        "colab": {
          "base_uri": "https://localhost:8080/"
        },
        "id": "97Xa6LzVMoCs",
        "outputId": "19a1059b-6d99-4351-de4a-09fe516f1b4f"
      },
      "source": [
        "Counter(mergedtotalsentiment).most_common(2)"
      ],
      "execution_count": 112,
      "outputs": [
        {
          "output_type": "execute_result",
          "data": {
            "text/plain": [
              "[('NEGATIVE', 1558), ('POSITIVE', 465)]"
            ]
          },
          "metadata": {},
          "execution_count": 112
        },
        {
          "output_type": "stream",
          "name": "stdout",
          "text": [
            "time: 2.73 ms (started: 2021-09-06 21:10:24 +00:00)\n"
          ]
        }
      ]
    }
  ]
}